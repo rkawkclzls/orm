{
  "nbformat": 4,
  "nbformat_minor": 0,
  "metadata": {
    "colab": {
      "provenance": []
    },
    "kernelspec": {
      "name": "python3",
      "display_name": "Python 3"
    },
    "language_info": {
      "name": "python"
    }
  },
  "cells": [
    {
      "cell_type": "markdown",
      "source": [
        "# 1.주석\n",
        "\n"
      ],
      "metadata": {
        "id": "Xnh9RqbwCjzL"
      }
    },
    {
      "cell_type": "markdown",
      "source": [
        "# 1.1 한줄 주석\n",
        "\n",
        "한줄 주석은 #기호로 시작합니다. 아래처럼 입력하고 alt + Enter를 입력하도록 하겠습니다\n",
        "\n",
        "주석은 코드 안에서 코드의 이해를 돕기 위해 가이드 역할을 하거나 코드의 특정 부분이 일시적으로 실행되지 않도록 보류하기 위해 사용됩니다.\n",
        "\n",
        "코드만으로는 그 코드가 왜 작성되었는지, 무슨 목적으로 사용되는지를 전부 설명하기 어렵습니다. 그렇기 때문에 코드를 작성하거나 수정할 때 주석을 통해 코드의 주요 기능, 복잡한 로직의 동작 방식, 특별한 팁 등을 설명하고 메모하여 쉽게 파악할 수 있습니다.\n",
        "\n",
        "이렇게 코드의 가독성을 향상시킬 수 있으며, 코드를 처음 보거나 특정 부분의 코드를 오랜 시간 동안 보지 않았던 프로그래머도 주석 덕분에 쉽고 빠르게 코드를 이해하고 수정을 진행할 수 있습니다.\n",
        "\n",
        "하지만, 주석이 많다고 해서 항상 좋은 것은 아닙니다. 과도한 주석은 코드의 가독성을 저하시킬 수 있으므로, 중요한 부분에만 적절하게 주석을 활용하는 것이 바람직합니다. 다음 장에서는 이러한 주석을 파이썬에서 어떻게 활용하는지, 그리고 주석을 효과적으로 작성하는 방법에 대해 자세히 알아보겠습니다."
      ],
      "metadata": {
        "id": "m3qgn0QHDiou"
      }
    },
    {
      "cell_type": "code",
      "source": [
        "# 이것은 주석입니다.\n",
        "print('Hello, world 1!') # 이것도 주석입니다\n",
        "print('Hello, World 2!')"
      ],
      "metadata": {
        "colab": {
          "base_uri": "https://localhost:8080/"
        },
        "id": "eZfA0cmCDuVo",
        "outputId": "d8c21507-ea16-483a-be8c-ef6e12ff26d3"
      },
      "execution_count": 2,
      "outputs": [
        {
          "output_type": "stream",
          "name": "stdout",
          "text": [
            "Hello, world 1!\n",
            "Hello, World 2!\n"
          ]
        }
      ]
    },
    {
      "cell_type": "markdown",
      "source": [
        "## 1.2 여러 줄 주석\n",
        "\n",
        "\n",
        "이번에는 여러 줄 주석을 사용하겠습니다. '''는 여러 줄 주석에 사용합니다. 여기서 주의해야 할 점이 '''는 앞뒤로 감싸주어야 한다는 것입니다. 역시나 Alt + Enter를 사용해서 실행해주세요."
      ],
      "metadata": {
        "id": "PdyFi8vNEzhc"
      }
    },
    {
      "cell_type": "code",
      "source": [
        "# print('Hello, world 2!') # 코드의 에러/ 향후 수정! / 임시 주석 !\n",
        "'''\n",
        "# 이것은 주석입니다.(특이상항,전체적인 것들)\n",
        "print('Hello, World')\n",
        "print('Hello, World')\n",
        "print('Hello, World')\n",
        "'''\n",
        "\n",
        "print('Real Hello World')\n",
        "\n",
        "\n"
      ],
      "metadata": {
        "colab": {
          "base_uri": "https://localhost:8080/"
        },
        "id": "fzBRGfSmEZfR",
        "outputId": "248885f8-201f-4fe7-a650-af51a7aa38c7"
      },
      "execution_count": 3,
      "outputs": [
        {
          "output_type": "stream",
          "name": "stdout",
          "text": [
            "Real Hello World\n"
          ]
        }
      ]
    }
  ]
}