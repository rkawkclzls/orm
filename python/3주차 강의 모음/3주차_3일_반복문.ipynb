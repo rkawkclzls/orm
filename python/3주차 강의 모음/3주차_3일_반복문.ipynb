{
  "nbformat": 4,
  "nbformat_minor": 0,
  "metadata": {
    "colab": {
      "provenance": []
    },
    "kernelspec": {
      "name": "python3",
      "display_name": "Python 3"
    },
    "language_info": {
      "name": "python"
    }
  },
  "cells": [
    {
      "cell_type": "markdown",
      "source": [
        "# for문\n",
        "\n",
        "* for문은 특정 범위나 순서열(ex 리스트, 문자열 등)을 순회하며 순서열의 끝에 도달하면 반복을 멈추게 됩니다. 또한 객체를 처음부터 끝까지 하나씩 추출하며 순회하기 때문에 다양한 방식으로 활용될 수 있습니다."
      ],
      "metadata": {
        "id": "yj3ZcGKaDsk0"
      }
    },
    {
      "cell_type": "code",
      "source": [
        "# for문의 기본구조\n",
        "# 시퀀스 자료 또는 반복 가능한 자료형을 순회할 수 있습니다.\n",
        "'''\n",
        "for 변수명 in 순회_가능한_객체 :\n",
        "    pass # 수행할 문장\n",
        "'''"
      ],
      "metadata": {
        "colab": {
          "base_uri": "https://localhost:8080/",
          "height": 35
        },
        "id": "_A1YPKR6EZu6",
        "outputId": "83e206e1-3dc2-4b53-9ce6-9aae0527345e"
      },
      "execution_count": null,
      "outputs": [
        {
          "output_type": "execute_result",
          "data": {
            "text/plain": [
              "'\\nfor 변수명 in 순회_가능한_객체 :\\n    pass # 수행할 문장\\n'"
            ],
            "application/vnd.google.colaboratory.intrinsic+json": {
              "type": "string"
            }
          },
          "metadata": {},
          "execution_count": 1
        }
      ]
    },
    {
      "cell_type": "code",
      "source": [
        "'''\n",
        "아래 예제는 시퀀스 자료형에 대표적인 문자열을 순회하는 방법입니다. 문자열 하나씩을 x라는 변수에 할당하여 반복하게 됩니다.\n",
        "여기서 x는 변수 이름으로 다른 이름으로 변경해도 됩니다.\n",
        " 반복문에서는 i, j, k를 많이 사용합니다.\n",
        "'''\n",
        "\n",
        "for x in 'hello':\n",
        "    print(f'현재 값은 {x} 입니다.')"
      ],
      "metadata": {
        "colab": {
          "base_uri": "https://localhost:8080/"
        },
        "id": "4HNMvxdsEuV_",
        "outputId": "b2fc8523-dcbb-460e-b5b3-77eccd79b0ae"
      },
      "execution_count": null,
      "outputs": [
        {
          "output_type": "stream",
          "name": "stdout",
          "text": [
            "현재 값은 h 입니다.\n",
            "현재 값은 e 입니다.\n",
            "현재 값은 l 입니다.\n",
            "현재 값은 l 입니다.\n",
            "현재 값은 o 입니다.\n"
          ]
        }
      ]
    },
    {
      "cell_type": "code",
      "source": [
        "# 아래 예제는 시퀀스형 자료형인 튜플을 반복하고 있습니다.\n",
        "# x라는 변수로 튜플의 값을 하나씩 할당받아 for문 아래에 있는 문장을 반복하게 됩니다.\n",
        "\n",
        "for x in(1, 2, 3, 4, 5):\n",
        "    print(f'현재 값은 {x} 입니다.')"
      ],
      "metadata": {
        "colab": {
          "base_uri": "https://localhost:8080/"
        },
        "id": "HJS8IRdDE7ig",
        "outputId": "e4636944-edf3-43c4-aea8-c64594171627"
      },
      "execution_count": null,
      "outputs": [
        {
          "output_type": "stream",
          "name": "stdout",
          "text": [
            "현재 값은 1 입니다.\n",
            "현재 값은 2 입니다.\n",
            "현재 값은 3 입니다.\n",
            "현재 값은 4 입니다.\n",
            "현재 값은 5 입니다.\n"
          ]
        }
      ]
    },
    {
      "cell_type": "code",
      "source": [
        "# 문자열(str) 자료형을 범위로 지정한 예시\n",
        "# 문자열 s를 순회하면서 각 문자를 i 변수에 할당하여 문자를 출력합니다.\n",
        "\n",
        "s = 'hello world'\n",
        "for i in s:\n",
        "    print(i)"
      ],
      "metadata": {
        "colab": {
          "base_uri": "https://localhost:8080/"
        },
        "id": "s5je1J36FHbB",
        "outputId": "9835d56d-6956-479b-e362-3a8c92b84854"
      },
      "execution_count": null,
      "outputs": [
        {
          "output_type": "stream",
          "name": "stdout",
          "text": [
            "h\n",
            "e\n",
            "l\n",
            "l\n",
            "o\n",
            " \n",
            "w\n",
            "o\n",
            "r\n",
            "l\n",
            "d\n",
            "<class 'str'>\n"
          ]
        }
      ]
    },
    {
      "cell_type": "code",
      "source": [
        "# 아래 예제는 문자열에서 숫자를 모두 더하는 예제입니다\n",
        "\n",
        "s = '123'\n",
        "result = 0\n",
        "for i in s:\n",
        "    result += int(i)\n",
        "\n",
        "print(type(result))\n",
        "print(result)"
      ],
      "metadata": {
        "colab": {
          "base_uri": "https://localhost:8080/"
        },
        "id": "-4vSc5cjFhwI",
        "outputId": "5ff44ab8-b5c3-4207-bfe4-ddcfccf87eba"
      },
      "execution_count": null,
      "outputs": [
        {
          "output_type": "stream",
          "name": "stdout",
          "text": [
            "<class 'int'>\n",
            "6\n"
          ]
        }
      ]
    },
    {
      "cell_type": "code",
      "source": [
        "# 리스트(list) 자료형을 범위로 지정한 예시\n",
        "\n",
        "# 리스트의 각 요소를 순회하면서 출력합니다.\n",
        "\n",
        "l = ['one', 'two', 'three']\n",
        "for i in l:\n",
        "    print(i)"
      ],
      "metadata": {
        "colab": {
          "base_uri": "https://localhost:8080/"
        },
        "id": "LgpRE9-1FtRe",
        "outputId": "aef2efab-e7d4-4540-c68f-4ff157739d1f"
      },
      "execution_count": null,
      "outputs": [
        {
          "output_type": "stream",
          "name": "stdout",
          "text": [
            "one\n",
            "two\n",
            "three\n"
          ]
        }
      ]
    },
    {
      "cell_type": "code",
      "source": [
        "# 사전(dict) 자료형을 범위로 지정한 예시\n",
        "# key(키)만을 가져오게 됩니다.\n",
        "woaks_dict = {'하나': 'one', '둘': 'two', '셋': 'three'}\n",
        "\n",
        "for i in woaks_dict:\n",
        "    print(i)"
      ],
      "metadata": {
        "colab": {
          "base_uri": "https://localhost:8080/"
        },
        "id": "GntRRP43GKY6",
        "outputId": "f8b20227-7444-4b0c-df54-c733dd61ffaa"
      },
      "execution_count": null,
      "outputs": [
        {
          "output_type": "stream",
          "name": "stdout",
          "text": [
            "하나\n",
            "둘\n",
            "셋\n"
          ]
        }
      ]
    },
    {
      "cell_type": "code",
      "source": [
        "# key(키)dp goekdgksms  value(값)또한 가져오고 싶다면 아래와 같이 튜플 언패킹을 사용할 수 있습니다.\n",
        "\n",
        "for key, value in woaks_dict.items():\n",
        "    print(f'{key} : {value}')"
      ],
      "metadata": {
        "colab": {
          "base_uri": "https://localhost:8080/"
        },
        "id": "xDIyVSd4Gnoe",
        "outputId": "73df05d5-8530-4081-be15-bfca3be52100"
      },
      "execution_count": null,
      "outputs": [
        {
          "output_type": "stream",
          "name": "stdout",
          "text": [
            "하나 ; one\n",
            "둘 ; two\n",
            "셋 ; three\n"
          ]
        }
      ]
    },
    {
      "cell_type": "code",
      "source": [
        "# 튜플 언패킹 외에도 딕셔너리의 키를 순회하면서 각 키에 해당하는 값을 출력할 수 있습니다.\n",
        "\n",
        "for i in woaks_dict:\n",
        "    # print(i, \":\", woaks_dict[i])\n",
        "    print(f'{i} : {woaks_dict[i]}')"
      ],
      "metadata": {
        "colab": {
          "base_uri": "https://localhost:8080/"
        },
        "id": "MOn2Ypy5HPy7",
        "outputId": "10673b23-8f88-42e1-feff-9d982a23071c"
      },
      "execution_count": null,
      "outputs": [
        {
          "output_type": "stream",
          "name": "stdout",
          "text": [
            "하나 : one\n",
            "둘 : two\n",
            "셋 : three\n"
          ]
        }
      ]
    },
    {
      "cell_type": "code",
      "source": [
        "# range를 범위로 지정한 예시\n",
        "# 아래 예제는 시퀀스형 자료형인 튜플을 반복하고 있습니다.\n",
        "# x라는 변수로 튜플의 값을 하나씩 할당받아 for문 아래에 있는 문장을 반복하게 됩니다.\n",
        "\n",
        "for i in range(5):\n",
        "    print(i)"
      ],
      "metadata": {
        "colab": {
          "base_uri": "https://localhost:8080/"
        },
        "id": "gdlR9xEHHjLj",
        "outputId": "bfa0fd75-b3cc-49f8-a347-b2917e7dc1d3"
      },
      "execution_count": null,
      "outputs": [
        {
          "output_type": "stream",
          "name": "stdout",
          "text": [
            "0\n",
            "1\n",
            "2\n",
            "3\n",
            "4\n"
          ]
        }
      ]
    },
    {
      "cell_type": "code",
      "source": [
        "# 아래코드는 0이상, 10이하 짝수만 더하는 코드입니다.\n",
        "# 10이하 이기 때문에 range의 종료값이 11이어야합니다,종료값 -1까지 값을 생성하기 때문입니다.\n",
        "\n",
        "result = 0\n",
        "for i in range(0, 11, 2):\n",
        "    result += i\n",
        "result"
      ],
      "metadata": {
        "colab": {
          "base_uri": "https://localhost:8080/"
        },
        "id": "esSrvMKKIBtD",
        "outputId": "4c2e6e8c-cda0-4d3d-e4fb-3f889e023d22"
      },
      "execution_count": null,
      "outputs": [
        {
          "output_type": "execute_result",
          "data": {
            "text/plain": [
              "30"
            ]
          },
          "metadata": {},
          "execution_count": 16
        }
      ]
    },
    {
      "cell_type": "code",
      "source": [
        "result = 0\n",
        "for i in range(101):\n",
        "    result += i\n",
        "print(result)"
      ],
      "metadata": {
        "colab": {
          "base_uri": "https://localhost:8080/"
        },
        "id": "mLCVBPvXJShJ",
        "outputId": "2ab5a28f-02eb-4ea0-8bd0-c9e7d877ebc3"
      },
      "execution_count": null,
      "outputs": [
        {
          "output_type": "stream",
          "name": "stdout",
          "text": [
            "5050\n"
          ]
        }
      ]
    },
    {
      "cell_type": "code",
      "source": [
        "#이러한 코드는 아래 코드보다 성능이 떨어집니다.\n",
        "# 위 코드는 100번 순회를 돌아야 하는데 아래 코드는 한 번만 수행하면 되기 때문입니다.\n",
        "\n",
        "n = 100\n",
        "result = (n + 1) * n / 2\n",
        "result"
      ],
      "metadata": {
        "colab": {
          "base_uri": "https://localhost:8080/"
        },
        "id": "hWkrtGuwJcPW",
        "outputId": "992f2356-dd11-45f2-f40a-48a0fdbf5bce"
      },
      "execution_count": null,
      "outputs": [
        {
          "output_type": "execute_result",
          "data": {
            "text/plain": [
              "5050.0"
            ]
          },
          "metadata": {},
          "execution_count": 19
        }
      ]
    },
    {
      "cell_type": "code",
      "source": [
        "# 이번에는 짝수 코드를 작성하는 것을 한 번 보도록 하겠습니다.\n",
        "# 이 코드는 0부터 100까지 짝수를 더하는 코드입니다.\n",
        "# 100번 순회를 돌고, if문도 확인해야합니다.\n",
        "\n",
        "result = 0\n",
        "for i in range(101):\n",
        "    if i % 2 == 0:\n",
        "        result += i\n",
        "print(result)"
      ],
      "metadata": {
        "colab": {
          "base_uri": "https://localhost:8080/"
        },
        "id": "lvUCSt5dJztj",
        "outputId": "24d8be5b-136b-4728-ede2-c5180da33077"
      },
      "execution_count": null,
      "outputs": [
        {
          "output_type": "stream",
          "name": "stdout",
          "text": [
            "2550\n"
          ]
        }
      ]
    },
    {
      "cell_type": "code",
      "source": [
        "# 이코드는 절반만 순회를 돌고,if문도 확인할 필요가 없어 위코드에 비해 효율적입니다.\n",
        "\n",
        "result = 0\n",
        "for i in range(0, 101, 2):\n",
        "    result += i\n",
        "result\n"
      ],
      "metadata": {
        "colab": {
          "base_uri": "https://localhost:8080/"
        },
        "id": "_uxaXhLOKhKi",
        "outputId": "f4352c4d-8d1f-4b76-ac59-1f966f7b9d7d"
      },
      "execution_count": null,
      "outputs": [
        {
          "output_type": "execute_result",
          "data": {
            "text/plain": [
              "2550"
            ]
          },
          "metadata": {},
          "execution_count": 23
        }
      ]
    },
    {
      "cell_type": "code",
      "source": [
        "# 중첩 for문\n",
        "# 다중 리스트 예제를 다시 한 번 보도록 하겠습니다.\n",
        "# 이번에는 언패킹을 하지 않고 하나의 변수에서 확인\n",
        "\n",
        "# code1\n",
        "\n",
        "for i in [[1,2], [10, 20], [100, 200]]:\n",
        "    print(i)"
      ],
      "metadata": {
        "colab": {
          "base_uri": "https://localhost:8080/"
        },
        "id": "GTbmrS0wLk_1",
        "outputId": "c1084f95-076f-49b7-8692-412683bf49d4"
      },
      "execution_count": null,
      "outputs": [
        {
          "output_type": "stream",
          "name": "stdout",
          "text": [
            "[1, 2]\n",
            "[10, 20]\n",
            "[100, 200]\n"
          ]
        }
      ]
    },
    {
      "cell_type": "code",
      "source": [
        "# i는 리스트를 받았으므로 순회를 할 수 있습니다.\n",
        "# 예를 들어 첫 값인 [1, 2]를 받았을 때에는 아래와 같이 순회가 가능합니다.\n",
        "\n",
        "# code2\n",
        "for j in [1, 2]:\n",
        "    print(j)"
      ],
      "metadata": {
        "colab": {
          "base_uri": "https://localhost:8080/"
        },
        "id": "nlim5ZWHMW-K",
        "outputId": "d1329ef3-ce15-4c4a-8d98-61f11fcdd41e"
      },
      "execution_count": null,
      "outputs": [
        {
          "output_type": "stream",
          "name": "stdout",
          "text": [
            "1\n",
            "2\n"
          ]
        }
      ]
    },
    {
      "cell_type": "code",
      "source": [
        "# 위 코드의 변수는 일부러 j라 칭하겠습니다. 이 코드를 이제 위에 코드와 합치겠습니다.\n",
        "# code1 에서 i 가 있던 자리에 code2를 놓도록 하겠습니다. 아래와 같은 형태가 될 것입니다.\n",
        "\n",
        "for i in [[1, 2], [10, 20], [100, 200]]:\n",
        "    for j in i:\n",
        "        print(j)"
      ],
      "metadata": {
        "colab": {
          "base_uri": "https://localhost:8080/"
        },
        "id": "w5Q2novSMh0n",
        "outputId": "5e713c15-a70d-4bc7-8357-d58117512fbc"
      },
      "execution_count": null,
      "outputs": [
        {
          "output_type": "stream",
          "name": "stdout",
          "text": [
            "1\n",
            "2\n",
            "10\n",
            "20\n",
            "100\n",
            "200\n"
          ]
        }
      ]
    },
    {
      "cell_type": "code",
      "source": [
        "#1. 방금처럼 구조를 정한다.\n",
        "#2. 최소한의 반복문만 수행해보낟.\n",
        "#3. 각 반복문을 print()해본다."
      ],
      "metadata": {
        "id": "hxIgetcEPUhQ"
      },
      "execution_count": null,
      "outputs": []
    },
    {
      "cell_type": "code",
      "source": [
        "# step 2.1\n",
        "for i in [[1, 2]]:\n",
        "    for j in i:\n",
        "        print(j)"
      ],
      "metadata": {
        "colab": {
          "base_uri": "https://localhost:8080/"
        },
        "id": "8Iwj3j6fPhYh",
        "outputId": "5a62cbd6-5fe5-4d15-c8f4-d1696554a99e"
      },
      "execution_count": null,
      "outputs": [
        {
          "output_type": "stream",
          "name": "stdout",
          "text": [
            "1\n",
            "2\n"
          ]
        }
      ]
    },
    {
      "cell_type": "code",
      "source": [
        "# 다만 우리는 좀 더 직관적인 출력 결과를 보기 위해 print를 하나 더 추가하도록 하겠습니다.\n",
        "\n",
        "for i in [[1, 2], [10, 20], [100, 200]]:\n",
        "    for j in i:\n",
        "        print(i)\n",
        "        print(j)"
      ],
      "metadata": {
        "colab": {
          "base_uri": "https://localhost:8080/"
        },
        "id": "-8gj9KRlNGfD",
        "outputId": "c651a704-65a1-411f-e3cf-06e4ab4a68c1"
      },
      "execution_count": null,
      "outputs": [
        {
          "output_type": "stream",
          "name": "stdout",
          "text": [
            "[1, 2]\n",
            "1\n",
            "[1, 2]\n",
            "2\n",
            "[10, 20]\n",
            "10\n",
            "[10, 20]\n",
            "20\n",
            "[100, 200]\n",
            "100\n",
            "[100, 200]\n",
            "200\n"
          ]
        }
      ]
    },
    {
      "cell_type": "code",
      "source": [
        "# 출력 결과를 보면 어떤 값을 순회하고 있는지도 확인을 할 수 있습니다. 이처럼 순회하고자 하는 값에 또 다시 순회를 하고 싶을 때에는 중첩 반복문을 사용합니다.\n",
        "\n",
        "# 이번에는 for를 중첩하여 구구단을 출력해보도록 하겠습니다. 이러한 중첩된 반복문은 처음에는 이해하기 매우 힘듭니다.\n",
        "# 따라서 i값과 j값, 출력 결과를 한 step씩 따라가보시길 권해드립니다.\n",
        "\n",
        "for i in range(1, 20):\n",
        "    print(f'---{i}단---')\n",
        "    for j in range(1, 20):\n",
        "        print(f'{i} X {j} = {i * j}')\n",
        "\n",
        "# for i in range(1, 10):\n",
        "#     # 각 단의 시작을 알리는 구분선을 출력합니다.\n",
        "#     # f-string을 사용하여 i 값을 문자열에 포함시킵니다.\n",
        "#     print(f'---{i}단---')\n",
        "\n",
        "\n",
        "\n",
        "# # 안쪽의 for 문은 각 단에 대한 구구단을 출력합니다.\n",
        "#     # 여기서 j는 곱해지는 숫자(1부터 9까지)를 나타냅니다.\n",
        "\n",
        "\n",
        "# for j in range(1, 10):\n",
        "#         # f-string을 사용하여 구구단의 각 항을 계산하고 출력합니다.\n",
        "\n",
        "\n",
        "# # i와 j를 곱한 값을 표시합니다.\n",
        "#         print(f'{i} X {j} = {i * j}')\n",
        "\n",
        "\n",
        "# # 외부 for 문은 각 단을 나타내고, 내부 for 문은 해당 단의 곱셈 결과를 출력합니다."
      ],
      "metadata": {
        "colab": {
          "base_uri": "https://localhost:8080/"
        },
        "id": "EK404xoiNWwr",
        "outputId": "066cc9f2-7ac3-43b7-d777-58c80ea2e6c5"
      },
      "execution_count": null,
      "outputs": [
        {
          "output_type": "stream",
          "name": "stdout",
          "text": [
            "---1단---\n",
            "1 X 1 = 1\n",
            "1 X 2 = 2\n",
            "1 X 3 = 3\n",
            "1 X 4 = 4\n",
            "1 X 5 = 5\n",
            "1 X 6 = 6\n",
            "1 X 7 = 7\n",
            "1 X 8 = 8\n",
            "1 X 9 = 9\n",
            "1 X 10 = 10\n",
            "1 X 11 = 11\n",
            "1 X 12 = 12\n",
            "1 X 13 = 13\n",
            "1 X 14 = 14\n",
            "1 X 15 = 15\n",
            "1 X 16 = 16\n",
            "1 X 17 = 17\n",
            "1 X 18 = 18\n",
            "1 X 19 = 19\n",
            "---2단---\n",
            "2 X 1 = 2\n",
            "2 X 2 = 4\n",
            "2 X 3 = 6\n",
            "2 X 4 = 8\n",
            "2 X 5 = 10\n",
            "2 X 6 = 12\n",
            "2 X 7 = 14\n",
            "2 X 8 = 16\n",
            "2 X 9 = 18\n",
            "2 X 10 = 20\n",
            "2 X 11 = 22\n",
            "2 X 12 = 24\n",
            "2 X 13 = 26\n",
            "2 X 14 = 28\n",
            "2 X 15 = 30\n",
            "2 X 16 = 32\n",
            "2 X 17 = 34\n",
            "2 X 18 = 36\n",
            "2 X 19 = 38\n",
            "---3단---\n",
            "3 X 1 = 3\n",
            "3 X 2 = 6\n",
            "3 X 3 = 9\n",
            "3 X 4 = 12\n",
            "3 X 5 = 15\n",
            "3 X 6 = 18\n",
            "3 X 7 = 21\n",
            "3 X 8 = 24\n",
            "3 X 9 = 27\n",
            "3 X 10 = 30\n",
            "3 X 11 = 33\n",
            "3 X 12 = 36\n",
            "3 X 13 = 39\n",
            "3 X 14 = 42\n",
            "3 X 15 = 45\n",
            "3 X 16 = 48\n",
            "3 X 17 = 51\n",
            "3 X 18 = 54\n",
            "3 X 19 = 57\n",
            "---4단---\n",
            "4 X 1 = 4\n",
            "4 X 2 = 8\n",
            "4 X 3 = 12\n",
            "4 X 4 = 16\n",
            "4 X 5 = 20\n",
            "4 X 6 = 24\n",
            "4 X 7 = 28\n",
            "4 X 8 = 32\n",
            "4 X 9 = 36\n",
            "4 X 10 = 40\n",
            "4 X 11 = 44\n",
            "4 X 12 = 48\n",
            "4 X 13 = 52\n",
            "4 X 14 = 56\n",
            "4 X 15 = 60\n",
            "4 X 16 = 64\n",
            "4 X 17 = 68\n",
            "4 X 18 = 72\n",
            "4 X 19 = 76\n",
            "---5단---\n",
            "5 X 1 = 5\n",
            "5 X 2 = 10\n",
            "5 X 3 = 15\n",
            "5 X 4 = 20\n",
            "5 X 5 = 25\n",
            "5 X 6 = 30\n",
            "5 X 7 = 35\n",
            "5 X 8 = 40\n",
            "5 X 9 = 45\n",
            "5 X 10 = 50\n",
            "5 X 11 = 55\n",
            "5 X 12 = 60\n",
            "5 X 13 = 65\n",
            "5 X 14 = 70\n",
            "5 X 15 = 75\n",
            "5 X 16 = 80\n",
            "5 X 17 = 85\n",
            "5 X 18 = 90\n",
            "5 X 19 = 95\n",
            "---6단---\n",
            "6 X 1 = 6\n",
            "6 X 2 = 12\n",
            "6 X 3 = 18\n",
            "6 X 4 = 24\n",
            "6 X 5 = 30\n",
            "6 X 6 = 36\n",
            "6 X 7 = 42\n",
            "6 X 8 = 48\n",
            "6 X 9 = 54\n",
            "6 X 10 = 60\n",
            "6 X 11 = 66\n",
            "6 X 12 = 72\n",
            "6 X 13 = 78\n",
            "6 X 14 = 84\n",
            "6 X 15 = 90\n",
            "6 X 16 = 96\n",
            "6 X 17 = 102\n",
            "6 X 18 = 108\n",
            "6 X 19 = 114\n",
            "---7단---\n",
            "7 X 1 = 7\n",
            "7 X 2 = 14\n",
            "7 X 3 = 21\n",
            "7 X 4 = 28\n",
            "7 X 5 = 35\n",
            "7 X 6 = 42\n",
            "7 X 7 = 49\n",
            "7 X 8 = 56\n",
            "7 X 9 = 63\n",
            "7 X 10 = 70\n",
            "7 X 11 = 77\n",
            "7 X 12 = 84\n",
            "7 X 13 = 91\n",
            "7 X 14 = 98\n",
            "7 X 15 = 105\n",
            "7 X 16 = 112\n",
            "7 X 17 = 119\n",
            "7 X 18 = 126\n",
            "7 X 19 = 133\n",
            "---8단---\n",
            "8 X 1 = 8\n",
            "8 X 2 = 16\n",
            "8 X 3 = 24\n",
            "8 X 4 = 32\n",
            "8 X 5 = 40\n",
            "8 X 6 = 48\n",
            "8 X 7 = 56\n",
            "8 X 8 = 64\n",
            "8 X 9 = 72\n",
            "8 X 10 = 80\n",
            "8 X 11 = 88\n",
            "8 X 12 = 96\n",
            "8 X 13 = 104\n",
            "8 X 14 = 112\n",
            "8 X 15 = 120\n",
            "8 X 16 = 128\n",
            "8 X 17 = 136\n",
            "8 X 18 = 144\n",
            "8 X 19 = 152\n",
            "---9단---\n",
            "9 X 1 = 9\n",
            "9 X 2 = 18\n",
            "9 X 3 = 27\n",
            "9 X 4 = 36\n",
            "9 X 5 = 45\n",
            "9 X 6 = 54\n",
            "9 X 7 = 63\n",
            "9 X 8 = 72\n",
            "9 X 9 = 81\n",
            "9 X 10 = 90\n",
            "9 X 11 = 99\n",
            "9 X 12 = 108\n",
            "9 X 13 = 117\n",
            "9 X 14 = 126\n",
            "9 X 15 = 135\n",
            "9 X 16 = 144\n",
            "9 X 17 = 153\n",
            "9 X 18 = 162\n",
            "9 X 19 = 171\n",
            "---10단---\n",
            "10 X 1 = 10\n",
            "10 X 2 = 20\n",
            "10 X 3 = 30\n",
            "10 X 4 = 40\n",
            "10 X 5 = 50\n",
            "10 X 6 = 60\n",
            "10 X 7 = 70\n",
            "10 X 8 = 80\n",
            "10 X 9 = 90\n",
            "10 X 10 = 100\n",
            "10 X 11 = 110\n",
            "10 X 12 = 120\n",
            "10 X 13 = 130\n",
            "10 X 14 = 140\n",
            "10 X 15 = 150\n",
            "10 X 16 = 160\n",
            "10 X 17 = 170\n",
            "10 X 18 = 180\n",
            "10 X 19 = 190\n",
            "---11단---\n",
            "11 X 1 = 11\n",
            "11 X 2 = 22\n",
            "11 X 3 = 33\n",
            "11 X 4 = 44\n",
            "11 X 5 = 55\n",
            "11 X 6 = 66\n",
            "11 X 7 = 77\n",
            "11 X 8 = 88\n",
            "11 X 9 = 99\n",
            "11 X 10 = 110\n",
            "11 X 11 = 121\n",
            "11 X 12 = 132\n",
            "11 X 13 = 143\n",
            "11 X 14 = 154\n",
            "11 X 15 = 165\n",
            "11 X 16 = 176\n",
            "11 X 17 = 187\n",
            "11 X 18 = 198\n",
            "11 X 19 = 209\n",
            "---12단---\n",
            "12 X 1 = 12\n",
            "12 X 2 = 24\n",
            "12 X 3 = 36\n",
            "12 X 4 = 48\n",
            "12 X 5 = 60\n",
            "12 X 6 = 72\n",
            "12 X 7 = 84\n",
            "12 X 8 = 96\n",
            "12 X 9 = 108\n",
            "12 X 10 = 120\n",
            "12 X 11 = 132\n",
            "12 X 12 = 144\n",
            "12 X 13 = 156\n",
            "12 X 14 = 168\n",
            "12 X 15 = 180\n",
            "12 X 16 = 192\n",
            "12 X 17 = 204\n",
            "12 X 18 = 216\n",
            "12 X 19 = 228\n",
            "---13단---\n",
            "13 X 1 = 13\n",
            "13 X 2 = 26\n",
            "13 X 3 = 39\n",
            "13 X 4 = 52\n",
            "13 X 5 = 65\n",
            "13 X 6 = 78\n",
            "13 X 7 = 91\n",
            "13 X 8 = 104\n",
            "13 X 9 = 117\n",
            "13 X 10 = 130\n",
            "13 X 11 = 143\n",
            "13 X 12 = 156\n",
            "13 X 13 = 169\n",
            "13 X 14 = 182\n",
            "13 X 15 = 195\n",
            "13 X 16 = 208\n",
            "13 X 17 = 221\n",
            "13 X 18 = 234\n",
            "13 X 19 = 247\n",
            "---14단---\n",
            "14 X 1 = 14\n",
            "14 X 2 = 28\n",
            "14 X 3 = 42\n",
            "14 X 4 = 56\n",
            "14 X 5 = 70\n",
            "14 X 6 = 84\n",
            "14 X 7 = 98\n",
            "14 X 8 = 112\n",
            "14 X 9 = 126\n",
            "14 X 10 = 140\n",
            "14 X 11 = 154\n",
            "14 X 12 = 168\n",
            "14 X 13 = 182\n",
            "14 X 14 = 196\n",
            "14 X 15 = 210\n",
            "14 X 16 = 224\n",
            "14 X 17 = 238\n",
            "14 X 18 = 252\n",
            "14 X 19 = 266\n",
            "---15단---\n",
            "15 X 1 = 15\n",
            "15 X 2 = 30\n",
            "15 X 3 = 45\n",
            "15 X 4 = 60\n",
            "15 X 5 = 75\n",
            "15 X 6 = 90\n",
            "15 X 7 = 105\n",
            "15 X 8 = 120\n",
            "15 X 9 = 135\n",
            "15 X 10 = 150\n",
            "15 X 11 = 165\n",
            "15 X 12 = 180\n",
            "15 X 13 = 195\n",
            "15 X 14 = 210\n",
            "15 X 15 = 225\n",
            "15 X 16 = 240\n",
            "15 X 17 = 255\n",
            "15 X 18 = 270\n",
            "15 X 19 = 285\n",
            "---16단---\n",
            "16 X 1 = 16\n",
            "16 X 2 = 32\n",
            "16 X 3 = 48\n",
            "16 X 4 = 64\n",
            "16 X 5 = 80\n",
            "16 X 6 = 96\n",
            "16 X 7 = 112\n",
            "16 X 8 = 128\n",
            "16 X 9 = 144\n",
            "16 X 10 = 160\n",
            "16 X 11 = 176\n",
            "16 X 12 = 192\n",
            "16 X 13 = 208\n",
            "16 X 14 = 224\n",
            "16 X 15 = 240\n",
            "16 X 16 = 256\n",
            "16 X 17 = 272\n",
            "16 X 18 = 288\n",
            "16 X 19 = 304\n",
            "---17단---\n",
            "17 X 1 = 17\n",
            "17 X 2 = 34\n",
            "17 X 3 = 51\n",
            "17 X 4 = 68\n",
            "17 X 5 = 85\n",
            "17 X 6 = 102\n",
            "17 X 7 = 119\n",
            "17 X 8 = 136\n",
            "17 X 9 = 153\n",
            "17 X 10 = 170\n",
            "17 X 11 = 187\n",
            "17 X 12 = 204\n",
            "17 X 13 = 221\n",
            "17 X 14 = 238\n",
            "17 X 15 = 255\n",
            "17 X 16 = 272\n",
            "17 X 17 = 289\n",
            "17 X 18 = 306\n",
            "17 X 19 = 323\n",
            "---18단---\n",
            "18 X 1 = 18\n",
            "18 X 2 = 36\n",
            "18 X 3 = 54\n",
            "18 X 4 = 72\n",
            "18 X 5 = 90\n",
            "18 X 6 = 108\n",
            "18 X 7 = 126\n",
            "18 X 8 = 144\n",
            "18 X 9 = 162\n",
            "18 X 10 = 180\n",
            "18 X 11 = 198\n",
            "18 X 12 = 216\n",
            "18 X 13 = 234\n",
            "18 X 14 = 252\n",
            "18 X 15 = 270\n",
            "18 X 16 = 288\n",
            "18 X 17 = 306\n",
            "18 X 18 = 324\n",
            "18 X 19 = 342\n",
            "---19단---\n",
            "19 X 1 = 19\n",
            "19 X 2 = 38\n",
            "19 X 3 = 57\n",
            "19 X 4 = 76\n",
            "19 X 5 = 95\n",
            "19 X 6 = 114\n",
            "19 X 7 = 133\n",
            "19 X 8 = 152\n",
            "19 X 9 = 171\n",
            "19 X 10 = 190\n",
            "19 X 11 = 209\n",
            "19 X 12 = 228\n",
            "19 X 13 = 247\n",
            "19 X 14 = 266\n",
            "19 X 15 = 285\n",
            "19 X 16 = 304\n",
            "19 X 17 = 323\n",
            "19 X 18 = 342\n",
            "19 X 19 = 361\n"
          ]
        }
      ]
    },
    {
      "cell_type": "markdown",
      "source": [
        "# 컴프리헨션\n",
        "\n",
        "## 리스트 컴프리헨션\n",
        "\n",
        "### 리스트 컴프리헨션 기본 사용법\n",
        "\n",
        "* 리스트 컴프리헨션(list comprehension)은 파이썬에서 간결하게 리스트를 생성하는 기능으로, 반복문과 조건문을 결합하여 리스트를 생성합니다."
      ],
      "metadata": {
        "id": "W3NCj7QeNfh_"
      }
    },
    {
      "cell_type": "code",
      "source": [
        "x = []\n",
        "\n",
        "for i in range(1, 10):\n",
        "  x.append(i)\n",
        "\n",
        "print(x)"
      ],
      "metadata": {
        "colab": {
          "base_uri": "https://localhost:8080/"
        },
        "id": "i39aOYY1R80b",
        "outputId": "468781bd-9d90-4beb-db4d-3f08c5966952"
      },
      "execution_count": null,
      "outputs": [
        {
          "output_type": "stream",
          "name": "stdout",
          "text": [
            "[1, 2, 3, 4, 5, 6, 7, 8, 9]\n"
          ]
        }
      ]
    },
    {
      "cell_type": "code",
      "source": [
        "a = [i for i in range(1, 10)]\n",
        "print(a)"
      ],
      "metadata": {
        "colab": {
          "base_uri": "https://localhost:8080/"
        },
        "id": "pkhJuWEBST29",
        "outputId": "85e70b14-5097-4ae6-dc26-56abf3201267"
      },
      "execution_count": null,
      "outputs": [
        {
          "output_type": "stream",
          "name": "stdout",
          "text": [
            "[1, 2, 3, 4, 5, 6, 7, 8, 9]\n"
          ]
        }
      ]
    },
    {
      "cell_type": "code",
      "source": [
        "# step1 list안에 for문을 가져옵니다 [for i in range(1, 10)]\n",
        "\n",
        "# step2 append 항목을 앞으로 가져옵니다. - 여기서 i 자동으로 append\n",
        "\n",
        "a = [i for i in range(1, 10)] # 출력: [1, 2, 3, 4, 5, 6, 7, 8, 9]\n",
        "b = [i*2 for i in range(1, 10)] # 출력: [1, 2, 3, 4, 5, 6, 7, 8, 9]"
      ],
      "metadata": {
        "id": "yr2driviR-US"
      },
      "execution_count": null,
      "outputs": []
    },
    {
      "cell_type": "code",
      "source": [
        "# 이러한 컴프리헨션 문법은 간결함을 증대시킬 뿐만 아니라 기존 for문으로 append하는 것보다 속도가 빠릅니다.\n",
        "\n",
        "# 기본적인 형태는 아래와 같습니다.\n",
        "\n",
        "# [추가할변수_또는_표현식 for 변수 in 특정범위]"
      ],
      "metadata": {
        "id": "6gFBnhmjR_1J"
      },
      "execution_count": null,
      "outputs": []
    },
    {
      "cell_type": "markdown",
      "source": [
        "## 컴프리헨션 내 조건문 사용법\n",
        "\n",
        "* 컴프리헨션 내 아래와 같이 if문을 넣을 수도 있습니다."
      ],
      "metadata": {
        "id": "8oBmGyPrS8bT"
      }
    },
    {
      "cell_type": "code",
      "source": [
        "l = [i for i in range(1, 100) if i % 3 == 0 or i % 5 == 0]\n",
        "print(l)"
      ],
      "metadata": {
        "colab": {
          "base_uri": "https://localhost:8080/"
        },
        "id": "f1aYRmUVTFUd",
        "outputId": "1f5c14c4-0fdd-49b7-9b09-eb62bdc27367"
      },
      "execution_count": null,
      "outputs": [
        {
          "output_type": "stream",
          "name": "stdout",
          "text": [
            "[3, 5, 6, 9, 10, 12, 15, 18, 20, 21, 24, 25, 27, 30, 33, 35, 36, 39, 40, 42, 45, 48, 50, 51, 54, 55, 57, 60, 63, 65, 66, 69, 70, 72, 75, 78, 80, 81, 84, 85, 87, 90, 93, 95, 96, 99]\n"
          ]
        }
      ]
    },
    {
      "cell_type": "code",
      "source": [
        "# 위 코드는 아래 코드와 동일한 동작을 합니다.\n",
        "\n",
        "l = []\n",
        "for i in range(1, 100):\n",
        "    if i % 3 == 0 or i % 5 == 0:\n",
        "        l.append(i)\n",
        "print(l)"
      ],
      "metadata": {
        "colab": {
          "base_uri": "https://localhost:8080/"
        },
        "id": "JzPKQe29THDF",
        "outputId": "14d677c1-3fc0-4764-cf52-1536f02ba72a"
      },
      "execution_count": null,
      "outputs": [
        {
          "output_type": "stream",
          "name": "stdout",
          "text": [
            "[3, 5, 6, 9, 10, 12, 15, 18, 20, 21, 24, 25, 27, 30, 33, 35, 36, 39, 40, 42, 45, 48, 50, 51, 54, 55, 57, 60, 63, 65, 66, 69, 70, 72, 75, 78, 80, 81, 84, 85, 87, 90, 93, 95, 96, 99]\n"
          ]
        }
      ]
    },
    {
      "cell_type": "code",
      "source": [
        "# 가장 먼저 for문을 리스트 안에 넣은 다음, 그 아래 if문을 이어서 컴프리헨션 내에 넣은 것입니다. 그리고 마지막으로 append되는 것을 앞으로 배치한 것이죠.\n",
        "\n",
        "# 컴프리헨션에서 if와 함께 else를 사용하고 싶다면 아래와 같이 사용할 수 있습니다."
      ],
      "metadata": {
        "id": "lhxC5-zHTj9a"
      },
      "execution_count": null,
      "outputs": []
    },
    {
      "cell_type": "code",
      "source": [
        "nums = [1, 2, 3, 4 ,5]\n",
        "result = [f'{x}는 3보다 큰 짝수' if x % 2 == 0 else f'{x}는 3보다 큰 홀수' for x in nums if x > 3]\n",
        "print(result)"
      ],
      "metadata": {
        "colab": {
          "base_uri": "https://localhost:8080/"
        },
        "id": "DS2g-OqvT4dE",
        "outputId": "cf5f9ca5-4e2f-44f8-8298-1b72cc4588b7"
      },
      "execution_count": null,
      "outputs": [
        {
          "output_type": "stream",
          "name": "stdout",
          "text": [
            "['4는 3보다 큰 짝수', '5는 3보다 큰 홀수']\n"
          ]
        }
      ]
    },
    {
      "cell_type": "code",
      "source": [
        "# 위 코드만 보더라도 이미 79자를 넘어가 가독성이 떨어진 것을 확인 할 수 있습니다.\n",
        "# 이렇게 가독성이 떨어질 때에는 아래와 같이 사용하시는 것을 권합니다.\n",
        "\n",
        "result = []\n",
        "nums = [1, 2, 3, 4, 5]\n",
        "for x in nums:\n",
        "    if x > 3:\n",
        "        if x % 2 == 0:\n",
        "            result.append(f'{x}는 3보다 큰 짝수')\n",
        "        else:\n",
        "            result.append(f'{x}는 3보다 큰 홀수')\n",
        "print(result)"
      ],
      "metadata": {
        "colab": {
          "base_uri": "https://localhost:8080/"
        },
        "id": "_gyc3LgbUWyI",
        "outputId": "cb2e0dfa-c36d-4d4e-ab53-fb68b010cd84"
      },
      "execution_count": null,
      "outputs": [
        {
          "output_type": "stream",
          "name": "stdout",
          "text": [
            "['4는 3보다 큰 짝수', '5는 3보다 큰 홀수']\n"
          ]
        }
      ]
    },
    {
      "cell_type": "code",
      "source": [
        "# 아래처럼 중첩된 if를 사용할 수 있습니다.\n",
        "\n",
        "nums = [1, 2, 3, 4, 5, 6]\n",
        "result = [x for x in nums if x % 2 == 0 if x % 3 == 0]\n",
        "result"
      ],
      "metadata": {
        "colab": {
          "base_uri": "https://localhost:8080/"
        },
        "id": "8DtpLqE4U9wM",
        "outputId": "4fd29983-bfa8-496d-f51c-47e313f1412f"
      },
      "execution_count": null,
      "outputs": [
        {
          "output_type": "execute_result",
          "data": {
            "text/plain": [
              "[6]"
            ]
          },
          "metadata": {},
          "execution_count": 54
        }
      ]
    },
    {
      "cell_type": "code",
      "source": [
        "# 위 코드는 아래와 같은 의미를 지닙니다.\n",
        "nums = [1, 2, 3, 4, 5, 6]\n",
        "result = [x for x in nums if x % 2 == 0 and x % 3 == 0]\n",
        "result"
      ],
      "metadata": {
        "colab": {
          "base_uri": "https://localhost:8080/"
        },
        "id": "AMBu1zMrVUHc",
        "outputId": "db5d5c04-5c20-4c31-a54f-60ab540972bb"
      },
      "execution_count": null,
      "outputs": [
        {
          "output_type": "execute_result",
          "data": {
            "text/plain": [
              "[6]"
            ]
          },
          "metadata": {},
          "execution_count": 58
        }
      ]
    },
    {
      "cell_type": "markdown",
      "source": [
        "## 중첩된 반복문과 중첩된 컴프리헨션\n",
        "\n",
        "* 컴프리헨션은 중첩된 반복문을 사용할 수 있으며 컴프리헨션 내에서도 컴프리헨션 중첩이 가능합니다. 일반적인 for문 방식과 비교하여 리스트 컴프리헨션의 간결함을 확인할 수 있습니다."
      ],
      "metadata": {
        "id": "SMQ1SWlLVpYS"
      }
    },
    {
      "cell_type": "code",
      "source": [
        "# 리스트 컴프리헨션: 중첩된 반복문\n",
        "c = [f'{i} × {j} = {i*j}' for i in range(2, 10) for j in range(1, 10)]\n",
        "\n",
        "# 리스트 컴프리헨션: 중첩된 컴프리헨션\n",
        "cc = [[f'{i} × {j} = {i*j}' for j in range(1, 10)] for i in range(2, 10)]\n",
        "\n",
        "# 전통적인 방법\n",
        "c_list = []\n",
        "for i in range(2, 10):\n",
        "    for j in range(1, 10):\n",
        "        c_list.append(f'{i} × {j} = {i*j}')\n",
        "\n",
        "# 다만 이러한 컴프리헨션 문법의 중첩은 코드의 가독성을 떨어뜨리므로 주의해 주세요.\n",
        "# 보통 회사 컨벤션(회사의 코딩 규칙)에서는 3개 이상의 컴프리헨션 중첩을 하지 않기을 권합니다."
      ],
      "metadata": {
        "id": "9vO6_1FqV3f-"
      },
      "execution_count": null,
      "outputs": []
    },
    {
      "cell_type": "markdown",
      "source": [
        "## 컴프리헨션 내 함수 사용하기\n",
        "\n",
        "* 기존 리스트를 순회하며 요소들을 함수의 인수에 넣어 함수의 return 값을 새로운 리스트에 저장하실 수 있습니다."
      ],
      "metadata": {
        "id": "3C2uRv2Wn_KW"
      }
    },
    {
      "cell_type": "code",
      "source": [
        "def sumthingFunction(i):\n",
        "    if i % 100 ==0:\n",
        "        return i\n",
        "    else:\n",
        "        return 0\n",
        "\n",
        "l = [100, 200, 300, 101, 202, 303]\n",
        "l = [sumthingFunction(i) for i in l]\n",
        "l # 출력: [100, 200, 300, 0, 0, 0]"
      ],
      "metadata": {
        "colab": {
          "base_uri": "https://localhost:8080/"
        },
        "id": "dJWPC_XtoZY7",
        "outputId": "7151fe15-eba9-4acb-b9ad-3fd09910f7c4"
      },
      "execution_count": null,
      "outputs": [
        {
          "output_type": "execute_result",
          "data": {
            "text/plain": [
              "[100, 200, 300, 0, 0, 0]"
            ]
          },
          "metadata": {},
          "execution_count": 61
        }
      ]
    },
    {
      "cell_type": "markdown",
      "source": [
        "## 딕셔너리 컴프리헨션\n",
        "\n",
        "* ## 3.2. 딕셔너리 컴프리헨션\n",
        "\n",
        "컴프리헨션은 리스트 컴프리헨션, 딕셔너리 컴프리헨션, 세트 컴프리헨션, 그리고 제너레이터 컴프리헨션이 있습니다. 여기서 딕셔너리 컴프리헨션은 그 형태가 조금 다르므로 여기서 다뤄보고 가도록 하겠습니다."
      ],
      "metadata": {
        "id": "NKgVVbfLo4mJ"
      }
    },
    {
      "cell_type": "code",
      "source": [
        "# 전통적인 방법\n",
        "d = {}\n",
        "for i in range(5):\n",
        "    d[i] = i**2\n",
        "\n",
        "print(d)\n",
        "\n",
        "# 딕셔너리 컴프리헨션 사용\n",
        "dd = {i: i**2 for i in range(5)}\n",
        "print(dd)"
      ],
      "metadata": {
        "colab": {
          "base_uri": "https://localhost:8080/"
        },
        "id": "cuc1wORpo9YA",
        "outputId": "a8329dd1-1f09-4ad2-f9cc-660fe5d1897b"
      },
      "execution_count": null,
      "outputs": [
        {
          "output_type": "stream",
          "name": "stdout",
          "text": [
            "{0: 0, 1: 1, 2: 4, 3: 9, 4: 16}\n",
            "{0: 0, 1: 1, 2: 4, 3: 9, 4: 16}\n"
          ]
        }
      ]
    },
    {
      "cell_type": "code",
      "source": [
        "#딕셔너리 컴프리헨션의 기본 구조는 `중괄호({})` 내부에 `for문`과 필요한 조건문을 넣어주며,\n",
        "#  그 앞에는 딕셔너리의 `키`와 `값`이 콜론(`:`)으로 구분되어 위치합니다.\n",
        "\n",
        "# 아래와 같이 if를 사용할 수도 있습니다.\n",
        "\n",
        "even_squares = {x: x**2 for x in range(10) if x % 2 == 0}"
      ],
      "metadata": {
        "id": "zUf7WjQ_pSn9"
      },
      "execution_count": null,
      "outputs": []
    },
    {
      "cell_type": "markdown",
      "source": [
        "# 복합자료형 순회\n",
        "\n",
        "* 앞에서 다뤘던 것처럼 반복되는 값이 같은 구조를 가지고 있다면 언패킹하여 한꺼번에 받아 순회할 수 있습니다. 순회 할 수 있는 객체를 변수에 하나씩 할당하는 것을 언패킹이라 하였습니다. 이번에는 리스트 안에 리스트가 아니라 리스트 안에 문자열, 리스트 안에 튜플 등 다양한 복합 자료형이 중첩되어 있을 때 어떻게 언패킹하여 순회를 하는지 다뤄보도록 하겠습니다."
      ],
      "metadata": {
        "id": "priVUJhnpjgM"
      }
    },
    {
      "cell_type": "code",
      "source": [
        "for i, j, k in ['abc', 'def', 'ghi']:\n",
        "    print(i, j, k)"
      ],
      "metadata": {
        "colab": {
          "base_uri": "https://localhost:8080/"
        },
        "id": "S9R0UklcrZcg",
        "outputId": "1979f7d9-613a-4a53-ba77-f65883ce3833"
      },
      "execution_count": null,
      "outputs": [
        {
          "output_type": "stream",
          "name": "stdout",
          "text": [
            "a b c\n",
            "d e f\n",
            "g h i\n"
          ]
        }
      ]
    },
    {
      "cell_type": "code",
      "source": [
        "# 리스트 안에 문자열이 들어가 있으면 해당 자료형도 언패킹이 가능합니다.\n",
        "# 문자열은 순회 할 수 있는 객체이기 때문입니다.\n",
        "# 따라서 처음 순회가 될 ‘abc’가 준비되었을 때 전체를 받을 변수 하나가 있다면 하나의 변수에 할당이 되며,\n",
        "#‘a’, ‘b’, ‘c’ 각각의 값을 받을 변수가 모두 준비되어 있다면 이를 각각의 변수에 할당합니다.\n",
        "\n",
        "skill = [\n",
        "    ('고기잡이', 100),\n",
        "    ('고기팔이', 120),\n",
        "    ('낚시', 5),\n",
        "    ('통발', 5),\n",
        "    ('큰그물', 5)\n",
        "]\n",
        "\n",
        "for i,j in skill:\n",
        "    print(i, j)\n",
        "\n",
        "# skill 이라는 리스트에 튜플 형태의 값들이 들어간 것을 볼 수 있습니다. 각 튜플은 두개의 요소로 구성되어 있으며,\n",
        "# 첫번째 요소는 skill의 이름을 나타내고 두번째 요소는 스킬의 레벨을 나타냅니다.\n",
        "\n",
        "# skill 을 순회하면서 각 튜플을 하나씩 가져와서 i, j에 저장한 후 출력합니다.\n"
      ],
      "metadata": {
        "colab": {
          "base_uri": "https://localhost:8080/"
        },
        "id": "Vum4Wfkzra2W",
        "outputId": "86cbbca7-7cb5-4be1-8955-0694898ea415"
      },
      "execution_count": null,
      "outputs": [
        {
          "output_type": "stream",
          "name": "stdout",
          "text": [
            "고기잡이 100\n",
            "고기팔이 120\n",
            "낚시 5\n",
            "통발 5\n",
            "큰그물 5\n"
          ]
        }
      ]
    },
    {
      "cell_type": "code",
      "source": [
        "# 튜플 내의 요소가 3개인 경우에도 각각의 요소를 가져와서 출력하실 수 있습니다.\n",
        "\n",
        "# 하나만 리스트여도 쌍이면 상관없이 잘 돌아감\n",
        "\n",
        "skill = [\n",
        "    ('고기잡이', 100, 'SS'),\n",
        "    ('고기팔기', 120, 'SSS'),\n",
        "    ('낚시', 5, 'C'),\n",
        "    ('통발', 5, 'C'),\n",
        "    ('큰그물', 5, 'C')\n",
        "]\n",
        "\n",
        "for skillName, skillLevel, skillGrade in skill:\n",
        "    print(type(skillName), skillName, skillLevel, skillGrade)"
      ],
      "metadata": {
        "colab": {
          "base_uri": "https://localhost:8080/"
        },
        "id": "7V_MLxtJsBOt",
        "outputId": "1e785d96-0ca8-4a85-dbac-49bf881725cc"
      },
      "execution_count": null,
      "outputs": [
        {
          "output_type": "stream",
          "name": "stdout",
          "text": [
            "<class 'str'> 고기잡이 100 SS\n",
            "<class 'str'> 고기팔기 120 SSS\n",
            "<class 'str'> 낚시 5 C\n",
            "<class 'str'> 통발 5 C\n",
            "<class 'str'> 큰그물 5 C\n"
          ]
        }
      ]
    },
    {
      "cell_type": "markdown",
      "source": [
        "# enumerate를 사용한 순회\n",
        "\n",
        "* enumerate는 순서를 매길 때 사용합니다. enumerate는 별도의 변수를 선언하지 않고 이것이 가능하게 해줍니다."
      ],
      "metadata": {
        "id": "wV5BdIvVswBn"
      }
    },
    {
      "cell_type": "code",
      "source": [
        "# enumerate(순회 가능한 객체, 인덱스의 시작값)"
      ],
      "metadata": {
        "id": "Elr10cAqtagD"
      },
      "execution_count": null,
      "outputs": []
    },
    {
      "cell_type": "code",
      "source": [
        "# enumerate에 인덱스의 시작값을 지정하지 않으면 기본값 0부터 시작하는 것을 볼 수 있습니다.\n",
        "\n",
        "영화누적관객수 = ['레미제라블', '뷰티인사이트', '매트릭스', '인셉션', '어거스트 러쉬']\n",
        "for i in enumerate()"
      ],
      "metadata": {
        "id": "F1QDUAQDtg5z"
      },
      "execution_count": null,
      "outputs": []
    },
    {
      "cell_type": "code",
      "source": [
        "영화누적관객수 = ['레미제라블', '뷰티인사이트', '매트릭스', '인셉션', '어거스트 러쉬']\n",
        "for i, j in enumerate(영화누적관객수, 1):\n",
        "    print(f'누적관객수 {i}위! {j}!')"
      ],
      "metadata": {
        "colab": {
          "base_uri": "https://localhost:8080/"
        },
        "id": "INE39HMcuGy1",
        "outputId": "70d47cf3-4755-48d7-e9d1-d4b9fae18b1c"
      },
      "execution_count": null,
      "outputs": [
        {
          "output_type": "stream",
          "name": "stdout",
          "text": [
            "누적관객수 1위! 레미제라블!\n",
            "누적관객수 2위! 뷰티인사이트!\n",
            "누적관객수 3위! 매트릭스!\n",
            "누적관객수 4위! 인셉션!\n",
            "누적관객수 5위! 어거스트 러쉬!\n"
          ]
        }
      ]
    },
    {
      "cell_type": "markdown",
      "source": [
        "# for문으로 무한반복 만들기"
      ],
      "metadata": {
        "id": "sWBXgoKGuRHD"
      }
    },
    {
      "cell_type": "code",
      "source": [
        "# 실행시키면 런타임 다시 시작해야 합니다.\n",
        "# l = [1, 2]\n",
        "# for i in l:\n",
        "#     l.append(3)\n",
        "#     print(i) # 1, 2, 3, 3, 3, 3, 3, 3 ...\n",
        "\n",
        "s = 'hello'\n",
        "for i in s: # 순회가 정상적으로 됩니다.\n",
        "    s += '!'\n",
        "    print(i)\n",
        "    print(s)\n",
        "\n",
        "# d = {'one': '하나'}\n",
        "# for i in d: # RuntimeError: dictionary changed size during iteration\n",
        "#     d.update({i+d[i]:None})\n",
        "#     print(d)"
      ],
      "metadata": {
        "colab": {
          "base_uri": "https://localhost:8080/"
        },
        "id": "O4QoWbQhufmX",
        "outputId": "72021c74-3454-4701-d2a9-612f8409f3ca"
      },
      "execution_count": null,
      "outputs": [
        {
          "output_type": "stream",
          "name": "stdout",
          "text": [
            "h\n",
            "hello!\n",
            "e\n",
            "hello!!\n",
            "l\n",
            "hello!!!\n",
            "l\n",
            "hello!!!!\n",
            "o\n",
            "hello!!!!!\n"
          ]
        }
      ]
    },
    {
      "cell_type": "markdown",
      "source": [
        "# 2. while문\n",
        "\n",
        "* 이번에는 for문과 함께 많이 사용되는 구문인 while 문을 살펴보도록 합시다. while문은 조건이 참인 동안에 명령을 반복해서 수행합니다. 반복할 명령은 들여쓰기로 구분되며 조건이 거짓이면 들여쓰기로 구분되어 있는 반복 구문을 탈출합니다."
      ],
      "metadata": {
        "id": "v06xi6W5ug9y"
      }
    },
    {
      "cell_type": "markdown",
      "source": [
        "## while문의 기본구조"
      ],
      "metadata": {
        "id": "N54Nz287vDVP"
      }
    },
    {
      "cell_type": "code",
      "source": [
        "while 구문:\n",
        "    pass # 수행할 문장"
      ],
      "metadata": {
        "colab": {
          "base_uri": "https://localhost:8080/",
          "height": 203
        },
        "id": "xlWLWJ2xvNcV",
        "outputId": "465d7175-7920-4c3d-d5e4-27151a539372"
      },
      "execution_count": null,
      "outputs": [
        {
          "output_type": "error",
          "ename": "NameError",
          "evalue": "name '구문' is not defined",
          "traceback": [
            "\u001b[0;31m---------------------------------------------------------------------------\u001b[0m",
            "\u001b[0;31mNameError\u001b[0m                                 Traceback (most recent call last)",
            "\u001b[0;32m<ipython-input-79-4215701bfd84>\u001b[0m in \u001b[0;36m<cell line: 1>\u001b[0;34m()\u001b[0m\n\u001b[0;32m----> 1\u001b[0;31m \u001b[0;32mwhile\u001b[0m \u001b[0m구문\u001b[0m\u001b[0;34m:\u001b[0m\u001b[0;34m\u001b[0m\u001b[0;34m\u001b[0m\u001b[0m\n\u001b[0m\u001b[1;32m      2\u001b[0m     \u001b[0;32mpass\u001b[0m \u001b[0;31m# 수행할 문장\u001b[0m\u001b[0;34m\u001b[0m\u001b[0;34m\u001b[0m\u001b[0m\n",
            "\u001b[0;31mNameError\u001b[0m: name '구문' is not defined"
          ]
        }
      ]
    },
    {
      "cell_type": "code",
      "source": [
        "# 예제를 통해 살펴보도록 하겠습니다.\n",
        "\n",
        "a = 1\n",
        "\n",
        "while a < 10:\n",
        "    print(a)\n",
        "    a += 1\n",
        "\n",
        "# 변수 a에 1을 저장한 후, 변수 a가 10 미만일 때 변수 a를 출력하고 값을 1 증가시킵니다.\n",
        "# 9까지 출력하고 마지막 a+=1이 연산(할당연산)되면 a=10이 되어 조건이 거짓이 되므로 루프를 탈출합니다.\n",
        "# 여기서 a+=1을 하지 않으면 무한반복이 되기 때문에 주의해야 합니다.\n",
        "\n",
        "# while문은 조건을 먼저 선언 해주어야 하기 때문에, 비교적 for를 더 많이 사용합니다. 하지만 각각 자주 활용되는 구문들이 있어, 어느 문법이 좋다 할 수 없습니다."
      ],
      "metadata": {
        "colab": {
          "base_uri": "https://localhost:8080/"
        },
        "id": "_8P69g20vUXB",
        "outputId": "f28aa8e1-697f-4700-ac65-2f779c159c55"
      },
      "execution_count": null,
      "outputs": [
        {
          "output_type": "stream",
          "name": "stdout",
          "text": [
            "1\n",
            "2\n",
            "3\n",
            "4\n",
            "5\n",
            "6\n",
            "7\n",
            "8\n",
            "9\n"
          ]
        }
      ]
    },
    {
      "cell_type": "markdown",
      "source": [
        "# 프로그램 1. 스무고개 숫자 맞추기"
      ],
      "metadata": {
        "id": "F4SJ1ngF0cNG"
      }
    },
    {
      "cell_type": "markdown",
      "source": [
        "# 1.1 숫자를 입력받기\n",
        "\n",
        "* input을 활용해서 숫자를 입력 받으세요"
      ],
      "metadata": {
        "id": "6z-ZqABL0hfx"
      }
    },
    {
      "cell_type": "code",
      "source": [
        "# 우리가 입력할 값\n",
        "number = int(input('숫자를 입력하세요'))"
      ],
      "metadata": {
        "colab": {
          "base_uri": "https://localhost:8080/"
        },
        "id": "RNyxy9p40r9d",
        "outputId": "424c76aa-7dbf-4cd1-eb99-ea56176a063b"
      },
      "execution_count": null,
      "outputs": [
        {
          "name": "stdout",
          "output_type": "stream",
          "text": [
            "숫자를 입력하세요3\n"
          ]
        }
      ]
    },
    {
      "cell_type": "code",
      "source": [
        "print(number)\n",
        "print(type(number))"
      ],
      "metadata": {
        "colab": {
          "base_uri": "https://localhost:8080/"
        },
        "id": "Y9kBmZaL00zy",
        "outputId": "6a342b27-e41d-4641-e327-729800d520c6"
      },
      "execution_count": null,
      "outputs": [
        {
          "output_type": "stream",
          "name": "stdout",
          "text": [
            "3\n",
            "<class 'int'>\n"
          ]
        }
      ]
    },
    {
      "cell_type": "code",
      "source": [
        "# 우리가 맞춰야할 숫자\n",
        "import random\n",
        "\n",
        "sec_number = random.randrange(1, 101)"
      ],
      "metadata": {
        "id": "DB7zsY7G1LVR"
      },
      "execution_count": null,
      "outputs": []
    },
    {
      "cell_type": "code",
      "source": [
        "# 정답을 위한 step1\n",
        "# if문을 사용해서\n",
        "\n",
        "if sec_number == number:\n",
        "    print('맞았슴다')\n",
        "else:\n",
        "    print('틀렸슴다')"
      ],
      "metadata": {
        "colab": {
          "base_uri": "https://localhost:8080/"
        },
        "id": "O_GoXo941h-D",
        "outputId": "fc191647-2011-4752-92ad-167d7a58ebbe"
      },
      "execution_count": null,
      "outputs": [
        {
          "output_type": "stream",
          "name": "stdout",
          "text": [
            "틀렸슴다\n"
          ]
        }
      ]
    },
    {
      "cell_type": "code",
      "source": [
        "if sec_number == number:\n",
        "    print('맞았슴다')\n",
        "elif sec_number > number:\n",
        "    print('정답보다 작습니다!')\n",
        "elif sec_number < number:\n",
        "    print('정답보다 큽니다!')\n"
      ],
      "metadata": {
        "colab": {
          "base_uri": "https://localhost:8080/"
        },
        "id": "QzYQZwSS2FjP",
        "outputId": "20c27d82-fc74-481b-ebfc-d33b06505699"
      },
      "execution_count": null,
      "outputs": [
        {
          "output_type": "stream",
          "name": "stdout",
          "text": [
            "정답보다 작습니다!\n"
          ]
        }
      ]
    },
    {
      "cell_type": "code",
      "source": [
        "#step2 -> 20반복하는 내용 구현\n",
        "import random\n",
        "sec_number = random.randrange(1,101)\n",
        "for i in range(20):\n",
        "    number = int(input())\n",
        "    if number > sec_number:\n",
        "        print('오답!,너무 큽니다.')\n",
        "    if number < sec_number:\n",
        "        print('오답!,너무 작습니다.')\n",
        "    if number == sec_number:\n",
        "        print(f'정답!, {i + 1}번 만에 성공하셨습니다.')\n",
        "        break\n",
        "    if i == 19:\n",
        "        print(f'기회 끝!,다음기회에,답은 {sec_number}였습니다!')\n",
        "\n",
        "\n"
      ],
      "metadata": {
        "colab": {
          "base_uri": "https://localhost:8080/"
        },
        "id": "C0iCE38J20Q9",
        "outputId": "9c5cae3d-c40b-49b1-9246-bf9a7c93605a"
      },
      "execution_count": null,
      "outputs": [
        {
          "output_type": "stream",
          "name": "stdout",
          "text": [
            "30\n",
            "오답!,너무 작습니다.\n",
            "40\n",
            "오답!,너무 작습니다.\n",
            "50\n",
            "오답!,너무 큽니다.\n",
            "45\n",
            "오답!,너무 작습니다.\n",
            "47\n",
            "오답!,너무 작습니다.\n",
            "48\n",
            "오답!,너무 작습니다.\n",
            "49\n",
            "정답!, 7번 만에 성공하셨습니다.\n"
          ]
        }
      ]
    },
    {
      "cell_type": "markdown",
      "source": [
        "# 프로그램2 : 가위바위보\n",
        "\n"
      ],
      "metadata": {
        "id": "DHsOTzBc7bF5"
      }
    },
    {
      "cell_type": "code",
      "source": [
        "# s1 : 우리가 낼 가위, 바위, 보를 입력 받는다.\n",
        "# s2 : 컴퓨터가 낼 가위,바위, 보를 입력 받는다.\n",
        "# s3 : 승패요견"
      ],
      "metadata": {
        "id": "PWFUMtYm7ggW"
      },
      "execution_count": null,
      "outputs": []
    },
    {
      "cell_type": "code",
      "source": [
        "import random\n",
        "\n",
        "game_list = ['가위', '바위', '보']\n",
        "\n",
        "me = input('가위 바위 보 입력하세요: ')\n",
        "\n",
        "com = random.choice(game_list)\n",
        "\n",
        "if me not in game_list:\n",
        "    print('잘못된 입력 입니다.')\n",
        "\n",
        "print(f'컴퓨터의 선택 {com} 입니다.')\n",
        "\n",
        "if me == com:\n",
        "    print('비겼습니다.')\n",
        "elif (me == '가위' and com == '보') or (me == '바위' and com == '가위') or (me == '보' and com == '바위'):\n",
        "    print('당신이 이겼습니다.')\n",
        "else:\n",
        "    ('컴퓨터가 이겼습니다.')\n",
        "\n"
      ],
      "metadata": {
        "colab": {
          "base_uri": "https://localhost:8080/"
        },
        "id": "c5N8zqi97tYS",
        "outputId": "77837d83-2c9f-4573-fca7-0c427eb4495c"
      },
      "execution_count": null,
      "outputs": [
        {
          "output_type": "stream",
          "name": "stdout",
          "text": [
            "가위 바위 보 입력하세요: 보\n",
            "컴퓨터의 선택 보 입니다.\n",
            "비겼습니다.\n"
          ]
        }
      ]
    },
    {
      "cell_type": "markdown",
      "source": [
        "# while문\n",
        "\n",
        "이번에는 for문과 함께 많이 사용되는 구문인 while 문을 살펴보도록 합시다. while문은 조건이 참인 동안에 명령을 반복해서 수행합니다. 반복할 명령은 들여쓰기로 구분되며 조건이 거짓이면 들여쓰기로 구분되어 있는 반복 구문을 탈출합니다."
      ],
      "metadata": {
        "id": "l6ko3QxQBzxj"
      }
    },
    {
      "cell_type": "markdown",
      "source": [
        "while문의 기본 구조"
      ],
      "metadata": {
        "id": "s55t0KiEwhk8"
      }
    },
    {
      "cell_type": "markdown",
      "source": [
        "while 구문:\n",
        "    pass # 수행할 문장\n",
        "\n",
        "a = 1 # 연산자를 계산할수 있는 변수가 하나있고,\n",
        "\n",
        "#While문은 조건이 참이면 계속 수행 -> 무한루프(무한으로 프로그램이 돌아가게 만듬)\n",
        "\n",
        "while a < 10 : #1. for문과 차이점 - 조건이 있다. (for문은 범위가 있다.)\n",
        "\tprint(a)\n",
        "\ta += 1  # (무한루프에 빠질수 있기 때문에) -> 연산자를 계산해서 조건문을 강제로 false로 만드는 구문이 있다."
      ],
      "metadata": {
        "id": "6W5lVkHuwlIz"
      }
    },
    {
      "cell_type": "code",
      "source": [
        "Step1 : a -> 1 지정\n",
        "\n",
        "Step2 : while (a = 1) < 10 -> True -> while조건문 실행\n",
        "\n",
        "Step3 : print(a) -> a=1 -> 1이 출력\n",
        "\n",
        "Step4 : a += 1 -> a -> 2\n",
        "\n",
        "Step2-1 : a -> 2 step2,3,4가 계속 반복\n",
        "\n",
        "Step10-1 : a-> 10\n",
        "\n",
        "Step10-2 : a = 10 < 10 -> False -> while조건문 미실행\n",
        "-> 조건문 완료!\n",
        "\n",
        "# 어떨때 쓰일까?\n",
        "1. 로또번호 - 6개까지 추첨하면 끝!\n",
        "2. 이벤트\n",
        "\n",
        "# 변수 a에 1을 저장한 후, 변수 a가 10 미만일 때 변수 a를 출력하고 값을 1 증가시킵니다.\n",
        "# 9까지 출력하고 마지막 a+=1이 연산(할당연산)되면 a=10이 되어 조건이 거짓이 되므로 루프를 탈출합니다.\n",
        "# 여기서 a+=1을 하지 않으면 무한반복이 되기 때문에 주의해야 합니다.\n",
        "\n",
        "# while문은 조건을 먼저 선언 해주어야 하기 때문에, 비교적 for를 더 많이 사용합니다. 하지만 각각 자주 활용되는 구문들이 있어, 어느 문법이 좋다 할 수 없습니다."
      ],
      "metadata": {
        "colab": {
          "base_uri": "https://localhost:8080/",
          "height": 147
        },
        "id": "NZknmcKjwroL",
        "outputId": "22b10e49-1a38-48de-f2c2-7c3a904a12d3"
      },
      "execution_count": null,
      "outputs": [
        {
          "output_type": "error",
          "ename": "SyntaxError",
          "evalue": "invalid decimal literal (<ipython-input-1-b8ea716f1db1>, line 5)",
          "traceback": [
            "\u001b[0;36m  File \u001b[0;32m\"<ipython-input-1-b8ea716f1db1>\"\u001b[0;36m, line \u001b[0;32m5\u001b[0m\n\u001b[0;31m    Step3 : print(a) -> a=1 -> 1이 출력\u001b[0m\n\u001b[0m                               ^\u001b[0m\n\u001b[0;31mSyntaxError\u001b[0m\u001b[0;31m:\u001b[0m invalid decimal literal\n"
          ]
        }
      ]
    },
    {
      "cell_type": "markdown",
      "source": [
        "## while로 무한반복 만들기\n",
        "\n",
        "* 변수 a에 1을 저장한 후, 변수 a가 10 미만일 때 변수 a를 출력하고 값을 1 증가시킵니다. 9까지 출력하고 마지막 a+=1이 연산(할당연산)되면 a=10이 되어 조건이 거짓이 되므로 루프를 탈출합니다. 여기서 a+=1을 하지 않으면 무한반복이 되기 때문에 주의해야 합니다.\n",
        "\n",
        "while문은 조건을 먼저 선언 해주어야 하기 때문에, 비교적 for를 더 많이 사용합니다. 하지만 각각 자주 활용되는 구문들이 있어, 어느 문법이 좋다 할 수 없습니다."
      ],
      "metadata": {
        "id": "M-4LnSZjvcB-"
      }
    },
    {
      "cell_type": "markdown",
      "source": [
        "## 무한반복의 활용\n",
        "\n",
        "* 여러분이 사용하는 OS도 무한 반복 중입니다. 사용자가 정지시키지 않는 한이요. 아래와 같이 간단한 쉘 프로그래밍을 해볼 수 있습니다. 쉘이란 사용자의 명령어를 해석하여 운영체제가 이를 수행할 수 있도록 지시해주는 프로그램입니다. 통상적으로 pwd는 현재 위치를 출력하고, ls는 현재 폴더와 파일명을 출력합니다."
      ],
      "metadata": {
        "id": "TYvjhhtiv8lI"
      }
    },
    {
      "cell_type": "code",
      "source": [
        "# 이를 구현한 예제를 살펴보도록 하겠습니다.\n",
        "\n",
        "# colab에서도 작동되지만 가능하면 .py파일로 작성해서 실행해보세요\n",
        "\n",
        "'''\n",
        "# colab에서도 작동되지만 가능하면 .py파일로 작성해서 실행해보세요.\n",
        "import os\n",
        "\n",
        "while True:\n",
        "    userinput = input('>')\n",
        "    if userinput == 'pwd':\n",
        "        # print('현재 위치 출력')\n",
        "        # print('\\\\'.join(__file__.split('\\\\')[:-1]))\n",
        "        print(os.getcwd())\n",
        "    elif userinput == 'dir' or userinput == 'ls':\n",
        "        # print('현재 폴더에 폴더와 파일명 출력')\n",
        "        print(os.listdir(os.getcwd()))\n",
        "    elif userinput == 'exit':\n",
        "        print('안녕히가세요.')\n",
        "        break\n",
        "'''"
      ],
      "metadata": {
        "colab": {
          "base_uri": "https://localhost:8080/",
          "height": 54
        },
        "id": "egg1nOPwwO8Q",
        "outputId": "17666e03-f5dd-410c-f844-e586c986f645"
      },
      "execution_count": null,
      "outputs": [
        {
          "output_type": "execute_result",
          "data": {
            "text/plain": [
              "\"\\n# colab에서도 작동되지만 가능하면 .py파일로 작성해서 실행해보세요.\\nimport os\\n\\nwhile True:\\n    userinput = input('>')\\n    if userinput == 'pwd':\\n        # print('현재 위치 출력')\\n        # print('\\\\'.join(__file__.split('\\\\')[:-1]))\\n        print(os.getcwd())\\n    elif userinput == 'dir' or userinput == 'ls':\\n        # print('현재 폴더에 폴더와 파일명 출력')\\n        print(os.listdir(os.getcwd()))\\n    elif userinput == 'exit':\\n        print('안녕히가세요.')\\n        break\\n\""
            ],
            "application/vnd.google.colaboratory.intrinsic+json": {
              "type": "string"
            }
          },
          "metadata": {},
          "execution_count": 83
        }
      ]
    },
    {
      "cell_type": "markdown",
      "source": [
        "# 왈러스(Walrus, :=) 연산자\n",
        "\n",
        "Python 3.8에서 도입된 왈러스 연산자( := )는 할당 표현식(assignment expressions)를 사용하게 해주는 연산자입니다. 왈러스는 한국어로 바다코끼리입니다.\n",
        "\n",
        "이 연산자는 변수에 값을 할당하고 그 값을 평가합니다. 아래 예시를 보며 설명드리도록 하겠습니다."
      ],
      "metadata": {
        "id": "mFQdsNIhQZMb"
      }
    },
    {
      "cell_type": "code",
      "source": [
        "# 왈러스 연산자 기본 사용법\n",
        "\n",
        "x = (n := 10) * 2\n",
        "print(x) # 출력: 20\n",
        "print(n) # 출력: 10\n",
        "\n",
        "# (n := 10)은 10을 n에 할당하고,그 값을 10으로 평가하여 반환합니다. 그 결과에 2를 곱한 값이 x에 할당되었습니다."
      ],
      "metadata": {
        "colab": {
          "base_uri": "https://localhost:8080/"
        },
        "id": "R8QKxfk3QdSf",
        "outputId": "58cb7ab5-50fe-4f27-e7d2-d3166c5d9df1"
      },
      "execution_count": 2,
      "outputs": [
        {
          "output_type": "stream",
          "name": "stdout",
          "text": [
            "20\n",
            "10\n"
          ]
        }
      ]
    },
    {
      "cell_type": "code",
      "source": [
        "# while loop에서의 활용\n",
        "\n",
        "# x의 값을 랜덤으로 생성하고 x가 7일 경우 멈추는 코드입니다. 왈러스 연산자 사용한 코드와 안한 코드의 차이를\n",
        "# 보도록 하겠습니다.\n",
        "\n",
        "import random\n",
        "\n",
        "while True:\n",
        "    x = random.randint(0, 10)\n",
        "    if x == 7:\n",
        "        break\n",
        "    print(x)\n",
        "# 왈러스 연산자 미사용"
      ],
      "metadata": {
        "colab": {
          "base_uri": "https://localhost:8080/"
        },
        "id": "NzCMZWTjRRH-",
        "outputId": "937fcf5e-1ff9-4a53-9b2c-fcbe41465b7b"
      },
      "execution_count": 3,
      "outputs": [
        {
          "output_type": "stream",
          "name": "stdout",
          "text": [
            "9\n",
            "9\n",
            "2\n",
            "9\n",
            "2\n",
            "3\n",
            "10\n",
            "4\n",
            "0\n",
            "5\n",
            "5\n",
            "9\n",
            "5\n",
            "0\n",
            "3\n",
            "4\n",
            "1\n",
            "3\n",
            "5\n",
            "9\n",
            "3\n",
            "0\n",
            "2\n",
            "0\n",
            "5\n",
            "8\n",
            "8\n",
            "10\n"
          ]
        }
      ]
    },
    {
      "cell_type": "code",
      "source": [
        "import random\n",
        "\n",
        "while (x := random.randint(0, 10)) != 7:\n",
        "    print(x)"
      ],
      "metadata": {
        "colab": {
          "base_uri": "https://localhost:8080/"
        },
        "id": "x58HKjAeR5iA",
        "outputId": "5e63553d-923f-46b3-90a4-fdec4a332436"
      },
      "execution_count": 4,
      "outputs": [
        {
          "output_type": "stream",
          "name": "stdout",
          "text": [
            "6\n",
            "10\n",
            "8\n",
            "10\n",
            "5\n",
            "9\n",
            "1\n",
            "3\n",
            "2\n",
            "10\n",
            "10\n",
            "6\n",
            "3\n",
            "2\n",
            "10\n",
            "9\n",
            "3\n",
            "3\n",
            "9\n",
            "9\n",
            "9\n",
            "5\n",
            "9\n",
            "0\n",
            "9\n",
            "0\n",
            "4\n",
            "2\n",
            "0\n",
            "6\n",
            "2\n",
            "10\n",
            "9\n"
          ]
        }
      ]
    },
    {
      "cell_type": "code",
      "source": [
        "# 왈러스 연산자를 사용하면, random.randint(0, 10)을 한 번만 호출하면서 결과를 x에 할당하고\n",
        "# 그 값을 조건에 바로 사용할 수 있습니다.\n",
        "\n",
        "# 왈러스 연산자는 while문 또는 if 문에서도 사용이 가능합니다.\n",
        "\n",
        "def 시그마(n):\n",
        "    count = 0\n",
        "    result = 0\n",
        "    while (count := count + 1) < n + 1:\n",
        "        result += count\n",
        "    return result\n",
        "if (합 := 시그마(100)) == 5050:\n",
        "    print('5050이 출력되었습니다.')\n",
        "else:\n",
        "    print('1부터 정수형태로 입력이 가능합니다.')\n",
        "print(합 + 1000)"
      ],
      "metadata": {
        "colab": {
          "base_uri": "https://localhost:8080/"
        },
        "id": "z5cFx6GVSTB0",
        "outputId": "1191681a-aed3-453d-fbbb-186aa9c10cfb"
      },
      "execution_count": 6,
      "outputs": [
        {
          "output_type": "stream",
          "name": "stdout",
          "text": [
            "5050이 출력되었습니다.\n",
            "6050\n"
          ]
        }
      ]
    },
    {
      "cell_type": "markdown",
      "source": [
        "# break / continue\n",
        "\n",
        "* 반복문을 즉시 종료"
      ],
      "metadata": {
        "id": "4-HutDPkyenQ"
      }
    },
    {
      "cell_type": "code",
      "source": [
        "for i in range(10):\n",
        "    print(i)\n",
        "    if i == 5:\n",
        "        break"
      ],
      "metadata": {
        "colab": {
          "base_uri": "https://localhost:8080/"
        },
        "id": "GoacHvddyjEh",
        "outputId": "4c8867e0-64fa-48e0-dff8-a6a90a37a19c"
      },
      "execution_count": null,
      "outputs": [
        {
          "output_type": "stream",
          "name": "stdout",
          "text": [
            "0\n",
            "1\n",
            "2\n",
            "3\n",
            "4\n",
            "5\n"
          ]
        }
      ]
    },
    {
      "cell_type": "code",
      "source": [
        "for i in range(10): # 0부터 9까지\n",
        "    if i % 2 == 0: # 짝수인 경우에 하단 코드블럭을 실행\n",
        "        continue   # 짝수인 경우에 실행한 구문이 continue -> 짝수일때 -> 다시 반복문 다음순서로 이동\n",
        "    print(i)       # for문안에 if문 실행된후 차례대로 print(i)"
      ],
      "metadata": {
        "colab": {
          "base_uri": "https://localhost:8080/"
        },
        "id": "T4MEboHXzx42",
        "outputId": "3e91424b-c896-4d16-f65d-27fe372a3afa"
      },
      "execution_count": null,
      "outputs": [
        {
          "output_type": "stream",
          "name": "stdout",
          "text": [
            "1\n",
            "3\n",
            "5\n",
            "7\n",
            "9\n"
          ]
        }
      ]
    },
    {
      "cell_type": "code",
      "source": [
        "for i in range(10):\n",
        "    if i % 2 == 0:\n",
        "        print(i)\n"
      ],
      "metadata": {
        "colab": {
          "base_uri": "https://localhost:8080/"
        },
        "id": "NEwUj_n90HWY",
        "outputId": "d073b8b1-a9c4-4e7c-adc0-6401689c687d"
      },
      "execution_count": null,
      "outputs": [
        {
          "output_type": "stream",
          "name": "stdout",
          "text": [
            "0\n",
            "2\n",
            "4\n",
            "6\n",
            "8\n"
          ]
        }
      ]
    },
    {
      "cell_type": "code",
      "source": [
        "# 아래는 무한반복을 이용한 업다운 게임입니다. 여기서는 random이라는 모듈을 사용했습니다.\n",
        "# random은 난수를 생성해주는 모듈입니다.\n",
        "\n",
        "import random\n",
        "\n",
        "answer = random.randint(1, 1000)\n",
        "while True:\n",
        "    userinput = int(input())\n",
        "    if userinput < answer:\n",
        "        print('Down')\n",
        "    elif userinput < answer:\n",
        "        print('Up')\n",
        "    else:\n",
        "        print('축하합니다! 맞추셨어요!')\n",
        "        break\n"
      ],
      "metadata": {
        "id": "tTpyLnwBwgnf",
        "colab": {
          "base_uri": "https://localhost:8080/"
        },
        "outputId": "8758c15a-bda7-4931-8af2-8bfb3d7c826e"
      },
      "execution_count": null,
      "outputs": [
        {
          "output_type": "stream",
          "name": "stdout",
          "text": [
            "500\n",
            "축하합니다! 맞추셨어요!\n"
          ]
        }
      ]
    },
    {
      "cell_type": "code",
      "source": [
        "# 중첩 while문\n",
        "# 외부 루프: i는 2부터 시작하여 9까지 반복 (2단부터 9단까지)\n",
        "i = 2\n",
        "while i < 10:\n",
        "    # 각 단의 시작을 알리는 구분선을 출력\n",
        "    print(f'-------{i}단 시작---------')\n",
        "\n",
        "    # 내부 루프: j는 1부터 시작하여 9까지 반복 (각 단의 곱셈을 1에서 9까지 수행)\n",
        "    j = 1\n",
        "    while j < 10:\n",
        "        # 현재 단(i)과 곱하는 숫자(j)를 곱셈하여 결과를 출력\n",
        "        print(f'{i} X {j} = {i * j}')\n",
        "\n",
        "        # 내부 루프 카운터 증가: 다음 곱셈을 위해 j를 1 증가\n",
        "        j += 1\n",
        "\n",
        "    # 외부 루프 카운터 증가: 다음 단을 위해 i를 1 증가\n",
        "    i += 1\n"
      ],
      "metadata": {
        "colab": {
          "base_uri": "https://localhost:8080/"
        },
        "id": "Tak1c3cwx99T",
        "outputId": "d881be5b-88a6-4d6c-8bfa-e9773b818390"
      },
      "execution_count": null,
      "outputs": [
        {
          "output_type": "stream",
          "name": "stdout",
          "text": [
            "-------2단 시작---------\n",
            "2 X 1 = 2\n",
            "2 X 2 = 4\n",
            "2 X 3 = 6\n",
            "2 X 4 = 8\n",
            "2 X 5 = 10\n",
            "2 X 6 = 12\n",
            "2 X 7 = 14\n",
            "2 X 8 = 16\n",
            "2 X 9 = 18\n",
            "-------3단 시작---------\n",
            "3 X 1 = 3\n",
            "3 X 2 = 6\n",
            "3 X 3 = 9\n",
            "3 X 4 = 12\n",
            "3 X 5 = 15\n",
            "3 X 6 = 18\n",
            "3 X 7 = 21\n",
            "3 X 8 = 24\n",
            "3 X 9 = 27\n",
            "-------4단 시작---------\n",
            "4 X 1 = 4\n",
            "4 X 2 = 8\n",
            "4 X 3 = 12\n",
            "4 X 4 = 16\n",
            "4 X 5 = 20\n",
            "4 X 6 = 24\n",
            "4 X 7 = 28\n",
            "4 X 8 = 32\n",
            "4 X 9 = 36\n",
            "-------5단 시작---------\n",
            "5 X 1 = 5\n",
            "5 X 2 = 10\n",
            "5 X 3 = 15\n",
            "5 X 4 = 20\n",
            "5 X 5 = 25\n",
            "5 X 6 = 30\n",
            "5 X 7 = 35\n",
            "5 X 8 = 40\n",
            "5 X 9 = 45\n",
            "-------6단 시작---------\n",
            "6 X 1 = 6\n",
            "6 X 2 = 12\n",
            "6 X 3 = 18\n",
            "6 X 4 = 24\n",
            "6 X 5 = 30\n",
            "6 X 6 = 36\n",
            "6 X 7 = 42\n",
            "6 X 8 = 48\n",
            "6 X 9 = 54\n",
            "-------7단 시작---------\n",
            "7 X 1 = 7\n",
            "7 X 2 = 14\n",
            "7 X 3 = 21\n",
            "7 X 4 = 28\n",
            "7 X 5 = 35\n",
            "7 X 6 = 42\n",
            "7 X 7 = 49\n",
            "7 X 8 = 56\n",
            "7 X 9 = 63\n",
            "-------8단 시작---------\n",
            "8 X 1 = 8\n",
            "8 X 2 = 16\n",
            "8 X 3 = 24\n",
            "8 X 4 = 32\n",
            "8 X 5 = 40\n",
            "8 X 6 = 48\n",
            "8 X 7 = 56\n",
            "8 X 8 = 64\n",
            "8 X 9 = 72\n",
            "-------9단 시작---------\n",
            "9 X 1 = 9\n",
            "9 X 2 = 18\n",
            "9 X 3 = 27\n",
            "9 X 4 = 36\n",
            "9 X 5 = 45\n",
            "9 X 6 = 54\n",
            "9 X 7 = 63\n",
            "9 X 8 = 72\n",
            "9 X 9 = 81\n"
          ]
        }
      ]
    },
    {
      "cell_type": "code",
      "source": [
        "switch = 0\n",
        "for i in range(5):\n",
        "    if switch == 1:\n",
        "        break\n",
        "    for j in range(5):\n",
        "        if j == 3:\n",
        "            switch = 1\n",
        "            break\n",
        "        print(f'{i}, {j}')"
      ],
      "metadata": {
        "colab": {
          "base_uri": "https://localhost:8080/"
        },
        "id": "eZSXO4RMAN9e",
        "outputId": "e68648dc-dafd-41b1-c3dc-a22dd98e71a1"
      },
      "execution_count": null,
      "outputs": [
        {
          "output_type": "stream",
          "name": "stdout",
          "text": [
            "0, 0\n",
            "0, 1\n",
            "0, 2\n"
          ]
        }
      ]
    },
    {
      "cell_type": "code",
      "source": [
        "# https://peps.python.org/pep-3136/\n",
        "\n",
        "try:\n",
        "    for i in range(2, 10):\n",
        "        for j in range(1, 10):\n",
        "            if j == 3:\n",
        "                raise StopIteration\n",
        "            print(f'{i} X {j} = {i*j}')\n",
        "except StopIteration:\n",
        "    print(\"Done\")"
      ],
      "metadata": {
        "colab": {
          "base_uri": "https://localhost:8080/"
        },
        "id": "R858P9l_9I0N",
        "outputId": "6e0702f4-44ca-4ef8-a35c-bf6e81ed4c1d"
      },
      "execution_count": null,
      "outputs": [
        {
          "output_type": "stream",
          "name": "stdout",
          "text": [
            "2 X 1 = 2\n",
            "2 X 2 = 4\n",
            "Done\n"
          ]
        }
      ]
    },
    {
      "cell_type": "markdown",
      "source": [
        "# else\n",
        "\n",
        "if문 뿐만 아니라 while, for 문에서도 else문을 사용할 수 있습니다. 여기서의 else는 if에서의 else처럼 '그렇지 않으면'이라는 의미 보다는 '**그런 다음**'이라는 의미가 더 강하기 때문에 than으로 쓰여야 된다는 논의가 있기도 했습니다.\n",
        "\n",
        "반복문이 break 등에 의해 중단없이 정상적으로 반복이 종료된 후 특정 코드를 실행하게 해야할 때 while~else, for~else를 사용할 수 있습니다."
      ],
      "metadata": {
        "id": "OgVGoS22AR3f"
      }
    },
    {
      "cell_type": "markdown",
      "source": [
        "# for, else\n",
        "\n",
        "for문에서의 else는 루프가 정상 종료되었을 때나 처음부터 자료형이 비어있었을 때 실행됩니다. 중간에 break문을 만나면 else 문은 실행하지 않습니다."
      ],
      "metadata": {
        "id": "jWaE2SkLCPi1"
      }
    },
    {
      "cell_type": "code",
      "source": [
        "for 변수 in 범위:\n",
        "    pass # 반복 실행할 코드\n",
        "else:\n",
        "    pass # 반복문이 모두 실행되어 종료되고 실행할 코드"
      ],
      "metadata": {
        "colab": {
          "base_uri": "https://localhost:8080/",
          "height": 239
        },
        "id": "AhUPFiAVCTT2",
        "outputId": "8a97f623-3eaf-4bcc-d8a1-04a6162e1f0c"
      },
      "execution_count": null,
      "outputs": [
        {
          "output_type": "error",
          "ename": "NameError",
          "evalue": "name '범위' is not defined",
          "traceback": [
            "\u001b[0;31m---------------------------------------------------------------------------\u001b[0m",
            "\u001b[0;31mNameError\u001b[0m                                 Traceback (most recent call last)",
            "\u001b[0;32m<ipython-input-11-d14bf354a774>\u001b[0m in \u001b[0;36m<cell line: 1>\u001b[0;34m()\u001b[0m\n\u001b[0;32m----> 1\u001b[0;31m \u001b[0;32mfor\u001b[0m \u001b[0m변수\u001b[0m \u001b[0;32min\u001b[0m \u001b[0m범위\u001b[0m\u001b[0;34m:\u001b[0m\u001b[0;34m\u001b[0m\u001b[0;34m\u001b[0m\u001b[0m\n\u001b[0m\u001b[1;32m      2\u001b[0m     \u001b[0;32mpass\u001b[0m \u001b[0;31m# 반복 실행할 코드\u001b[0m\u001b[0;34m\u001b[0m\u001b[0;34m\u001b[0m\u001b[0m\n\u001b[1;32m      3\u001b[0m \u001b[0;32melse\u001b[0m\u001b[0;34m:\u001b[0m\u001b[0;34m\u001b[0m\u001b[0;34m\u001b[0m\u001b[0m\n\u001b[1;32m      4\u001b[0m     \u001b[0;32mpass\u001b[0m \u001b[0;31m# 반복문이 모두 실행되어 종료되고 실행할 코드\u001b[0m\u001b[0;34m\u001b[0m\u001b[0;34m\u001b[0m\u001b[0m\n",
            "\u001b[0;31mNameError\u001b[0m: name '범위' is not defined"
          ]
        }
      ]
    },
    {
      "cell_type": "code",
      "source": [
        "'''\n",
        "바다에 100마리의 물고기가 있고 배에 실을 수 있는 물고기의 수는 5마리라고 가정하도록 하겠습니다.\n",
        "\n",
        "물고기 5마리를 잡으면 물고기를 더 이상 싣지 못하니 ‘만선입니다. 물고기를 다 잡았습니다.’\n",
        " 라는 메시지를 띄워줍니다. 이후 break 문을 만나 코드 실행이 종료됩니다.\n",
        "'''\n",
        "\n",
        "for i in range(100):\n",
        "    print(f'{i} 물고기를 잡았습니다.')\n",
        "    if i == 5:\n",
        "        print('만선입니다. 물고기를 다 잡았습니다.')\n",
        "        break\n",
        "else:\n",
        "    print('아직 여유가 좀 있지만, 물고기가 더 없는 것 같으니 이정도로 만족하고 돌아갑시다.')\n",
        "print('수고하셨습니다.')"
      ],
      "metadata": {
        "colab": {
          "base_uri": "https://localhost:8080/"
        },
        "id": "duobBH0ICWc9",
        "outputId": "dcdc6cd3-7a52-4d51-f6a2-c2eb17b00555"
      },
      "execution_count": null,
      "outputs": [
        {
          "output_type": "stream",
          "name": "stdout",
          "text": [
            "0 물고기를 잡았습니다.\n",
            "1 물고기를 잡았습니다.\n",
            "2 물고기를 잡았습니다.\n",
            "3 물고기를 잡았습니다.\n",
            "4 물고기를 잡았습니다.\n",
            "5 물고기를 잡았습니다.\n",
            "만선입니다. 물고기를 다 잡았습니다.\n",
            "수고하셨습니다.\n"
          ]
        }
      ]
    },
    {
      "cell_type": "code",
      "source": [
        "'''\n",
        "이번에는 바다에 `range(5)` 마리의 물고기가 있고 배에 실을 수 있는 물고기의 수는 5마리 입니다.\n",
        "이때, 바다에는 4마리의 물고기 밖에 없기 때문에 조건에 가기 전에 루프가 종료 됩니다.\n",
        "\n",
        "그렇기 때문에, 조건문 안에 있는 break문이 실행되지 않고 반복문이 종료됩니다.\n",
        "for문이 종료된 후 else문이 실행됩니다.\n",
        "'''\n",
        "\n",
        "for i in range(5):\n",
        "    print(f'{i} 물고기를 잡았습니다.')\n",
        "    if i == 5:\n",
        "        print('만선입니다. 물고기를 다 잡았습니다.')\n",
        "        break\n",
        "else:\n",
        "    print('아직 여유가 좀 있지만, 물고기가 더 없는 것 같으니 이정도로 만족하고 돌아갑시다.')\n",
        "print('수고하셨습니다.')\n",
        "\n",
        "# 위 코드에서 1번 예제처럼 break문 없이 정상 종료되었을 때에는 else문이 실행됩니다.\n",
        "# 그러나 2번 예제처럼 break문이 있을 경우에는 else문을 실행하지 않게 됩니다."
      ],
      "metadata": {
        "colab": {
          "base_uri": "https://localhost:8080/"
        },
        "id": "NUDXvhZbCb7F",
        "outputId": "6cc7e24c-cd92-42f7-9aa6-9cab975d30df"
      },
      "execution_count": null,
      "outputs": [
        {
          "output_type": "stream",
          "name": "stdout",
          "text": [
            "0 물고기를 잡았습니다.\n",
            "1 물고기를 잡았습니다.\n",
            "2 물고기를 잡았습니다.\n",
            "3 물고기를 잡았습니다.\n",
            "4 물고기를 잡았습니다.\n",
            "아직 여유가 좀 있지만, 물고기가 더 없는 것 같으니 이정도로 만족하고 돌아갑시다.\n",
            "수고하셨습니다.\n"
          ]
        }
      ]
    },
    {
      "cell_type": "markdown",
      "source": [
        "# while, else\n",
        "\n",
        "for와 마찬가지로 while문에서도 else는 정상 종료되었을 때 실행됩니다. 단, 처음부터 while의 조건문이 False일 경우에도 실행한다는 점을 기억해주세요."
      ],
      "metadata": {
        "id": "3Kv05GmuCqI4"
      }
    },
    {
      "cell_type": "code",
      "source": [
        "while 조건:\n",
        "    pass # 반복 실행할 코드\n",
        "else:\n",
        "    pass # while 반복문이 모두 실행되어 종료되고 실행할 코드\n",
        "\n",
        "# 아래의 예시에서는 반복문이 정상 종료됩니다. 따라서 else문이 실행됩니다."
      ],
      "metadata": {
        "colab": {
          "base_uri": "https://localhost:8080/",
          "height": 258
        },
        "id": "5TtfPG4SCwUb",
        "outputId": "ef536e0e-dbfb-4263-a19c-18c57ee27dfa"
      },
      "execution_count": null,
      "outputs": [
        {
          "output_type": "error",
          "ename": "NameError",
          "evalue": "name '조건' is not defined",
          "traceback": [
            "\u001b[0;31m---------------------------------------------------------------------------\u001b[0m",
            "\u001b[0;31mNameError\u001b[0m                                 Traceback (most recent call last)",
            "\u001b[0;32m<ipython-input-15-b73b4f7d82c9>\u001b[0m in \u001b[0;36m<cell line: 1>\u001b[0;34m()\u001b[0m\n\u001b[0;32m----> 1\u001b[0;31m \u001b[0;32mwhile\u001b[0m \u001b[0m조건\u001b[0m\u001b[0;34m:\u001b[0m\u001b[0;34m\u001b[0m\u001b[0;34m\u001b[0m\u001b[0m\n\u001b[0m\u001b[1;32m      2\u001b[0m     \u001b[0;32mpass\u001b[0m \u001b[0;31m# 반복 실행할 코드\u001b[0m\u001b[0;34m\u001b[0m\u001b[0;34m\u001b[0m\u001b[0m\n\u001b[1;32m      3\u001b[0m \u001b[0;32melse\u001b[0m\u001b[0;34m:\u001b[0m\u001b[0;34m\u001b[0m\u001b[0;34m\u001b[0m\u001b[0m\n\u001b[1;32m      4\u001b[0m     \u001b[0;32mpass\u001b[0m \u001b[0;31m# while 반복문이 모두 실행되어 종료되고 실행할 코드\u001b[0m\u001b[0;34m\u001b[0m\u001b[0;34m\u001b[0m\u001b[0m\n\u001b[1;32m      5\u001b[0m \u001b[0;34m\u001b[0m\u001b[0m\n",
            "\u001b[0;31mNameError\u001b[0m: name '조건' is not defined"
          ]
        }
      ]
    },
    {
      "cell_type": "code",
      "source": [
        "n = 0\n",
        "while n < 5:\n",
        "    print(f'현재 숫자는 {n}입니다.')\n",
        "    n += 2\n",
        "else:\n",
        "    print('반복문을 종료합니다.')\n",
        "\n",
        "# 반복문을 종료합니다.\n",
        "# 아래와 같은 경우 break문으로 종료가 되기 때문에 else문을 실행시키지 않습니다."
      ],
      "metadata": {
        "colab": {
          "base_uri": "https://localhost:8080/"
        },
        "id": "HEXW4sWQC6Sb",
        "outputId": "d47199a9-f281-4ab2-e0de-e86364d9002c"
      },
      "execution_count": null,
      "outputs": [
        {
          "output_type": "stream",
          "name": "stdout",
          "text": [
            "현재 숫자는 0입니다.\n",
            "현재 숫자는 2입니다.\n",
            "현재 숫자는 4입니다.\n",
            "반복문을 종료합니다.\n"
          ]
        }
      ]
    },
    {
      "cell_type": "code",
      "source": [
        "n = 0\n",
        "while n < 5:\n",
        "    print(f'현재 숫자는 {n}입니다.')\n",
        "    n += 1\n",
        "    if n > 3:\n",
        "        break\n",
        "else:\n",
        "    print('반복문을 종료합니다.')"
      ],
      "metadata": {
        "colab": {
          "base_uri": "https://localhost:8080/"
        },
        "id": "TRUT5o_fDBpE",
        "outputId": "d5e522c8-1729-46b7-8378-d93b41aeb498"
      },
      "execution_count": null,
      "outputs": [
        {
          "output_type": "stream",
          "name": "stdout",
          "text": [
            "현재 숫자는 0입니다.\n",
            "현재 숫자는 1입니다.\n",
            "현재 숫자는 2입니다.\n",
            "현재 숫자는 3입니다.\n"
          ]
        }
      ]
    },
    {
      "cell_type": "code",
      "source": [],
      "metadata": {
        "id": "igfxATHHDQjH"
      },
      "execution_count": null,
      "outputs": []
    }
  ]
}