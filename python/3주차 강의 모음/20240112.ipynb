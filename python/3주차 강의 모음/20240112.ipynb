{
  "nbformat": 4,
  "nbformat_minor": 0,
  "metadata": {
    "colab": {
      "provenance": []
    },
    "kernelspec": {
      "name": "python3",
      "display_name": "Python 3"
    },
    "language_info": {
      "name": "python"
    }
  },
  "cells": [
    {
      "cell_type": "code",
      "execution_count": null,
      "metadata": {
        "colab": {
          "base_uri": "https://localhost:8080/"
        },
        "id": "jYvf7RFpbsPJ",
        "outputId": "f16c5e79-c0ba-457e-e34a-f5edd017eeff"
      },
      "outputs": [
        {
          "output_type": "execute_result",
          "data": {
            "text/plain": [
              "30"
            ]
          },
          "metadata": {},
          "execution_count": 2
        }
      ],
      "source": [
        "l = [lambda x, y: x + y, lambda x, y: x - y, lambda x, y: x / y, lambda x, y: x * y]\n",
        "l[0](10, 20)"
      ]
    },
    {
      "cell_type": "code",
      "source": [
        "list(map(int, ['1', '11', 100, '77']))"
      ],
      "metadata": {
        "colab": {
          "base_uri": "https://localhost:8080/"
        },
        "id": "lq_dGivubvsg",
        "outputId": "5d1f62b1-7638-4601-c2c5-3aa3e612ba00"
      },
      "execution_count": null,
      "outputs": [
        {
          "output_type": "execute_result",
          "data": {
            "text/plain": [
              "[1, 11, 100, 77]"
            ]
          },
          "metadata": {},
          "execution_count": 4
        }
      ]
    },
    {
      "cell_type": "code",
      "source": [
        "list(map(str.isdigit, 'hello w2orl3d'))"
      ],
      "metadata": {
        "colab": {
          "base_uri": "https://localhost:8080/"
        },
        "id": "OBhuh3bYeS_w",
        "outputId": "526944c4-96d6-4b6b-fbd4-57a1d3d1b5b2"
      },
      "execution_count": null,
      "outputs": [
        {
          "output_type": "execute_result",
          "data": {
            "text/plain": [
              "[False,\n",
              " False,\n",
              " False,\n",
              " False,\n",
              " False,\n",
              " False,\n",
              " False,\n",
              " True,\n",
              " False,\n",
              " False,\n",
              " False,\n",
              " True,\n",
              " False]"
            ]
          },
          "metadata": {},
          "execution_count": 6
        }
      ]
    },
    {
      "cell_type": "code",
      "source": [
        "list(filter(str.isdigit, 'he1llo w2orl3d'))"
      ],
      "metadata": {
        "colab": {
          "base_uri": "https://localhost:8080/"
        },
        "id": "dIdmmLhAejtv",
        "outputId": "185f4616-8db9-4708-ffea-b278ef5de9c5"
      },
      "execution_count": null,
      "outputs": [
        {
          "output_type": "execute_result",
          "data": {
            "text/plain": [
              "['1', '2', '3']"
            ]
          },
          "metadata": {},
          "execution_count": 7
        }
      ]
    },
    {
      "cell_type": "code",
      "source": [
        "# 복습X (중요도는 좀 있어서, 복습 시간에 가능하면 한 번 복습해보시길 권해드립니다.)\n",
        "# 난이도가 있는 것을 해보겠습니다.\n",
        "요일 = {\n",
        "    0: '일요일',\n",
        "    1: '월요일',\n",
        "    2: '화요일',\n",
        "    3: '수요일',\n",
        "    4: '목요일',\n",
        "    5: '금요일',\n",
        "    6: '토요일',\n",
        "}\n",
        "# 안전하게 하려면 get함수 쓰기\n",
        "def 함수(x):\n",
        "    return 요일.get(x, '요일 없음')\n",
        "\n",
        "list(map(함수, [1, 5, 6, 3, 4]))\n",
        "\n",
        "\n"
      ],
      "metadata": {
        "colab": {
          "base_uri": "https://localhost:8080/"
        },
        "id": "LqXQszlpe19c",
        "outputId": "0fd6db6a-ac42-444a-ce8d-65e1cdf214df"
      },
      "execution_count": null,
      "outputs": [
        {
          "output_type": "execute_result",
          "data": {
            "text/plain": [
              "['월요일', '금요일', '토요일', '수요일', '목요일']"
            ]
          },
          "metadata": {},
          "execution_count": 8
        }
      ]
    },
    {
      "cell_type": "markdown",
      "source": [
        "# 클래스 2번째 시간"
      ],
      "metadata": {
        "id": "IXYPaij8gTUl"
      }
    },
    {
      "cell_type": "markdown",
      "source": [
        "* class 클래스이름 => 인스턴스\n",
        "* class Post => 게시물1, 게시물2, 게시물3...\n",
        "* class Dot => 점1, 점2, 점3...\n",
        "* class Character => Licat(주인공), Lion(빌런), Mob1(몬스터)\n",
        "* class Matrix => 행렬1, 행렬2, 행렬3...\n",
        "* class User => 유저1, 유저2, 유저3...\n",
        "* class Cart(장바구니) => Cart1, Cart2, Cart3...\n",
        "* class Commnet(댓글) => 댓글1, 댓글2, 댓글3...\n",
        "* class Product => 상품1, 상품2, 상품3...\n",
        "* class Class_ => 강의1, 강의2, 강의3...\n",
        "* class Teacher => 강사1, 강사2, 강사3..."
      ],
      "metadata": {
        "id": "IGPbraSQgfah"
      }
    },
    {
      "cell_type": "markdown",
      "source": [
        "# Character"
      ],
      "metadata": {
        "id": "8E_gIcFqwqkj"
      }
    },
    {
      "cell_type": "code",
      "source": [
        "class Character:\n",
        "\n",
        "    character_count = 0\n",
        "\n",
        "    def __init__(self, name, skill, hp, mp, power, x):\n",
        "        self.name = name\n",
        "        self.skill = skill\n",
        "        self.hp = hp\n",
        "        self.mp = mp\n",
        "        self.power = power\n",
        "        self.x = x\n",
        "        Character.character_count_increase()\n",
        "\n",
        "    @classmethod # 클래스의 메서드를 수정할떄\n",
        "    def character_count_increase(cls):\n",
        "        '''\n",
        "        캐릭터가 100개 이상 생성되면 경고 메시지 출력\n",
        "        cls는 class입니다. self는 instance입니다.\n",
        "        2개가 다릅니다.\n",
        "        '''\n",
        "        cls.character_count += 1\n",
        "\n",
        "    def move(self):\n",
        "        self.x += 100\n",
        "\n",
        "    def attact(self, next):\n",
        "        next.hp -= self.power\n",
        "\n",
        "\n",
        "주인공1 = Character('licat', '질풍검', 100, 100, 10, 10)\n",
        "# Character.character_count_increase() # 예를 들어 한 화면에 몹이 100개 이상 나오지 못한다.\n",
        "\n",
        "몹1 = Character('licat', '질풍검', 100, 100, 10, 10)\n",
        "# Character.character_count_increase()\n",
        "\n",
        "주인공1.attact(몹1)\n",
        "몹1.hp\n",
        "\n",
        "몹1.character_count"
      ],
      "metadata": {
        "colab": {
          "base_uri": "https://localhost:8080/"
        },
        "id": "fMqRXCaXghhg",
        "outputId": "26f91c81-b495-48c4-9dbc-50b38ac79d55"
      },
      "execution_count": null,
      "outputs": [
        {
          "output_type": "execute_result",
          "data": {
            "text/plain": [
              "2"
            ]
          },
          "metadata": {},
          "execution_count": 18
        }
      ]
    },
    {
      "cell_type": "code",
      "source": [
        "class Character:\n",
        "    def __init__(self, name, skill, hp, mp, power, defence):\n",
        "        self.name = name\n",
        "        self.skill = skill\n",
        "        self.hp = hp\n",
        "        self.mp = mp\n",
        "        self.power = power\n",
        "        self.defence = defence\n",
        "\n",
        "    def attack(self, next):\n",
        "        next.hp -= self.power\n",
        "\n",
        "class Item:\n",
        "    엑스칼리버 = {'name': '엑스칼리버', 'power': 1000}\n",
        "    가죽갑옷 = {'name': '가죽갑옷', 'defence': 10}\n",
        "    철갑옷 = {'name': '철갑옷', 'defence': 100}\n",
        "    HP물약 = {'name': 'HP물약', 'hp': 10}\n",
        "    MP물약 = {'name': 'MP물약', 'mp': 10}\n",
        "\n",
        "    def repair(self):\n",
        "        print('수리합니다!')\n",
        "\n",
        "class Hero(Character, Item):\n",
        "    def __init__(self, name, skill, hp, mp, power, defence, level=1):\n",
        "        # self.name = name # 이렇게 일일이 하지 않고, 아래와 같이 하면 됩니다.\n",
        "        super().__init__(name, skill, hp, mp, power, defence)\n",
        "        self.level = level\n",
        "        self.item = []\n",
        "\n",
        "    def add_item(self, item):\n",
        "        self.item.append(item)\n",
        "        self.power += item.get('power', 0)\n",
        "        self.defence += item.get('defence', 0)\n",
        "        self.hp += item.get('hp', 0)\n",
        "        self.mp += item.get('mp', 0)\n",
        "\n",
        "    def show_item(self):\n",
        "        print(self.item)\n",
        "\n",
        "class Mob(Character):\n",
        "    pass\n",
        "\n",
        "\n",
        "# 주인공은 아이템이 있는데!?, 몹은 아이템이 없어요.\n",
        "# 주인공은 Lv이 있는데!?, 몹은 Lv이 없어요.\n",
        "# 몹은 Drop하는 아이템이 있는데!?, 주인공은 없어요.\n",
        "주인공1 = Hero('licat', '질풍검', 100, 100, 10, 0, 1)\n",
        "몹1 = Mob('licat', '질풍검', 100, 100, 10, 0)\n",
        "\n",
        "주인공1.attack(몹1)\n",
        "몹1.hp\n",
        "\n",
        "주인공1.add_item(Item.엑스칼리버)\n",
        "주인공1.repair()\n",
        "주인공1.show_item()"
      ],
      "metadata": {
        "colab": {
          "base_uri": "https://localhost:8080/"
        },
        "id": "gLZeXM-Ew6_E",
        "outputId": "5ad8a63a-e958-4af7-831d-c739db94be45"
      },
      "execution_count": null,
      "outputs": [
        {
          "output_type": "stream",
          "name": "stdout",
          "text": [
            "수리합니다!\n",
            "[{'name': '엑스칼리버', 'power': 1000}]\n"
          ]
        }
      ]
    },
    {
      "cell_type": "code",
      "source": [
        "class Matrix:\n",
        "    def __init__(self, value):\n",
        "        self.value = value\n",
        "\n",
        "    def __add__(self, next):\n",
        "        result = []\n",
        "        for i, _ in enumerate(self.value):\n",
        "            result.append(self.value[i] + next.value[i])\n",
        "        return result\n",
        "\n",
        "    def __mul__(self, next):\n",
        "        for i, _ in enumerate(self.value):\n",
        "            self.value[i] *= next\n",
        "        return self.value\n",
        "\n",
        "    def __str__(self):\n",
        "        return str(self.value)\n",
        "\n",
        "    def __repr__(self):\n",
        "        return str(self.value)\n",
        "\n",
        "\n",
        "a = Matrix([1, 2, 3])\n",
        "b = Matrix([1, 2, 3])\n",
        "\n",
        "a * 3\n",
        "print(a)\n",
        "\n",
        "# 파이썬에서 사용하지 않는 변수는 _로 할당합니다."
      ],
      "metadata": {
        "colab": {
          "base_uri": "https://localhost:8080/"
        },
        "id": "kPeNzkK4gkLm",
        "outputId": "abe14aac-d08f-4679-b405-26e7533954b5"
      },
      "execution_count": null,
      "outputs": [
        {
          "output_type": "stream",
          "name": "stdout",
          "text": [
            "[3, 6, 9]\n"
          ]
        }
      ]
    },
    {
      "cell_type": "code",
      "source": [
        "for i in a:\n"
      ],
      "metadata": {
        "id": "6E3S5uHBpd55"
      },
      "execution_count": null,
      "outputs": []
    },
    {
      "cell_type": "code",
      "source": [
        "# [[1, 2, 3],\n",
        "# [1, 2, 3],\n",
        "# [1, 2, 3]]\n",
        "\n",
        "# [1, 2, 3] + [1, 2, 3] = [2, 4 ,6]\n",
        "# [1, 2, 3] + [1, 2, 3] == #우리가 원하는 행렬\n"
      ],
      "metadata": {
        "id": "TmWzOBFoiY6a"
      },
      "execution_count": null,
      "outputs": []
    },
    {
      "cell_type": "markdown",
      "source": [
        "# 이터레이터"
      ],
      "metadata": {
        "id": "wcXs272ap-nX"
      }
    },
    {
      "cell_type": "code",
      "source": [
        "# 한번더\n",
        "# 2번 실행할 수 있는 이터레이터\n",
        "class MyIterator:\n",
        "    def __init__(self, stop):\n",
        "        self.currentValue = 0\n",
        "        self.stop = stop\n",
        "\n",
        "    def __iter__(self):\n",
        "        self.currentValue = 0\n",
        "        return self\n",
        "\n",
        "    def __next__(self):\n",
        "        if self.currentValue >= self.stop:\n",
        "            raise StopIteration # 에러가 나야만 for문이 멈춘다.\n",
        "        result = self.currentValue\n",
        "        self.currentValue += 1\n",
        "        return result\n",
        "\n",
        "my_iterator = MyIterator(5)\n",
        "\n",
        "for i in my_iterator:\n",
        "    print(i)\n",
        "\n",
        "for i in my_iterator:\n",
        "    print(i)"
      ],
      "metadata": {
        "colab": {
          "base_uri": "https://localhost:8080/"
        },
        "id": "qp82B2foqBe6",
        "outputId": "2009c4d1-98bd-4e2a-bed6-6cda63d855d7"
      },
      "execution_count": null,
      "outputs": [
        {
          "output_type": "stream",
          "name": "stdout",
          "text": [
            "0\n",
            "1\n",
            "2\n",
            "3\n",
            "4\n",
            "0\n",
            "1\n",
            "2\n",
            "3\n",
            "4\n"
          ]
        }
      ]
    },
    {
      "cell_type": "code",
      "source": [
        "a = map(lambda x: x **2,[1,2 ,3,4])\n",
        "\n",
        "for i in a:\n",
        "    print(i)\n",
        "\n",
        "for i in a:\n",
        "    print(i)"
      ],
      "metadata": {
        "colab": {
          "base_uri": "https://localhost:8080/"
        },
        "id": "RHNJ9TxtqDUD",
        "outputId": "21b975e5-4619-4eef-fb49-eeb16929f8c7"
      },
      "execution_count": null,
      "outputs": [
        {
          "output_type": "stream",
          "name": "stdout",
          "text": [
            "1\n",
            "4\n",
            "9\n",
            "16\n"
          ]
        }
      ]
    },
    {
      "cell_type": "code",
      "source": [
        "a, b, c = range(3)"
      ],
      "metadata": {
        "id": "FWXsEOoBseAi"
      },
      "execution_count": null,
      "outputs": []
    },
    {
      "cell_type": "markdown",
      "source": [
        "# 매트릭스"
      ],
      "metadata": {
        "id": "0_plg_r4wlcD"
      }
    },
    {
      "cell_type": "code",
      "source": [
        "class Matrix:\n",
        "    def __init__(self, value):\n",
        "        self.value = value\n",
        "\n",
        "    def __add__(self, next):\n",
        "        result = []\n",
        "        for i, _ in enumerate(self.value):\n",
        "            result.append(self.value[i] + next.value[i])\n",
        "        return result\n",
        "\n",
        "    def __mul__(self, next):\n",
        "        for i, _ in enumerate(self.value):\n",
        "            self.value[i] *= next\n",
        "        return self.value\n",
        "\n",
        "    def __str__(self):\n",
        "        return str(self.value)\n",
        "\n",
        "    def __repr__(self):\n",
        "        return str(self.value)\n",
        "\n",
        "    def __iter__(self):\n",
        "        return self\n",
        "\n",
        "    def __next__(self):\n",
        "        if self.indx >= len(self.value):\n",
        "            raise StopIteration\n",
        "        result = self.index\n",
        "        self.index += 1\n",
        "        for i._ in enumerate(self.value):\n",
        "            result = self\n",
        "\n",
        "\n",
        "a = Matrix([1, 2, 3])\n",
        "b = Matrix([1, 2, 3])\n",
        "\n",
        "a * 3\n",
        "print(a)\n",
        "\n",
        "for i in a:\n",
        "    print(i)\n",
        "\n",
        "# 파이썬에서 사용하지 않는 변수는 _로 할당합니다."
      ],
      "metadata": {
        "colab": {
          "base_uri": "https://localhost:8080/",
          "height": 404
        },
        "id": "mh4FvMGFtr43",
        "outputId": "f9b84c96-fb88-46fd-ff5f-967b5287edaf"
      },
      "execution_count": null,
      "outputs": [
        {
          "output_type": "stream",
          "name": "stdout",
          "text": [
            "[3, 6, 9]\n"
          ]
        },
        {
          "output_type": "error",
          "ename": "AttributeError",
          "evalue": "'Matrix' object has no attribute 'indx'",
          "traceback": [
            "\u001b[0;31m---------------------------------------------------------------------------\u001b[0m",
            "\u001b[0;31mAttributeError\u001b[0m                            Traceback (most recent call last)",
            "\u001b[0;32m<ipython-input-31-33c7fb9f0b97>\u001b[0m in \u001b[0;36m<cell line: 40>\u001b[0;34m()\u001b[0m\n\u001b[1;32m     38\u001b[0m \u001b[0mprint\u001b[0m\u001b[0;34m(\u001b[0m\u001b[0ma\u001b[0m\u001b[0;34m)\u001b[0m\u001b[0;34m\u001b[0m\u001b[0;34m\u001b[0m\u001b[0m\n\u001b[1;32m     39\u001b[0m \u001b[0;34m\u001b[0m\u001b[0m\n\u001b[0;32m---> 40\u001b[0;31m \u001b[0;32mfor\u001b[0m \u001b[0mi\u001b[0m \u001b[0;32min\u001b[0m \u001b[0ma\u001b[0m\u001b[0;34m:\u001b[0m\u001b[0;34m\u001b[0m\u001b[0;34m\u001b[0m\u001b[0m\n\u001b[0m\u001b[1;32m     41\u001b[0m     \u001b[0mprint\u001b[0m\u001b[0;34m(\u001b[0m\u001b[0mi\u001b[0m\u001b[0;34m)\u001b[0m\u001b[0;34m\u001b[0m\u001b[0;34m\u001b[0m\u001b[0m\n\u001b[1;32m     42\u001b[0m \u001b[0;34m\u001b[0m\u001b[0m\n",
            "\u001b[0;32m<ipython-input-31-33c7fb9f0b97>\u001b[0m in \u001b[0;36m__next__\u001b[0;34m(self)\u001b[0m\n\u001b[1;32m     24\u001b[0m \u001b[0;34m\u001b[0m\u001b[0m\n\u001b[1;32m     25\u001b[0m     \u001b[0;32mdef\u001b[0m \u001b[0m__next__\u001b[0m\u001b[0;34m(\u001b[0m\u001b[0mself\u001b[0m\u001b[0;34m)\u001b[0m\u001b[0;34m:\u001b[0m\u001b[0;34m\u001b[0m\u001b[0;34m\u001b[0m\u001b[0m\n\u001b[0;32m---> 26\u001b[0;31m         \u001b[0;32mif\u001b[0m \u001b[0mself\u001b[0m\u001b[0;34m.\u001b[0m\u001b[0mindx\u001b[0m \u001b[0;34m>=\u001b[0m \u001b[0mlen\u001b[0m\u001b[0;34m(\u001b[0m\u001b[0mself\u001b[0m\u001b[0;34m.\u001b[0m\u001b[0mvalue\u001b[0m\u001b[0;34m)\u001b[0m\u001b[0;34m:\u001b[0m\u001b[0;34m\u001b[0m\u001b[0;34m\u001b[0m\u001b[0m\n\u001b[0m\u001b[1;32m     27\u001b[0m             \u001b[0;32mraise\u001b[0m \u001b[0mStopIteration\u001b[0m\u001b[0;34m\u001b[0m\u001b[0;34m\u001b[0m\u001b[0m\n\u001b[1;32m     28\u001b[0m         \u001b[0mresult\u001b[0m \u001b[0;34m=\u001b[0m \u001b[0mself\u001b[0m\u001b[0;34m.\u001b[0m\u001b[0mindex\u001b[0m\u001b[0;34m\u001b[0m\u001b[0;34m\u001b[0m\u001b[0m\n",
            "\u001b[0;31mAttributeError\u001b[0m: 'Matrix' object has no attribute 'indx'"
          ]
        }
      ]
    },
    {
      "cell_type": "code",
      "source": [
        "# 이러한 이터러블한 객체를 지금 당장 마들 수 있기를 기대하지 않습니다.\n",
        "# 알고리즘 수업 시간에 할겁니다.\n",
        "#\n",
        "\n",
        "\n",
        "class Matrix:\n",
        "    def __init__(self, value):\n",
        "        self.index = 0\n",
        "        self.value = value\n",
        "\n",
        "    def __add__(self, next):\n",
        "        result = []\n",
        "        for i, _ in enumerate(self.value):\n",
        "            result.append(self.value[i] + next.value[i])\n",
        "        return result\n",
        "\n",
        "    def __mul__(self, next):\n",
        "        for i, _ in enumerate(self.value):\n",
        "            self.value[i] *= next\n",
        "        return self.value\n",
        "\n",
        "    def __str__(self):\n",
        "        return str(self.value)\n",
        "\n",
        "    def __repr__(self):\n",
        "        return str(self.value)\n",
        "\n",
        "    def __iter__(self):\n",
        "        return self\n",
        "\n",
        "    def __next__(self):\n",
        "        if self.index >= len(self.value):\n",
        "            raise StopIteration\n",
        "        idx = self.index\n",
        "        self.index += 1\n",
        "        return self.value[idx]\n",
        "\n",
        "a = Matrix([1, 2, 3])\n",
        "\n",
        "for i in a:\n",
        "    print(i)"
      ],
      "metadata": {
        "colab": {
          "base_uri": "https://localhost:8080/"
        },
        "id": "pVNdPAdbvEb-",
        "outputId": "9fd423d5-54be-47e4-adc6-092da1e856a3"
      },
      "execution_count": null,
      "outputs": [
        {
          "output_type": "stream",
          "name": "stdout",
          "text": [
            "1\n",
            "2\n",
            "3\n"
          ]
        }
      ]
    },
    {
      "cell_type": "code",
      "source": [
        "a = [1, 2, 3]\n",
        "b = ['a', 'b', 'c']\n",
        "\n",
        "z = zip(a, b)\n",
        "print(list(z)) # [(1, 'a'), (2, 'b'), (3, 'c')]\n",
        "\n",
        "# zip 객체는 한 번 사용되었으므로 빈 리스트가 반환됩니다.\n",
        "print(list(z)) # []"
      ],
      "metadata": {
        "colab": {
          "base_uri": "https://localhost:8080/"
        },
        "id": "YO2T6_S_vLoV",
        "outputId": "0546efa1-4eb6-40e1-b97f-415e2a2dfcfc"
      },
      "execution_count": null,
      "outputs": [
        {
          "output_type": "stream",
          "name": "stdout",
          "text": [
            "[(1, 'a'), (2, 'b'), (3, 'c')]\n",
            "[]\n"
          ]
        }
      ]
    },
    {
      "cell_type": "code",
      "source": [
        "li = [1, 2, 3]\n",
        "st = ['a', 'b', 'c']\n",
        "z = zip(li, st)\n",
        "\n",
        "for i in z:\n",
        "    print(i)\n",
        "\n",
        "for i in z:\n",
        "    print(i)\n",
        "\n",
        "# 초기화가 되지않으면 다시 순회를 하지않느다."
      ],
      "metadata": {
        "colab": {
          "base_uri": "https://localhost:8080/"
        },
        "id": "Kv3narFev3Ta",
        "outputId": "04fa581f-e8af-47ab-9a07-938556ad128e"
      },
      "execution_count": null,
      "outputs": [
        {
          "output_type": "stream",
          "name": "stdout",
          "text": [
            "(1, 'a')\n",
            "(2, 'b')\n",
            "(3, 'c')\n"
          ]
        }
      ]
    },
    {
      "cell_type": "code",
      "source": [
        "li = [1, 2, 3]\n",
        "st = ['a', 'b', 'c']\n",
        "i = iter(zip(li, st)) # __lter__\n",
        "next(i) # __next__\n",
        "next(i)\n",
        "next(i)\n",
        "next(i) # StopIteration\n",
        "\n",
        "# 대표적으로 zip, map, reversed, filter 가 동일하게 작동되며\n",
        "# `sorted`는 재순회 할 수 있습니다."
      ],
      "metadata": {
        "colab": {
          "base_uri": "https://localhost:8080/",
          "height": 221
        },
        "id": "1oh-Xt69wB_g",
        "outputId": "e2beb9d9-6acf-4a66-da88-4f4235b9ded8"
      },
      "execution_count": null,
      "outputs": [
        {
          "output_type": "error",
          "ename": "StopIteration",
          "evalue": "",
          "traceback": [
            "\u001b[0;31m---------------------------------------------------------------------------\u001b[0m",
            "\u001b[0;31mStopIteration\u001b[0m                             Traceback (most recent call last)",
            "\u001b[0;32m<ipython-input-35-2b90252f1451>\u001b[0m in \u001b[0;36m<cell line: 7>\u001b[0;34m()\u001b[0m\n\u001b[1;32m      5\u001b[0m \u001b[0mnext\u001b[0m\u001b[0;34m(\u001b[0m\u001b[0mi\u001b[0m\u001b[0;34m)\u001b[0m\u001b[0;34m\u001b[0m\u001b[0;34m\u001b[0m\u001b[0m\n\u001b[1;32m      6\u001b[0m \u001b[0mnext\u001b[0m\u001b[0;34m(\u001b[0m\u001b[0mi\u001b[0m\u001b[0;34m)\u001b[0m\u001b[0;34m\u001b[0m\u001b[0;34m\u001b[0m\u001b[0m\n\u001b[0;32m----> 7\u001b[0;31m \u001b[0mnext\u001b[0m\u001b[0;34m(\u001b[0m\u001b[0mi\u001b[0m\u001b[0;34m)\u001b[0m \u001b[0;31m# StopIteration\u001b[0m\u001b[0;34m\u001b[0m\u001b[0;34m\u001b[0m\u001b[0m\n\u001b[0m",
            "\u001b[0;31mStopIteration\u001b[0m: "
          ]
        }
      ]
    },
    {
      "cell_type": "markdown",
      "source": [
        "# 클래스 이론"
      ],
      "metadata": {
        "id": "0UaBjj50wSdU"
      }
    },
    {
      "cell_type": "code",
      "source": [
        "# 상속\n",
        "class Car(object):\n",
        "    maxSpeed = 300\n",
        "    maxPeople = 5\n",
        "\n",
        "    def move(self):\n",
        "        print('출발하였습니다.')\n",
        "\n",
        "    def stop(self):\n",
        "        print('멈췄습니다.')\n",
        "\n",
        "class HybridCar(Car):\n",
        "    battery = 1000\n",
        "    batteryKM = 300\n",
        "\n",
        "class ElectricCar(HybridCar):\n",
        "    battery = 2000\n",
        "    batteryKM = 600\n",
        "# 클래스와 클래스는 두줄 띄어쓰기\n",
        "\n",
        "modelx = HybridCar()\n",
        "electricCarModely = ElectricCar()\n",
        "print(modelx.maxSpeed)\n",
        "print(electricCarModely.maxSpeed)\n",
        "print(electricCarModely.battery)\n",
        "electricCarModely.move()"
      ],
      "metadata": {
        "colab": {
          "base_uri": "https://localhost:8080/"
        },
        "id": "tbYcQ3PDHKih",
        "outputId": "954c209a-6de5-4d1c-d252-7d3a39998012"
      },
      "execution_count": null,
      "outputs": [
        {
          "output_type": "stream",
          "name": "stdout",
          "text": [
            "300\n",
            "300\n",
            "2000\n",
            "출발하였습니다.\n"
          ]
        }
      ]
    },
    {
      "cell_type": "code",
      "source": [
        "# 다중상속\n",
        "\n",
        "class A:\n",
        "    def method(self):\n",
        "        print(\"A method\")\n",
        "\n",
        "class B(A):\n",
        "    def method(self):\n",
        "        print(\"B method\")\n",
        "\n",
        "class C(A):\n",
        "    def method(self):\n",
        "        print(\"C method\")\n",
        "\n",
        "class D(B, C):\n",
        "    pass\n",
        "\n",
        "obj = D()\n",
        "print(D.mro()) # 출력: [<class '__main__.D'>, <class '__main__.B'>, <class '__main__.C'>, <class '__main__.A'>, <class 'object'>]\n",
        "obj.method()  # 출력: B method"
      ],
      "metadata": {
        "colab": {
          "base_uri": "https://localhost:8080/"
        },
        "id": "exYj5IBoHcak",
        "outputId": "634d81a8-13ff-43f3-c932-6f12f1b95e36"
      },
      "execution_count": null,
      "outputs": [
        {
          "output_type": "stream",
          "name": "stdout",
          "text": [
            "[<class '__main__.D'>, <class '__main__.B'>, <class '__main__.C'>, <class '__main__.A'>, <class 'object'>]\n",
            "B method\n"
          ]
        }
      ]
    },
    {
      "cell_type": "code",
      "source": [
        "# 부모의 메서드를 재구현\n",
        "\n",
        "# 부모의 메서드를 재구현\n",
        "\n",
        "class A:\n",
        "    def hello(self):\n",
        "        print('hello world A')\n",
        "\n",
        "\n",
        "class B(A):\n",
        "    def hello(self):\n",
        "        print('hello world B')\n",
        "\n",
        "class C(A):\n",
        "    pass\n",
        "\n",
        "a = A()\n",
        "a.hello()"
      ],
      "metadata": {
        "colab": {
          "base_uri": "https://localhost:8080/"
        },
        "id": "oj1azneUIcj1",
        "outputId": "082e52b6-d793-40d0-dfee-f7364e21eaca"
      },
      "execution_count": null,
      "outputs": [
        {
          "output_type": "stream",
          "name": "stdout",
          "text": [
            "hello world A\n"
          ]
        }
      ]
    },
    {
      "cell_type": "code",
      "source": [
        "# 파이썬은 오버로딩이 없습니다!! 그럼에도 오버로딩이 무엇인지 설명은 해드리겠습니다.\n",
        "# 자주나오는 용어이니 설명해드리는 것이지 이해하실 필요는 없습니다.\n",
        "\n",
        "class A:\n",
        "    def hello(self, a):\n",
        "        return a ** 2\n",
        "\n",
        "    def hello(self, a, b):\n",
        "        return a + b\n",
        "\n",
        "\n",
        "a = A()\n",
        "print(a.hello(10)) # error!, JAVA는 이렇게 아규먼트의 갯수에 따라 호출되는 함수를 다르게 할 수 있습니다.\n",
        "print(a.hello(10, 20))"
      ],
      "metadata": {
        "colab": {
          "base_uri": "https://localhost:8080/",
          "height": 239
        },
        "id": "_xYsv_LmI5xe",
        "outputId": "7f721825-6aa6-4820-8ce1-8ff544b982cd"
      },
      "execution_count": null,
      "outputs": [
        {
          "output_type": "error",
          "ename": "TypeError",
          "evalue": "A.hello() missing 1 required positional argument: 'b'",
          "traceback": [
            "\u001b[0;31m---------------------------------------------------------------------------\u001b[0m",
            "\u001b[0;31mTypeError\u001b[0m                                 Traceback (most recent call last)",
            "\u001b[0;32m<ipython-input-48-07bc91fa87f7>\u001b[0m in \u001b[0;36m<cell line: 13>\u001b[0;34m()\u001b[0m\n\u001b[1;32m     11\u001b[0m \u001b[0;34m\u001b[0m\u001b[0m\n\u001b[1;32m     12\u001b[0m \u001b[0ma\u001b[0m \u001b[0;34m=\u001b[0m \u001b[0mA\u001b[0m\u001b[0;34m(\u001b[0m\u001b[0;34m)\u001b[0m\u001b[0;34m\u001b[0m\u001b[0;34m\u001b[0m\u001b[0m\n\u001b[0;32m---> 13\u001b[0;31m \u001b[0mprint\u001b[0m\u001b[0;34m(\u001b[0m\u001b[0ma\u001b[0m\u001b[0;34m.\u001b[0m\u001b[0mhello\u001b[0m\u001b[0;34m(\u001b[0m\u001b[0;36m10\u001b[0m\u001b[0;34m)\u001b[0m\u001b[0;34m)\u001b[0m \u001b[0;31m# error!, JAVA는 이렇게 아규먼트의 갯수에 따라 호출되는 함수를 다르게 할 수 있습니다.\u001b[0m\u001b[0;34m\u001b[0m\u001b[0;34m\u001b[0m\u001b[0m\n\u001b[0m\u001b[1;32m     14\u001b[0m \u001b[0mprint\u001b[0m\u001b[0;34m(\u001b[0m\u001b[0ma\u001b[0m\u001b[0;34m.\u001b[0m\u001b[0mhello\u001b[0m\u001b[0;34m(\u001b[0m\u001b[0;36m10\u001b[0m\u001b[0;34m,\u001b[0m \u001b[0;36m20\u001b[0m\u001b[0;34m)\u001b[0m\u001b[0;34m)\u001b[0m\u001b[0;34m\u001b[0m\u001b[0;34m\u001b[0m\u001b[0m\n",
            "\u001b[0;31mTypeError\u001b[0m: A.hello() missing 1 required positional argument: 'b'"
          ]
        }
      ]
    },
    {
      "cell_type": "markdown",
      "source": [
        "# 클래스에 대안은 없는가?"
      ],
      "metadata": {
        "id": "kJ_tuJLJJli7"
      }
    },
    {
      "cell_type": "code",
      "source": [
        "# 클래스 대안 자료 형태\n",
        "# 딕셔너리\n",
        "hero = {\n",
        "    'name': 'Jun',\n",
        "    'hp': 100,\n",
        "    'mp': 100,\n",
        "    'power': 30,\n",
        "    'drop_rate': 0,\n",
        "    'attack': lambda: f'{hero[\"power\"]}에 파워로 공격하였습니다.',\n",
        "}\n",
        "\n",
        "print(hero['hp'])\n",
        "print(hero['attack']())  # 출력: 30에 파워로 공격하였습니다."
      ],
      "metadata": {
        "colab": {
          "base_uri": "https://localhost:8080/"
        },
        "id": "EE7a_fIPK7Ra",
        "outputId": "1e27c878-c226-4cdb-abf4-1fdc52dff9f1"
      },
      "execution_count": null,
      "outputs": [
        {
          "output_type": "stream",
          "name": "stdout",
          "text": [
            "100\n",
            "30에 파워로 공격하였습니다.\n"
          ]
        }
      ]
    },
    {
      "cell_type": "code",
      "source": [
        "# 클래스 대안 자료 형태\n",
        "# 클로저\n",
        "# JavaScript 에서  클로저 간혹 사용합니다.\n",
        "# 파이썬에서는 거의 사용하지 않아요!\n",
        "def create_chracter(name, hp, mp, power):\n",
        "    data = {\n",
        "        'name': name,\n",
        "        'hp': hp,\n",
        "        'mp': mp,\n",
        "        'power': power,\n",
        "    }\n",
        "\n",
        "    def get_data(key):\n",
        "        return data[key]\n",
        "\n",
        "    def attack():\n",
        "        return f'{get_data(\"power\")}에 파워로 공격하였습니다.'\n",
        "\n",
        "    return {'attack': attack}\n",
        "\n",
        "hero = create_chracter('Jun', 100, 100, 30)\n",
        "print(hero['attack']())  # 출력: 30에 파워로 공격하였습니다."
      ],
      "metadata": {
        "colab": {
          "base_uri": "https://localhost:8080/"
        },
        "id": "pumX5rOMK-f-",
        "outputId": "ca6b790b-d45e-4804-d3e0-17fbbaf32a0b"
      },
      "execution_count": null,
      "outputs": [
        {
          "output_type": "stream",
          "name": "stdout",
          "text": [
            "30에 파워로 공격하였습니다.\n"
          ]
        }
      ]
    },
    {
      "cell_type": "markdown",
      "source": [
        "## 메직메서드\n",
        "### 2.1. **생성자와 소멸자**\n",
        "\n",
        "- `__init__(self, ...)`: 객체가 생성될 때 호출되는 생성자 메서드.\n",
        "\n",
        "### 2.2. **문자열 표현**\n",
        "\n",
        "- `__str__(self)`: `str()` 함수 출력 결과와 같습니다. 이는 print로 출력되는 결과와도 동일합니다. 이 출력은 \"공식적이지 않은\" 또는 \"좋게 보이는\" 문자열 표현을 반환합니다. 객체의 공식적인 표현은 repr입니다.\n",
        "- `__repr__(self)`: `repr()` 함수에 출력 결과와 같습니다. 객체의 \"공식적인\" 문자열 표현을 반환합니다.\n",
        "\n",
        "### 2.3. **산술 연산**\n",
        "\n",
        "- `__add__(self, other)`: 덧셈 연산\n",
        "- `__mul__(self, other)`: 곱셈 연산\n",
        "\n",
        "### 2.4. **비교 연산**\n",
        "\n",
        "- `__eq__(self, other)`: 동등 연산 (==)\n",
        "- `__ne__(self, other)`: 부등 연산 (!=)\n",
        "- `__lt__(self, other)`: \"작다\" 연산 (<)\n",
        "- `__le__(self, other)`: \"작거나 같다\" 연산 (<=)\n",
        "- `__gt__(self, other)`: \"크다\" 연산 (>)\n",
        "- `__ge__(self, other)`: \"크거나 같다\" 연산 (>=)\n",
        "\n",
        "### 2.5. **컨테이너 타입 연산**\n",
        "\n",
        "- `__len__(self)`: `len()` 함수의 출력 결과와 같습니다.\n",
        "- `__getitem__(self, key)`: 인덱싱 연산 (obj[key])의 출력 결과와 같습니다.\n",
        "\n",
        "### 2.6. **호출 가능 객체**\n",
        "\n",
        "- `__call__(self, ...)`: 객체를 함수처럼 호출할 때 사용됩니다."
      ],
      "metadata": {
        "id": "_n7kLOIRLFi8"
      }
    },
    {
      "cell_type": "code",
      "source": [
        "class Counter:\n",
        "    def __init__(self):\n",
        "        self.count = 0\n",
        "\n",
        "    def __call__(self):\n",
        "        self.count += 10\n",
        "        print(f'현재 count 값: {self.count}')\n",
        "\n",
        "    def __getitem__(self, key):\n",
        "        return key*10\n",
        "\n",
        "# 객체 생성\n",
        "counter = Counter()\n",
        "\n",
        "# 객체를 직접 호출합니다. 이때 __call__ 메서드가 실행됩니다.\n",
        "counter()  # 출력: 현재 count 값: 10\n",
        "counter()  # 출력: 현재 count 값: 20\n",
        "counter()  # 출력: 현재 count 값: 30\n",
        "\n",
        "counter[5] # 출력: 4"
      ],
      "metadata": {
        "colab": {
          "base_uri": "https://localhost:8080/"
        },
        "id": "166_W-dkM7im",
        "outputId": "a979755d-6796-4661-c373-dd9d8119e9b4"
      },
      "execution_count": null,
      "outputs": [
        {
          "output_type": "stream",
          "name": "stdout",
          "text": [
            "현재 count 값: 10\n",
            "현재 count 값: 20\n",
            "현재 count 값: 30\n"
          ]
        },
        {
          "output_type": "execute_result",
          "data": {
            "text/plain": [
              "50"
            ]
          },
          "metadata": {},
          "execution_count": 51
        }
      ]
    },
    {
      "cell_type": "code",
      "source": [
        "import request # 통신을 통해서 서버에서 제공해주는 값을 가져올 수 있습니다.\n",
        "from bs4 import BeautifulSoup # 가져온 값을\n",
        "\n",
        "response = requests.get('https://paullab.co.kr/bookservice/') # ctrl + shift + i\n",
        "soup = BeautifulSoup(response.text, 'html.parser')\n",
        "\n",
        "soup.select('.book_name')\n"
      ],
      "metadata": {
        "colab": {
          "base_uri": "https://localhost:8080/"
        },
        "id": "FQlBnbsKNbwk",
        "outputId": "b858c941-cde8-4aa9-9ce0-822d7c95be8e"
      },
      "execution_count": null,
      "outputs": [
        {
          "output_type": "execute_result",
          "data": {
            "text/plain": [
              "[<h2 class=\"book_name\" style=\"margin-top: 0;\">메모혁신 Notion(노션) 활용 가이드</h2>,\n",
              " <h2 class=\"book_name\" style=\"margin-top: 0;\">이력서 작성 가이드</h2>,\n",
              " <h2 class=\"book_name\" style=\"margin-top: 0;\">제주코딩베이스캠프 Code Festival: Python 100제 1부</h2>,\n",
              " <h2 class=\"book_name\" style=\"margin-top: 0;\">튜토리얼로 배우는 HTML&amp;CSS</h2>,\n",
              " <h2 class=\"book_name\" style=\"margin-top: 0;\">코딩도장 튜토리얼로 배우는 Python 1편 object</h2>,\n",
              " <h2 class=\"book_name\" style=\"margin-top: 0;\">코딩도장 튜토리얼로 배우는 python 2편 제어문</h2>,\n",
              " <h2 class=\"book_name\" style=\"margin-top: 0;\">코딩도장 튜토리얼로 배우는 Python 문제풀이</h2>,\n",
              " <h2 class=\"book_name\" style=\"margin-top: 0;\">타노스의 건틀릿 알고리즘 With Python</h2>,\n",
              " <h2 class=\"book_name\" style=\"margin-top: 0;\">xlsxwriter 튜토리얼로 배우는 Python 엑셀 프로그래밍</h2>,\n",
              " <h2 class=\"book_name\" style=\"margin-top: 0;\">러플 튜토리얼로 배우는 Python</h2>,\n",
              " <h2 class=\"book_name\" style=\"margin-top: 0;\">인공지능을 활용한 업무자동화 With Google Developers Group JEJU</h2>]"
            ]
          },
          "metadata": {},
          "execution_count": 52
        }
      ]
    },
    {
      "cell_type": "code",
      "source": [
        "book_name = soup.select('.book_name')\n",
        "book_info = soup.select('.book_info')"
      ],
      "metadata": {
        "id": "zrUl9hlMQ1b_"
      },
      "execution_count": null,
      "outputs": []
    },
    {
      "cell_type": "code",
      "source": [
        "print(book_name[1].text)\n",
        "print(book_info[3].text)\n",
        "print(book_info[4].text)\n",
        "print(book_info[5].text)"
      ],
      "metadata": {
        "colab": {
          "base_uri": "https://localhost:8080/"
        },
        "id": "OJaX1hkPUhXY",
        "outputId": "88a032c9-5422-42b8-db3b-5fef3a8d78db"
      },
      "execution_count": null,
      "outputs": [
        {
          "output_type": "stream",
          "name": "stdout",
          "text": [
            "메모혁신 Notion(노션) 활용 가이드\n",
            "가격: 7,000원\n",
            "저자: 이호준, 이준호, 김혜원, 김유진, 차경림, 김진, 현지연, 정승한\n",
            "Notion의 기본 사용 방법부터 Notion을 활용한 홈페이지 제작 방법까지 다양하게 다루고 있으며 특히 개발자가 원하는 Notion의 활용 방법을 다루고 있습니다.\n"
          ]
        }
      ]
    },
    {
      "cell_type": "code",
      "source": [
        "# 마음에 안드는 포인트들\n",
        "# 1. 가격이 int형이 아니다!\n",
        "# 2. 가격, 저자가 한 번 더 들어있다!\n",
        "# 3. 공백도 들어가 있다!\n",
        "\n",
        "books = []\n",
        "class Book:\n",
        "    def __init__(self, name='', price=0, author='', info=''):\n",
        "        self.name = name\n",
        "        if price.replace('가격: ', '').replace('원', '').replace(',', '') == '무료':\n",
        "            self.price = 0\n",
        "        else:\n",
        "            self.price = int(price.replace('가격: ', '').replace('원', '').replace(',', ''))\n",
        "        self.author = author\n",
        "        self.info = info\n",
        "\n",
        "    def __str__(self):\n",
        "        return self.name\n",
        "\n",
        "    def __repr__(self):\n",
        "        return self.name\n",
        "\n",
        "for i, _ in enumerate(book_name):\n",
        "    books.append(Book(\n",
        "        book_name[i].text,\n",
        "        book_info[(i*3)].text,\n",
        "        book_info[(i*3)+1].text,\n",
        "        book_info[(i*3)+2].text\n",
        "    ))\n",
        "\n",
        "books\n",
        "books[0].name\n",
        "books[0].price"
      ],
      "metadata": {
        "colab": {
          "base_uri": "https://localhost:8080/"
        },
        "id": "7_RQLJSoWUHB",
        "outputId": "9d4454bb-cf27-4b92-b1b3-1f7466f025c6"
      },
      "execution_count": null,
      "outputs": [
        {
          "output_type": "execute_result",
          "data": {
            "text/plain": [
              "7000"
            ]
          },
          "metadata": {},
          "execution_count": 60
        }
      ]
    },
    {
      "cell_type": "code",
      "source": [
        "class Book:\n",
        "    def __init__(self, name='', price='', author='', info=''):\n",
        "        self.name = name.strip()\n",
        "        self.price = self.parse_price(price.strip())\n",
        "        self.author = author.replace('저자: ', '').strip()\n",
        "        self.info = info.strip()\n",
        "\n",
        "    def parse_price(self, price_str):\n",
        "        if price_str.replace('가격: ', '').replace('원', '').replace(',', '') == '무료':\n",
        "            return 0\n",
        "        else:\n",
        "            return int(price_str.replace('가격: ', '').replace('원', '').replace(',', ''))\n",
        "\n",
        "    def __str__(self):\n",
        "        return self.name\n",
        "\n",
        "    def __repr__(self):\n",
        "        return self.name\n",
        "\n",
        "    def convert_to_dollar(self, exchange = 1200):\n",
        "        return self.price // exchange\n",
        "\n",
        "    def discount(self, discount_rate):\n",
        "        discount_price = self.price * (1 - discount_rate / 100)\n",
        "        self.price = int(discount_price)\n",
        "        return int(discount_price)\n",
        "\n",
        "\n",
        "books = []\n",
        "for i, _ in enumerate(book_name):\n",
        "    books.append(Book(\n",
        "        book_name[i].text,\n",
        "        book_info[(i*3)].text,\n",
        "        book_info[(i*3)+1].text,\n",
        "        book_info[(i*3)+2].text\n",
        "    ))\n",
        "\n",
        "\n",
        "print(books)\n",
        "print(books[0].name)\n",
        "print(books[0].price)\n",
        "print(f'{books[0].convert_to_dollar()} 달러')  # 달러로 변환된 가격\n",
        "books[0].discount(10)  # 10% 할인된 가격\n",
        "print(books[0].price)\n"
      ],
      "metadata": {
        "colab": {
          "base_uri": "https://localhost:8080/"
        },
        "id": "mttslcYNhVas",
        "outputId": "6fd08284-c54c-4f56-e6f6-9692c1d37c60"
      },
      "execution_count": null,
      "outputs": [
        {
          "output_type": "stream",
          "name": "stdout",
          "text": [
            "[메모혁신 Notion(노션) 활용 가이드, 이력서 작성 가이드, 제주코딩베이스캠프 Code Festival: Python 100제 1부, 튜토리얼로 배우는 HTML&CSS, 코딩도장 튜토리얼로 배우는 Python 1편 object, 코딩도장 튜토리얼로 배우는 python 2편 제어문, 코딩도장 튜토리얼로 배우는 Python 문제풀이, 타노스의 건틀릿 알고리즘 With Python, xlsxwriter 튜토리얼로 배우는 Python 엑셀 프로그래밍, 러플 튜토리얼로 배우는 Python, 인공지능을 활용한 업무자동화 With Google Developers Group JEJU]\n",
            "메모혁신 Notion(노션) 활용 가이드\n",
            "7000\n",
            "5 달러\n",
            "6300\n"
          ]
        }
      ]
    },
    {
      "cell_type": "code",
      "source": [
        "import requests # 통신을 해서 서버에서 제공해주는 값을 가져올 수 있습니다.\n",
        "from bs4 import BeautifulSoup # 가져온 값을 '파싱' 해주는 모듈입니다.\n",
        "\n",
        "response = requests.get('https://search.naver.com/search.naver?where=nexearch&sm=top_hty&fbm=0&ie=utf8&query=%EC%B5%9C%EC%8B%A0%EC%98%81%ED%99%94')\n",
        "soup = BeautifulSoup(response.text, 'html.parser')"
      ],
      "metadata": {
        "colab": {
          "base_uri": "https://localhost:8080/",
          "height": 686
        },
        "id": "ID17fl87XRcs",
        "outputId": "3a167bdc-18fa-4774-f022-088e58fe7818"
      },
      "execution_count": null,
      "outputs": [
        {
          "output_type": "error",
          "ename": "ConnectionError",
          "evalue": "('Connection aborted.', ConnectionResetError(104, 'Connection reset by peer'))",
          "traceback": [
            "\u001b[0;31m---------------------------------------------------------------------------\u001b[0m",
            "\u001b[0;31mOSError\u001b[0m                                   Traceback (most recent call last)",
            "\u001b[0;32m/usr/lib/python3.10/ssl.py\u001b[0m in \u001b[0;36m_create\u001b[0;34m(cls, sock, server_side, do_handshake_on_connect, suppress_ragged_eofs, server_hostname, context, session)\u001b[0m\n\u001b[1;32m   1049\u001b[0m         \u001b[0;32mtry\u001b[0m\u001b[0;34m:\u001b[0m\u001b[0;34m\u001b[0m\u001b[0;34m\u001b[0m\u001b[0m\n\u001b[0;32m-> 1050\u001b[0;31m             \u001b[0mself\u001b[0m\u001b[0;34m.\u001b[0m\u001b[0mgetpeername\u001b[0m\u001b[0;34m(\u001b[0m\u001b[0;34m)\u001b[0m\u001b[0;34m\u001b[0m\u001b[0;34m\u001b[0m\u001b[0m\n\u001b[0m\u001b[1;32m   1051\u001b[0m         \u001b[0;32mexcept\u001b[0m \u001b[0mOSError\u001b[0m \u001b[0;32mas\u001b[0m \u001b[0me\u001b[0m\u001b[0;34m:\u001b[0m\u001b[0;34m\u001b[0m\u001b[0;34m\u001b[0m\u001b[0m\n",
            "\u001b[0;31mOSError\u001b[0m: [Errno 107] Transport endpoint is not connected",
            "\nDuring handling of the above exception, another exception occurred:\n",
            "\u001b[0;31mConnectionResetError\u001b[0m                      Traceback (most recent call last)",
            "\u001b[0;32m/usr/local/lib/python3.10/dist-packages/urllib3/connectionpool.py\u001b[0m in \u001b[0;36murlopen\u001b[0;34m(self, method, url, body, headers, retries, redirect, assert_same_host, timeout, pool_timeout, release_conn, chunked, body_pos, preload_content, decode_content, **response_kw)\u001b[0m\n\u001b[1;32m    790\u001b[0m             \u001b[0;31m# Make the request on the HTTPConnection object\u001b[0m\u001b[0;34m\u001b[0m\u001b[0;34m\u001b[0m\u001b[0m\n\u001b[0;32m--> 791\u001b[0;31m             response = self._make_request(\n\u001b[0m\u001b[1;32m    792\u001b[0m                 \u001b[0mconn\u001b[0m\u001b[0;34m,\u001b[0m\u001b[0;34m\u001b[0m\u001b[0;34m\u001b[0m\u001b[0m\n",
            "\u001b[0;32m/usr/local/lib/python3.10/dist-packages/urllib3/connectionpool.py\u001b[0m in \u001b[0;36m_make_request\u001b[0;34m(self, conn, method, url, body, headers, retries, timeout, chunked, response_conn, preload_content, decode_content, enforce_content_length)\u001b[0m\n\u001b[1;32m    491\u001b[0m                 \u001b[0mnew_e\u001b[0m \u001b[0;34m=\u001b[0m \u001b[0m_wrap_proxy_error\u001b[0m\u001b[0;34m(\u001b[0m\u001b[0mnew_e\u001b[0m\u001b[0;34m,\u001b[0m \u001b[0mconn\u001b[0m\u001b[0;34m.\u001b[0m\u001b[0mproxy\u001b[0m\u001b[0;34m.\u001b[0m\u001b[0mscheme\u001b[0m\u001b[0;34m)\u001b[0m\u001b[0;34m\u001b[0m\u001b[0;34m\u001b[0m\u001b[0m\n\u001b[0;32m--> 492\u001b[0;31m             \u001b[0;32mraise\u001b[0m \u001b[0mnew_e\u001b[0m\u001b[0;34m\u001b[0m\u001b[0;34m\u001b[0m\u001b[0m\n\u001b[0m\u001b[1;32m    493\u001b[0m \u001b[0;34m\u001b[0m\u001b[0m\n",
            "\u001b[0;32m/usr/local/lib/python3.10/dist-packages/urllib3/connectionpool.py\u001b[0m in \u001b[0;36m_make_request\u001b[0;34m(self, conn, method, url, body, headers, retries, timeout, chunked, response_conn, preload_content, decode_content, enforce_content_length)\u001b[0m\n\u001b[1;32m    467\u001b[0m             \u001b[0;32mtry\u001b[0m\u001b[0;34m:\u001b[0m\u001b[0;34m\u001b[0m\u001b[0;34m\u001b[0m\u001b[0m\n\u001b[0;32m--> 468\u001b[0;31m                 \u001b[0mself\u001b[0m\u001b[0;34m.\u001b[0m\u001b[0m_validate_conn\u001b[0m\u001b[0;34m(\u001b[0m\u001b[0mconn\u001b[0m\u001b[0;34m)\u001b[0m\u001b[0;34m\u001b[0m\u001b[0;34m\u001b[0m\u001b[0m\n\u001b[0m\u001b[1;32m    469\u001b[0m             \u001b[0;32mexcept\u001b[0m \u001b[0;34m(\u001b[0m\u001b[0mSocketTimeout\u001b[0m\u001b[0;34m,\u001b[0m \u001b[0mBaseSSLError\u001b[0m\u001b[0;34m)\u001b[0m \u001b[0;32mas\u001b[0m \u001b[0me\u001b[0m\u001b[0;34m:\u001b[0m\u001b[0;34m\u001b[0m\u001b[0;34m\u001b[0m\u001b[0m\n",
            "\u001b[0;32m/usr/local/lib/python3.10/dist-packages/urllib3/connectionpool.py\u001b[0m in \u001b[0;36m_validate_conn\u001b[0;34m(self, conn)\u001b[0m\n\u001b[1;32m   1096\u001b[0m         \u001b[0;32mif\u001b[0m \u001b[0mconn\u001b[0m\u001b[0;34m.\u001b[0m\u001b[0mis_closed\u001b[0m\u001b[0;34m:\u001b[0m\u001b[0;34m\u001b[0m\u001b[0;34m\u001b[0m\u001b[0m\n\u001b[0;32m-> 1097\u001b[0;31m             \u001b[0mconn\u001b[0m\u001b[0;34m.\u001b[0m\u001b[0mconnect\u001b[0m\u001b[0;34m(\u001b[0m\u001b[0;34m)\u001b[0m\u001b[0;34m\u001b[0m\u001b[0;34m\u001b[0m\u001b[0m\n\u001b[0m\u001b[1;32m   1098\u001b[0m \u001b[0;34m\u001b[0m\u001b[0m\n",
            "\u001b[0;32m/usr/local/lib/python3.10/dist-packages/urllib3/connection.py\u001b[0m in \u001b[0;36mconnect\u001b[0;34m(self)\u001b[0m\n\u001b[1;32m    641\u001b[0m \u001b[0;34m\u001b[0m\u001b[0m\n\u001b[0;32m--> 642\u001b[0;31m         sock_and_verified = _ssl_wrap_socket_and_match_hostname(\n\u001b[0m\u001b[1;32m    643\u001b[0m             \u001b[0msock\u001b[0m\u001b[0;34m=\u001b[0m\u001b[0msock\u001b[0m\u001b[0;34m,\u001b[0m\u001b[0;34m\u001b[0m\u001b[0;34m\u001b[0m\u001b[0m\n",
            "\u001b[0;32m/usr/local/lib/python3.10/dist-packages/urllib3/connection.py\u001b[0m in \u001b[0;36m_ssl_wrap_socket_and_match_hostname\u001b[0;34m(sock, cert_reqs, ssl_version, ssl_minimum_version, ssl_maximum_version, cert_file, key_file, key_password, ca_certs, ca_cert_dir, ca_cert_data, assert_hostname, assert_fingerprint, server_hostname, ssl_context, tls_in_tls)\u001b[0m\n\u001b[1;32m    782\u001b[0m \u001b[0;34m\u001b[0m\u001b[0m\n\u001b[0;32m--> 783\u001b[0;31m     ssl_sock = ssl_wrap_socket(\n\u001b[0m\u001b[1;32m    784\u001b[0m         \u001b[0msock\u001b[0m\u001b[0;34m=\u001b[0m\u001b[0msock\u001b[0m\u001b[0;34m,\u001b[0m\u001b[0;34m\u001b[0m\u001b[0;34m\u001b[0m\u001b[0m\n",
            "\u001b[0;32m/usr/local/lib/python3.10/dist-packages/urllib3/util/ssl_.py\u001b[0m in \u001b[0;36mssl_wrap_socket\u001b[0;34m(sock, keyfile, certfile, cert_reqs, ca_certs, server_hostname, ssl_version, ciphers, ssl_context, ca_cert_dir, key_password, ca_cert_data, tls_in_tls)\u001b[0m\n\u001b[1;32m    470\u001b[0m \u001b[0;34m\u001b[0m\u001b[0m\n\u001b[0;32m--> 471\u001b[0;31m     \u001b[0mssl_sock\u001b[0m \u001b[0;34m=\u001b[0m \u001b[0m_ssl_wrap_socket_impl\u001b[0m\u001b[0;34m(\u001b[0m\u001b[0msock\u001b[0m\u001b[0;34m,\u001b[0m \u001b[0mcontext\u001b[0m\u001b[0;34m,\u001b[0m \u001b[0mtls_in_tls\u001b[0m\u001b[0;34m,\u001b[0m \u001b[0mserver_hostname\u001b[0m\u001b[0;34m)\u001b[0m\u001b[0;34m\u001b[0m\u001b[0;34m\u001b[0m\u001b[0m\n\u001b[0m\u001b[1;32m    472\u001b[0m     \u001b[0;32mreturn\u001b[0m \u001b[0mssl_sock\u001b[0m\u001b[0;34m\u001b[0m\u001b[0;34m\u001b[0m\u001b[0m\n",
            "\u001b[0;32m/usr/local/lib/python3.10/dist-packages/urllib3/util/ssl_.py\u001b[0m in \u001b[0;36m_ssl_wrap_socket_impl\u001b[0;34m(sock, ssl_context, tls_in_tls, server_hostname)\u001b[0m\n\u001b[1;32m    514\u001b[0m \u001b[0;34m\u001b[0m\u001b[0m\n\u001b[0;32m--> 515\u001b[0;31m     \u001b[0;32mreturn\u001b[0m \u001b[0mssl_context\u001b[0m\u001b[0;34m.\u001b[0m\u001b[0mwrap_socket\u001b[0m\u001b[0;34m(\u001b[0m\u001b[0msock\u001b[0m\u001b[0;34m,\u001b[0m \u001b[0mserver_hostname\u001b[0m\u001b[0;34m=\u001b[0m\u001b[0mserver_hostname\u001b[0m\u001b[0;34m)\u001b[0m\u001b[0;34m\u001b[0m\u001b[0;34m\u001b[0m\u001b[0m\n\u001b[0m",
            "\u001b[0;32m/usr/lib/python3.10/ssl.py\u001b[0m in \u001b[0;36mwrap_socket\u001b[0;34m(self, sock, server_side, do_handshake_on_connect, suppress_ragged_eofs, server_hostname, session)\u001b[0m\n\u001b[1;32m    512\u001b[0m         \u001b[0;31m# ctx._wrap_socket()\u001b[0m\u001b[0;34m\u001b[0m\u001b[0;34m\u001b[0m\u001b[0m\n\u001b[0;32m--> 513\u001b[0;31m         return self.sslsocket_class._create(\n\u001b[0m\u001b[1;32m    514\u001b[0m             \u001b[0msock\u001b[0m\u001b[0;34m=\u001b[0m\u001b[0msock\u001b[0m\u001b[0;34m,\u001b[0m\u001b[0;34m\u001b[0m\u001b[0;34m\u001b[0m\u001b[0m\n",
            "\u001b[0;32m/usr/lib/python3.10/ssl.py\u001b[0m in \u001b[0;36m_create\u001b[0;34m(cls, sock, server_side, do_handshake_on_connect, suppress_ragged_eofs, server_hostname, context, session)\u001b[0m\n\u001b[1;32m   1061\u001b[0m                 \u001b[0;31m# is found means consuming the data is harmless.\u001b[0m\u001b[0;34m\u001b[0m\u001b[0;34m\u001b[0m\u001b[0m\n\u001b[0;32m-> 1062\u001b[0;31m                 \u001b[0mnotconn_pre_handshake_data\u001b[0m \u001b[0;34m=\u001b[0m \u001b[0mself\u001b[0m\u001b[0;34m.\u001b[0m\u001b[0mrecv\u001b[0m\u001b[0;34m(\u001b[0m\u001b[0;36m1\u001b[0m\u001b[0;34m)\u001b[0m\u001b[0;34m\u001b[0m\u001b[0;34m\u001b[0m\u001b[0m\n\u001b[0m\u001b[1;32m   1063\u001b[0m             \u001b[0;32mexcept\u001b[0m \u001b[0mOSError\u001b[0m \u001b[0;32mas\u001b[0m \u001b[0me\u001b[0m\u001b[0;34m:\u001b[0m\u001b[0;34m\u001b[0m\u001b[0;34m\u001b[0m\u001b[0m\n",
            "\u001b[0;32m/usr/lib/python3.10/ssl.py\u001b[0m in \u001b[0;36mrecv\u001b[0;34m(self, buflen, flags)\u001b[0m\n\u001b[1;32m   1289\u001b[0m         \u001b[0;32melse\u001b[0m\u001b[0;34m:\u001b[0m\u001b[0;34m\u001b[0m\u001b[0;34m\u001b[0m\u001b[0m\n\u001b[0;32m-> 1290\u001b[0;31m             \u001b[0;32mreturn\u001b[0m \u001b[0msuper\u001b[0m\u001b[0;34m(\u001b[0m\u001b[0;34m)\u001b[0m\u001b[0;34m.\u001b[0m\u001b[0mrecv\u001b[0m\u001b[0;34m(\u001b[0m\u001b[0mbuflen\u001b[0m\u001b[0;34m,\u001b[0m \u001b[0mflags\u001b[0m\u001b[0;34m)\u001b[0m\u001b[0;34m\u001b[0m\u001b[0;34m\u001b[0m\u001b[0m\n\u001b[0m\u001b[1;32m   1291\u001b[0m \u001b[0;34m\u001b[0m\u001b[0m\n",
            "\u001b[0;31mConnectionResetError\u001b[0m: [Errno 104] Connection reset by peer",
            "\nDuring handling of the above exception, another exception occurred:\n",
            "\u001b[0;31mProtocolError\u001b[0m                             Traceback (most recent call last)",
            "\u001b[0;32m/usr/local/lib/python3.10/dist-packages/requests/adapters.py\u001b[0m in \u001b[0;36msend\u001b[0;34m(self, request, stream, timeout, verify, cert, proxies)\u001b[0m\n\u001b[1;32m    485\u001b[0m         \u001b[0;32mtry\u001b[0m\u001b[0;34m:\u001b[0m\u001b[0;34m\u001b[0m\u001b[0;34m\u001b[0m\u001b[0m\n\u001b[0;32m--> 486\u001b[0;31m             resp = conn.urlopen(\n\u001b[0m\u001b[1;32m    487\u001b[0m                 \u001b[0mmethod\u001b[0m\u001b[0;34m=\u001b[0m\u001b[0mrequest\u001b[0m\u001b[0;34m.\u001b[0m\u001b[0mmethod\u001b[0m\u001b[0;34m,\u001b[0m\u001b[0;34m\u001b[0m\u001b[0;34m\u001b[0m\u001b[0m\n",
            "\u001b[0;32m/usr/local/lib/python3.10/dist-packages/urllib3/connectionpool.py\u001b[0m in \u001b[0;36murlopen\u001b[0;34m(self, method, url, body, headers, retries, redirect, assert_same_host, timeout, pool_timeout, release_conn, chunked, body_pos, preload_content, decode_content, **response_kw)\u001b[0m\n\u001b[1;32m    844\u001b[0m \u001b[0;34m\u001b[0m\u001b[0m\n\u001b[0;32m--> 845\u001b[0;31m             retries = retries.increment(\n\u001b[0m\u001b[1;32m    846\u001b[0m                 \u001b[0mmethod\u001b[0m\u001b[0;34m,\u001b[0m \u001b[0murl\u001b[0m\u001b[0;34m,\u001b[0m \u001b[0merror\u001b[0m\u001b[0;34m=\u001b[0m\u001b[0mnew_e\u001b[0m\u001b[0;34m,\u001b[0m \u001b[0m_pool\u001b[0m\u001b[0;34m=\u001b[0m\u001b[0mself\u001b[0m\u001b[0;34m,\u001b[0m \u001b[0m_stacktrace\u001b[0m\u001b[0;34m=\u001b[0m\u001b[0msys\u001b[0m\u001b[0;34m.\u001b[0m\u001b[0mexc_info\u001b[0m\u001b[0;34m(\u001b[0m\u001b[0;34m)\u001b[0m\u001b[0;34m[\u001b[0m\u001b[0;36m2\u001b[0m\u001b[0;34m]\u001b[0m\u001b[0;34m\u001b[0m\u001b[0;34m\u001b[0m\u001b[0m\n",
            "\u001b[0;32m/usr/local/lib/python3.10/dist-packages/urllib3/util/retry.py\u001b[0m in \u001b[0;36mincrement\u001b[0;34m(self, method, url, response, error, _pool, _stacktrace)\u001b[0m\n\u001b[1;32m    469\u001b[0m             \u001b[0;32mif\u001b[0m \u001b[0mread\u001b[0m \u001b[0;32mis\u001b[0m \u001b[0;32mFalse\u001b[0m \u001b[0;32mor\u001b[0m \u001b[0mmethod\u001b[0m \u001b[0;32mis\u001b[0m \u001b[0;32mNone\u001b[0m \u001b[0;32mor\u001b[0m \u001b[0;32mnot\u001b[0m \u001b[0mself\u001b[0m\u001b[0;34m.\u001b[0m\u001b[0m_is_method_retryable\u001b[0m\u001b[0;34m(\u001b[0m\u001b[0mmethod\u001b[0m\u001b[0;34m)\u001b[0m\u001b[0;34m:\u001b[0m\u001b[0;34m\u001b[0m\u001b[0;34m\u001b[0m\u001b[0m\n\u001b[0;32m--> 470\u001b[0;31m                 \u001b[0;32mraise\u001b[0m \u001b[0mreraise\u001b[0m\u001b[0;34m(\u001b[0m\u001b[0mtype\u001b[0m\u001b[0;34m(\u001b[0m\u001b[0merror\u001b[0m\u001b[0;34m)\u001b[0m\u001b[0;34m,\u001b[0m \u001b[0merror\u001b[0m\u001b[0;34m,\u001b[0m \u001b[0m_stacktrace\u001b[0m\u001b[0;34m)\u001b[0m\u001b[0;34m\u001b[0m\u001b[0;34m\u001b[0m\u001b[0m\n\u001b[0m\u001b[1;32m    471\u001b[0m             \u001b[0;32melif\u001b[0m \u001b[0mread\u001b[0m \u001b[0;32mis\u001b[0m \u001b[0;32mnot\u001b[0m \u001b[0;32mNone\u001b[0m\u001b[0;34m:\u001b[0m\u001b[0;34m\u001b[0m\u001b[0;34m\u001b[0m\u001b[0m\n",
            "\u001b[0;32m/usr/local/lib/python3.10/dist-packages/urllib3/util/util.py\u001b[0m in \u001b[0;36mreraise\u001b[0;34m(tp, value, tb)\u001b[0m\n\u001b[1;32m     37\u001b[0m         \u001b[0;32mif\u001b[0m \u001b[0mvalue\u001b[0m\u001b[0;34m.\u001b[0m\u001b[0m__traceback__\u001b[0m \u001b[0;32mis\u001b[0m \u001b[0;32mnot\u001b[0m \u001b[0mtb\u001b[0m\u001b[0;34m:\u001b[0m\u001b[0;34m\u001b[0m\u001b[0;34m\u001b[0m\u001b[0m\n\u001b[0;32m---> 38\u001b[0;31m             \u001b[0;32mraise\u001b[0m \u001b[0mvalue\u001b[0m\u001b[0;34m.\u001b[0m\u001b[0mwith_traceback\u001b[0m\u001b[0;34m(\u001b[0m\u001b[0mtb\u001b[0m\u001b[0;34m)\u001b[0m\u001b[0;34m\u001b[0m\u001b[0;34m\u001b[0m\u001b[0m\n\u001b[0m\u001b[1;32m     39\u001b[0m         \u001b[0;32mraise\u001b[0m \u001b[0mvalue\u001b[0m\u001b[0;34m\u001b[0m\u001b[0;34m\u001b[0m\u001b[0m\n",
            "\u001b[0;32m/usr/local/lib/python3.10/dist-packages/urllib3/connectionpool.py\u001b[0m in \u001b[0;36murlopen\u001b[0;34m(self, method, url, body, headers, retries, redirect, assert_same_host, timeout, pool_timeout, release_conn, chunked, body_pos, preload_content, decode_content, **response_kw)\u001b[0m\n\u001b[1;32m    790\u001b[0m             \u001b[0;31m# Make the request on the HTTPConnection object\u001b[0m\u001b[0;34m\u001b[0m\u001b[0;34m\u001b[0m\u001b[0m\n\u001b[0;32m--> 791\u001b[0;31m             response = self._make_request(\n\u001b[0m\u001b[1;32m    792\u001b[0m                 \u001b[0mconn\u001b[0m\u001b[0;34m,\u001b[0m\u001b[0;34m\u001b[0m\u001b[0;34m\u001b[0m\u001b[0m\n",
            "\u001b[0;32m/usr/local/lib/python3.10/dist-packages/urllib3/connectionpool.py\u001b[0m in \u001b[0;36m_make_request\u001b[0;34m(self, conn, method, url, body, headers, retries, timeout, chunked, response_conn, preload_content, decode_content, enforce_content_length)\u001b[0m\n\u001b[1;32m    491\u001b[0m                 \u001b[0mnew_e\u001b[0m \u001b[0;34m=\u001b[0m \u001b[0m_wrap_proxy_error\u001b[0m\u001b[0;34m(\u001b[0m\u001b[0mnew_e\u001b[0m\u001b[0;34m,\u001b[0m \u001b[0mconn\u001b[0m\u001b[0;34m.\u001b[0m\u001b[0mproxy\u001b[0m\u001b[0;34m.\u001b[0m\u001b[0mscheme\u001b[0m\u001b[0;34m)\u001b[0m\u001b[0;34m\u001b[0m\u001b[0;34m\u001b[0m\u001b[0m\n\u001b[0;32m--> 492\u001b[0;31m             \u001b[0;32mraise\u001b[0m \u001b[0mnew_e\u001b[0m\u001b[0;34m\u001b[0m\u001b[0;34m\u001b[0m\u001b[0m\n\u001b[0m\u001b[1;32m    493\u001b[0m \u001b[0;34m\u001b[0m\u001b[0m\n",
            "\u001b[0;32m/usr/local/lib/python3.10/dist-packages/urllib3/connectionpool.py\u001b[0m in \u001b[0;36m_make_request\u001b[0;34m(self, conn, method, url, body, headers, retries, timeout, chunked, response_conn, preload_content, decode_content, enforce_content_length)\u001b[0m\n\u001b[1;32m    467\u001b[0m             \u001b[0;32mtry\u001b[0m\u001b[0;34m:\u001b[0m\u001b[0;34m\u001b[0m\u001b[0;34m\u001b[0m\u001b[0m\n\u001b[0;32m--> 468\u001b[0;31m                 \u001b[0mself\u001b[0m\u001b[0;34m.\u001b[0m\u001b[0m_validate_conn\u001b[0m\u001b[0;34m(\u001b[0m\u001b[0mconn\u001b[0m\u001b[0;34m)\u001b[0m\u001b[0;34m\u001b[0m\u001b[0;34m\u001b[0m\u001b[0m\n\u001b[0m\u001b[1;32m    469\u001b[0m             \u001b[0;32mexcept\u001b[0m \u001b[0;34m(\u001b[0m\u001b[0mSocketTimeout\u001b[0m\u001b[0;34m,\u001b[0m \u001b[0mBaseSSLError\u001b[0m\u001b[0;34m)\u001b[0m \u001b[0;32mas\u001b[0m \u001b[0me\u001b[0m\u001b[0;34m:\u001b[0m\u001b[0;34m\u001b[0m\u001b[0;34m\u001b[0m\u001b[0m\n",
            "\u001b[0;32m/usr/local/lib/python3.10/dist-packages/urllib3/connectionpool.py\u001b[0m in \u001b[0;36m_validate_conn\u001b[0;34m(self, conn)\u001b[0m\n\u001b[1;32m   1096\u001b[0m         \u001b[0;32mif\u001b[0m \u001b[0mconn\u001b[0m\u001b[0;34m.\u001b[0m\u001b[0mis_closed\u001b[0m\u001b[0;34m:\u001b[0m\u001b[0;34m\u001b[0m\u001b[0;34m\u001b[0m\u001b[0m\n\u001b[0;32m-> 1097\u001b[0;31m             \u001b[0mconn\u001b[0m\u001b[0;34m.\u001b[0m\u001b[0mconnect\u001b[0m\u001b[0;34m(\u001b[0m\u001b[0;34m)\u001b[0m\u001b[0;34m\u001b[0m\u001b[0;34m\u001b[0m\u001b[0m\n\u001b[0m\u001b[1;32m   1098\u001b[0m \u001b[0;34m\u001b[0m\u001b[0m\n",
            "\u001b[0;32m/usr/local/lib/python3.10/dist-packages/urllib3/connection.py\u001b[0m in \u001b[0;36mconnect\u001b[0;34m(self)\u001b[0m\n\u001b[1;32m    641\u001b[0m \u001b[0;34m\u001b[0m\u001b[0m\n\u001b[0;32m--> 642\u001b[0;31m         sock_and_verified = _ssl_wrap_socket_and_match_hostname(\n\u001b[0m\u001b[1;32m    643\u001b[0m             \u001b[0msock\u001b[0m\u001b[0;34m=\u001b[0m\u001b[0msock\u001b[0m\u001b[0;34m,\u001b[0m\u001b[0;34m\u001b[0m\u001b[0;34m\u001b[0m\u001b[0m\n",
            "\u001b[0;32m/usr/local/lib/python3.10/dist-packages/urllib3/connection.py\u001b[0m in \u001b[0;36m_ssl_wrap_socket_and_match_hostname\u001b[0;34m(sock, cert_reqs, ssl_version, ssl_minimum_version, ssl_maximum_version, cert_file, key_file, key_password, ca_certs, ca_cert_dir, ca_cert_data, assert_hostname, assert_fingerprint, server_hostname, ssl_context, tls_in_tls)\u001b[0m\n\u001b[1;32m    782\u001b[0m \u001b[0;34m\u001b[0m\u001b[0m\n\u001b[0;32m--> 783\u001b[0;31m     ssl_sock = ssl_wrap_socket(\n\u001b[0m\u001b[1;32m    784\u001b[0m         \u001b[0msock\u001b[0m\u001b[0;34m=\u001b[0m\u001b[0msock\u001b[0m\u001b[0;34m,\u001b[0m\u001b[0;34m\u001b[0m\u001b[0;34m\u001b[0m\u001b[0m\n",
            "\u001b[0;32m/usr/local/lib/python3.10/dist-packages/urllib3/util/ssl_.py\u001b[0m in \u001b[0;36mssl_wrap_socket\u001b[0;34m(sock, keyfile, certfile, cert_reqs, ca_certs, server_hostname, ssl_version, ciphers, ssl_context, ca_cert_dir, key_password, ca_cert_data, tls_in_tls)\u001b[0m\n\u001b[1;32m    470\u001b[0m \u001b[0;34m\u001b[0m\u001b[0m\n\u001b[0;32m--> 471\u001b[0;31m     \u001b[0mssl_sock\u001b[0m \u001b[0;34m=\u001b[0m \u001b[0m_ssl_wrap_socket_impl\u001b[0m\u001b[0;34m(\u001b[0m\u001b[0msock\u001b[0m\u001b[0;34m,\u001b[0m \u001b[0mcontext\u001b[0m\u001b[0;34m,\u001b[0m \u001b[0mtls_in_tls\u001b[0m\u001b[0;34m,\u001b[0m \u001b[0mserver_hostname\u001b[0m\u001b[0;34m)\u001b[0m\u001b[0;34m\u001b[0m\u001b[0;34m\u001b[0m\u001b[0m\n\u001b[0m\u001b[1;32m    472\u001b[0m     \u001b[0;32mreturn\u001b[0m \u001b[0mssl_sock\u001b[0m\u001b[0;34m\u001b[0m\u001b[0;34m\u001b[0m\u001b[0m\n",
            "\u001b[0;32m/usr/local/lib/python3.10/dist-packages/urllib3/util/ssl_.py\u001b[0m in \u001b[0;36m_ssl_wrap_socket_impl\u001b[0;34m(sock, ssl_context, tls_in_tls, server_hostname)\u001b[0m\n\u001b[1;32m    514\u001b[0m \u001b[0;34m\u001b[0m\u001b[0m\n\u001b[0;32m--> 515\u001b[0;31m     \u001b[0;32mreturn\u001b[0m \u001b[0mssl_context\u001b[0m\u001b[0;34m.\u001b[0m\u001b[0mwrap_socket\u001b[0m\u001b[0;34m(\u001b[0m\u001b[0msock\u001b[0m\u001b[0;34m,\u001b[0m \u001b[0mserver_hostname\u001b[0m\u001b[0;34m=\u001b[0m\u001b[0mserver_hostname\u001b[0m\u001b[0;34m)\u001b[0m\u001b[0;34m\u001b[0m\u001b[0;34m\u001b[0m\u001b[0m\n\u001b[0m",
            "\u001b[0;32m/usr/lib/python3.10/ssl.py\u001b[0m in \u001b[0;36mwrap_socket\u001b[0;34m(self, sock, server_side, do_handshake_on_connect, suppress_ragged_eofs, server_hostname, session)\u001b[0m\n\u001b[1;32m    512\u001b[0m         \u001b[0;31m# ctx._wrap_socket()\u001b[0m\u001b[0;34m\u001b[0m\u001b[0;34m\u001b[0m\u001b[0m\n\u001b[0;32m--> 513\u001b[0;31m         return self.sslsocket_class._create(\n\u001b[0m\u001b[1;32m    514\u001b[0m             \u001b[0msock\u001b[0m\u001b[0;34m=\u001b[0m\u001b[0msock\u001b[0m\u001b[0;34m,\u001b[0m\u001b[0;34m\u001b[0m\u001b[0;34m\u001b[0m\u001b[0m\n",
            "\u001b[0;32m/usr/lib/python3.10/ssl.py\u001b[0m in \u001b[0;36m_create\u001b[0;34m(cls, sock, server_side, do_handshake_on_connect, suppress_ragged_eofs, server_hostname, context, session)\u001b[0m\n\u001b[1;32m   1061\u001b[0m                 \u001b[0;31m# is found means consuming the data is harmless.\u001b[0m\u001b[0;34m\u001b[0m\u001b[0;34m\u001b[0m\u001b[0m\n\u001b[0;32m-> 1062\u001b[0;31m                 \u001b[0mnotconn_pre_handshake_data\u001b[0m \u001b[0;34m=\u001b[0m \u001b[0mself\u001b[0m\u001b[0;34m.\u001b[0m\u001b[0mrecv\u001b[0m\u001b[0;34m(\u001b[0m\u001b[0;36m1\u001b[0m\u001b[0;34m)\u001b[0m\u001b[0;34m\u001b[0m\u001b[0;34m\u001b[0m\u001b[0m\n\u001b[0m\u001b[1;32m   1063\u001b[0m             \u001b[0;32mexcept\u001b[0m \u001b[0mOSError\u001b[0m \u001b[0;32mas\u001b[0m \u001b[0me\u001b[0m\u001b[0;34m:\u001b[0m\u001b[0;34m\u001b[0m\u001b[0;34m\u001b[0m\u001b[0m\n",
            "\u001b[0;32m/usr/lib/python3.10/ssl.py\u001b[0m in \u001b[0;36mrecv\u001b[0;34m(self, buflen, flags)\u001b[0m\n\u001b[1;32m   1289\u001b[0m         \u001b[0;32melse\u001b[0m\u001b[0;34m:\u001b[0m\u001b[0;34m\u001b[0m\u001b[0;34m\u001b[0m\u001b[0m\n\u001b[0;32m-> 1290\u001b[0;31m             \u001b[0;32mreturn\u001b[0m \u001b[0msuper\u001b[0m\u001b[0;34m(\u001b[0m\u001b[0;34m)\u001b[0m\u001b[0;34m.\u001b[0m\u001b[0mrecv\u001b[0m\u001b[0;34m(\u001b[0m\u001b[0mbuflen\u001b[0m\u001b[0;34m,\u001b[0m \u001b[0mflags\u001b[0m\u001b[0;34m)\u001b[0m\u001b[0;34m\u001b[0m\u001b[0;34m\u001b[0m\u001b[0m\n\u001b[0m\u001b[1;32m   1291\u001b[0m \u001b[0;34m\u001b[0m\u001b[0m\n",
            "\u001b[0;31mProtocolError\u001b[0m: ('Connection aborted.', ConnectionResetError(104, 'Connection reset by peer'))",
            "\nDuring handling of the above exception, another exception occurred:\n",
            "\u001b[0;31mConnectionError\u001b[0m                           Traceback (most recent call last)",
            "\u001b[0;32m<ipython-input-61-bc673cd1ce14>\u001b[0m in \u001b[0;36m<cell line: 4>\u001b[0;34m()\u001b[0m\n\u001b[1;32m      2\u001b[0m \u001b[0;32mfrom\u001b[0m \u001b[0mbs4\u001b[0m \u001b[0;32mimport\u001b[0m \u001b[0mBeautifulSoup\u001b[0m \u001b[0;31m# 가져온 값을 '파싱' 해주는 모듈입니다.\u001b[0m\u001b[0;34m\u001b[0m\u001b[0;34m\u001b[0m\u001b[0m\n\u001b[1;32m      3\u001b[0m \u001b[0;34m\u001b[0m\u001b[0m\n\u001b[0;32m----> 4\u001b[0;31m \u001b[0mresponse\u001b[0m \u001b[0;34m=\u001b[0m \u001b[0mrequests\u001b[0m\u001b[0;34m.\u001b[0m\u001b[0mget\u001b[0m\u001b[0;34m(\u001b[0m\u001b[0;34m'https://search.naver.com/search.naver?where=nexearch&sm=top_hty&fbm=0&ie=utf8&query=%EC%B5%9C%EC%8B%A0%EC%98%81%ED%99%94'\u001b[0m\u001b[0;34m)\u001b[0m\u001b[0;34m\u001b[0m\u001b[0;34m\u001b[0m\u001b[0m\n\u001b[0m\u001b[1;32m      5\u001b[0m \u001b[0msoup\u001b[0m \u001b[0;34m=\u001b[0m \u001b[0mBeautifulSoup\u001b[0m\u001b[0;34m(\u001b[0m\u001b[0mresponse\u001b[0m\u001b[0;34m.\u001b[0m\u001b[0mtext\u001b[0m\u001b[0;34m,\u001b[0m \u001b[0;34m'html.parser'\u001b[0m\u001b[0;34m)\u001b[0m\u001b[0;34m\u001b[0m\u001b[0;34m\u001b[0m\u001b[0m\n",
            "\u001b[0;32m/usr/local/lib/python3.10/dist-packages/requests/api.py\u001b[0m in \u001b[0;36mget\u001b[0;34m(url, params, **kwargs)\u001b[0m\n\u001b[1;32m     71\u001b[0m     \"\"\"\n\u001b[1;32m     72\u001b[0m \u001b[0;34m\u001b[0m\u001b[0m\n\u001b[0;32m---> 73\u001b[0;31m     \u001b[0;32mreturn\u001b[0m \u001b[0mrequest\u001b[0m\u001b[0;34m(\u001b[0m\u001b[0;34m\"get\"\u001b[0m\u001b[0;34m,\u001b[0m \u001b[0murl\u001b[0m\u001b[0;34m,\u001b[0m \u001b[0mparams\u001b[0m\u001b[0;34m=\u001b[0m\u001b[0mparams\u001b[0m\u001b[0;34m,\u001b[0m \u001b[0;34m**\u001b[0m\u001b[0mkwargs\u001b[0m\u001b[0;34m)\u001b[0m\u001b[0;34m\u001b[0m\u001b[0;34m\u001b[0m\u001b[0m\n\u001b[0m\u001b[1;32m     74\u001b[0m \u001b[0;34m\u001b[0m\u001b[0m\n\u001b[1;32m     75\u001b[0m \u001b[0;34m\u001b[0m\u001b[0m\n",
            "\u001b[0;32m/usr/local/lib/python3.10/dist-packages/requests/api.py\u001b[0m in \u001b[0;36mrequest\u001b[0;34m(method, url, **kwargs)\u001b[0m\n\u001b[1;32m     57\u001b[0m     \u001b[0;31m# cases, and look like a memory leak in others.\u001b[0m\u001b[0;34m\u001b[0m\u001b[0;34m\u001b[0m\u001b[0m\n\u001b[1;32m     58\u001b[0m     \u001b[0;32mwith\u001b[0m \u001b[0msessions\u001b[0m\u001b[0;34m.\u001b[0m\u001b[0mSession\u001b[0m\u001b[0;34m(\u001b[0m\u001b[0;34m)\u001b[0m \u001b[0;32mas\u001b[0m \u001b[0msession\u001b[0m\u001b[0;34m:\u001b[0m\u001b[0;34m\u001b[0m\u001b[0;34m\u001b[0m\u001b[0m\n\u001b[0;32m---> 59\u001b[0;31m         \u001b[0;32mreturn\u001b[0m \u001b[0msession\u001b[0m\u001b[0;34m.\u001b[0m\u001b[0mrequest\u001b[0m\u001b[0;34m(\u001b[0m\u001b[0mmethod\u001b[0m\u001b[0;34m=\u001b[0m\u001b[0mmethod\u001b[0m\u001b[0;34m,\u001b[0m \u001b[0murl\u001b[0m\u001b[0;34m=\u001b[0m\u001b[0murl\u001b[0m\u001b[0;34m,\u001b[0m \u001b[0;34m**\u001b[0m\u001b[0mkwargs\u001b[0m\u001b[0;34m)\u001b[0m\u001b[0;34m\u001b[0m\u001b[0;34m\u001b[0m\u001b[0m\n\u001b[0m\u001b[1;32m     60\u001b[0m \u001b[0;34m\u001b[0m\u001b[0m\n\u001b[1;32m     61\u001b[0m \u001b[0;34m\u001b[0m\u001b[0m\n",
            "\u001b[0;32m/usr/local/lib/python3.10/dist-packages/requests/sessions.py\u001b[0m in \u001b[0;36mrequest\u001b[0;34m(self, method, url, params, data, headers, cookies, files, auth, timeout, allow_redirects, proxies, hooks, stream, verify, cert, json)\u001b[0m\n\u001b[1;32m    587\u001b[0m         }\n\u001b[1;32m    588\u001b[0m         \u001b[0msend_kwargs\u001b[0m\u001b[0;34m.\u001b[0m\u001b[0mupdate\u001b[0m\u001b[0;34m(\u001b[0m\u001b[0msettings\u001b[0m\u001b[0;34m)\u001b[0m\u001b[0;34m\u001b[0m\u001b[0;34m\u001b[0m\u001b[0m\n\u001b[0;32m--> 589\u001b[0;31m         \u001b[0mresp\u001b[0m \u001b[0;34m=\u001b[0m \u001b[0mself\u001b[0m\u001b[0;34m.\u001b[0m\u001b[0msend\u001b[0m\u001b[0;34m(\u001b[0m\u001b[0mprep\u001b[0m\u001b[0;34m,\u001b[0m \u001b[0;34m**\u001b[0m\u001b[0msend_kwargs\u001b[0m\u001b[0;34m)\u001b[0m\u001b[0;34m\u001b[0m\u001b[0;34m\u001b[0m\u001b[0m\n\u001b[0m\u001b[1;32m    590\u001b[0m \u001b[0;34m\u001b[0m\u001b[0m\n\u001b[1;32m    591\u001b[0m         \u001b[0;32mreturn\u001b[0m \u001b[0mresp\u001b[0m\u001b[0;34m\u001b[0m\u001b[0;34m\u001b[0m\u001b[0m\n",
            "\u001b[0;32m/usr/local/lib/python3.10/dist-packages/requests/sessions.py\u001b[0m in \u001b[0;36msend\u001b[0;34m(self, request, **kwargs)\u001b[0m\n\u001b[1;32m    701\u001b[0m \u001b[0;34m\u001b[0m\u001b[0m\n\u001b[1;32m    702\u001b[0m         \u001b[0;31m# Send the request\u001b[0m\u001b[0;34m\u001b[0m\u001b[0;34m\u001b[0m\u001b[0m\n\u001b[0;32m--> 703\u001b[0;31m         \u001b[0mr\u001b[0m \u001b[0;34m=\u001b[0m \u001b[0madapter\u001b[0m\u001b[0;34m.\u001b[0m\u001b[0msend\u001b[0m\u001b[0;34m(\u001b[0m\u001b[0mrequest\u001b[0m\u001b[0;34m,\u001b[0m \u001b[0;34m**\u001b[0m\u001b[0mkwargs\u001b[0m\u001b[0;34m)\u001b[0m\u001b[0;34m\u001b[0m\u001b[0;34m\u001b[0m\u001b[0m\n\u001b[0m\u001b[1;32m    704\u001b[0m \u001b[0;34m\u001b[0m\u001b[0m\n\u001b[1;32m    705\u001b[0m         \u001b[0;31m# Total elapsed time of the request (approximately)\u001b[0m\u001b[0;34m\u001b[0m\u001b[0;34m\u001b[0m\u001b[0m\n",
            "\u001b[0;32m/usr/local/lib/python3.10/dist-packages/requests/adapters.py\u001b[0m in \u001b[0;36msend\u001b[0;34m(self, request, stream, timeout, verify, cert, proxies)\u001b[0m\n\u001b[1;32m    499\u001b[0m \u001b[0;34m\u001b[0m\u001b[0m\n\u001b[1;32m    500\u001b[0m         \u001b[0;32mexcept\u001b[0m \u001b[0;34m(\u001b[0m\u001b[0mProtocolError\u001b[0m\u001b[0;34m,\u001b[0m \u001b[0mOSError\u001b[0m\u001b[0;34m)\u001b[0m \u001b[0;32mas\u001b[0m \u001b[0merr\u001b[0m\u001b[0;34m:\u001b[0m\u001b[0;34m\u001b[0m\u001b[0;34m\u001b[0m\u001b[0m\n\u001b[0;32m--> 501\u001b[0;31m             \u001b[0;32mraise\u001b[0m \u001b[0mConnectionError\u001b[0m\u001b[0;34m(\u001b[0m\u001b[0merr\u001b[0m\u001b[0;34m,\u001b[0m \u001b[0mrequest\u001b[0m\u001b[0;34m=\u001b[0m\u001b[0mrequest\u001b[0m\u001b[0;34m)\u001b[0m\u001b[0;34m\u001b[0m\u001b[0;34m\u001b[0m\u001b[0m\n\u001b[0m\u001b[1;32m    502\u001b[0m \u001b[0;34m\u001b[0m\u001b[0m\n\u001b[1;32m    503\u001b[0m         \u001b[0;32mexcept\u001b[0m \u001b[0mMaxRetryError\u001b[0m \u001b[0;32mas\u001b[0m \u001b[0me\u001b[0m\u001b[0;34m:\u001b[0m\u001b[0;34m\u001b[0m\u001b[0;34m\u001b[0m\u001b[0m\n",
            "\u001b[0;31mConnectionError\u001b[0m: ('Connection aborted.', ConnectionResetError(104, 'Connection reset by peer'))"
          ]
        }
      ]
    },
    {
      "cell_type": "code",
      "source": [
        "soup.slect('.this_text')[0].text"
      ],
      "metadata": {
        "colab": {
          "base_uri": "https://localhost:8080/",
          "height": 184
        },
        "id": "bvtNJaLhbog2",
        "outputId": "50203210-b671-494f-b900-40a774f9dfb8"
      },
      "execution_count": null,
      "outputs": [
        {
          "output_type": "error",
          "ename": "TypeError",
          "evalue": "'NoneType' object is not callable",
          "traceback": [
            "\u001b[0;31m---------------------------------------------------------------------------\u001b[0m",
            "\u001b[0;31mTypeError\u001b[0m                                 Traceback (most recent call last)",
            "\u001b[0;32m<ipython-input-62-ba173b5371ff>\u001b[0m in \u001b[0;36m<cell line: 1>\u001b[0;34m()\u001b[0m\n\u001b[0;32m----> 1\u001b[0;31m \u001b[0msoup\u001b[0m\u001b[0;34m.\u001b[0m\u001b[0mslect\u001b[0m\u001b[0;34m(\u001b[0m\u001b[0;34m'.this_text'\u001b[0m\u001b[0;34m)\u001b[0m\u001b[0;34m[\u001b[0m\u001b[0;36m0\u001b[0m\u001b[0;34m]\u001b[0m\u001b[0;34m.\u001b[0m\u001b[0mtext\u001b[0m\u001b[0;34m\u001b[0m\u001b[0;34m\u001b[0m\u001b[0m\n\u001b[0m",
            "\u001b[0;31mTypeError\u001b[0m: 'NoneType' object is not callable"
          ]
        }
      ]
    },
    {
      "cell_type": "code",
      "source": [
        "for i,j in enumerate(soup.select('.this'))"
      ],
      "metadata": {
        "id": "eEIX5Ed-bxWe"
      },
      "execution_count": null,
      "outputs": []
    }
  ]
}