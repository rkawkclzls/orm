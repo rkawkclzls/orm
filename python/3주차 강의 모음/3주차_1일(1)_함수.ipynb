{
  "nbformat": 4,
  "nbformat_minor": 0,
  "metadata": {
    "colab": {
      "provenance": []
    },
    "kernelspec": {
      "name": "python3",
      "display_name": "Python 3"
    },
    "language_info": {
      "name": "python"
    }
  },
  "cells": [
    {
      "cell_type": "markdown",
      "source": [
        "# 1.함수와 인사하기"
      ],
      "metadata": {
        "id": "3bF7J3n9sY8N"
      }
    },
    {
      "cell_type": "code",
      "source": [
        "#1. 함수 만들어 보기\n",
        "\n",
        "def woaks():\n",
        "    print('woaks')"
      ],
      "metadata": {
        "id": "EaxXtHbUsgnc"
      },
      "execution_count": null,
      "outputs": []
    },
    {
      "cell_type": "code",
      "source": [
        "# 들여쓰기\n",
        "def my_funtion():\n",
        "    print('1') # 함수의 본문 시작\n",
        "    print('2')\n",
        "    print('3') # 함수 끝\n",
        "\n",
        "# 함수의 실행\n",
        "my_funtion() # 실행을 할때는 def와 :는 필요없다."
      ],
      "metadata": {
        "colab": {
          "base_uri": "https://localhost:8080/"
        },
        "id": "SD_uSS-2s-Pc",
        "outputId": "e1a3459f-ac33-478d-d235-6afc2732c2ca"
      },
      "execution_count": null,
      "outputs": [
        {
          "output_type": "stream",
          "name": "stdout",
          "text": [
            "1\n",
            "2\n",
            "3\n"
          ]
        }
      ]
    },
    {
      "cell_type": "code",
      "source": [
        "# 들여쓰기결과 예제\n",
        "def my_funtion():\n",
        "    print('1') # 함수의 본문 시작\n",
        "    print('2')\n",
        "print('3') # 함수에 종속 되지 않는다.\n",
        "\n",
        "# 함수의 실행\n",
        "my_funtion() # 실행을 할때는 def와 :는 필요없다"
      ],
      "metadata": {
        "colab": {
          "base_uri": "https://localhost:8080/"
        },
        "id": "VOL_DBp3uPeP",
        "outputId": "f3233336-e1c7-4e3d-f4f5-c6587eddb8a8"
      },
      "execution_count": null,
      "outputs": [
        {
          "output_type": "stream",
          "name": "stdout",
          "text": [
            "3\n",
            "1\n",
            "2\n"
          ]
        }
      ]
    },
    {
      "cell_type": "code",
      "source": [
        "# 함수 설명 예시\n",
        "\n",
        "def funtion(x,y):\n",
        "# def: 선언, # funtion : 이름\n",
        "    z = x + y # 입력 x,y(매개변수),# x + y : 연산\n",
        "    return z # 반환 계산된 변수 z를 반환\n",
        "print(f'function(10,9) = {funtion(10,9)}')"
      ],
      "metadata": {
        "colab": {
          "base_uri": "https://localhost:8080/"
        },
        "id": "XGfq_zsdwuV3",
        "outputId": "1832f7e6-a959-4357-8c1b-4e0a022a35dd"
      },
      "execution_count": null,
      "outputs": [
        {
          "output_type": "stream",
          "name": "stdout",
          "text": [
            "function(10,9) = 19\n"
          ]
        }
      ]
    },
    {
      "cell_type": "code",
      "source": [
        "def funtion_name(x, y):\n",
        "    pass #임시로 값을 넣는 기능!"
      ],
      "metadata": {
        "id": "Zznjk5Tbtv5T"
      },
      "execution_count": null,
      "outputs": []
    },
    {
      "cell_type": "code",
      "source": [
        "def funtion_name(x,y):\n",
        "    return x + y"
      ],
      "metadata": {
        "id": "EV022TJP5UJ3"
      },
      "execution_count": null,
      "outputs": []
    },
    {
      "cell_type": "code",
      "source": [
        "def f():\n",
        "    print(1 / 10)\n",
        "\n",
        "print('hello')"
      ],
      "metadata": {
        "colab": {
          "base_uri": "https://localhost:8080/"
        },
        "id": "iF6oAbTA5ZeS",
        "outputId": "dd923a3b-aa16-48a5-c1b9-6551c8bf2147"
      },
      "execution_count": null,
      "outputs": [
        {
          "output_type": "stream",
          "name": "stdout",
          "text": [
            "hello\n"
          ]
        }
      ]
    },
    {
      "cell_type": "code",
      "source": [
        "def test(x , y):\n",
        "    z = x * y # z = 10 * 9\n",
        "    return z # z만 가지고 서는 출력이 되지 않는다!\n",
        "# 1. return을 함수 내에 지정하지 않았을때\n",
        "# print(f'test(10, 9) = {test(10, 9)}')\n",
        "\n",
        "# 2. print()문을 사용하지 않았을 떄\n",
        "test(10, 9)\n",
        "\n",
        "# return z 는 funtion에서 z의 값을 반환 (print문 값을 출력~)"
      ],
      "metadata": {
        "colab": {
          "base_uri": "https://localhost:8080/"
        },
        "id": "irgWtVJq5gRI",
        "outputId": "7c8f820b-3a92-4f28-bedb-60107f9e1adc"
      },
      "execution_count": null,
      "outputs": [
        {
          "output_type": "execute_result",
          "data": {
            "text/plain": [
              "90"
            ]
          },
          "metadata": {},
          "execution_count": 14
        }
      ]
    },
    {
      "cell_type": "code",
      "source": [
        "# 호출 test(10, 9)로 함수 호출\n",
        "# 함수는 호출되지 않으면 실행 되지 않는다.\n",
        "\n",
        "def test(x, y):\n",
        "    return x + y\n",
        "test(10, 9)"
      ],
      "metadata": {
        "colab": {
          "base_uri": "https://localhost:8080/"
        },
        "id": "LHRAwcIo8Cw8",
        "outputId": "276edf58-e1a6-4d7e-ed2a-2c4c7e183649"
      },
      "execution_count": null,
      "outputs": [
        {
          "output_type": "execute_result",
          "data": {
            "text/plain": [
              "19"
            ]
          },
          "metadata": {},
          "execution_count": 15
        }
      ]
    },
    {
      "cell_type": "code",
      "source": [
        "# 입력매개 변수가 없고, 반환값이 없는 함수\n",
        "\n",
        "def test():\n",
        "    print(\"hello world\")\n",
        "\n",
        "# 함수 호출\n",
        "print(test()) # 반환값이 없어 None 이 나온다."
      ],
      "metadata": {
        "colab": {
          "base_uri": "https://localhost:8080/"
        },
        "id": "90YOE19s8Ne8",
        "outputId": "1cc081f2-a42d-4f92-fc8a-21539352cbde"
      },
      "execution_count": null,
      "outputs": [
        {
          "output_type": "stream",
          "name": "stdout",
          "text": [
            "hello world\n",
            "None\n"
          ]
        }
      ]
    },
    {
      "cell_type": "code",
      "source": [
        "# 파라미터가(매개변수가)없고, 반환 값은 있는 함수\n",
        "\n",
        "def test():\n",
        "    return 5\n",
        "\n",
        "result = test()\n",
        "print(result) # 매개변수가 없어도 return으로 5를 변환 받았기 때문에 5가 나온다."
      ],
      "metadata": {
        "colab": {
          "base_uri": "https://localhost:8080/"
        },
        "id": "3gvHP3h382IU",
        "outputId": "58bb4fb5-3b74-4efe-e451-fa7f674cc9db"
      },
      "execution_count": null,
      "outputs": [
        {
          "output_type": "stream",
          "name": "stdout",
          "text": [
            "5\n"
          ]
        }
      ]
    },
    {
      "cell_type": "code",
      "source": [
        "# 입력 매개변수가 있고,반환 값이 없는 함수\n",
        "\n",
        "def test(name):\n",
        "    print(f'Hello,{name}!')\n",
        "\n",
        "# 함수 호출\n",
        "test('woaks')\n",
        "print(test('woaks'))\n",
        "\n",
        "# 함수선언시 'return'값이 없으므로 None을 반환함(None값은 할당되거나 출력되지않아 안보임)\n",
        "# 이후 test('woaks')에서 woaks을 매개변수로 하는 함수를 부름.\n",
        "# 함수는 매개변수 'woaks'을 받고 Hello,woaks!을 출력함."
      ],
      "metadata": {
        "colab": {
          "base_uri": "https://localhost:8080/"
        },
        "id": "hurDY_ck9l7V",
        "outputId": "a50d43ee-b3aa-42f2-b334-221495852470"
      },
      "execution_count": null,
      "outputs": [
        {
          "output_type": "stream",
          "name": "stdout",
          "text": [
            "Hello,woaks!\n",
            "Hello,woaks!\n",
            "None\n"
          ]
        }
      ]
    },
    {
      "cell_type": "code",
      "source": [
        "# 입력 매개변수가 있고, 반환 값이 있는 함수\n",
        "\n",
        "def test(x, y):\n",
        "    sum = x + y\n",
        "    return sum\n",
        "\n",
        "# 함수 호출\n",
        "result = test(5, 3)\n",
        "print(result)  # 8출력\n",
        "\n",
        "# 예제함수로 써보는 코드 실행 순서 예시\n",
        "\n",
        "def test(x, y): # 1번(함수 선언), 3번(2번에의해 함수 호출)\n",
        "    sum = x + y # 4번(sum변수에 매개변수연산 결과를 넣음)\n",
        "    return sum # 5번(sum값을 반환함)\n",
        "\n",
        "result = test(5, 3) # 2번(매개변수가 5와 3인 test함수 호출),\n",
        "# 6번 반환된 sum값이 result에 할당\n",
        "print(result) # 7번 반환된 sum을 출력"
      ],
      "metadata": {
        "colab": {
          "base_uri": "https://localhost:8080/"
        },
        "id": "UNwSqEiB-NXG",
        "outputId": "708c7a3c-2715-4f38-9263-774f2e32f38b"
      },
      "execution_count": null,
      "outputs": [
        {
          "output_type": "stream",
          "name": "stdout",
          "text": [
            "8\n",
            "8\n"
          ]
        }
      ]
    },
    {
      "cell_type": "code",
      "source": [
        "# 나아가기\n",
        "# print와 return의 구분\n",
        "\n",
        "def test(x, y):\n",
        "    z = x + y\n",
        "    print(z)\n",
        "print(f'test(5,7) = {test(5, 7)}')"
      ],
      "metadata": {
        "colab": {
          "base_uri": "https://localhost:8080/"
        },
        "id": "6LndZy-_BXH9",
        "outputId": "774d0642-4d14-4f6b-ad1d-00a36c9995c7"
      },
      "execution_count": null,
      "outputs": [
        {
          "output_type": "stream",
          "name": "stdout",
          "text": [
            "12\n",
            "test(5,7) = None\n"
          ]
        }
      ]
    },
    {
      "cell_type": "code",
      "source": [
        "print(print('hello'))"
      ],
      "metadata": {
        "colab": {
          "base_uri": "https://localhost:8080/"
        },
        "id": "tz7NMOHwGOk2",
        "outputId": "588e51f8-e722-4215-8212-cb2284ce0f47"
      },
      "execution_count": null,
      "outputs": [
        {
          "output_type": "stream",
          "name": "stdout",
          "text": [
            "hello\n",
            "None\n"
          ]
        }
      ]
    },
    {
      "cell_type": "markdown",
      "source": [
        "# 함수의 아규먼트와 파라미터"
      ],
      "metadata": {
        "id": "H-9fQI0nG3DG"
      }
    },
    {
      "cell_type": "code",
      "source": [
        "# 파라미터\n",
        "# 파라미터는 함수정의떄 사용되는 변수,파라미터는 함수 호출때 들어온 값을 변수에 할당함\n",
        "\n",
        "def test(x, y):\n",
        "    return x + y"
      ],
      "metadata": {
        "id": "L4oyzmGxG6MY"
      },
      "execution_count": null,
      "outputs": []
    },
    {
      "cell_type": "code",
      "source": [
        "# 아규먼트(argument)\n",
        "# 아규먼트는 함수를 호출할 떄 전달하는 실제값,이값들은 함수 호출시 파라미터에 할당\n",
        "\n",
        "result = test(5, 3)"
      ],
      "metadata": {
        "id": "tGhwurDDHFDz"
      },
      "execution_count": null,
      "outputs": []
    },
    {
      "cell_type": "code",
      "source": [
        "# 파라미터와 아규먼트 예시\n",
        "# 파라미터의 기본 사용\n",
        "\n",
        "def f(a, b, c):\n",
        "    print(a, b, c)\n",
        "f(100, 200, 300)\n",
        "f(a=100, b=200, c=300) # 출력: 100 200 300\n",
        "f(c=300, a=100, b=200) # 출력: 100 200 300"
      ],
      "metadata": {
        "colab": {
          "base_uri": "https://localhost:8080/"
        },
        "id": "0F2Tj2yCHSFA",
        "outputId": "c7af4f86-fdfa-47e1-9f83-9ca9954c1a63"
      },
      "execution_count": null,
      "outputs": [
        {
          "output_type": "stream",
          "name": "stdout",
          "text": [
            "100 200 300\n",
            "100 200 300\n",
            "100 200 300\n"
          ]
        }
      ]
    },
    {
      "cell_type": "code",
      "source": [
        "# 기본값을 가진 파라미터\n",
        "\n",
        "def f(a = 10, b = 20, c = 30):\n",
        "    print(a,b,c)\n",
        "\n",
        "f() # 출력 : 10 20 30\n",
        "f(100, 10)\n",
        "f(a = 100, b = 200, c = 300)\n",
        "f(c = 300, a = 100, b = 200)"
      ],
      "metadata": {
        "colab": {
          "base_uri": "https://localhost:8080/"
        },
        "id": "_c8mThghHYbb",
        "outputId": "06aab647-6b34-449a-806b-5c2c20a1a931"
      },
      "execution_count": null,
      "outputs": [
        {
          "output_type": "stream",
          "name": "stdout",
          "text": [
            "10 20 30\n",
            "100 10 30\n",
            "100 200 300\n",
            "100 200 300\n"
          ]
        }
      ]
    },
    {
      "cell_type": "code",
      "source": [
        "# 일부 파라미터만 기본값을 가지는 경우(잘못된 예)\n",
        "# 파이썬에서는 기본값이 없는 파라미터가 기본값을 가진 파라미터 뒤에 올 수 없습니다.\n",
        "# 이 코드는 오류를 발생시킵니다.\n",
        "\n",
        "def f(a = 10, b = 20, c):\n",
        "    print(a, b, c) # error"
      ],
      "metadata": {
        "colab": {
          "base_uri": "https://localhost:8080/",
          "height": 147
        },
        "id": "o2MwugQ-HxO6",
        "outputId": "91eaaf73-103c-4503-9687-acfb8f197ad9"
      },
      "execution_count": null,
      "outputs": [
        {
          "output_type": "error",
          "ename": "SyntaxError",
          "evalue": "non-default argument follows default argument (<ipython-input-41-b8bef4d24772>, line 3)",
          "traceback": [
            "\u001b[0;36m  File \u001b[0;32m\"<ipython-input-41-b8bef4d24772>\"\u001b[0;36m, line \u001b[0;32m3\u001b[0m\n\u001b[0;31m    def f(a = 10, b = 20, c):\u001b[0m\n\u001b[0m                          ^\u001b[0m\n\u001b[0;31mSyntaxError\u001b[0m\u001b[0;31m:\u001b[0m non-default argument follows default argument\n"
          ]
        }
      ]
    },
    {
      "cell_type": "code",
      "source": [
        "# 일부 파라미터만 기본값을 가지는 경우(올바른 예)\n",
        "# 해당 예제는 b와 c 파라미터에 기본값을 설정했으며, a는 기본값이 없습니다.\n",
        "# 기본값이 없는 파라미터에는 반드시 값을 전달해야 합니다.\n",
        "def f(a, b = 20, c = 10):\n",
        "    print(a, b, c)\n",
        "\n",
        "# print(f()) # error\n",
        "f(100, 10)\n",
        "f(a = 100, b = 200, c = 300)\n",
        "f(c = 300, a = 100, b = 200)\n",
        "# print(f(c = 300)) # error"
      ],
      "metadata": {
        "colab": {
          "base_uri": "https://localhost:8080/"
        },
        "id": "z5HAiEQ_H9op",
        "outputId": "512dfb0b-4f24-41df-a701-f3d6f730f9de"
      },
      "execution_count": null,
      "outputs": [
        {
          "output_type": "stream",
          "name": "stdout",
          "text": [
            "100 10 10\n",
            "100 200 300\n",
            "100 200 300\n"
          ]
        }
      ]
    },
    {
      "cell_type": "code",
      "source": [
        "# 이 예제는 a 파라미터에 기본값이 없으며, b와 c에는 기본값이 설정되어 있습니다.\n",
        "# 함수 호출 시, a 파라미터에는 반드시 값을 전달해야 합니다.\n",
        "\n",
        "\n",
        "def f(a, b=20, c=30):\n",
        "    print(a, b, c)\n",
        "\n",
        "# print(f()) # error\n",
        "print(f(100, 10)) # 출력 : 100, 10, 30\n",
        "print(f(a=100, b=200, c=300)) # 출력 : 100 200 300\n",
        "print(f(c=300, a=100, b=200)) # 출력 : 100 200 300\n",
        "# print(f(c=300)) # error"
      ],
      "metadata": {
        "colab": {
          "base_uri": "https://localhost:8080/"
        },
        "id": "lcuUxkjqIOLI",
        "outputId": "b4957d16-1e61-4bce-c157-e920cd7ea80d"
      },
      "execution_count": null,
      "outputs": [
        {
          "output_type": "stream",
          "name": "stdout",
          "text": [
            "100 10 30\n",
            "None\n",
            "100 200 300\n",
            "None\n",
            "100 200 300\n",
            "None\n"
          ]
        }
      ]
    },
    {
      "cell_type": "code",
      "source": [
        "# 나아가기\n",
        "# 컨벤션 자료형을 아규먼트로 넣었을떄\n",
        "# 아래와 같이 함수를 만들어 호출하면\n",
        "# 외부에 있는 a 변수가 영향을 받게됨\n",
        "\n",
        "def add_element(my_list):\n",
        "    my_list.append(1)\n",
        "a = [2, 3, 4]\n",
        "add_element(a)\n",
        "print(a) # 출력: [2, 3, 4, 1]\n",
        "\n",
        "#위와 같은 코드는 함수 안에서 동작할 때 아래와 같은 화살표를 가지고 있습니다. id로 주소값을 찍어보면 같은 곳을 가리키고 있다는 것을 확인할 수 있습니다.\n",
        "#주소값을 출력하는 것은 여러분과 제가 출력결과가 다릅니다.\n",
        "# 두 개의 출력 결과가 같은지만 확인해주세요."
      ],
      "metadata": {
        "colab": {
          "base_uri": "https://localhost:8080/"
        },
        "id": "P0K-XGK3KhX6",
        "outputId": "3e768085-b7c3-4d3d-97cd-47938e6220ed"
      },
      "execution_count": null,
      "outputs": [
        {
          "output_type": "stream",
          "name": "stdout",
          "text": [
            "[2, 3, 4, 1]\n"
          ]
        }
      ]
    },
    {
      "cell_type": "code",
      "source": [
        "def add_element(my_list):\n",
        "    my_list.append(1)\n",
        "    print(id(my_list)) # 출력: 135115033605760\n",
        "\n",
        "a = [2, 3, 4]\n",
        "add_element(a)\n",
        "print(id(a)) # 출력: 135115033605760\n",
        "print(a)  # 출력: [2, 3, 4, 1]"
      ],
      "metadata": {
        "colab": {
          "base_uri": "https://localhost:8080/"
        },
        "id": "VKK2uC3vLAW5",
        "outputId": "cb4268b1-05fc-48c2-8147-2b879e16d147"
      },
      "execution_count": null,
      "outputs": [
        {
          "output_type": "stream",
          "name": "stdout",
          "text": [
            "133516826640448\n",
            "133516826640448\n",
            "[2, 3, 4, 1]\n"
          ]
        }
      ]
    },
    {
      "cell_type": "markdown",
      "source": [
        "![]('![image.png](![image.png](data:image/png;base64,iVBORw0KGgoAAAANSUhEUgAAAeAAAAI3CAYAAABDB4ifAAAgAElEQVR4Aey9CZgcV3X2P/LGvoQtmAQSwj/whWyAIcTYgGxN160eyQZCBgh7yIeTfCQQthDIQxhIQjCLJUvTVd0zWiwBAQZb1nT3jCRvwiEEEgw4YBswZrNJMDYGG/AizUy9f79VdWda49GsXd11q189T2tmeqm693dO1dvn3nPP7evrkX9DQzhuaD1O6OvDuvldHurDcZUBPDbwcEpYwouqHt42bDA8bDAeGHw29KL/Dgy+E5roR6GHn4dedFdoEIUGmH14uCfwcEfg4ZbAi74blHB1aHBlxcPeoISw5uHtlX78UdiPp/Nc89uQ/I11bCPbuvDrelYEREAEREAEHCAwNojjKa5zTU3EN9iIXwoMnhsa/FVYwp7Qw5cqHm6u+ZjZtRHg44L0sXMA2DEAjJaBER+opo9Z4U1F2D5f85P38jP8rD2OPW7VIOK5wlL0Xzx3xeBNNR+ns01JO+e+ILDtkBjPmU+/iYAIiIAI5JNAHOU+FScNDeKk1haODeIBFYqch3dWDS6xYktxpDBSLCmuoYeZ0GCq9RF40XT6/EwwP+ptjYDT39P3zPAz8WfnHS80mKFI85xW6Ed8vhc/rJRwSWDwrqCE59fOwgNb+8A+1c7BiYqOW6nodxEQAREQga4SiCPdeHh5rhnDG/DIioeXDnu4oFKKvlv1Ee3elESlFNtUKGOxTYWS4js3pJzd7xy6ni/0M2wTRZltpEDHbTbYNdyPl2wt49FzPUuGqQfvje7nntNvIiACIiACItBBAhTeViH6kIcHBQYbA2/mo4HBrekQcBQLrhdNBwZ3Bx6OUHCXE812SJDjLwNxmzwcCeO55Giabb5gIyL2oWJwa2jw8dDDJvYxQYx17D8fHUSuU4mACIiACPQyAQ7DoiWZqtKP3woN/jn08e00iow4ZxsPHXMIObtoNtOIOY7MPcywL4yM2bfQw7eDEv55cz9+a84HsK71i8jc8/pNBERABERABNpAoFV4GfmFHs4M+nFx1eBuzudSqBjZ5i3CXesXgNY+becw9UYOU0d3hR72VT2ULFp+KdEcsaWhnyIgAiIgAmsmwAQkO9TKZTrbDF48bPCf28uImMhUNWCCFOdzOzWPm2nku4Rgx31ln9n37UkC179Xynj10Hrcn7DJiglbCy25WrMxdAAREAEREIHiE+CwaqvwVjz8cVCK/otDselwbJzMlKf53CXEs23CnfZ5isPsOwaSLyKBh+sCH69JxLevj9GwhqaLf52ohyIgAiLQNgLxUOp6nGDneZlYVfHwxVh4OczMRCqDI50Su7yfhywqHo5sLydZ3hwdqBr41iAcNbAs7XP6KQIiIAIiIAJHEWDhCTuPWRnA04ISmhTeXQOx8Ebpmty2RZJ5F9eVtC+Nimd2DiAiM7KrDeB3CZhMLdejgOsPERABERCB3ibQmkC042w8JDD4yGg5uovJVfHcblIkQ8K7nIzuhFU8RzxSxj0VDx/aWsZD6WGJCM9V2+ptr1PvRUAERKDHCdROwYl2rne4hBcFPr5N4a2aeAkRk6skvKtgEC9jMtE0s6a5RGubhzJdLU7SOoVJWvonAiIgAiLQowSSqk7sPKs9BSXs4dDpaBlRD2U1Z/rlIl7CZDBFpswar3gY2fxCPJzMOTesTOkevfTUbREQgd4lwKFQG/VWDM4IfHwnHm72cDgV30yFqQej6ikma7GgR2ii71VK8Oh9FGHNDffudaiei4AI9BgBe8Pnz2EP/8gCGszgTYZMNdyc5ZcDMrajDMMlvLfVFj3mhuquCIiACPQWARv1bivhcRWDSy5IIjK745Ci3lXM9a5YsD3McH6d0TBtQFvQC60Y95ZHqrciIAIiUHACcZZzuk3gthJOq5roRlZyCry4gpWEtxPCO+8cZJ9UEotuPN/Dc+iCW8u4n+aFC34xqnsiIAK9RADrDqXbBQ57eM2ojzvjIeekfKTEd54wrjiiXcPnOd/OKYDRMu7Z1o8/pVcmttJSpV66QtVXERCBAhIY6ptLtgoN3sf5Rw5/KtEqP3PdtAVtQiGueBiiG9Juqp5VwAtSXRIBEegNAgDW8cHeBiWEezbNbpzATekV+eaIAZcrUYQ/ehawzUOFNuOcsLVfb3iseikCIiACBSBgb9y1s/DAwOCTTLZSlnPuv3Twi9EUl4PRZrVT8EC6orVlAdxSXRABERCBYhOwmc7nno2HhCaaZLathpxzL76zIxK0FW1W9XFwKC5hiXXWpsX2XPVOBERABBwmwLlDNr+yHg+u+tGhWHw97Vzk2pA7d5yKbedHh2hL2tTa1mH3VNNFQAREoJgEkht0XF7y/oGP/fFQpofDromP2ptE64GHw7RhzUczWZ7U16fErGJeu+qVCIiA0wTmEq5qBh9nMo/mfN0Zdj7Wlw7akLakTemeyXywlig5famq8SIgAsUiYIcnQw/nK+HKfeFtFWSKcDIcja30WmvrYnmweiMCIiACDhIYSytcVT28kzdqZtK23sD1eyEEOcmOLuEf6KJDqc0ddFc1WQREQASKQSDZ0q6vL/Tx2pEyEHqY4ZpSiW4hRLc1MzoKvWg6rmBWwivpvdb2xfBk9UIEREAEHCJgi/cP+zh1xMcvqiws4WFG4lss8Z21Z7yJQzwf/PNKWjtay5McumDVVBEQgWIQsPOAlfV47IjBDTvi7QQlvrNilaMqV+1sU+BhhuVEaXPant5sfaEYnq1eiIAIiEDOCdjlKDUf48lyo2i6nTd6HSu/UTSTstLlSeN0U+sLOXdZNU8EREAE3Cdg5/6qBu/gjVhJV/kVywy/yCRbGfp4Jz3a+oT73q0eiIAIiEBOCdg5v/MNzqiZOOqNlHTVewKc2jyq+Zja0o/T6a7WN3LqumqWCIiACLhLwA41sj7wqI+vxhmxSrqazRTOMNrM5Tk4H8wtDEcMrn3/BjySnm19xF0vV8tFQAREIIcE7DBj1WAztxbU0HPvRb7zv2RwPpi+wO0m6bKKgnN44apJIiACbhMYHMTx7EHVx4YRP17ny7W+Wu9b0Gzn+UK7yN9R4CFiJBx4KNNHrK+47fFqvQiIgAjkgkBS+5d7+9Z8fJXLUDj8uMhNOZdDpmpvNhG7XZpUM7j6vFPxgMRlVS86F5euGiECIuA2ATusWCvj3azzXPG05EhifrSYcw9h+kbo4z30djtd4bbnq/UiIAIi0EUCtsjC8ACeXCvjjrjalYaeFeHfd+g9om/UTPTTSj9+iy5rfaeL7qtTi4AIiIC7BOxNNPTwCRXcODrqUxR8NA+7a1LVn/kYPd6WKnXX+9VyERABEegSATv0XPFx+og/e7NV4tV9oz9FxHNMIvpKxeAMuq31oS65sE4rAiIgAm4SsNFv1ceBnXHileZ+FfXOfhFb8EsHo+CdG+MNG/bT6xUFu3ntq9UiIAJdJGAjl9DHi7jRgnY5Wlx4JMxzfFglK16WZNBPF7a+1EV31qlFQAREwDUCWDfi49+17GhOXCS0S7OYjYJ9xFGwqmO5dt2rvSIgAl0jYCOWqsELOJyo6Hdp0ZEwH8Uorg/OKLhSgkdHtj7VNafWiUVABETABQJ23q7qY9+ujSy6oblfCexRArvg/G8rI/pM7DtGUbAL17zaKAIikAMCLeJ7anVuva8yn+eyfJcUn1Yh6vXf6UPVATyTrm19KwduriaIgAiIQP4I2KHC0Meo1v2uLOrrdbGd339GwfShqoft9HTrW/nzerVIBERABLpMwC472lbC40IT3VbzAe31KxGeL6zL/Zu+Qx+qGvw4PBO/Qve2PtZlV9fpRUAERCBfBGz93pqPN+7mFnOa+9Vw8xqH3m0UTJ+it1sfy5fnqzUiIAIi0FUCdvcarKsZfEFLjxT5LjfSXfR9HmboSyM+/nMu+rW+1lWH18lFQAREIB8EbIJMYPDcdMMFRn9KvlpjBLioOPXGsWMfihP6SjiN3m59LR+er1aIgAiIQJcJ2ASZ0GALh59DgymJh6LgNvnA1O4kGWsz3dz6WpddXqcXAREQgTwQSIYEh9bj/oGH61lAITSYadPNV/OovRHpLmbnmbQ05fVjT8VJicdrGDoPV77aIAIi0GUCNiIJPZyZ3ig19CzRXExQV/yarQ9d9bGB7m59rsuur9OLgAiIQHcJ2JthbQD/ouFnDTtnNPIxRd+q+fgXerv1ue56vs4uAiIgAjkhEHr4EjNWVftZItx2EU6zocN+fCkn7q5miIAIiEB3CdiM1NDD74QeDjMDWsU3JMDtFmD6VNWPud5d3YCn0uut73X3CtDZRUAERKBLBOxQYNXgT1V6UsLbbuFtPd5sUQ4Pr6G7W9/rkuvrtCIgAiLQXQL2JhgafFwCLAFuFcx2/24FODT4V3q99b3uXgE6uwiIgAh0kUDtFJxY8/BVzf9KgNstukcdL50Hpq/R5xKX13KkLl76OrUIiEC3CQQ+nhIYTKUVsLQESUuQVrzM6CihPTa/KM4x8HCYPke/1zxwt69+nV8ERKCrBGo+BncOcPMFFd9YppBkJVDFP66HGfpa2I8X0+k1DN3VS18nFwER6DaBqsEHNP+r4edOfPlomQc+l36v3ZG6ffXr/CIgAl0lUDO4WAIsAe6wADfo9BqC7uqlr5OLgAh0k8Cu9bh/tYRrt7P+s4agiz8EfOz52c703cMMfS0o4Vr6Hn0ffUrE6uY9QOcWARHoEoGawcmBwS/SIglKwOq2QBX//HFBjsDDneGZ+BW6/dw+wV26CHRaERABEegGgZqHZ9eSCkWdiYCKLzDiuAwb0+dGfDyLPq9h6G5c+TqnCIhA1wlUSvgTrf/V/G8n5n9nz8FhaGZCG7yEF4Ayobt+G1ADREAEukEg9PB32gFJAjwrjsuIXtvw3ikm/VVK+Fv6vDKhu3Hl65wiIAJdJxD4+MieTfEGDFNtuLFq+LUzAuY0ZxZ9oc+FBlt4AUiAu34bUANEQAS6QaBSwqe0BEkRcIe/fMURcODhE/R5zQF348rXOUVABLpOIPRweVIFK5ru8E3Y6SiOrJg5HmePK4ltRbZkMY5dG+MvPQeSC0DLkLp+I1ADREAEOk8gNPjaKNcAG5WhXNYXEB+oDSTCW+kH+AhbnlvWMXp9mDrdlCHw8IW+2TXAEuHOX/06owiIQFcJhCa6ccSP54C1BngpYfTjxCFsOT0uJIFdLwEueClQLQPn87lUjCXCSwzpp8U4KiV8fWgQJyUXgAS4qzcCnVwERKDzBEIPP07XAUuAFxFgDjUPnwlsfyHwX3uAW78F3PNz4PAvgJ98D/jSJ4CdLwaGN6TD0oscSwKNmWTUJbqxdhYeSK9nNaxDhw6dUPTH2NjY8UNDQ8f19fWt6/zVrjOKgAjkikBgcHe6DeGK5vF6SUQovpUNwM5B4JbrEf+LZoCf3Qz87IcAf+e/W74JjJ6VRMcclu4lRivpa2AQjbAcpYf/3ePhQbwgerEcJYB111577UljY2MnpaKcq3uDGiMCIpAxgZXcOHv1vRxi3vo84L8vSoT2ztuAxjuBkY1AdQCYeHcSCfPVK7cCW05L5ol7lddS/aYAc9QlMLh98wt/+nC6eKNx6FH1ev0djUbjfRMTE+9pNBpDBXz87fj4+OvHx8f98fHx/29ycvJ+rZc3o39GyK3P6XcREIECE+DNcKkbpl6PN6rAx18LHDoPGH87cP5zk+Sr0AM++DTghisTcb5uMnmNoi1uCzNoFeDtg3c8gpdXsznxr1/4whdwxRVXTF9xxRX8WbjHZZddhoMHD6LRaET3ftm4u16vX9NoNHbU6/UXj42NxRzIgkKsiLjAN111TQQsAYnEwiKxEBfOAX/oGcBHngVsW59EuUzC+sSfAT/6ZiLA37wM2Pr8JDFroWPouSThz0bAVoDr9fp7KboHDx6coUgV9XHppZfi8ssvx2c+8xkcOnSIXzIi9rVer/9w3759H6rX60/ktcnhaQCcK9Y/ERCBohLQFoTLF2CK7qffAFz1ceB/vgr87BZg+kgivDPTyc/rL5cAL/UlozUCrvXjYby2OBxbr9ef1Ww2n1uv108v4mN8fLxUr9df1Ww2/2nfvn0X1+v1b01OTsaCfOmll0YU5maz+bPx8fFzG43Go8hFQ9JFvfOqXyLQ19cXergjLiahoehjDhlzOJnie+U2AFEquFPAT28EbrwK+OJHgZu+pAh4KeG1r1OA5ydh9aLQHDx48EEXX3zx+nvFdrher998ySWXYP/+/TP8Wa/Xf9BoNF7Im5SGpHWrFoGCEghK0W1ahnTsKNhmQO/+E+Du2xORvW4/sGswGWZmdvS5vw98bTx57RuXKgK2QrvIz2QZkodv71qP+/PS4pBr0ZcgtfZv/heOZrP5S81m862NRuOHFODJycmZAwcOgNEw54PJR/PCBb0Jq1u9SyD08O04GlEEvGAEHGdAPx/Y97ZEYI/clRTfYEQ8clay7Ihzwzd9OY2AJcALcjxKjNNCHIGHa2qn4MTk6uu9QhwU1KuuuupELkOiwJLD+Pj44+7NkP4Yh6abzeYRzovX6/WL7Hvs+3r3jqWei0CBCIQeror3ZvVUivIokUgLacQFOM4APnnO3HzvwfcC5z07iXS3PAe4cksivvxfc8DHHk2wfFkLOt6D2kSfm7uUek+A5/qe/GYjXf7FueLJyclf3LskK84GpwjbZUsS4fnk9LcIOEog8HCpNmNYWjRY8/n7X0yj4DuB6y8Dvvwp4H+/mggz54MlwEtzpAjbzRgCD3VeNr1YhONYtwuKK4eq+frevXtPnZycvJXRMCPhZrM51lJBS5W0jgVRz4uAKwQq/TMf43aEoYH2Az5G+cg4Ct4A7Hk5cOMXgYiJWDYZaxq4/INJeUoK8NcPaA7YRrqL/JzanewHvIvXydggVHxi3g2DQ9N86uKLLz6FItxsNqeZJc1CJXzeivS8j+lPERABlwgEHj7IzdG5SfoiN8yl5/WOIV5FOaYVYc73jv0FsH8ImPwHYPfLko0YdrwoEegdfxSXWOx5XovZnb5Gnws9/Auvlbl5YJeunOzbakV2fHz8eelwNBOzprmciWefn8iVfYt0BhEQgbYSqHr4a+7NymHBxW6aei3JeuZWhMNnJKUpWZ6SOyDVyK+UbE3In2K1OAP6Gkdd7i1F+Td05qH1iIdc2+rYBTkYk6/YlYmJiT9nVnSanHXN2NjYg/m85oMLYmh1ozcJjJRw9nbtB7wy0fSTHY9UbnJxoV3ki8gMfa7ajxfwqtMQ9OL3Hrv8iHPAXKLE+eADBw68m5+yUfLiR9CrIiACuSSwbQC/y+HVRW6Weq3gw+vdsD134Kr143d5UQwNqeTiYjcHK8AXXnjhb05MTPyUpSsnJyd/sHfv3sfwc4qCF6On10QgxwR2lvHo0CTFOLQxg76IZC3Gc2Uoo9u2lvFoXhrKgl76BmHneycmJs5jPWlu7NBsNt/BTyoKXpqf3iECuSTA4T+uBY7XZWotsKL9rKN9DzP0tYqHL84NPWsN8FI3BxsFc7OGZrN5G0V4YmLi6lqtlhYy6dOypKUg6nURyCOBqsHYbi1FkvhmLb7J8eMlSIGHT/BaUALW8u8INtJtNBof55KkiYmJ6UajsZ5HsBHy8o+md4qACOSCQOjh7+OsVGVCS4QzFmGbAU2fo/NLgJd/C7Aiy/2DOQ/MZKxGo/F+HsGK8/KPpneKgAjkgkClBE9D0Jr/zXr+Nz6+hxlWXgt9GDr/3DB0Li6FXDfCDkPv27fv8c1m8xYK8Pj4+GfTRmsIOtfWU+NE4BgEav14QtWLfppukh515EaccaSlPuTvC4VNwOIWmMNn4tfojkN9yoA+xmW54NM247ler3/h0KFDjIB/yJ2U+Gb72oIf1JMiIAJ5JJAkwAQGX1BN6PyJVpG+SHD4OY5+PXw+uRKUfLXSO4Idhm42m7U0Ar6nXq8/g8cB9GVmpTz1fhHoKgE7BFgz2KZ5YAlwloJv53+HDYbp9Nb3unoBOHZyK8CNRuOdFGBWxhofH/djnmNjqqntmD3V3B4nYG+CwwYv2KmSlErCynBqII6ANwL0tVgwtAnDiu8+Ntmq2Wy+jgLM5UiNRuOlPJB9bcUH1QdEQAS6Q8DOwY2W8as1Hz/WPLCi4CyiYDv/WzPRT5hzQG+3vtcdz3fzrFZkm83mK7kUiQ/+zt7Y19zsmVotAj1KwN4IQ4PLNA8sAc5EgO38r8FlvMysz/XoJbfqbluRrdfrr5IArxqjPigC+SFgh6GrHt6W7tOqrQkzHIrNQuAcOGZcgIM+Rs+3Ppefq8CNllgBVgTshr3UShFYkoAthh/24+k1gyPpzVzLkSTC7ZoTj7j5QtXgcNXg9+mQ1ueWdE694SgCEuCjcOgPESgWgarBf6ooh4ah2xpR2+Ibs8uPinXNdLI3EuBO0ta5RKBDBGxJwMDgHaoLLQFuqwAbJPWfDd5Fd7a+1iHXLtRpJMCFMqc6IwIJATskGPh4SuBFd6V7BGsYWsPQax2GjuhLgYc7t3n4P/Q262u69lZOQAK8cmb6hAg4QcDuy1otoblrgDfNaLrNkdBab+b6vGNfCOhDuzbG878NXgTWx5y4IHLYSAlwDo2iJolAOwjYzNSqh5dqHljD0G358pXu/xsavIQ+an2sHf7ai8eQAPei1dXnniBgo5MPeXjQSBnXj5aB0MNMW27EjkVu6nNbvoDM0IdqPr5Jn+JFZH2sJy6oDDopAc4Aqg4pAnkhYCOU0TLezTXBGoZuixD15NA5fYc+VPMxRP9W8tXar3IJ8NoZ6ggikFsCtkIRywXWTPRTJWNJgFczGsDSk/Sdqh/dttnHr9PhrW/l1vkdaJgE2AEjqYkisBYCNgoeKSPUDkkS4FUJMKPfjXH0q52P1nIxzvusBHgeEP0pAkUjYJeJVPrxWzWDO1nFiBHNam7E+kxPCnjsKyM+jgQeTuH1YX2qaNdKp/sjAe40cZ1PBLpAwEbBoz5qmgvuSRFd9bx1PPe7ERgt4+N0XQxpo/h2XcIS4HaR1HFEIMcEbMQSevidqod74mIKioJXLUq9MhIQz/3GGe/RdHUAz6SLW1/Ksbs70zQJsDOmUkNFYG0EbBQcGuxgMYXQQLskaTnVUl9CprilZWgwSu8bHMTxa/NCfbqVgAS4lYZ+F4ECE7BZq1vOwFPijdRZUlBR8FIC1LOv0zdqPsDs+a1lPImXhvWhAl8mHe2aBLijuHUyEeguARsF23XBFZWn7FmBXWoYnXO/zJqvGbybXmt9p7seXKyzS4CLZU/1RgQWJWArF517Gh5S8/GN7aqOJQFeaBjeQ1L1yuAG+gqdyvrOog6mF1dEQAK8Ilx6swi4T8BGMoGPV8bzeypPKRGeL8IeZriBR+jhZfR46zPue3++eiABzpc91BoR6AgBO5dX83GRdkrSsqTW4WhOSzBJj75BZ7S+0hHH7LGTSIB7zODqrgiQgL2pBmfgKVWDO7QsSSJMEbaJVyo52Zn7hAS4M5x1FhHIHQFbTL9axl+rRKUEOBbgNPoNDV5Ph7U+kjvnLUiDJMAFMaS6IQKrIWATa2oGF0uEe1uE7W5HVR/76EsquLGaK2pln5EAr4yX3i0ChSJgh6K39OMJIz5+oD2De1SE57Keb9rm4Yl0cglw9pe6BDh7xjqDCOSagM1wDT1sGmFxDq0N7rmsaNo8tn0/NtJZrU/k2nEL0DgJcAGMqC6IwFoJ2Btu4OH9HIpWmcqeioSnkukHvJ9+ZH1hrT6lzy9NQAK8NCO9QwR6gADWjfWxzi/W1Xw04xuyakUXPhIODKbiJUclNGl77XTU2UtdAtxZ3jqbCOSWgE3I+vB6PKrm45odAxyOxkzrGlH9XpzImLZlIZYRH18/z+ARdEzrA7l10oI1TAJcMIOqOyKwFgI28aZSwtNGffyYSVmBh3hDdolvocQ3om1Hy9GPtvbj6fQZa/u1+I8+uzICEuCV8dK7RaDwBOzaz20lnD3iR9NVg5lQkXBxhqM9zFRNND3qYyZIk66szQvv3DnroAQ4ZwZRc0QgDwTsDXnYw2tGygBv2Nq60P0ImDbkFyralLXA6WvW1nnwu15rgwS41yyu/orAMgmMDeIkvrVi8FYm6qSZ0RqOnr9xgTt/03Zx0lXg4y20be0cnLhMd9DbMiAgAc4Aqg4pAkUhMDjIzOi+vtDDe3ZThJM1whJhd0TXDp1HtN3uTRzNwHtpUy036v5VKgHuvg3UAhHINQGbnFMzOJc38FDD0VbUnPiZTB0k4hsanEtnszbNteP1QOMkwD1gZHVRBNZGAOtstFQxeF86HH1EiVn5nxNOl5Ed4bruqsE/0A8SW2Ld2nxCn24HAQlwOyjqGCJQcAJcH2pFeNjHG0fLmKkxi1bZ0bmNgmmbmsHMaBnRthLeRBelDbXWNz8XqwQ4P7ZQS0Qg1wR44x5KE7O2engFlyjVfESqHZ2/SDit7RyN+JjaVkqznQdxEqDIN08XmQQ4T9ZQW0TAAQI2Eq4YnDHq44esplTRBg65iYRpi7jCVRm3DHso0aWszRxwr55qogS4p8ytzopAewjYG3qwAb9XM7iOyVmKhLsfCdMGcaazh2uGz8Bv09rWVu2xvI7STgIS4HbS1LFEoIcI2AIOwxvwyKrBxekuSkckxJ0XYm6qEBoc4VIx2oI2oStaG/WQWzrVVQmwU+ZSY0UgXwQYXXFecagPx1VKePeInyT9pIKQm2HZItexJmvWdSZ72oC2oE0U+ebrWlmoNRLghajoOREQgWUTYLGO2ilJRaXQw5k1E31vNho22sghK/FPS4PGla1CE90YGPTTaLSFLaCybCPqjV0hIAHuCnadVASKR8BGXKGHxwT9+CTXC4+UlSWdhQBzmJ+bKZBxpYRP2e0ErQ2K513F7JEEuJh2Va9EoCsEWGHJrjOteHhp1eDmtPzhjDZzaMvcMPdnniHTmsGPKyW8loaOl4gN4biuGF0nXYdZQZ0AACAASURBVDUBCfCq0emDIiACCxHgHKRN/qkZnBwa/Ov2AWB7GVHFg5K0VlFHmhFv4OEwOe7gsi9/5mMVD48nf0a9ZL6QLfRcvglIgPNtH7VOBBwlgHUUYVv4ITDYGJRwbTws7cfzwlOKiJcREXvgyMEUh5sZ9YYevlbxcBadglEvxdeOODjqKD3dbAlwT5tfnReBbAlQIOyWd6yiFZTwlqqJfkQh5r60aba0dle6b1QckQ1LSaZ1nG+uGLypdhYeSIuRqR1lyNaCOnqWBCTAWdLVsUVABGIC8dKYe0tZ8o8tG/DLgYcP1gzuiOeH58pZSohNkrTGEp/J3Hn0E7KqDOCxZBcP72u4OfapIvwnAS6CFdUHEXCCwL3rhVuStIYH8OTQYKRmcCfFhpsGcAOBXhyaZp/ZdzLYw6piBrdXSvjwln48gaa1w8196ZcYJ8ytRi5JQAK8JCK9QQREoJ0EGMUly2WSiLhawm+GBu8LPfyQQsxkrdBgiklHRd7yMK4Y5uEwh5q3lwEOy4cm+lFYwrk2wSrObl6PE5Rk1U4PzM+xJMD5sYVaIgI9RYDFIlqTiLh+OPTwxorBl7l+mHOfNX+2xnRRkra4jGiK4su+sY/pWumvsO/BRvxS4gRJEhtHDHrKKXqssxLgHjO4uisCeSNAER7jVnnp8CqTi1hRKzDYHRjcyshw50ZE1TR7mgLGtbBZFLjI5JjJnsls81TVINo1gGjnxniY+dawhD3DJWywlcTSoeaTkhGCvFlK7Wk3AQlwu4nqeCIgAqsk0Fq/OBmeZvJRYPCn1RKanBdlxLhrIyLWPg7ThKV4jWyOSl4m87lctxtNs41s6wUbk4g+5NyuhwkW0Kitx6MSUElfoWh3lX7j7sckwO7aTi0XgcISYAQ4f96T86JVg1eHHj7B2scjPqILNiXDuBS5qh+vk42HeNMIuVNZ1TPpfO4M28D5XH5R4Hz2CIfQS9H3Ag+fqBi8upYmVVnDcYhZ0a6l0Xs/JcC9Z3P1WAScIRAvu1mPE+ZvLrC1jIeGJZwWGLwr9LCPgszhY25Ezyxi/rSiHHC4mgldBneHHu5Jk7uY/HSECVDpWuR4iDgd3o6fS187ws+mn7mHxwg8HKHAU2x5Dp6LYsuffD7w8P3QYJxtq/o4dcdpeEgr8PjLBYuUKKO5FUtP/i4B7kmzq9Mi4B4BijDnhxeKGCuDePC2Ep457OF1VQ8fTIesv8khX0anLN+456xEKBmdUiz54PN8MGptfdjn4/dtnItoKe4sB5kOe98eGFwflNAMPZwXenhdWMbT5wsuSVvRnf9Fwj0rqMXtJCABbidNHUsERKAjBDh0e2g9Tthaxv1sAtP8E1P0tpXwuKAff1jx8MeBwV8EJbw39FCpGoxVDC4JDD4bGny54uEbFYOv8xEYXFfx8cXQw+dDgwPcbSgoIQw8/OO9SWFvCEt40bCHZ282OJltmH9e/s02sW18XZnMCxHScyQgAZYfiIAIFIJAmkEcL23qdMEKJlAlkXmSUFUIoOpE5gQkwJkj1glEQAS6R+De6ltp4Q87fB0PB89W5KJgLiSayfMUdZsoZYeR458qB9k9kxbozBLgAhlTXREBERABEXCHgATYHVuppSIgAiIgAgUiIAEukDHVFREQAREQAXcISIDdsZVaKgIiIAIiUCACEuACGVNdEQEREAERcIeABNgdW6mlIiACIiACBSIgAS6QMdUVERABERABdwhIgN2xlVoqAiIgAiJQIAIS4AIZU10RAREQARFwh4AE2B1bqaUiIAIiIAIFIiABLpAx1RUREAEREAF3CEiA3bGVWioCIiACIlAgAhLgAhlTXREBERABEXCHgATYHVuppSIgAiIgAgUiIAEukDHVFREQAREQAXcISIDdsZVaKgIiIAIiUCACEuACGVNdEQEREAERcIeABNgdW6mlIiACIiACBSIgAS6QMdUVERABERABdwhIgN2xlVoqAiIgAiJQIAIS4AIZU10RAREQARFwh4AE2B1bqaUiIAIiIAIFIiABLpAx1RUREAEREAF3CEiA3bGVWioCIiACIlAgAhLgAhlTXREBERABEXCHgATYHVuppSIgAiIgAgUiIAEukDHVFREQAREQAXcISIDdsZVaKgIiIAIiUCACEuACGVNdEQEREAERcIeABNgdW6mlIiACIiACBSIgAS6QMdUVERABERABdwhIgN2xlVoqAiIgAiJQIAIS4AIZU10RAREQARFwh4AE2B1bqaUiIAIiIAIFIiABLpAx1RUREAEREAF3CEiA3bGVWioCIiACIlAgAhLgAhlTXREBERABEXCHgATYHVuppSIgAiIgAgUiIAEukDHVFREQAREQAXcISIDdsZVaKgIiIAIiUCACEuACGdOBrqAP64b6cNzQEI4bG8Tx9jG0Hie0Puzz/Mn38jP8rANdVBNFQAREYHkEJMDL46R3LYcA1lEwD63HCWODOGlrGffjT9wruMv59EreQ0HmsYfW4/78yXMODuJ4ifRKKOq9IiACXSUgAe4qfudPHkeoafQKLByhUix3nI2HhGfiV4YNnlH1UAp8DFY8/Fno4c2Bh7eHHt4T+hjiIzB4b9XgHaGHN1YMXh8avGS4hA2VEp622eDkWj8exvMuBC+OsNP2HOs9C31Oz4mACIhAxwlIgDuO3OkTtgoch4ZbO8O/t2zAL9c8PDv08drQ4NzAYKzi4T/CUvS9wODuwCCq+cD2MrBzANi9KXl89Cyg9bFnE3DBJmDXRmD7AMDP8LOBF90Vergp9PD5qsFY6OFfwhJeG3g4JfTwGCzQJju0rei41Vr6XQREoOsEJMBdN4EDDUiGlhnJtjaWw76Bj6cE/Xh51WA48PHvgcGtoxTXjQBFlALL3/kcRbTKh0nENPQwE3jRNB+hwVTrY/Z5vscg4mf4WR4jPn4q3jwHhXwkEehbY2H2UGGbgjPwlNo5OLG1zenQ9fF9mk9uxaLfRUAEukFAAtwN6m6cM05+mo0ok+Hl4Q14ZOhhU8XD+aHBl2tedBej1As2JkJLIQwNoqPE1cNM/JyJX+Pra30sePyRNKpmW9im0MM9gRd9pWKwreLhLLY9IZ/0JY7mZ/vnhk3UShEQgQIRkAAXyJht6ArnTZk81Tq8HD4Hjxk2eFVQwkUVg1s5fEyR2zGQim0avcZRK8V37QK7KoFOh6hbo+mIw9ds6/YyIrY9NLgwNHgVh8otLvY1TRhbcF7Zvk8/RUAERKCtBCTAbcXp7MEovK1JS7vW4/6MdMMS9lC4GFHu2pjM3wZJRBsPGVP0uiW4S503bVvSTg8zHL6O+zHAIfDotqo389GqjwH21RpuPgf7vH6KgAiIQNsJSIDbjtSpA3LpDkXHJiht8/DE0MPfBx6uS6PHOGkq8HCYDw4tLyV8uX09nnOO+3GE88n8QsEonn0NDN61pR9PsMYjFz7s3/opAiIgAm0nIAFuO1InDnj0/G5fX8XHswKDnTUftzOxacdAHNky65hDuqsaEs7959IEL/aVyWJVg5+HBrtqA/hda0QmbbUOx9vn9VMEREAE1kxAArxmhE4dgJFuEu0miUjbSnhmxcOnR3wc4VxpzY+X+lB03Y10V/6FYYbD6hyiThkcCQz2b+vHemtcCrEdJbDP6acIiIAIrImABHhN+Jz5cBzJJVWp4nKO1QE8c1sJF1F444xhkywFyvOcbtYRdcuc8Uy6dCqqeNi/1eAPaGgKcFx9a95yLGecQA0VARHIFwEJcL7skUVrhlgZKhWNYCN+I/BmPlrzo+lEeONIl4lKuU2mylp4Fzg+WUxxvjtdY3wk8LB7ZABPpn3iLzP3Ms3CVjqmCIhADxGQABfX2PE8byoUH+jHwyoG76v6+DmHWSkwcVKVhPeY89uMiAMPR8iKc8ScHydDlsKk1/CLzbHKbxbXq9QzERCBthGQALcNZa4ORPG1c5ZcThQYfIfJVSM+q0/11PzuMQV2gcj3mO8lM7KjEAcebgh8nE2Dk7GStHLl+mqMCLhDQALsjq2W19KkbCTfWxnAY4N+fJJLbVg8o9uFMlYieHl8bxIRR9NkSabDHi6w1bVa11Avz056lwiIQM8TkAAXxwXiud50yJm7DVUNbrbDzU6v3115VvMxI9m2CHtaiIRsqwY3bfPwQnpRK//ieJV6IgIikBkBCXBmaDt4YKzjzZ8n3FrGQ4c9VFlEY4RLipIykUqwar+Ix2xHy4gzpocNRvd4eBBtkNhi4a0ZO+gUOpUIiEDeCUiA826hpdo3J76Bj9+rGly9O9mI4HChi2i0X1BXFTXHjD0cZjQcGFxNG9BiEuGl/Favi4AI9EmAXXYCrLPlEsMSXlXzo7u4bEbC2/nKXUzS2hXvWxzdNVzCq+hViW0UCbt8hantIpApAQlwpngzO3iyrjfJwK2UcC6Ft6YM51VFsW2ZF+Yex0k1rXjtcMXgXDstYNdgZ+YMOrAIiICbBCTA7tntUMt8b8XDXptoFXgqptEuMV3tcVIbTHHJF21z3ql4AJcqWZu5521qsQiIQGYEJMCZoc3kwDaqqnh4fOjhS+ncoypZ5WROOBVuJmilJT7x5eEB/BqdwdouE8fQQUVABNwjIAF2x2b2Bj68AU+uGVyfzPfi8GqjNX0u27liVhpLpwa+cX4Jv0lPszZ0x+vUUhEQgcwISIAzQ9vWA9tCD8Menl0zuDXZx7bAWwXmK6Jd9dwy54VjETa4ZXgDTqVTWFu21UF0MBEQAfcISIDzbzN7wz7f4IyRcnRbUtVK5SRdieApwrTZiIl+ShvS46xN8+99aqEIiEBmBCTAmaFty4Frp+BEHmjYw/NGyrhjNC4pKfF1RXxtOynCIz5AG27px+m0qbVtWxxFBxEBEXCPgAQ4vzaz84VbNuBZVT+6LRFfDTtbUXPtJ9dn04YjPm6tbMCz6HnWxvn1QrVMBEQgMwIS4MzQrunAtsDGZh+/XvWj76aRL7OdVz0fqc92n13gYYrD0bVS9L2tZ+JJdBINR6/pUtGHRcBdAhLg/NnOFm7YWsav1gyu3ckyh9pCsDBfPBgJ79oI0Labn4uT6YHW5vnzRrVIBEQgMwIS4MzQrvLASenCoUGcVPNxkHWd0w0VCiNAisQTm6a7KV2xtYz7Jc6ispWrvGj0MRFwk4AEOF92s3OCgcHuC7j5e7KbkcS3gEPvtC1tXPWwnV5obZ8vj1RrREAEMiMgAc4M7YoPbG/AVQ9v4xBlKPHthS8eU7R14OHtdBjrAyt2Hn1ABETAPQIS4HzYzN54qz4GRsuYCr1oOjCq7Vz04erYxkl29NRwCQP0RusL+fBMtUIERCAzAhLgzNAu+8BDQziOb/6Ih8fXDG7aPgCESrrqheg36SMLdXA3K4ObPvI8PJ6+YH1i2U6kN4qACLhHQALcfZtxtxy2ouajHm+u4Gmtb9Ej3/n9Y2Z0nJTlYaL7HqkWiIAIdISABLgjmI95EjvcWPXxzjjpSuLbO5HvvMQyuzyJOQB0GOsbx3QevSACIuA2AQlw9+xnhxkrA3ha1SS7Gmnet/vFMuZHp536O7V9VPMxtTnduMEWZOmel+rMIiACmRGQAGeGdlkHPucUnDhqcGWytaCGnjsldnk9D6NgzgePGHzhvFPxgMSJtD54WReT3iQCrhGQAHfHYnZ48d6N29+1h+t9NfTcs0PPC3wZmKJPhCW8m95pfaU7nqqzioAIZEZAApwZ2mMe2A49V8t46oiPn9VMXHAjWuBGLFGaN0/aC4w4FF3zgdEybh82+G06kvWZYzqVXhABEXCPgAS48zZryXoeT4owaOi5F4R1JX20WdE1H+P0UNWK7vx1qjOKQOYEJMCZIz7qBHbnm9DDph1lrfddiSj12nvtfHBYwovoRNZ3jnIo/SECIuAuAQlwJ2131EYLV3OLQRXc6N2s56W+UHAHrHjrQh9XDT0VJyWeqoSsTl6xOpcIZEpAApwp3qMObiOY0QG8Ia3/O7PUTViv97ZAMwrezYQsD2+kM1kfOsqx9IcIiICbBCTAnbGbnffdWsajaz6+rei3t4V12V+sPMzQV2oebqidgofRW60vdcZzdRYREIHMCEiAM0N71IFt5BJ6eA/3+NVORxLg5YqwTcgKPbyZTmV96SgH0x8iIALuEZAAZ28zG7FUBvDY0MPNI34sPhp+7sElRssV3aPel0bBgcF3Nq/HwxOP1Vxw9leuziACGROQAGcMuCViqZXxVm22oMj3KHFd/peQZN/gEt5Cj1UUnP11qzOIQOYEJMBZI04ilfMG8YDQ4DpmtSrzWSK8YhG2GdEG11fW48H0WjuykrUH6/giIAIZEZAAZwQ2PayNVKplvFpFNyS8KxbelgiZy5JYMzz08DK6l/WtbD1YRxcBEciMgAQ4M7TxgW2UUjW4QhsuSIDXJsDRdCzABlcmXqt54GyvXh1dBDImIAHODrCt3zvs4dlrufHqsxLu+T4Q9OMP6bnWx7LzYh1ZBEQgMwIS4MzQzg4RVgy2MflKS48kpPOFdBV/T9GX6FP0XA1DZ3f96sgikDkBCXA2iO3Qc60fD6ua6Ma48IaBlh61zGmuQny0O5RJCnNUPfzgA/0qzJHN1aujikCHCEiAswFtI5Oqjz/ZNcD9fiW+Etw2jQB4mNnBZCyDl9B7ra9l48k6qgiIQGYEJMDZoLVzcyNlfFrZz20SHkXP8QgAK2PRp2oGF9J7ra9l48k6qgiIQGYEJMDtRzs7/Gxwcmii27i5OjdZVwQoIW6HD9CX6FOxbxmcTA+2Ptd+b9YRRUAEMiMgAW4/WjskWPHwCi09kui2Q3TnH8NGwWEZr6AHW59rvzfriCIgApkRkAC3Hy2GcByPWvVnPqbSkxLg+eLZjr/tBg30Mfqa9bn2e7OOKAIikBkBCXB70dqhwHPPxkOqfvRdbTsoAW6H4N7nGC0bNHzIw4MSL1ZhjvZezTqaCGRMwApwo9F4+WWXXYbLL78czWbzNTytfS3jJhTq8HYosNaP07nrUTr3q/lfJVC1ewlVNDsXXMJpvIis7xXqglJnRKDIBMbGxo5n/8bHx88+cOAArrjiCjQajTfxOQnwyi1vb4I1g3dx318OFd4nepEYtVuMevJ49C36WM3D39FTre+t3Gv1CREQga4QaBHg0xqNxjQFuNlsfoiNsa91pWGOntQuCQkM9mv5kYafs/zyNZuIZXCAl4v1PUcvHTVbBHqPwNDQUJwwdPDgwcc3m83bDh06hPHx8fSCTl7rPSqr67Gd/91u8AhVv5L4Zim+6bFnmGNAXzvP4BGr81p9SgREIA8E1tXr9WsZAU9MTHx7bGws2XMUSuxYrnEGBxEP51d8PGt0bv63J4dHOyA+4ppMZcRrgqslPHO5fqr3iYAI5IiAHWpuNpsjTMJqNBqMguPEDiBZUpOj5ua2KXYOLvTwlxp+VgTciS8hs8PQJfx5bi8MNUwERODYBGyy1fj4+CsOHjwYZ0JPTEycy09YcT72p/WKJTC0Hifw94qH6u5NsQBNdeImrHP0tNhPXZD42oj1Q/0UARFwiADSYebJyclH1+v1H1166aVMxLp2z5498fpC+7pDXepKU+0ccGhwmSLgnhbFjg2PMwLeyWz7UnSoK06vk4qACKydgI10G43GDg5DX3LJJZicnHw9j2xfW/tZinsEK76b1+PhoYebRsqza4A7djNWJNx7os+1wPS10EQ3cuvL4l5h6pkIFJiAnevdt2/fcyYmJqY5FD05OfnVycnJ+7HbPRgFr+MXj+X2e6gvmSsf9fDE0GCqmibIOCOKLO4//9Er65Xn9zve6MAxMfcwUzsTTyrwLUpdE4FiE7BLkprN5qcZAVOEJyYm3sxe12q1E4vd+2P2bp2dIz/mO1qKIAQb0O9aBnRQAobPOPpR2eCYAK3hywL7Or//ZOLKl6c4CuaXBg9nLuajek0ERCDHBKwAj4+PP31ycvLnk5OTFOA7PvnJT/4+m90LQ9E24p2YmHhsvV7/QL1ej29qS4mwTcCqlfB/XdoBiUKz88XAhX8FfPr/AWN/AXz6L4GPvza+od9HhKoDQPxoQ5RYLQO1gbkH/26r6Plzx7bniaP8eWL9r3+a9Dnu+/9LWJCJKyIczwMPxPZ6XY5vL2qaCIjAUgSs0DSbzXexNnQqwl8ZGxuL55esSC91HFdft/2fmJjYftVVV+HAgQM/Gx8f38j+2NcW6tuhNAM69DG0x5EMaAre+c8FDv4T4n/RDMAH/930FSCOglOh5XurPrBtPbDt+elr84RsJeJJQaz0A1ufB2x9bvKTUWgswu0QdwqSAbY+Pz0+z/H8ZJi91iL0FNkffSPpc2v/yYRs2v6lYA3MFuE7xaz7ioehhXxTz4mACLhDYB2bes4555y4f//+K5gRzeHoer2+384HF1mEbZTfaDTewi8gExMT0cGDB+9sNBpnkcuxRNhGwKFBQAEODHK/BGm+AB+5C7jxKuB//hv40icSgWTEyIh32xnJ34yO974J+Ogr515fRBiOGdGefzqw+2XA/iHgM1uAS98PfOrPE4Gn8FPsV3NcfoafpXhS5Ot/Cxw6Dzj0EWD87YmgUvTt8SnAV18I/M/VSd/JgP9cE2D6XNVAS5Hcuc+qpSKwMAErsBdddNGv7d+//ybOBVOM6vX6vl27dt2fn7JJWwsfwe1n7TB0o9H4R2aET05ORvv377+rXq9vYs+sSLf20tbhDT1c6MoewFaAD7wvEZ3bvgsE/QDFkdFoPFzrAVtOA/a8Arjh3wBEyXuvqQNbnpOI3LKFktXBStygAvjPXcA9P0uOFaXHnJkGrr8C2PFHwPAqRZjCSoG95J+Bn96UHD/+Pz0H+9h4Z/IeG93yywX7zL7zdf4jE1ciYFuMIzBotPqkfhcBEXCUgBWZiy666Bn79+//4eTk5AyFuNlsXjY+Pv44dmtsbOykY0WEjnZ7ttm2/xThdF301OTk5N3NZjMejmbfZ9/cN1euM+jHFa7MAc8X4J98H9j+wiRKZPRohZUR5N23J8I0PZX8/Nr4ygWY4kixu/qi5Bgc8mW0/dV9wPf/C5g+kjz/v19L2kChtm1Yzk/bH7bX/qMIX7cfuLYJ3P4/ybNTh4G9f5NE2/wM+8qf7DsZ8J9LAhx6mNkR2yv63JxP6jcREAGnCQwNDcWVnS6++OKnTU5O3sztClMR/r6NBvv6+uIs4VSI4+FrpzudNp5RsP1yYUV4YmJiZmJi4m47J3zVVVelmeGJAHMYOjC4enuSEDOzHNHo5nusYNkImOIzclYSpVKUGAFSaPmP4vjV8bkIcaUCHIvveuCT5wAUQP77/PZEBBlhM2o98F7gyD3Ja1d8eGURKI/PoesLXgbceVtyjOsOALWNyXE2nwpc8FLglm8mr33v80mUz88x0mdkzr47KcAG8aYMFYOvF+HaUx9EQARSAnb50d69e3+n2Wxew/lgrhPev38/h6Q/3mw2fyN96zorWhQuRpB2KNdVmGy/FdlGo/G+tO9THI62IpyIdCLAW8u4X2Dwze1M8vHgvABTGH9wNfCLW4F9b02iVytgX9u3sgg4FvvTgc/VEgFkZBpH2R4wenYilBzS/tah5PVvXJoMC/Nzy/mSwvcxyerityQCfPsPgD0vTwSex9/+AoAibKPjO36YZH8zEYwi7LIAcxlSjV9APNzs6rWmdouACByDgJ0Tvvjiix8+Pj7+MQ7JHjx4cCYdmr2jXq/vHB8ff54V62McxtWn+cUi3rKRIsy5cH75OCoxa+hQPFJQOwsPZBUsbhEXGrcF2EaUTEa64CWJeI1sAm75ViKQK42AGWUOnwlc9CbgCzuByX9I5oKtuNqIm3PL/HfDZ1YmwPY4FGK2k5Fv6AHMeOax+RwF+PIPJsfncDSHnCm8rgtwaBDFfTC43dWLTO0WARFYhABFOI1o101MTPxJo9G4gQlKl156acQ9hA8cODBdr9evaTQaHx4fH/+jiYmJpzUajUfZYexFDu3ESzaav3enqPdMTEzY7OjZxCx2YmsZDw1NdNuII1sRxlHpc5P5TspS6xB0nIDFhCYuOepPl+9sBG65PhGwFQswl99QhM9Ikrq4lMmKZjwEnM733poK/H+MrE6AKbqcO47nj9OELArv5uckIsw5Z/77xiUtiViOR8DkyMprgYd7nLiY1EgREIGVE6AI2+QkrgtuNBpvr9fr1zebzcONRiMuX0lRZpTYaDQO1+v1H9Tr9W/U6/Wvuf5oNBrXpH24ul6vz4yPj0cU4snJybsaFzc2kGbw8tt/KTS4ncOBHBacFZhs1n7OCdgqj7+kAPPGzvW/rGvNaHKtApwuEWJEymNaPiMbE1FmZjT/3fXTJOuaETMjO/u+Ff3kkGw/sO9twGfOT+abb/tOcnx+ifjYq5M54/j4BRBgy2blV7U+IQIi4AwBRoJcD2yFeHx8/JfrXCS8fz9F9+5Go8Go8J5msxknbFGQr7jiikI8GOlfeeWVzASP90yu1+uHP/OZz7CfEzTg9j+74xFBwQQ4vrFToNokwFYo7M84Sep04LJzE3Hk/0zAYnGOVpG271/uT36WRUO+9ZnkuFzixH8suvGpc5L5a65vjo9XEAHmlz5nbiRqqAiIwMoItEbAl156qY2Av03BnR8B1+v1uxkBNxqNr7se/bL9S0TAHkkWMQKeFagMBNiKL9fl2iVI/31RUmlrLeJr28ysaGZWf/FjSbGNW29IxXgK+Oxwy3kKIsDs98quaL1bBETACQIUXz7Y2HsF6cXNZvO7HGq+5JJLIka4Bw4cmOEccLPZPG98fHyw2Wz+zt69ex85ODh4vBMdXKKRy5kDPvdsPCTwcEth5oDt0HYGETCjz/NPS7KrbfWpaxppuch0vjgWUtuGZf7kkHJcqzod4mYUzCIbXObEIWlWveI/LoUa+8u5tcAuZ0FbTizIsYQb62UREAHXCFjhTbOg9VLfEQAAIABJREFUd3Mt8IEDByIKcDr/e0G9Xv9DWyXLtf4t0d6ls6APoXBZ0HESlhW9NguwFd8L/xq4+45EEL9+MMmS5lD3WuZ9mdzFpCsOYdtImNE0550rZyZrfX9+S3JOzjlTnPma4wIcL0Pi9McSvqyXRUAEXCJglxbZdcBcejQ5OTnN8oxcknTgwIHftv2hUHNdLB9cumOjRvu6az/Z/pWsA961HvcPPNwQL0NyfB3wSgWYw8ksZEExsxHZQj/5PkajF70RuCutrnXjF5MEL342PsbGdBmR/QJg0qVEZx17XpiizSpbE38PXPUx4LIPpPPWXJKU7rjEpUhs04/SYhwc7rY1o10WYLsdYWCi/3HtGlN7RUAEjkHALiFqrYTFaljNZvP7e/fujesiU6SYkJUUpOjr6UpYY4M4PvTwpbgsYI8IMKNZijWXKzHypAgeJd4tIspIlILXKr7f+feWaljPT17neyjSXFJkRTw+/nNaalS3HJfvYTtYOITiy39TdyfbK37kD5LImhnV/H38b+fmm5kdXZAIOK6EFXi4/hiXsp4WARFwiYDNcp5fC7rRaFyuWtBJHew5e7bUgjaO14J+QSKgRyVBtQxB2637vnpxWglrYyJwTHbi/CoFjvOuR30+XX5EEfzk6+dKRTIC/rdtyU5IzHxmJjQfl38oSZ7i8iSKcKUEXPJ+4CtjwMVvbikh2SLCjIC5gQOrX3EZE//97Gbg37Ym+/te+Abgc9W5c7MSFzd94LywjdpZLcvJUpRpLejAqBb03DWp30TAUQJ2ztfuhsSol/O92g1p6d2QKh72Or0bUimJCuPdkKzA2SzhTYDNJL52Yq64Beddb/pyInqfH02et6JmI9g4+j092eaQ77T7Diefmvvf7oz0ix8nFbjiPYkNwA0a+I9bFzJqnS/wcRSclqNs/j1wz8+T99vj8S/7O8tQfvoNc18UirIbUuhhn6O3HDVbBEQgJRAPI3Put5f3A242m2/ll450F6hl7wdc81F1bT9guxkDyzOy5jN3CmKkGleTSkU4To4qA5w3pRhSCDlMHGcdlwFbwYp77sbPtxTasOLIyJjbBHLPYQ49f/c/gO98Lvmdf/Px7c8C3CiBAs9SkRTg0RcAP70xEdQL/yoZ7l5IgOPzpNWvPvoK4L92Az/4ShLVMrK96UvA50aAHS+aE19G2NyHmHscj78NuON/k/M4tRuSwVTscyWEuouJgAg4TMAOPXMHoFSAWHbx6h07djyE3bLRscNdXLTp6Vx238TExK6rrrqK2d4/O3rjhYU/fmh9kgld8TC0O0n2mbLRX15/xlHpc5Mh4DhCnJmLTLkJQxx9zqtERXHlXCujRn6ew8q7X5ZEnId/DuwabKkwZSNo+zMtRcnlR4xiF3vYLGYen3sR8x8jV1u/+VjzzFbsObTM8/DzFHBuyMDfeU4mXLFGNN/L3215TUblNjK/9P3JfPSxhD5nNp2iz9H3FvZOPSsCIpB7AlZcx8fHf48lFtOax3fs3bv399l4K86578gaGmgzt8fGxh7baDTeX6/Xz+ThrDAf69DcipCvhR5e58x+wGnmMIdjWRuZUec1zeT3z1bmakC3io3d3IDCxAeTo7ielv8Yucbzv/NEu/XzjJhtVvKiP+3xn5dE5Tz+9YeOPfzceg7+zrbx+DxfHMlzeVP6XKt4U4C5LSL7z76TAX+Ph6j5JWORvsw/Z7f+5vpf+lythP97LP/U8yIgAjknYAV4YmLiU9x6j497S0v+LZttlyPlvAtZNG92X+DFDs4MaL4eejjTlUIcVjAYLTKy5YMZyHEWcutmCTaCnfeTgsaIklWl+I9b/fFvPm+PvZafFFBuosDdk/iPOzOxbSs6PgtzpI9W4W1tF79EzPY75UAmre/J8+9chsSlb9US4prki/mpXhMBEcghAbvl3sTExLO53y/Ft9lsfskuRerrK84So2Xij5dX2Yh4qc8MDSVbFtbKeJILWxEeJSgtImXFajmRH4WQEe/+IeCr++aGn48ldEedc56YL/Qa22DnjTn3bLOW23V8e87WPtvf230Oe64MfkbcCSk0mBr18MSl/FSvi4AI5JCAFeBms7mLc7+sdtVoNF7OpvbC0PNaTYK+ZClSrR8PC0104wh3EHJgR6Q1C0K6z++WdG51zcebL8x23vj0o9cFt/0888/ryN9xEQ6OOHi4afN6PHytfqzPi4AIdJiAjfIOHjz4mEaj8SNWu5qYmLieWw6yKfb1DjfLsdO1rAUuRYd2buTcYzTdC0LBqJHDxVlFjYy04+M7IoqdtDl9bBfXSxtc5tgFo+aKgAiQgE0wajQar2Dkyy0Em83mB/iaot/l+8hsIpbByAWOZEJ3Uix0rkzmlW0GdHX5nqp3ioAI5IaAFdlmsznCnY0ajQaLbpzOBtqh6dw0NscNmU3EKuHPGZX0SgQsYc1EWJeVBDYbAXv4yxxfGmqaCIjAYgQ4zFyv16/lpvPNZvNbY2NjD+D7Nfy8GLWjX7OJWNUSnllLlq9EEqfuiVMvsLcZ0BUfzzraG/WXCIhA7glYgWV950aj8WMKcKPRuJQNt8uSct+JnDTQJmJtN3hE1UQ3xrsiGcz0ghCoj135ohFvwkBfo8/l5DJQM0RABJZLoGX4+Tn1en2aQ9DNZvM8ft6+ttxj6X380pIsRwoNDmgYuiuitKyh2yJ8YbDDz4GH/bz2rO/pOhQBEXCEgBXZRqNxFjddoADX6/W/YfNtcpYjXclFM+08cM3D3+3WPHDPiGE3BJ0CTB+rGbyLzm99LxcXghohAiKwNAErslzzy/W/aQb0a/hJ+9rSR9E7LAF7EwxLOI3zwOlaYM0FawlRu7+MRPEaYOYalHAa/c/6nvVF/RQBEcg5ASuyzWbzlRTfVIBfyWbb13LehZw1L1kPvMfDgwKD78TzwJ7mgbsRIRb6nB6S+V8v+m5lPR7Mi8DmIOTsglBzREAEjkXAiqwE+FiEVv480nngqj/zMVf2Bi60WBUw+ubwM32LPkYPtT63cm/VJ0RABLpGQALcfvR2KDDw8UolYikRK4svNxTgeNctg6RcbLoZSPu9WUcUARHIjIAEuP1o7VBgzeDk0ES3tcwFt3seUMcrYHS7lGBz7jdZZx7dttngZHqw9bn2e7OOKAIikBkBCXA2aO2SkJrBhYqCFQUvJaored0uP6r6+DS91/paNp6so4qACGRGQAKcDVo7DB0avGQHi+UrEUvRepui9cDDDIefqz7+hN5ra5Bn48k6qgiIQGYEJMDZoLVDgtyesOrhB6qKpSh4JVHuIu+drX5F36L3Wl/LxpN1VBEQgcwISIAzQzu7LrNisI0Zq9w0fZEbqyLENkWIBWc8RV+iT9Fz7UhLdl6sI4uACGRGQAKcGdrZubmgH39YcFHQl4cOf3kY9vBseq7mf7O7fnVkEcicgAQ4a8RJYY7Q4Mp42YgXTUuMNRy9Gh+wS4+qBlfQazX0nPW1q+OLQMYEJMDZArZDhKGHlyUCrKpYqxEffSbZX5oZ9VWDV9NrrW9l68E6ugiIQGYEJMCZoY0PbKMUlgusGVy/vayMaInpKkYAPMzEvmNw3XmDiPfq7utLRley9WAdXQREIDMCEuDM0M4e2EYqQQlvYQSjZKxVCFCH51jz9iXBlp6sGbyVjmV9atbJ9IsIiIB7BCTAnbBZEqnseiEerg0aJL6rEPeZEe565OHmygAeS4+1Iyud8F6dQwREICMCEuCMwM47rI1YQg9v1gYNEuEVivAU9/0NPbyHbmV9aZ6L6U8REAHXCEiAO2MxG7GweELN4AZtUygRXpYIp9sO1nx8e+tz8Wh6q/WlzniuziICIpAZAQlwZmjvc2AbuYQ+3rh7U5LVuqybcI/Pf/YyI5adZN5AzeANdCjrQ/dxLj0hAiLgHgEJcCdtlswFDz0VJ9V8XMWsVt5ge1lg1PdFRgJs9GtwNX0m8VRlPnfyitW5RCBTAhLgTPHe5+A2gglLeNH2AUXBEuDFBXhHsmxtEx3J+s59nEpPiIAIuElAAtx5uw314TieteZjXAlZiwhQDw+92y0H6SP0Fc37dv461RlFIHMCEuDMEd/nBLZ+77DBb4+WcTs3V+cm64oGJcb0AfpCzQAjPn5W3YCn0oGsz9zHmfSECIiAuwQkwN2xnd3DNTR4955NsfBop6Qejnhbv3wx+qVPVH28k95pfaU7nqqzioAIZEZAApwZ2iUOnCTTnHcqHjBi8AXNByv6jaNfL5pmzfBRgyvPOQUnLuFEelkERMBlAhLg7llvcBDH8+zDG3BqzY/3Co40FN27QmxtXzU4XCnhafQNDT137/rUmUUgcwIS4MwRL3oCO7xY9fA2rvfk8GPrcKR+7x1Bjus9a+h50etFL4pAoQhIgPNjzqqHCWVF947gtn65isWXBTd81OmRynrOz3WplohAZgQkwJmhXfaB7TDjRzw8vmZwk7Ys7DER5laDA3G1q5s+8jw8no5jfWLZTqQ3ioAIuEdAApwPm80ORfsYGC1jKvSiaTsn2Bop6fdiiXNsYy+aps2rJQzQG60v5MMz1QoREIHMCEiAM0O74gPbG2/g4e3aN7hYQrvIF6cp2po5AHQY6wMrdh59QAREwD0CEuB82czegKsetsfzwSbOjsYiN3C95uj64cBg6gKuAfdxAb3Q2j5fHqnWiIAIZEZAApwZ2lUeOFkfvLWM+1UNrpAIFzMSpvhyj9+aj4PaaGGVl4o+JgKuE5AA58+Ctlb0ZoOTawbXanlSsUSYO2DtTLYYvHZrGb9KD7Q2z583qkUiIAKZEZAAZ4Z2TQe2O99sPRNPqpnoe+nWhSpX6ehws51CCDxMjZZZZjL67mYfv04nsQVZ1uQw+rAIiIB7BCTA+bWZnRPcsgHPqvr4MW/cKtThbjRM29GGoz5+XNmAZ9HzrI3z64VqmQiIQGYEJMCZoW3LgWtpPeCwhNNGDO4Y4c5JHmZsRKWfbggybUbxpQ2Hz8Tz6BzWtm1xFB1EBETAPQIS4PzbzA5HVzbgjFE/+kk6HC0RdmQ4muJLm42W8ePzN+AMepy1af69Ty0UARHIjIAEODO0bT2wvWGf7+E5NYNbuGOOIuH8R78cdt6RVLm6ZdjDs+kU1pZtdRAdTAREwD0CEmB3bGbnC88v4TdrPr6RivBhDUPnU4gDD4dpo5rB9cMb8GR6mrWhO16nloqACGRGQAKcGdpMDmxv4MMD+LXQ4MvxEiWDI6FBJCHOjRBzW8kpruEOPXyp4iX1nRX5ZnJJ6KAi4C4BCbB7tju0Hidwt5zzTsUDqh727mE1JYOpwJMId/tLSGqDWHwrHvZuLeOh9DDazD1PU4tFQAQyJSABzhRvZge3hRsYEVcMzo2HOn3MaF64e1Ew2dd8zMRTAyV8ILER1llbZeYMOrAIiICbBCTAbtotaTXW2SIOYQmvqvnRXem8sDKkO5whzWSr5EtQdBdtQfsktklKi7rsZWq7CIhARgQkwBmB7dhhsc7OCwc+fq9qcHU892hwWEU7so+GU8aHWdeZ7GkDmj6xicS3Y5eBTiQCLhKQALtotfltnhPhPR4eNFzCKKOx0TJmmAykBK1MhDhOtBrxEXGN77CHqp3vlfjO90/9LQIisCABCfCCWJx8kjf+2WjYwwurBjel0fBUqOpZ7du2MWEZJ1pVDW4OShikw7Tyd9KB1GgREIHOEpAAd5Z39mfDOrvcZXgDHjns4QJGw0n1rGg60HKlVQsx2XHImSxZXCP08InRs/HLtGnCXEPO2fu3ziACBSIgAS6QMVu6MjSE47hUiU8FJZwdeLhh9yZgRJnSqxJgZjiTHZd8BQbfCT1sIlsyJusW9PpVBERABJZHQAK8PE4uvguYmxuu9eNhFYP31XzcTiFO1w0fUUS86PxwxGpWZMWh/KqPnwcG722d65X4unhlqM0ikBMCEuCcGCLDZsRzk31JlDYygCdv87C75uMIh6bTuWElah29bIlVxchkhpXGaiaaDryZjwYb8Rs0E9f12rn2DM2mQ4uACBSdgAS46BZO+kfRGBvESXZYeqvBH1Q87B8tI9rJkokm3uJwqpcj4rTvU6GJpim8Iz6ObCvhomoJzyTFeLh5ECepsEZvXDPqpQhkTkACnDniXJ0gFpE0GmbDtvVjfWCwn2LDYdba3H7DvVTMY4bJVTUfERmQRcXDp7elwtvHed6+uTn1XBlUjREBEXCXgATYXdutpeWcu2yN5Gr9+N3QYFdg8AvOEe8YANe5RkVevpQW0YjYVyZX1QxuDwx2VjbgWZZtzElJVhaHfoqACLSTgAS4nTTdOxbLJdpylmz9ln48ITB4V+DhOi612bURUdWP54oPxwlJLq8n9uJa2XE/GOlfsBHR9mRf5etCD38f+vh1MuAoAZcVtXJxz7JqsQiIQO4JSIBzb6KONJCCY9cP84S71uP+VR8DcfKRF/2ECVsU45YhaiYp5XrOeG5ON94pihslxH3g/G7F4NawhD1cTsS+WsjzOdjn9VMEREAE2k5AAtx2pE4fMBWgk1qX12zZgF+uGLw6NLiQwrW9nMyVMnpMy1wmYux1t9AHBTcdVo7bw7Yxiue8LotnsO1BCRcNG7wqfA4eYw3Fvm4t436tX0Dsa/opAiIgApkRkABnhtb5A1OYbNY0E5HYIVbXYtRYMdgWGnw59HAPI0qKHKPkkXIqyvFwL5fvRNPpPDKX9qyqCMYCn4vnpnns1uOP+AAzutmWePmQF90Vt9FgC9vMtidGSfqi+V3nXVQdEAG3CUiA3bZfZ1qfzInOiXFy1topODHw8ZSgHy+veqiEHj4fGNxKEaYYM7GJCV38fbScZFhzPrlq4mpSR4tosu7WRq5TreLKyJaf4Wc5jMxjUWh5bJ6Dv/M5njvw8O9Vg2G2iW07dG997FZG6XKs4+0XitbX9LsIiIAIdJSABLijuJ0/WbyMKd30oXWYmh3DEI4LPTwm8HBKWMJrQw//UjUYozCHHm4KDO6kmFJEOXwdR86piH70LKD1QXG14s3hY36Ga5UDg7vDUvS9iof/CHhsg3N5rpqHZ3OofH6b4ig3be/8LxDOG0MdEAERcJuABNht+3W79Zw3HVpC4PgelsLcbHBypYSnDZewITR4ScXg9aGHN1YN3sESj6GPofjh4T2Bh7eHHt5c8fBngY/B6gaUhg2eEZ6JX9lxNh7SuoSqlYEtv8k2aU63lYx+FwERyB0BCXDuTOJsgxhhcukOh31ZdWtoPe4f/2wp/NGuziGt7JUmT52UnlNDy+0CrOOIgAhkT0ACnD1jnWGOAEU6HsYeiktjxkufWqNoG03zOfvgMLL93NyR9JsIiIAIOE5AAuy4AdV8ERABERABNwlIgN20m1otAiIgAiLgOAEJsOMGVPNFQAREQATcJCABdtNuarUIiIAIiIDjBCTAjhtQzRcBERABEXCTgATYTbup1SIgAiIgAo4TkAA7bkA1XwREQAREwE0CEmA37aZWi4AIiIAIOE5AAuy4AdV8ERABERABNwlIgN20m1otAiIgAiLgOAEJsOMGVPNFQAREQATcJCABdtNuarUIiIAIiIDjBCTAjhtQzRcBERABEXCTgATYTbup1SIgAiIgAo4TkAA7bkA1XwREQAREwE0CEmA37aZWi4AIiIAIOE5AAuy4AdV8ERABERABNwlIgN20m1otAiIgAiLgOAEJsOMGVPNFQAREQATcJCABdtNuarUIiIAIiIDjBCTAjhtQzRcBERABEXCTgATYTbup1SIgAiIgAo4TkAA7bkA1XwREQAREwE0CEmA37aZWi4AIiIAIOE5AAuy4AdV8ERABERABNwlIgN20m1otAiIgAiLgOAEJsOMGVPNFQAREQATcJCABdtNuarUIiIAIiIDjBCTAjhtQzRcBERABEXCTgATYTbup1SIgAiIgAo4TkAA7bkA1XwREQAREwE0CEmA37aZWi4AIiIAIOE5AAuy4AdV8ERABERABNwlIgN20m1otAiIgAiLgOAEJsOMGVPNFQAREQATcJCABdtNuarUIiIAIiIDjBCTAjhtQzRcBERABEXCTgATYTbup1SIgAiIgAo4TkAA7bkA1XwREYDECWDfUh+PGBnH80HqcEP8cwnFDQzgOfVjXN/uYf4zkNb6H7+XjqGP04bjks/M/p79FYPkEJMDLZ6V3ioAI5JoA1lEkca9gdrqZPG987ljQO312nc9VAhJgVy2ndotADxNgRHpoPU7YWsb9aqfgxIVQ8PXNBicPe3h2WMKLhg3eUDH4p4qHaqWET4UGB0IPn6/4+GJgcF3F4Ovxw8M3QoMvBwafrRhcUjUYCwyCisH7AoO/qHj446Aff7ithMdRdBc6N9vEtrENbOtC79FzIiABlg+IgAg4QWCwZRh5foN3nIaHhGU8PfTwutDDeRUPE4HB9YGHOwIvmt4+AOzZBOzeBFywEdjJxwCwI31sLwOtD/s838MHP8PP7jkr+QyPGRrcHhh8s1pCs+rhgzz3tgE8szKIB89vH4WaQ+AS4/lkevtvCXBv21+9F4FcE4jnYNO529aGUnArHp4TGLwrNBgPPHw/NJjZNZAIJUVztAxUfYDPBx6OhAZ3hx7uCTwcDj0cvvezRwKDKT7CeQ/7PN8Tvzf5zD3pMfjZGR6b5+C5KO78GRo+ohtDD/vitpVw2tYyHtradvtFIpmDbn1Fv/caAQlwr1lc/RUBBwjEEeO8odtaP55QNXh14OETQSn63og/F9Eyeo3F1qPYxtHpTCKGVhQz+xlR4GMB9+ZEmRHzBZuAER9RKsifYNsrHh7fip8JYt2Ys25tg37vHgEJcPfY68wiIALzCMyJEbOQ+/pqZ+FRYQmv5ZAyh3xjYduIiJFnaBBRbOOHodBlJrJpZLu84wct7WIb2dZdGxGx7ewDh6wDgz+tDOCxSfeTvh5rPnkeIv1ZIAIS4AIZU10RARcJUHjGBnGSHZJlAtNwCRvCEvYEBrdyvnbXAKJqIrLJcLEXR50rEsYuCnQSIRtMVX1EOzci2rURYN8Cg92hhzM5P0zbkQFZSIxd9OSVt1kCvHJm+oQIiEAbCDAhKRGeJAIMNuKXKgZvCrzoKxy6ZcRY84F0SJnC26lh5cyEndExh6vZJ/aNfdxexkzF4MuhhzeGHh5DtKkQH8/54jag1iFySkACnFPDqFkiUFQCnPek8NqIl/OiocG5oRf9iJEh53PjxCgmSiXzuZkJYhejYoTxfDUOU5DZZ2ZZhx5+GBq87/wSfjOxf7q2WeuLC3k5SIALaVZ1SgTySOBoMdnSjydUDD4cGNzOLOLRMud0MZNGicUU3WPMUyfzxpghAwpxzeDO0GBkeABPpiX5ZSWJhpPRgjxaV21aOQEJ8MqZ6RMiIAIrJBBHvXH5xr4+FscIPHywaqKfxGLjJ8lUTFjqakR6DHHscJvixDLOFadCfAdZtQ5N25GDFZpAb88hAQlwDo2iJolAUQhwqLl2TlKpqnYWHjhs8DdVE/0ont/l+txk/a2E977iH5FNlWubNwJkFpTwlqFBnETfIFMlarl/lUiA3beheiACuSNgk4hstFbxcFZo8DVGdaN+KrxuZTJ3ZUjcJm0xKS3OnC7h2sBgIw0OYF1rElvunEANWpKABHhJRHqDCIjASgjY3Yf4GSZYDRt8PC7zOMCM5oInVt03km2LcDMZreLhyPYyoh1loGLwrzWDk8mYIkzmK7GR3psPAhLgfNhBrRCBQhDg0qLZqNfHa2sGP2bUmy4hcn4ZUYfng+8j3oyIOSzNpLWqwc0VDy+l48Rz7PMqhxXCoQreCQlwwQ2s7olApwjYOcnzDB4RGIxxyDQebi7yUqKMIt6lhJ4R8Uh5tqDHJ22SlrVBp2yu86yNgAR4bfz0aRHoeQJcHmO3BAwM+ln7mOIbF5xQZvN9otilxHW5r6fzw0eShLboe9vurahFZ6QtVMDDjctSAuyGndRKEcglAUZccTJQH46rlPDuET9ey5oU0uhSdLhcASvK+5gtzfXDZE8bcDiaNlE0nMtL5qhGSYCPwqE/REAElksgycDt6xvegEdWDS5mJBamW/wVRdxc6UdaMSyOhmkL2oR2tDZark31vs4SkAB3lrfOJgKFIGCjq2GD3676uIaJVoUuG+lINE8bpAU8rgt8/B6dzdqqEI5XsE5IgAtmUHVHBLImYKOqYQ+lkTJu4Ub0FSVaZTbXu9IonLagTUZ9/LCyAWfQHyTCWV8Vqzu+BHh13PQpEeg5ApxXtFWttpXwyhEfUywQocg3HnrPjQBTsGmTms954Wh6m8HL6aysomWXiPWc8+a0wxLgnBpGzRKBPBGwla3Ypm0Gb2LST42lJFXNKlfC2xot0zY1JsX5mBnegDfSdoyEJcL5ubIkwPmxhVoiAjklMJdRW/HwntlkK4lvbsV3VogTG8XJWYHBe+lgyXC0dlXKw8UmAc6DFdQGEcgxAVa3YvMCHx9MqlpF0+ka1PwLkCPJU7OCmUF7E1slyVm0IW1pbZpjt+uJpkmAe8LM6qQIrI6ATd7hJvG7ucwoSbbS7kUZCGWWIhxv9ehF0xckJSz/gd6gYh2ruyba+SkJcDtp6lgiUCACNuGqYvBWW9lKe/bmL+FqBcLNL05T6a5Kb6GrjqXbGxbIbZ3qigTYKXOpsSLQGQJ2qVHg45Uj5bjwP/fuVeTrXuR71DQBbVg10fSIDwx7eA29ydq6M56ls7QSkAC30tDvIiACszfk4Q3YxAxa3rBDJVwdJWQriDrz9zmPNsVMvESphLPp8hLh7lz4EuDucNdZRSCXBGxyzuYz8QwW2Rgtx3v4KvJ1PPKd/4Uh8BCN+sBoGT/eXMLT6IzW9rl0zII2SgJcUMOqWyKwUgJ2fSi3Exzx8XVWU9I6X6fnfBeNvmnbHQNAzcc1H16PR9FfrA+s1Hf0/tURkACvjps+JQIFI2DX+mK3CIh4AAAgAElEQVRdrYRmnKhjMDU/ctLfxRJk7qQUb2dYQrOvb84HCubcue2OBDi3plHDRKBzBOxyo8DD+9NCGxLfgg07L/LlKRZh2p4eZ32hc97Xu2eSAPeu7dVzEYgJ2BtuYLCR2bGq7VysKHcR4Z0doqbNafvQwyY6hfUJXSLZEpAAZ8tXRxeBXBOwiTfbPDyxZnATk66U8dx7Akyb0/YjPn6wpR9PoNMO9SUV0HLtwI43TgLsuAHVfBFYCwErwFUf+7Snbw8Kb8swO6PgeD7Y4GL6lBKy1nJlLe+zEuDlcdK7RKBwBOzaz7CM1++KM56j6eUMV+o9xRVqK8LVMv6aDm99pHDOn5MOSYBzYgg1QwQ6ScAOL2728etVP7qtxrlfVbqanRPt1S8ZcaUsP658dseWM/AU+qT1lU76Z6+cSwLcK5ZWP0WghYC9qdYGcBGXHFWSTRZ6XoB6VXhb+80omCMiNR8X0WWsr7S4j35tEwEJcJtA6jAi4AoBm+EaengZb7RKuirukHKrsK7odw8zcSEWH6+kX1ufccXHXWmnBNgVS6mdItAGAjax5tzT8JCawQ3Kepb4LijMHma2l+Mo+Bv0Fbqe9Z02uKEOkRKQAMsVRKCHCNhIpmbwbma8crhxwRtwS3asXu9Nkea0BDPja2W8m5eI9Z0eulwy76oEOHPEOoEI5IOAncurlfGkmol+qsSr3hTW5X6hYkIWfaTmRz9RQlY217AEOBuuOqoI5I7A4CCOZ6MCD9s5v8fN2Zd7M9b7elasp5ikF/ZjB31HUXB7L2sJcHt56mgikEsCswU3BvDM0ETTVaNlR/pSsfSXipZlSfeEHn6Hzm19KZeO7lijJMCOGUzNFYHVEMBQUlZwtIyP79bcr5ZbrWCOn3kC8Vywjxp9T1Hwaq7AhT8jAV6Yi54VgcIQsBFL4OGUER9H0sgvUgS4dAQoRslICUdMagZ3VvrxW7wwrE8V5iLpUkckwF0Cr9OKQKcI2Iil5mNY0a9EdzVfKmyJypEyQvqt9alO+XBRzyMBLqpl1S8RuJeAzXy2JSerKjmp4ecVDD+3iHVE34mz57VbUtvuLRLgtqHUgUQgfwRsMf3aAIa025Gi3xZBXfEXkdm5YK0LbtuFLgFuG0odSATyRcBWLvqQhwfVDL4ZV70ymFnLTVif7WERt3sGl3E9fYrebn0sX57vTmskwO7YSi0VgRURsPN0IwN4yQ7VfF5xxKcvGwt82fAws6MMVD28lM5ofWxFjqk3zxKQAM+i0C8iUCwCNjqpGjRYTEFlJxcQlNXNh/asmNOHuIFHtYQmrxbrY8W6cjrXGwlw51jrTCLQMQJ2mUjNw/8JPNzJBJpQ+/32rHC2MZqPk7ECL7or8NP9gtM15h1z7gKdSAJcIGOqKyJgCdjkq8DgXUy+UtlJRb9tFOGpOKHP4B30N+tr1vf0c/kEJMDLZ6V3ioBzBEIPn4/rPntKvmqjAPV2JM15YA5DG/yncxdEzhosAc6ZQdQcEVgrATv8PFLC06oGh1nFSMPPioDb+AUkrqJWMzgS9uPp9Ffrc2v13V77vAS41yyu/haegM1MrZbxNg0/S3jbKLytkX88DF318DZeUNbnCn9xtbmDEuA2A9XhRKDbBGz1q9DgMg4/K/tZItxuEaZPpVtaXkZ/tz7Xbd937fxWgOv1+qsuv/xy8NFsNl/JftjXXOuT2isCPUvA3giHz8Sv1cz/3965B8lV1Xk8EQ2+Ft212FLcqq39Y9fS0lotcDWSSEKm7+2ZBBE0armU6Lqybu0uPsoX6uKAIiCSx2T63u6ZvAkEGsmkH/PIQ4aHSICgEIiuvAIojwABEiAJTPp+l+8996R7Jt3zyPRMuqe/U9XT3fd57uf+zv3273d+55zgeU6ozinlqv0A1vEaW9RpU7StVBzPdTbj71jhrO01bOU7igu3IkvRlQAfBUDtIgK1RMCGAttdnLlSfX9LQ6b6XOU+z6EXTBuL4VOsA9b2aqk+1HpZrABns9mv3njjjdiyZQtyuVw4yIldV+vXoPKJgAhEBOxDMOmifbUEWKJbZdEtjXxQgGljCRfLaH7W9lQZR08gnU4fx62z2ewPKcDd3d0MQbshz2jd6I+mLUVABGqCgOdim9p/GztMXCqWE/HZtgPT1ozRY3pNGH8dFaJEgFdSgHO53P6urq4P8xIAvKGOLkVFFQERIAG2//oO9qr9VwI8EcJrj2nbgZNO8EJKUxQe1cMHMD9astns7f39/RTgJ7ds2fIOHsyuO6oDaycREIFjQ8CPw9XgGxJfK5QT/B5OzpCIwaG1Kww9+jpvBTaTyZyUz+efpgecyWRuiY6gaMLoUWpLEagdAr6DH6n9VwI8wcIbtq/bdmDaHGuAhqUc/XPAhp9zudxnN23aBApwNpu9hEdQAtboOWpLEagpAr6D9RqAQwI8GQLMMcZXLwi7uqVZCeQBj/5RYAU4n8+vj/r/FvL5/NyQoxKwRg9SW4pArRDgAzDh4C7N/ysBnhQBjsaF9h1sL4qvkrFGeh60traGCVbd3d1/n8/nX2T3o+7u7vvS6fSMaF+FoEeCqPUiUGsEVjbjRN8N9igBSwI8GQJsE7E8N9jT1owTWR80R/DITwUbYu7p6bmI4rt161YK8He5p/WMRz6KthABEagpAqkmfCiafEF9YCewD+xkiFs9nSOcb9rBB1kZNDHD8I8E6/1mMpn39fT0PLd582b09fX9OZ1Omx8wUWb08EfRWhEQgZojkGzCmcubQ++vUE8P8Lota1yetu+iQJvTiFijexzY/r35fP56er9s/+3u7r6Ae7e2tr5xdEfRViIgAjVHwHPxTWVAV1kU40DHAvOKPD0kjeCg/XSEn+v2B0QVogTMhF4VjrqG/2GFUCZ05ceCbePN5XJf7+vrC0e+6u7ufiCdTqvvb2VsWiMC9UHAd3DpWpOVOtDIolDNa/ccYMmpwKKZQGIeQBGm8K7+PHDdf5hlR3u+VAvAl1/HnrTnYiC0OQe/YC3pnwN5cWUeF7bdd+PGjbN7enr25/P5oK+v71Amk5nPzdX2WwaaFolAPRHwYli7Zn7oAUqAx+vdcSapGLD808Bd64AdXcD6fweWzgau/jKw72mEf7csM8voFY9JiB2g7ZPAklmRiNevCIdzA3su1rCuFLOh66nmTGxZAfOjpKur6+Te3t5n8/n8IYaec7ncxTyzFeeJLYWOLgIiMKEE/Bj6NAvSGIWwglBbT3ftF4GBg0Zs+y4CrvwokLvAfOf/+zLAkk9EnmyFYx0hzA6Qmg/ctMSIe/o/gfa5xrs+YtvRHvMYbXc4BB1DnsatLOhiFedoV1Zcc7nczJ6enmd7enrCQTfy+Tz7TtvuRva9uLM+iYAI1BcB38HdYRKWg/pLwoqb9lTrSYbvkVdY+pkCVfq99HMoXvY4lTxKu34EjzUU4HnA6i8AB/cawe35X+PtppqB23zgnl8BKz8LJJoGh5FLy8TjhN9LBdIBVpwN7H3SHPfWhPGEUwuq8+NhMkX88KQMDn5TrC3qC8xs55LhJs/p7e3dx9mOokkXftXT03M8edltiuz0SQREoC4JeE6wq4MJQi6CyXwIj/tccROGXfyJYjiX4dm208zypQzTNhmvkedaeiqwbI5Zx/ZZrrMix30WzzT7HtG2yvM0GY/V7nfENpFQlgrwqy9HAnyhCRtzn1+eDFz+4RLPlV5tiwlb89jLTjNtxSwPv7PcLCOPyzA225Gff8wcd+tlwGUfMtc0bpalQj8Znx2TBe072FFMwGo8Aabgbt++/U0UVtvVaMOGDX+bzWavotebz+dfs+LLZCwKr8S3Lh+zKrQIlCfgu8HuehuEIxS6uSahaWceuHMNkIgB3T8GHvg1sOt24PfXA1edA7TNNtnINy8FHroZePR244Wu+5IRNCZJbbkM+GMfwG343QpseJ7TgWv+zbTn3nMDcPW5Zj+uGyp84faRB1wqwBTT5WcB268GdnYD137NiDDFlz8K1nwR+G0n8OBNwGN3mWu4pQ3o/BTgNZltN//c7Hsg8qy53e/SwG+SR5ZjaLlq8HuhM8wKDx5dNBNvoWUyDM3Qa6O8bAKVFVQKbyaTaX092/lpjvPc29tbYNZzJpO53HrGVqTL12QtFQERqDsCvouXIjGpGw+YXiE93E0/M97gi38Btq0yn4MA4It/XE7BfPzuaF2huG7fbpMYtehjwG0dZv3+F4A1XzAiTCb2PHetNetf3lM+fGwFrpwA9/4EoJfODGgen39cZr3drm8BB140y2257fszD5j92Ib8wI1mm8KhaNuCeX/u4ciTd+pHiBltCQXYwV+ucPA2VhorSHVXgcZR4HQ6/fZcLjcnl8stiaYVDIWXA23kcrlHbLYzf5RIfMcBWruKQK0SsOJRT+9WGDf91IjQwAHgtQPAnWsBCtr2awArVK/sAV56BuhfDGz8DvD7NHDoVbPf/VmAArz2XwHrWW691Ih7kl19onAshZB/91w/fPJUJQFmwtWqhcBLu81xwnbhWcbDfe4Rs+ypncCGb5kfDNkfAHseNcsf7DfhZ3rNfa3Ay8+Z5ffeAGw4H9jwzaLHbstb6+8U4A5GEJzg+XXNOIF1I53eOaO7u/uUfD4/O5vNzpqKrw0bNsQymcw5kaebyWazj9g23q1btwbRBAv7stnsor6+vr8xXNLH1eqzQ+USAREYJ4Faf1iXK99QAaYk3eqZNlaGdK88BbhvoxEqepNd3wZ+eYoJ9y76F+D/Npt1T95vvEeGqRn+5R/D1GxLZsYxvdTr/8ss5/8bvmGW8fxly8X+vkNC0PR2QwH+XFE8uYzCzz7BQeTJrv8a8IuPUJRMezR/SPxpC7Dl0qiMnzRtxfTq+ffrK4DL/9mEw8uVpZaX2fGgfRcvLl+4NxSa7MbszyhAmzZtKjAEO1Vf9G7ZrnvTTTehv7+fnwNeazabfYLCm06n/4FVOmrvDSdgGGcV1+4iIAK1SqCWH9SVyjZUgNneyhAvB8BguykTlpikxD9mDbNfLr3TjjNMm/Bvo5DzMw8CnWeYbGLrTdMTZhiax6Iws32Zf0//YWRPc1gPeIgAL/648XbpufPv7vUAM5rZtYg/AHgNPD+/Ww7Mgn7xCbP9zW1mm7rMgnYRRHkHhwW4t7t37bZt2yhIhyhQU/EV/cBgchXbdg9ms9n7c7ncykwmc3ZXV9c7o2dE2BZu24Zr9bmhcomACFSBgDcZWa9VPsdQAaZoUpzCrOcWE0JmYhX/QgE+03iPTHpi2/HtK8y6Zx8EOuabNt+VnwHYLsw/ep3cjmHo3X80y25fbjKTw1GoKlzPaAW4h5nRUba29cZ5Foao+f22JLDhG0Z4ObAHr5fvnWcWBZj9gcfcl7hCua3AT9Z7qQe86tMIhacn3XNiNpv9QT6fv+j1sOxPcrkcE5Km1Cufz38/m82ex7bdXC73j7Zbka3GbOttxLZwe/16F4GGI1DXSVhRG/DBfYMFmFnHlQSY6yim/KMAM9TMrGd6nTuisPWDNwKLPl4MPx96zWRCjzTwxZgE+JPmvDz/9nVG/G04mmXj5yfuLWZdUxynkgCHbcBusDsxB29npWvEJCN6uW1tbcezi1EjXn/DPWx1wSIwlAATYRgO9OuoH/BQD7isAF9qRJYeMIWLHiS91+EEOPNds8/Bl8y2t3ea74/fFYWCy3Q9KvUaxyLADDGzPPTamSW9/EzghvOBG39p2n6ZWMY/euA8bjjEZakHvLR+PWDOhmSyoINdh7shRSNATfVuSPRwJbZDn0L6LgINSsB3g8fpjTAsWComtfy56gLMLjzRUI97ooEu2CbM/sT82/qLYkh6OC5jEWB63PS8eS0rGT6fZ0SeiV/0vvsXmXMzY5vJWgxZrzirGILm+jAEbcbxPtxOPFz5amZdNBBHwsUf0wsxw1S9xhuIo0EfObpsERABS8B3gnvrbSjKagswE65C73iW6cpE6XvyPuC1/QC969K+wcOJ2GgFuLfVZGVvvgRgN6ln/gSwDZqCSiFmFrdNCqMnvP6rJoObUxzu2WWEmYN6cGSt0oFDhitbTa1zUFgRjgAW3Nk6DVGmrwTY1km9i4AINAgBLxb0r+TD0AkO1dRDepiEISvAfRcbMeIAF/QOByVh/dyse+HPJrx7OAQ9C7BZ0Lv/ZNqAKcA8JrswsdsR219teywHwAi7JUXTAFKoK72Y0MXzcCxo26+YCVdhN6TSfsAXGi/32vMAO2LWU/cDv74c2HQxcMcq4MA+U352j2LXprB8pwEP3WKWv/K8GTGL40uHcwyPEB6vpXt7eDIGF72sZpqMoUEeNrpMERCBwQR8B9evDidHrz8Btl5iuTZg9pPln+2GdFiATzUCx3UcRYpeJdeFw09Gba1P7jD78n+YscxwsWPC0MyOrviabfrwDpoNqbXySFgU/PwPzUAh4RmjEbzs2R/5relCxR8WFGAK7TVfAfY9ZbcA9j5htjl8DcP8cKkhER5YvYA/mArraI2trdYLHmyb+iYCIiACU5pAIo6l4eToLupnPuBoggQKHcO4HFmKXmnoyUaTNHB0K67jNIAULwooRZYhW47tvOXnQOZ70XR+9IDZT3iBSdJieJd/7HPLPsRsl73u68Cu24BHflP+9fCtwGN3AL+7zvQ3Zpk2/6wYvma2c/5HpkxhSDsSVSZjMfzMfss8L0fq4rjQHOGKgsvysmwUT74vm2u2Z5Y3PWW+s38zr72GBHbYsnguBiKbu5KVq3+Omft2Slc0XZwIiIAIDCXgu/gePWC/ngSYXl4kwpzliCIWCqz1/iKhZcYzB7MYuo7CFq6LPFseyy6j4D0d9f2lGDL8bD3VUJWHeKlGqoshaw4tScG3XjK9Vx6fAslysrx2WSiqzeZ7uD3X8zXLnJf7hS97XZEIc397fG5fT+Ib/UgYWEObc/AD2mNxRqSh1qnvIiACIjCFCSQdfH45xz2u0/mAbXvsEd5fvNhWO3QdPclwv2iqP4rvunOBjd8GfnetkVT2/b3uPCPMFDiO5czkKQ4jWfZ1IdB3EZD5jhFNDuLBc5QK6OGyDm2vteUpaV8OvfYS4R10DUO2H7Su0j61tJxJWCYq8QVWrfRCaLzjKfyM0aWJgAhUINARx0ejfsDDhg3r7iE/SsEJw7pzgEe3GeEtDJh3zq5E79cKIb1Ofh/pRW95qrKq5nWx61u7g4/RLNUGXKFyarEIiMDUJuAvwHs9B69E7Yx10xe4WmJA75bts/duAJiJzLZcZlfTKy71XvmZ2430Kp1FqVplnGLHseNAv7zYxXtYu4pdkaZ2XdPViYAIiMAgAqvm4M3JGHbWW1/gaosSk5souvRg2b5a7ePreBHTaBAOL4adtD0ao7ohDaqS+iICItBIBJIucvXWFanqghYlPDHkbMPOVT/HKMPiU/m87ANMW0u56GIdU/tvIz1pdK0iIAJHEPBdXN7wAixxnBSv3wpwMobLaIjKgD6iOmqBCIhAIxHwXXyGo2HVZSa0hHNShLNaXrnnoEBbS8WxkHVMHnAjPWl0rSIgAkcQ8OJ4n+fg1aQRs4ZLxKqWuOg4I7adB7QxDsRBm6MhKgP6iOqoBSIgAo1EIHUy3pRysIMD5MsLHlFE6srjrKkfBdEkDL6DHbQ5U8c0CUMjPWt0rSIgAiUEbAjQd3GN2oElvhMp2Lb9t93F1TRBa3sl5qiPIiACItA4BOxD0I/hyxJgCfBkCHDSxVdYw6ztNU5t05WKgAiIQAkB2waXnIcP+C4OcEAOz4XagZXcVdVQO20qyjF41XfwQZqgtb0Sc9RHERABEWhMAr6Du9UOLC94Qrxg2/7bhLsbs3bpqkVABESgDAEbCkzFcemaBaEA1c/UhPJUq+qpToj4mns0QNuijdEErc2VMUctEgEREIHGIWAfhsk45nU2KwQ9gSJUL2JZ7XIGDEHTtnwHp7NmWZtrnFqmKxUBERCBsgRMV5D0QszwXDwQPihdFCRECkdXyQYK4Q87Bw+0NeN4Y4LqflS2KmqhCIhA4xGwHknSxeJwsnQXCkMrvF0tTzgMP/sulrBmWVtrvFqmKxYBERCBMgRsRqrfjFOTxSxoZUNLhMcrwqENRSNgzabpWVsrY4ZaJAIiIAKNSMCEBDk3a0ccdygbWuHnaoSfOfYzbSnlYtu0aTbsbN8bsZ7pmkVABESgDAE7M00qjvM1KIcEuDoCHBxazexnB+fT5KyNlTE/LRIBERCBxiVA75dX7y/Ae5MunktpUI7xhl8ben9mPtOGfDfYsyyGk2hb1sYat5bpykVABESgAgGbIJN0sFxesLzg8XjBduxnP45Ompu1rQqmp8UiIAIi0NgEbIJMsgWnlCRjNbQnNx4RauB9bfJV0B7HTNYqa1uNXcN09SIgAiIwDAFEyTKei95V8wF6Mg0sJPrxcRSZ4LQZ2k7SwUaamsR3mAqnVSIgAiJgCdhQYSIGp2RkLHVJOgohatgfLg4KKynALs6kXVmbsjamdxEQAREQgQoErBeciqOXD1J5wWoPHu2PCdv1yHeD24pdjyoYmhaLgAiIgAgMJmA9Fs9FU4kXrHCsvOCRbYB9fznucxxn0aqsLQ22MH0TAREQARGoSMC223XKCx5ZdCTMISNGSlZy4I04emlY1oYqGplWiIAIiIAIHEnAei4JF3M76NEUh6iUIElwy9lAmCfQEQcSccyiRVkbOtK6tEQEREAERGBYAtaDScYL6zifq9qC1RZcqS2YtsG+476D9TQqDboxbNXSShEQAREYnoB9iCaa8P4ON3iBg+rLE5YIlxHhgLaRasbe9hb8E63K2s7wFqa1IiACIiACFQnY8Xv9OH7CcX09TVVYLvza0MtC73cB0BHHj2lICj1XrE5aIQIiIAJjIWBmr1k0E29JubiHs9uwq0kZL6ihRahRedhuRykHO1In463GsjTj0VhqmLYVAREQgYoEFi7EcVzpOWgOuyU5YMKNBudQMlZoBx1xBMk45tFGrK1UNCatEAEREAERGBsBG1b0YvDXKiFL3r758TFAW0i6WExrss0VY7MsbS0CIiACIjAsATs6Vvs8vKvDxc7IE1YoukG9YIaelzcDnXHsaG3GCTQeayPDGpJWioAIiIAIjJ2A9YKXNGFWKo4BhqE572ujtn826nVH9zxIxYNDS13MpSVZ2xi7VWkPERABERCBURGwYcaOOC7gjDe+sqIbMRw9wD6/SRffp9FYmxiVAWkjERABERCBoydgQ42pODJ8EGuAjsbpG2wH3OC9pwVZWzh6a9KeIiACIiACoyZgB1lIzMG7O1w8pK5JjSHAtssR7/ni2XgPDUYCPOpqow1FQAREoDoEbJtfwsEnknG8HI6Spf7BUzcc7aDAe9wRx8vtccykFdmhSqtjUTqKCIiACIjAqAnYtj8vhnOYEes7wSElZU09bzi6p4VwUo4YvkwDsfd+1MaiDUVABERABKpLoPUDmMEjvv6QvjAcjF9JWVPRCx7gZBxJBxfwXqcXmnteXUvS0URABERABMZMwLYJe3G0adakqeUB23GefQdLaRj2Xo/ZSLSDCIiACIjARBDAdMCM/5t0cc1VZygzeir0Eab48l6mXFxNqzH3WOM8T0QN0jFFQARE4KgJ2GzYtmYcn4ojb7on4dWpIESNeA2eg1dNk0LQw3s6bRqmy/s96uqhHUVABERgYgnYB3RiDt6ejAX9a8I+wnitEQWsnq/Zc/Aa7x3vIe8lrcbe24m1IB1dBERABETgqAnY7kltH8MJyTg2hW3CSsyqm8QszvfMe+a7Qc/lp+KvaAj2nh61UWhHERABERCBySFg24NTZ+CtnotrS7KjNW50DU/eYBOueM/s3L72Xk6O5egsIiACIiAC4ybAB7cdqGGZgwSTeZKu+gnXYmia/XyTLgrhNJMx+Lz5vHcS33FXAx1ABERABI4NAbYb2rbDhINWDtYRiTBnUqqbsOxULitDzrwnHE7Ud3ExLYUhZ5tUd2wsR2cVAREQARGoAgFM75+DN/JAXhO+0tmMg+FcwmoXPuY/QCi+vBedcbzSPg/n8h6Ze6WuRlUwfB1CBERABGqBAKabrizTpi3l2NFu8DinMvSccE7hYy5EU9nDrXRtZM97kHLx2LIYTqWVtC7EDHm+tVBfVAYREAERqDIB2ya8IoaTEi42h8MbusEhX5M4TN6PkJB1cGj1AoD3YFkMJ/E2K9O5ysauw4mACIhArRGwIoxWvKE9hos6mxGY6QyDQ5W8NS2vTns5s5zZDs+wc7uDn9p7Yd9rzVZUHhEQAREQgSoT4APfzqaTiMHx3eDRqL8wB+1QglaVE9TY1utHI1t5Lh5JuJjLW8p7IPGtsnHrcCIgAiJQ+wQw3Yrw4jl4p+cgtbwZAT1iCoamNayK11uIEq1MlCGGtW3NOJG2Ydgr2ar264lKKAIiIAITRCB1Mt5k2x89B83JOB7mMIg++ww7CkuPI/wedi8Kx+R28ZDn4NO8hWRN5hN0O3VYERABERCB+iJQHLRjXTNO8Bxc0dGMg8zS9V0UlKQ1Bm/YJLQVKLyd8WC/5+LKFZ8yQ0oy3Kws5/qqGSqtCIiACEwKgbBt+PX2YZ4s1YIPJWLoZoLWyhZwCEuGUzWUZaX2YQcFz0GwqgUIk9piyCda8GGyDIU34jopN1InEQEREAERqD8C9NBs2zBLn3ARb3dxx8oWgBm8CQevea5mWLKhac5cRB4UXb4SDu5KxtBCdpalvN76qwcqsQiIgAgcMwILF+I4m6HLNksvjnM9B39gWHoFPWITam3IZK0oEsDM5oIVXi8W3JmYh8/aHy9s6yXDY3YDdWIREAEREIF6JoDpqfOKSVqtc/DmhIsveS5uXR5HgWLMSQTCbjZsK64Unp06y8Nr5TXz2pkx3h7DHYk4zi4VXo5oVc93XWUXAREQARGoIQKDE4gwPew/7GBjKh7sZ1HzhfQAAAJnSURBVNb08haAniEzp6dSW3HpNXEADSZXJV0c8JrQ5Ts43WaQh+FmtfPWkMWqKCIgAiIwxQiYsGqx/+riJrzfi+ES38HDDMdyQA8KFcOzdd2NiV2wHBR4LWsWmNHCeI2ei0sSTXi/va0SXktC7yIgAiIgApNCgJ6f8f6MGF/h4G0JB2f4Lq5OuHiWYrx6PoKOOCd9CMXsYJiwVGMe8mEP1yRTHWBZWWaWnYlnvBbPKVyVjKOF12jh8oeI9X7tMr2LgAiIgAiIwKQRCJO1wukOi14xR3tqb8Ln2h2sTsSCXam48YwpyhS3sG+xGfKSw17yxfbjyeriZD3z8NwUYJaJYmsmp0DAMvsuViUcfL59Ht5VCpNtvRLeUiL6LAIiIAIicEwJsI2YCVt8lRYkdQbe6sVw2utddX7I2X88B091xBEOVBFlVIMCXUaUByLPmeI8qj7IUdtzOHBIFP62Am/eHRQotvwhwHOzPTcVRyHh4OmkKdsFiThmpRfiLaXXwKSq1g9ghs0KL12nzyIgAiIgAiJQUwToJbZOM4N6mIIZD9mbj79OxTEr4eIbfgxrfXbfMQIYUBStMFIc6ZVSLNkOS5FORq+h2dZ2OcWV23If7stj8GWPa8XWd3B3eG4X/+25mM0ylZaRn1l2ebqGiv6LgAiIgAjUKQF6jgzdTnt9kI9yl5Bowbv9Znwk0YSzPQff9WLwEw42+A5u9mK4x3OCXZ6DZzwHe30HB4cIcOA7wX7fxUu+G+zmbEO+E9zLrlLtLjJJF+0JB9/xYzjLc3AyzzX4h4EtkRmARF6u5aF3ERABEZi6BP4fIXWRe59jFqoAAAAASUVORK5CYII=))"
      ],
      "metadata": {
        "id": "iUOFVJ-WLJrF"
      }
    },
    {
      "cell_type": "markdown",
      "source": [
        "![]('https://paullabworkspace.notion.site/image/https%3A%2F%2Fprod-files-secure.s3.us-west-2.amazonaws.com%2F579fe283-28aa-489d-ae65-d683304becfc%2Feb4d362d-3b2d-46ad-90d3-fc4f9988286b%2FUntitled.png?table=block&id=2205f637-5b49-43b1-abf7-8bb574ae9a54&spaceId=579fe283-28aa-489d-ae65-d683304becfc&width=480&userId=&cache=v2')"
      ],
      "metadata": {
        "id": "nV5BLPmkLU9f"
      }
    },
    {
      "cell_type": "markdown",
      "source": [
        "![](https://paullabworkspace.notion.site/image/https%3A%2F%2Fprod-files-secure.s3.us-west-2.amazonaws.com%2F579fe283-28aa-489d-ae65-d683304becfc%2Feb4d362d-3b2d-46ad-90d3-fc4f9988286b%2FUntitled.png?table=block&id=2205f637-5b49-43b1-abf7-8bb574ae9a54&spaceId=579fe283-28aa-489d-ae65-d683304becfc&width=480&userId=&cache=v2)"
      ],
      "metadata": {
        "id": "Iz72SIhOLawB"
      }
    },
    {
      "cell_type": "code",
      "source": [
        "# 따라서 my_list에 append는 a의 append와 같습니다.\n",
        "# 그렇다면 아래와 같은 코드는 어떻게 해서 a가 10이 안되었는지 확인해보도록\n",
        "# 하겠습니다.\n",
        "\n",
        "def add_element(my_list):\n",
        "    my_list(10)\n",
        "    print(id(my_list))\n",
        "a = [2, 3, 4]\n",
        "add_element(a)\n",
        "print(id(my_list))\n",
        "print(a)"
      ],
      "metadata": {
        "id": "ZDVhc_9uLlBW"
      },
      "execution_count": null,
      "outputs": []
    },
    {
      "cell_type": "code",
      "source": [
        "# 권장하지 않는 기본값\n",
        "\n",
        "# 권장하지 않는 방법\n",
        "def append_to_list(value, lst=[]):\n",
        "    lst.append(value)\n",
        "    return lst # 예상치 못한 결과가 발생할 수 있습니다.\n"
      ],
      "metadata": {
        "id": "lUh4Ex2vLvyF"
      },
      "execution_count": null,
      "outputs": []
    },
    {
      "cell_type": "code",
      "source": [
        "append_to_list(1) # 출력: [1]\n",
        "append_to_list(2) # 출력: [1, 2], 그러나 결과가 [2]가 나올것으로 예상할수도 있습니다."
      ],
      "metadata": {
        "colab": {
          "base_uri": "https://localhost:8080/"
        },
        "id": "5ci9Jh04fPmM",
        "outputId": "f2411d83-1ab2-439c-b72b-050f483b0519"
      },
      "execution_count": null,
      "outputs": [
        {
          "output_type": "execute_result",
          "data": {
            "text/plain": [
              "[1, 2]"
            ]
          },
          "metadata": {},
          "execution_count": 57
        }
      ]
    },
    {
      "cell_type": "code",
      "source": [
        "# 권장 방법\n",
        "\n",
        "def append_to_list(value, lst = None):\n",
        "    if lst is None:\n",
        "        lst = []\n",
        "    lst.append(value)\n",
        "    return lst\n",
        "\n",
        "# 이 방법은 lst 파라미터의 기본값을 None으로 설정하고,\n",
        "# 함수 본문 내에서 None 값을 새로운 리스트로 바꾸어 주어, 함수 호출 사이에 리스트가 공유되지 않도록 합니다. 이렇게 하면, 각 함수 호출이 독립적인 리스트를 가지게 되므로,\n",
        "# 위에서 설명한 예상치 못한 부작용을 피할 수 있습니다."
      ],
      "metadata": {
        "id": "2Ka_DZmkfgMb"
      },
      "execution_count": null,
      "outputs": []
    },
    {
      "cell_type": "code",
      "source": [
        "append_to_list(1) # 결과 : [1]\n",
        "append_to_list(2) # 결과 : [2]"
      ],
      "metadata": {
        "colab": {
          "base_uri": "https://localhost:8080/"
        },
        "id": "sZQoEC44f7vf",
        "outputId": "5469d254-0bef-48f5-809b-3a6c2d1a0f33"
      },
      "execution_count": null,
      "outputs": [
        {
          "output_type": "execute_result",
          "data": {
            "text/plain": [
              "[2]"
            ]
          },
          "metadata": {},
          "execution_count": 60
        }
      ]
    },
    {
      "cell_type": "code",
      "source": [],
      "metadata": {
        "id": "FLjLwIxNgLyX"
      },
      "execution_count": null,
      "outputs": []
    }
  ]
}