{
  "nbformat": 4,
  "nbformat_minor": 0,
  "metadata": {
    "colab": {
      "provenance": []
    },
    "kernelspec": {
      "name": "python3",
      "display_name": "Python 3"
    },
    "language_info": {
      "name": "python"
    }
  },
  "cells": [
    {
      "cell_type": "markdown",
      "source": [
        "# if"
      ],
      "metadata": {
        "id": "3itMNvSqw44m"
      }
    },
    {
      "cell_type": "code",
      "execution_count": 2,
      "metadata": {
        "colab": {
          "base_uri": "https://localhost:8080/"
        },
        "id": "Lc3CrQoynVim",
        "outputId": "6831c042-295f-46ce-aa87-bba4b34fea16"
      },
      "outputs": [
        {
          "output_type": "stream",
          "name": "stdout",
          "text": [
            "True\n",
            "True\n"
          ]
        }
      ],
      "source": [
        "# x가 1보다 큰지 크지 않은지에 대해서 조건을 따져보고 조건이 참일 경우 print('True')가 실행되는 구문입니다.\n",
        "\n",
        "x = 2\n",
        "if x > 1:\n",
        "    print('True') # 출력 : True\n",
        "\n",
        "x = 1\n",
        "if x > 1:\n",
        "    print('True')\n",
        "\n",
        "x = 3\n",
        "if x > 1:\n",
        "    print('True')\n",
        "\n"
      ]
    },
    {
      "cell_type": "code",
      "source": [
        "# 아래처럼 직접 True나 False를 입력할수도 있다\n",
        "\n",
        "if True:\n",
        "    print('True') # 출력 : True"
      ],
      "metadata": {
        "colab": {
          "base_uri": "https://localhost:8080/"
        },
        "id": "WKiQ2p_CpMrU",
        "outputId": "975bfad5-b3cb-4e36-9560-0b34cfb4acea"
      },
      "execution_count": 3,
      "outputs": [
        {
          "output_type": "stream",
          "name": "stdout",
          "text": [
            "True\n"
          ]
        }
      ]
    },
    {
      "cell_type": "code",
      "source": [
        "# 참과 거짓으로 평가\n",
        "# if문 뒤에는 참과 거짓으로 평가되어 처리됨.\n",
        "# 예를 들어 아래 코드는 True나 False값은 아니지만 print가 출력됨\n",
        "\n",
        "if 1:\n",
        "    print('hello')\n",
        "\n",
        "# 아래 코드를 살펴보도록 하겠음\n",
        "\n",
        "if \".\":\n",
        "    print('woaks')\n",
        "\n",
        "if 10 and [1, 2, 3]:\n",
        "    print('king of woaks')\n",
        "\n",
        "# -1은 어떻게 될까요? 0이 아닌 모든 정수형은 True로 인식을 하게되어\n",
        "# hello와 end가 모두 출력이 되게 됩니다.여기서는 띄어쓰기 4칸까지가 if문에 범위인 것을 알려드리기 위해\n",
        "# 'end'를 함께 표시하였습니다.\n",
        "\n",
        "if -1:\n",
        "    print('hello')\n",
        "print('end')\n"
      ],
      "metadata": {
        "colab": {
          "base_uri": "https://localhost:8080/"
        },
        "id": "HqQPzn6zqHd6",
        "outputId": "8b81c009-94b1-412d-a99a-11472200113b"
      },
      "execution_count": 4,
      "outputs": [
        {
          "output_type": "stream",
          "name": "stdout",
          "text": [
            "hello\n",
            "woaks\n",
            "king of woaks\n",
            "hello\n",
            "end\n"
          ]
        }
      ]
    },
    {
      "cell_type": "code",
      "source": [
        "# None의 경우는 거짓으로 평가됨,공백과동일\n",
        "# 참을 표현하고 싶으면 None의 반대개념인 not None을 사용하면됨.\n",
        "\n",
        "if not '':\n",
        "    print('hello')\n",
        "print('end')\n",
        "\n",
        "if None:\n",
        "    print('hello')\n",
        "print('end')\n",
        "\n",
        "if not None:\n",
        "    print('hello')\n",
        "print('end')"
      ],
      "metadata": {
        "colab": {
          "base_uri": "https://localhost:8080/"
        },
        "id": "9Y99fnlTrNIE",
        "outputId": "e3f54412-af83-485d-9b82-ec21c40174cc"
      },
      "execution_count": 5,
      "outputs": [
        {
          "output_type": "stream",
          "name": "stdout",
          "text": [
            "hello\n",
            "end\n",
            "end\n",
            "hello\n",
            "end\n"
          ]
        }
      ]
    },
    {
      "cell_type": "code",
      "source": [
        "# 나아가기\n",
        "# if문에 사용할 수 있는 표현식\n",
        "\n",
        "# if문의 조건에는 불리언(boolean)표현식이 사용됩니다\n",
        "# 이표현식은 True 또는 False 값을 결과로 반환해야 합니다.\n",
        "\n",
        "'''\n",
        "- 비교 연산자: **`==`**, **`!=`**, **`<`**, **`<=`**, **`>`**, **`>=`**\n",
        "- 논리 연산자: **`and`**, **`or`**, **`not`**\n",
        "- 멤버십 연산자: **`in`**, **`not in`**\n",
        "- 식별 연산자: **`is`**, **`is not`**\n",
        "- 다른 함수의 반환 값이나 변수의 값 (이 값들이 결국 불리언으로 평가됨)\n",
        "'''\n"
      ],
      "metadata": {
        "colab": {
          "base_uri": "https://localhost:8080/",
          "height": 72
        },
        "id": "gqkJ6SQrrpR8",
        "outputId": "6212857b-ffd1-4730-faa6-5cbe2f65ae68"
      },
      "execution_count": 6,
      "outputs": [
        {
          "output_type": "execute_result",
          "data": {
            "text/plain": [
              "'\\n- 비교 연산자: **`==`**, **`!=`**, **`<`**, **`<=`**, **`>`**, **`>=`**\\n- 논리 연산자: **`and`**, **`or`**, **`not`**\\n- 멤버십 연산자: **`in`**, **`not in`**\\n- 식별 연산자: **`is`**, **`is not`**\\n- 다른 함수의 반환 값이나 변수의 값 (이 값들이 결국 불리언으로 평가됨)\\n'"
            ],
            "application/vnd.google.colaboratory.intrinsic+json": {
              "type": "string"
            }
          },
          "metadata": {},
          "execution_count": 6
        }
      ]
    },
    {
      "cell_type": "code",
      "source": [
        "# if문의 코드 블록에 들어갈 수 있는 것\n",
        "\n",
        "# if문의 코드 블록에는 어떤 파이썬 문장도 올 수 있습니다.\n",
        "# 변수 할당, 함수 호출, 루프,추가적인 if문 등을 포함합니다.\n",
        "# 일반적으로 이 블록은 특정 조건이 충족될 때 수행할 작업을 정의합니다.\n",
        "\n",
        "def f():\n",
        "    return True\n",
        "\n",
        "if f() or f():\n",
        "    print('hello')"
      ],
      "metadata": {
        "colab": {
          "base_uri": "https://localhost:8080/"
        },
        "id": "IJep8zWTsFri",
        "outputId": "412e4c18-3290-40ec-e5cb-27c1aa5e0b37"
      },
      "execution_count": 8,
      "outputs": [
        {
          "output_type": "stream",
          "name": "stdout",
          "text": [
            "hello\n"
          ]
        }
      ]
    },
    {
      "cell_type": "code",
      "source": [
        "# 실제로 평가되지 않는지는 아래와 같은 코드로 판단할 수 있습니다.\n",
        "\n",
        "# 성능에 영향을 끼칩니다!\n",
        "def f():\n",
        "    return True\n",
        "\n",
        "def ff():\n",
        "    x = 100 / 0 # error\n",
        "    return 'hello'\n",
        "\n",
        "if f() or ff(): # -> 하나의 조건에 불과!\n",
        "    print('hello') # 출력 : hello"
      ],
      "metadata": {
        "colab": {
          "base_uri": "https://localhost:8080/"
        },
        "id": "rNDjXF6LtMDm",
        "outputId": "5d5f7802-9ff4-4121-a1d9-447ca38f2563"
      },
      "execution_count": 12,
      "outputs": [
        {
          "output_type": "stream",
          "name": "stdout",
          "text": [
            "hello\n"
          ]
        }
      ]
    },
    {
      "cell_type": "code",
      "source": [
        "# 단축평가\n",
        "# 단축평가는 논리 연산에 서 두 번째 인수의 평가가 첫 번째 인수의 결과에 따라 달라지는 방식입니다.\n",
        "# 파이썬에서 and 및 or 연산자가 이러한 평가를 수행합니다.\n",
        "\n",
        "if x and y: # x가 False라면 y는 평가되지 않습니다.\n",
        "    pass\n",
        "\n",
        "if x or y: # x가 True라면 y는 평가되지 않습니다.\n",
        "    pass"
      ],
      "metadata": {
        "colab": {
          "base_uri": "https://localhost:8080/",
          "height": 258
        },
        "id": "AYyGFi5ysjJy",
        "outputId": "73c0f48b-84e2-49a4-eea2-3ea69e47505a"
      },
      "execution_count": 9,
      "outputs": [
        {
          "output_type": "error",
          "ename": "NameError",
          "evalue": "name 'y' is not defined",
          "traceback": [
            "\u001b[0;31m---------------------------------------------------------------------------\u001b[0m",
            "\u001b[0;31mNameError\u001b[0m                                 Traceback (most recent call last)",
            "\u001b[0;32m<ipython-input-9-6685e224745d>\u001b[0m in \u001b[0;36m<cell line: 5>\u001b[0;34m()\u001b[0m\n\u001b[1;32m      3\u001b[0m \u001b[0;31m# 파이썬에서 and 및 or 연산자가 이러한 평가를 수행합니다.\u001b[0m\u001b[0;34m\u001b[0m\u001b[0;34m\u001b[0m\u001b[0m\n\u001b[1;32m      4\u001b[0m \u001b[0;34m\u001b[0m\u001b[0m\n\u001b[0;32m----> 5\u001b[0;31m \u001b[0;32mif\u001b[0m \u001b[0mx\u001b[0m \u001b[0;32mand\u001b[0m \u001b[0my\u001b[0m\u001b[0;34m:\u001b[0m \u001b[0;31m# x가 False라면 y는 평가되지 않습니다.\u001b[0m\u001b[0;34m\u001b[0m\u001b[0;34m\u001b[0m\u001b[0m\n\u001b[0m\u001b[1;32m      6\u001b[0m     \u001b[0;32mpass\u001b[0m\u001b[0;34m\u001b[0m\u001b[0;34m\u001b[0m\u001b[0m\n\u001b[1;32m      7\u001b[0m \u001b[0;34m\u001b[0m\u001b[0m\n",
            "\u001b[0;31mNameError\u001b[0m: name 'y' is not defined"
          ]
        }
      ]
    },
    {
      "cell_type": "code",
      "source": [
        "# 삼향 연산자\n",
        "# 삼향 연산자는 if-else 구문을 한 줄로 간단하게 표현할 수있는 방법을 제공함.\n",
        "# 이 연산자는 x if 조건 else Y와 같은 형태로 사용됩니다. 여기서 '조건'이 참이면 X가 평가되고,\n",
        "# 거짓이면 Y가 평가됩니다.\n",
        "\n",
        "# 삼향 연산자는 코들르 간결하게 만들어주며,가독성을 향상시킬 수 있습니다.\n",
        "# 하지만 복잡한 조건에서는 코드가 복잡해질 수 있으므로 적절히 사용해야합니다.\n",
        "\n",
        "x = 5\n",
        "y = 10\n",
        "result = 'x가 더 큽니다.' if x > y else 'y와 같거나 y가 더 큽니다.'\n",
        "print(result) # 출력 'y와 같거나 y가 더 큽니다."
      ],
      "metadata": {
        "colab": {
          "base_uri": "https://localhost:8080/"
        },
        "id": "CV64iyDOtnv7",
        "outputId": "232fc7d2-a83d-4965-987d-a78aec3396b7"
      },
      "execution_count": 23,
      "outputs": [
        {
          "output_type": "stream",
          "name": "stdout",
          "text": [
            "y와 같거나 y가 더 큽니다.\n"
          ]
        }
      ]
    },
    {
      "cell_type": "markdown",
      "source": [
        "# 람다함수\n",
        "\n",
        "* 익명함수 - 한줄로 표현/임시 함수 만들떄 사용"
      ],
      "metadata": {
        "id": "bANan-LF0QVa"
      }
    },
    {
      "cell_type": "code",
      "source": [
        "# 예) 두 숫자를 더하는 간단한 람다함수를 만든다.\n",
        "\n",
        "def sum(x, y):\n",
        "    z = x + y\n",
        "    return z\n",
        "\n",
        "add = lambda x, y : x + y\n",
        "print(add(5, 3))"
      ],
      "metadata": {
        "colab": {
          "base_uri": "https://localhost:8080/"
        },
        "id": "g5xGonTT0X1_",
        "outputId": "ff987c4e-710a-4c20-e056-cec1599aa2d9"
      },
      "execution_count": 25,
      "outputs": [
        {
          "output_type": "stream",
          "name": "stdout",
          "text": [
            "8\n"
          ]
        }
      ]
    },
    {
      "cell_type": "code",
      "source": [
        "test = lambda x : 'Even' if x % 2 == 0 else 'Odd'"
      ],
      "metadata": {
        "id": "WvUIfVn50ArN"
      },
      "execution_count": 26,
      "outputs": []
    },
    {
      "cell_type": "code",
      "source": [
        "# 이런한 삼향 연산자는 함수의 리턴값이나 뒤에서 배울 리스트컴프리헨션에서도 사용됩니다.\n",
        "# 간단한 사용 예입니다.\n",
        "\n",
        "def f(x, y):\n",
        "    return x if x > y else y\n",
        "\n",
        "# 이와 같이 return식에 바로 넣어 활용 할 수있다."
      ],
      "metadata": {
        "id": "3iFuwW6Kujka"
      },
      "execution_count": 15,
      "outputs": []
    },
    {
      "cell_type": "code",
      "source": [
        "# 아래는 리스트 컴프리헨션 예 입니다.\n",
        "\n",
        "print([i for i in range(10) if i % 2 == 0]) # [0, 2, 3, 6, 8]\n",
        "[i if i % 2 == 0 else None for i in range(10)]"
      ],
      "metadata": {
        "colab": {
          "base_uri": "https://localhost:8080/"
        },
        "id": "R-iwBsp5u0eP",
        "outputId": "65295f3f-0cd9-4494-b8a6-96d16d4ca330"
      },
      "execution_count": 19,
      "outputs": [
        {
          "output_type": "stream",
          "name": "stdout",
          "text": [
            "[0, 2, 4, 6, 8]\n"
          ]
        },
        {
          "output_type": "execute_result",
          "data": {
            "text/plain": [
              "[0, None, 2, None, 4, None, 6, None, 8, None]"
            ]
          },
          "metadata": {},
          "execution_count": 19
        }
      ]
    },
    {
      "cell_type": "code",
      "source": [
        "# 조건문과 람다 함수\n",
        "# 람다 함수 내에서 조건문을 사용하여 간단한 조건 로직을 구현할 수 있습니다.\n",
        "\n",
        "my_function = lambda x: 'Even' if x % 2 == 0 else 'Odd'"
      ],
      "metadata": {
        "id": "1FUhGIi1vR9k"
      },
      "execution_count": 17,
      "outputs": []
    },
    {
      "cell_type": "code",
      "source": [
        "# 조건문과 딕셔너리\n",
        "# 딕셔너리 컴프리헨션을 사용하여 조건문을 기반으로 딕셔너리를 생셩할 수 있습니다.\n",
        "\n",
        "my_dict = {x: 'Even' if x % 2 == 0 else 'Odd' for x in range(10)}"
      ],
      "metadata": {
        "id": "rjuQs6O0vwbW"
      },
      "execution_count": 18,
      "outputs": []
    },
    {
      "cell_type": "markdown",
      "source": [
        "# if, elif, else와 중첩 조건문"
      ],
      "metadata": {
        "id": "YDk0fuAwwH9V"
      }
    },
    {
      "cell_type": "code",
      "source": [
        "# if - else\n",
        "\n",
        "# if문을 사용하면 조건을 기반으로 서로다른 코드블록을 실행할 수 있습니다.\n",
        "# 그러나 조건이 많아질 수록 if문만으로는 코들르 효율적으로 관리하기 어렵습니다.\n",
        "# 이런한 문제를 해결하기 위해,else문을 사용하여 if문의 조건이 거짓이거나 충족되지 않는 경우를 처리할 수 있습니다.\n",
        "\n",
        "# if문과 else문을 활용한 조건문의 구조\n",
        "\n",
        "if 조건문: # 조건문을 확인해서 만약 '참'이면 if 문 다음에 문장들은 수행\n",
        "    pass\n",
        "    # 수행할 문장 1\n",
        "else: # if문의 조건이 거짓이면 else 문이 실행됩니다.\n",
        "    pass\n",
        "    # 수행할 문장 2"
      ],
      "metadata": {
        "colab": {
          "base_uri": "https://localhost:8080/",
          "height": 258
        },
        "id": "U1Osc0ivxCnY",
        "outputId": "1c007d34-d77a-45a7-8165-de3c82c51dde"
      },
      "execution_count": 20,
      "outputs": [
        {
          "output_type": "error",
          "ename": "NameError",
          "evalue": "name '조건문' is not defined",
          "traceback": [
            "\u001b[0;31m---------------------------------------------------------------------------\u001b[0m",
            "\u001b[0;31mNameError\u001b[0m                                 Traceback (most recent call last)",
            "\u001b[0;32m<ipython-input-20-0266d9bfa319>\u001b[0m in \u001b[0;36m<cell line: 9>\u001b[0;34m()\u001b[0m\n\u001b[1;32m      7\u001b[0m \u001b[0;31m# if문과 else문을 활용한 조건문의 구조\u001b[0m\u001b[0;34m\u001b[0m\u001b[0;34m\u001b[0m\u001b[0m\n\u001b[1;32m      8\u001b[0m \u001b[0;34m\u001b[0m\u001b[0m\n\u001b[0;32m----> 9\u001b[0;31m \u001b[0;32mif\u001b[0m \u001b[0m조건문\u001b[0m\u001b[0;34m:\u001b[0m \u001b[0;31m# 조건문을 확인해서 만약 '참'이면 if 문 다음에 문장들은 수행\u001b[0m\u001b[0;34m\u001b[0m\u001b[0;34m\u001b[0m\u001b[0m\n\u001b[0m\u001b[1;32m     10\u001b[0m     \u001b[0;32mpass\u001b[0m\u001b[0;34m\u001b[0m\u001b[0;34m\u001b[0m\u001b[0m\n\u001b[1;32m     11\u001b[0m     \u001b[0;31m# 수행할 문장 1\u001b[0m\u001b[0;34m\u001b[0m\u001b[0;34m\u001b[0m\u001b[0m\n",
            "\u001b[0;31mNameError\u001b[0m: name '조건문' is not defined"
          ]
        }
      ]
    },
    {
      "cell_type": "code",
      "source": [
        "# if문의 조건문을 확인해서 만약 참이면 수행할 문장 1,조건이 거짓이면 else문이 실행되어\n",
        "# 수행할 문장 2 가 수행됩니다.\n",
        "\n",
        "x = 3\n",
        "y = 1\n",
        "\n",
        "if x > y:\n",
        "    print('첫번째 값이 더 큽니다.')\n",
        "else:\n",
        "    print('두번쨰 값이 더 크거나 같습니다.')"
      ],
      "metadata": {
        "colab": {
          "base_uri": "https://localhost:8080/"
        },
        "id": "uEp7OgHgzI3a",
        "outputId": "96c2b495-38c4-4360-d647-26da3c0d0681"
      },
      "execution_count": 21,
      "outputs": [
        {
          "output_type": "stream",
          "name": "stdout",
          "text": [
            "첫번째 값이 더 큽니다.\n"
          ]
        }
      ]
    },
    {
      "cell_type": "code",
      "source": [
        "# if-elif-else\n",
        "# 두개의 조건만 있을 경우에는 if-else를 주로 활용하지만 세개 이상의 여러개의 조건을 한꺼번에 검사해야\n",
        "# 할 경우에는 elif를 사용합니다. elif는 필요한 만큼 사용가능.\n",
        "# 그리고 마지막에 else를 사용함으로서 조건에 대해서 마무리하게 됩니다.\n",
        "\n",
        "'''\n",
        "if 조건문: # 조건문을 확인해서 만약 '참'이면 if 문 다음에 문장들은 수행합니다.\n",
        "\t  # 수행할 문장 1\n",
        "    pass\n",
        "elif: # if문의 조건이 '참'이 아니라면 elif 문의 조건문이 참이라면 수행한다.\n",
        "\t  # 수행할 문장 2\n",
        "    pass\n",
        "else: # 위 모든 if문, elif문의 조건이 '참'이 아니라면 수행합니다.\n",
        "\t  # 수행할 문장 3\n",
        "    pass\n",
        "'''"
      ],
      "metadata": {
        "colab": {
          "base_uri": "https://localhost:8080/",
          "height": 72
        },
        "id": "5brvyS8pzgKr",
        "outputId": "8a5b386e-f955-44a2-a65d-113ab45f7db6"
      },
      "execution_count": 27,
      "outputs": [
        {
          "output_type": "execute_result",
          "data": {
            "text/plain": [
              "\"\\nif 조건문: # 조건문을 확인해서 만약 '참'이면 if 문 다음에 문장들은 수행합니다.\\n\\t  # 수행할 문장 1\\n    pass\\nelif: # if문의 조건이 '참'이 아니라면 elif 문의 조건문이 참이라면 수행한다.\\n\\t  # 수행할 문장 2\\n    pass\\nelse: # 위 모든 if문, elif문의 조건이 '참'이 아니라면 수행합니다.\\n\\t  # 수행할 문장 3\\n    pass\\n\""
            ],
            "application/vnd.google.colaboratory.intrinsic+json": {
              "type": "string"
            }
          },
          "metadata": {},
          "execution_count": 27
        }
      ]
    },
    {
      "cell_type": "code",
      "source": [
        "# 위코드에서 if나 elif문 뒤가 참이면 코드를 수행하고,모두 거짓일 경우 else문을 출력\n",
        "# 아래 성적을 입력받아 학점을 매기는 프로그램 작성\n",
        "\n",
        "score = int(input(\"성적을 입력하세요 (0-100):\"))\n",
        "\n",
        "if score >= 90:\n",
        "    print(\"A\")\n",
        "elif 90 > score >= 80:\n",
        "    print(\"B\")\n",
        "elif 80 > score >= 70:\n",
        "    print(\"C\")\n",
        "elif 70 > score >= 60:\n",
        "    print(\"C\")\n",
        "elif 60 > score >= 50:\n",
        "    print(\"D\")\n",
        "else:\n",
        "    print(\"F\")"
      ],
      "metadata": {
        "colab": {
          "base_uri": "https://localhost:8080/"
        },
        "id": "9iqqOHZt1g6p",
        "outputId": "4bceafb9-b2fa-4aaf-bf36-716384657db3"
      },
      "execution_count": 28,
      "outputs": [
        {
          "output_type": "stream",
          "name": "stdout",
          "text": [
            "성적을 입력하세요 (0-100):40\n",
            "F\n"
          ]
        }
      ]
    },
    {
      "cell_type": "code",
      "source": [
        "# 위 코드는 아래와 같이 변경가능\n",
        "\n",
        "score = int(input(\"성적을 입력하세요 (0-100): \"))\n",
        "\n",
        "if score >= 90:\n",
        "    print(\"A\")\n",
        "elif score >= 80:\n",
        "    print(\"B\")\n",
        "elif score >= 70:\n",
        "    print(\"C\")\n",
        "elif score >= 60:\n",
        "    print(\"D\")\n",
        "else:\n",
        "    print(\"F\")"
      ],
      "metadata": {
        "colab": {
          "base_uri": "https://localhost:8080/"
        },
        "id": "PEd2zm3c2Tyk",
        "outputId": "c5979b9b-1977-492b-b0d6-f060f5604e7d"
      },
      "execution_count": 29,
      "outputs": [
        {
          "output_type": "stream",
          "name": "stdout",
          "text": [
            "성적을 입력하세요 (0-100): 100\n",
            "A\n"
          ]
        }
      ]
    },
    {
      "cell_type": "code",
      "source": [
        "# 아래에 있는 예제를 통하여 좀 더 알아보겠음.\n",
        "# score에 따라 용돈을 받는 코드\n",
        "\n",
        "score = int(input(\"성적을 입력하세요 (0-100):\"))\n",
        "money = 0\n",
        "\n",
        "if score >= 90:\n",
        "    money += 1000000\n",
        "elif score >= 80:\n",
        "       money += 100000\n",
        "elif score >= 70:\n",
        "    money += 10000\n",
        "elif score >= 60:\n",
        "    money += 1000\n",
        "else:\n",
        "    money = 0\n",
        "print(money) # 출력: 100000\n"
      ],
      "metadata": {
        "colab": {
          "base_uri": "https://localhost:8080/"
        },
        "id": "3bJKt4mS2jra",
        "outputId": "d8a1452d-9220-4193-98aa-d8a8b818a5de"
      },
      "execution_count": 31,
      "outputs": [
        {
          "output_type": "stream",
          "name": "stdout",
          "text": [
            "성적을 입력하세요 (0-100):90\n",
            "1000000\n"
          ]
        }
      ]
    },
    {
      "cell_type": "code",
      "source": [
        "# 위 구문에서 elif로 되어 있는 부분을 모두 if로 바꿔보도록 하겠습니다.\n",
        "\n",
        "score = 81\n",
        "money = 0\n",
        "\n",
        "if score >= 90:\n",
        "    money += 1000000\n",
        "if score >= 80:\n",
        "    money += 100000\n",
        "if score >= 70:\n",
        "    money += 10000\n",
        "if score >= 60:\n",
        "    money += 1000\n",
        "else:\n",
        "    money = 0\n",
        "print(money) # 출력: 111000"
      ],
      "metadata": {
        "colab": {
          "base_uri": "https://localhost:8080/"
        },
        "id": "TrEz8VW92yYF",
        "outputId": "1df1dc86-d76d-4bbf-d74f-12b859b72da1"
      },
      "execution_count": 32,
      "outputs": [
        {
          "output_type": "stream",
          "name": "stdout",
          "text": [
            "111000\n"
          ]
        }
      ]
    },
    {
      "cell_type": "code",
      "source": [
        "'''\n",
        "매번 if문에 걸리기 때문에 용돈을 111,000원 받게 됩니다.\n",
        "또한 매번 if 뒤에 조건을 검사하니 코드의 성능도 떨어집니다. 아래처럼 작성되었을 때 첫번째 사용했던 예제와 결과도 같고,\n",
        "의도한 바대로 용돈도 10만원을 받지만, 성능은 떨어집니다.\n",
        "'''\n",
        "score = 80\n",
        "money = 0\n",
        "\n",
        "if score >= 90:\n",
        "    money += 1000000\n",
        "if 90 > score >= 80:\n",
        "    money += 100000\n",
        "if 80 > score >= 70:\n",
        "    money += 10000\n",
        "if 70 > score >= 60:\n",
        "    money += 1000\n",
        "else:\n",
        "    print(\"woaks\")\n",
        "\n",
        "print(money)\n"
      ],
      "metadata": {
        "colab": {
          "base_uri": "https://localhost:8080/"
        },
        "id": "kiKiIoWL3b9S",
        "outputId": "ea6dd2b7-4590-4d60-9986-791691ce4c84"
      },
      "execution_count": 43,
      "outputs": [
        {
          "output_type": "stream",
          "name": "stdout",
          "text": [
            "woaks\n",
            "100000\n"
          ]
        }
      ]
    },
    {
      "cell_type": "code",
      "source": [
        "# elif와 else단독으로는 사용할 수 없으며, elif는 if가 있어야만, else는 if,elif나 뒤에서배울\n",
        "# for,while이 있어야만 사용할 수 있습니다.\n",
        "\n",
        "score = 100\n",
        "else:\n",
        "    print('hello') # error"
      ],
      "metadata": {
        "colab": {
          "base_uri": "https://localhost:8080/",
          "height": 147
        },
        "id": "Vd0nMYKv3mPT",
        "outputId": "2942775b-67d7-4829-e7b1-f40426194cc0"
      },
      "execution_count": 36,
      "outputs": [
        {
          "output_type": "error",
          "ename": "SyntaxError",
          "evalue": "invalid syntax (<ipython-input-36-6019dbad9f7e>, line 5)",
          "traceback": [
            "\u001b[0;36m  File \u001b[0;32m\"<ipython-input-36-6019dbad9f7e>\"\u001b[0;36m, line \u001b[0;32m5\u001b[0m\n\u001b[0;31m    else:\u001b[0m\n\u001b[0m    ^\u001b[0m\n\u001b[0;31mSyntaxError\u001b[0m\u001b[0;31m:\u001b[0m invalid syntax\n"
          ]
        }
      ]
    },
    {
      "cell_type": "code",
      "source": [
        "# 중첩 if - elif문 사용하기\n",
        "# 중첩 조건문은 조건문 안에 또다른 조건문을 포함하는 것\n",
        "# 코드의 흐름을 다양한 경로로 분기시킬 수있게 합니다.\n",
        "\n",
        "# if를 중첩해서 사용하기\n",
        "movie = {\n",
        "    '영화': '레미제라블',\n",
        "    '장르': '드라마',\n",
        "    '서비스': '디즈니',\n",
        "    '비용': 15000,\n",
        "    '평점': 4.9\n",
        "}\n",
        "\n",
        "if movie['장르'] == '드라마':\n",
        "    if movie['서비스'] == '디즈니' or movie['서비스'] == '넷플릭스':\n",
        "        if movie['평점'] >= 4.5:\n",
        "            if movie['비용'] <= 20000:\n",
        "                print('영화시청') # 출력: 영화시청"
      ],
      "metadata": {
        "colab": {
          "base_uri": "https://localhost:8080/"
        },
        "id": "M43zXERu3-DU",
        "outputId": "6d2cd37a-10ac-40cb-aa8b-880207f51861"
      },
      "execution_count": 48,
      "outputs": [
        {
          "output_type": "stream",
          "name": "stdout",
          "text": [
            "영화시청\n"
          ]
        }
      ]
    },
    {
      "cell_type": "code",
      "source": [
        "# 이렇게 중첩되어 있는 조건문은 and를 사용하여 아래와 같이 변경가능\n",
        "\n",
        "# if를 중첩해서 사용하기\n",
        "# 간략해진 것 맞나요?\n",
        "\n",
        "movie = {\n",
        "    '영화': '레미제라블',\n",
        "    '장르': 'SF',\n",
        "    '서비스': '디즈니',\n",
        "    '비용': 20000,\n",
        "    '평점': 4.9\n",
        "\n",
        "}\n",
        "\n",
        "if movie['장르'] == 'SF' and (movie['서비스'] == '디즈니' or movie['서비스'] == '넷플릭스') and movie['평점'] >= 4.5 and movie['비용'] <= 20000:\n",
        "    print('영화시청') # 출력: 영화시청"
      ],
      "metadata": {
        "colab": {
          "base_uri": "https://localhost:8080/",
          "height": 147
        },
        "id": "h9SrIa5T4gLV",
        "outputId": "17a82d26-6c11-421c-9a04-a0cc60254930"
      },
      "execution_count": 54,
      "outputs": [
        {
          "output_type": "error",
          "ename": "SyntaxError",
          "evalue": "expected ':' (<ipython-input-54-d4efddc7626c>, line 15)",
          "traceback": [
            "\u001b[0;36m  File \u001b[0;32m\"<ipython-input-54-d4efddc7626c>\"\u001b[0;36m, line \u001b[0;32m15\u001b[0m\n\u001b[0;31m    if movie['장르'] == 'SF'\u001b[0m\n\u001b[0m                           ^\u001b[0m\n\u001b[0;31mSyntaxError\u001b[0m\u001b[0;31m:\u001b[0m expected ':'\n"
          ]
        }
      ]
    },
    {
      "cell_type": "code",
      "source": [
        "# 가독성 높여서 수정\n",
        "\n",
        "movie = {\n",
        "    '영화': '레미제라블',\n",
        "    '장르': 'SF',\n",
        "    '서비스': '디즈니',\n",
        "    '비용': 20000,\n",
        "    '평점': 4.9\n",
        "}\n",
        "\n",
        "if movie['장르'] == 'SF':\n",
        "    if movie['서비스'] == '디즈니' or movie['서비스'] == '넷플릭스':\n",
        "        if movie['평점'] >= 4.5 and movie['비용'] <= 20000:\n",
        "            print('영화시청') # 출력: 영화시청"
      ],
      "metadata": {
        "colab": {
          "base_uri": "https://localhost:8080/"
        },
        "id": "obhDSaM65lO1",
        "outputId": "a7ace0de-55e5-4f64-82ae-346e37a242c3"
      },
      "execution_count": 51,
      "outputs": [
        {
          "output_type": "stream",
          "name": "stdout",
          "text": [
            "영화시청\n"
          ]
        }
      ]
    },
    {
      "cell_type": "code",
      "source": [
        "# 중첩된 조건문에서는 elif,else를 모두 사용가능\n",
        "\n",
        "movie = {\n",
        "    '영화': '레미제라블',\n",
        "    '장르': 'SF',\n",
        "    '서비스': '왓챠',\n",
        "    '비용': 20000,\n",
        "    '평점': 4.9\n",
        "}\n",
        "\n",
        "if movie['장르'] == 'SF':\n",
        "    if movie['서비스'] == '디즈니' or movie['서비스'] == '넷플릭스':\n",
        "        if movie['평점'] >= 4.5 and movie['비용'] <= 20000:\n",
        "            print('영화시청')\n",
        "    else:\n",
        "        print(movie['서비스'] + ' 구독하기!') # 출력: 왓챠 구독하기!"
      ],
      "metadata": {
        "colab": {
          "base_uri": "https://localhost:8080/"
        },
        "id": "28NfeUnu5qMo",
        "outputId": "9bf14bb8-a0f9-41ec-97f6-697b18772888"
      },
      "execution_count": 56,
      "outputs": [
        {
          "output_type": "stream",
          "name": "stdout",
          "text": [
            "왓챠 구독하기!\n"
          ]
        }
      ]
    },
    {
      "cell_type": "markdown",
      "source": [
        "# match\n",
        "\n",
        "* match문이란?\n",
        "\n",
        "**match** 문은 여러 조건을 체크하여 해당 조건에 맞는 코드 블록을 실행하는 제어문입니다. switch라는 이름으로 다양한 프로그래밍 언어에서 지원되며, 일반적으로 if-elif-else 문보다 가독성이 좋습니다.\n",
        "\n",
        "Python은 **`switch`** 문법을 지원하지 않았습니다. 이로 인해 개발자들은 여러 가지 경우의 수를 처리하기 위해 **`if-else`** 문이나 **`dict`**의 **`get`** 메소드를 사용했어야 했습니다. 이런 방식은 작업을 수행하기는 하지만, 코드의 가독성을 저하시키고, 때로는 속도 면에서도 비효율적일 수 있습니다.\n",
        "\n",
        "다만 파이썬에서는 switch문이 if문으로 표현할 수 있으며, Python의 간결성을 해친다고 생각하였습니다. 보다 자세한 논의는 아래 문서에서 확인할 수 있습니다."
      ],
      "metadata": {
        "id": "nT9EKTy45v3S"
      }
    },
    {
      "cell_type": "code",
      "source": [
        "# match 문법 활용 코드\n",
        "\n",
        "text = 'Hello':"
      ],
      "metadata": {
        "id": "Xzxt-KDc6Hoi"
      },
      "execution_count": null,
      "outputs": []
    }
  ]
}