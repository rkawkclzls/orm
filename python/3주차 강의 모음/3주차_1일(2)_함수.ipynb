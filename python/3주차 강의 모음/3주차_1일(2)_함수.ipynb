{
  "nbformat": 4,
  "nbformat_minor": 0,
  "metadata": {
    "colab": {
      "provenance": []
    },
    "kernelspec": {
      "name": "python3",
      "display_name": "Python 3"
    },
    "language_info": {
      "name": "python"
    }
  },
  "cells": [
    {
      "cell_type": "markdown",
      "source": [
        "# 지역변수 와 전역변수"
      ],
      "metadata": {
        "id": "T3HZD6FBhUIH"
      }
    },
    {
      "cell_type": "code",
      "source": [
        "# 지역변수\n",
        "# 지역 변수는 함수 내부에서만 정의되고 사용됨,\n",
        "# 프로그램의 전체 흐름에 영향을 주지 않음\n",
        "\n",
        "def f():\n",
        "    a = 1\n",
        "    print(a) # 출력 : 1\n",
        "\n",
        "f()\n",
        "print(a) #\n",
        "#  1출력된다음 error가 뜹니다.\n",
        "#  a는 함수안에서만 선언된 지역변수이므로,\n",
        "#  밖에서 a를 출력하였을땐 선언되었던적 없는 변수라 에러가 나옵니다"
      ],
      "metadata": {
        "colab": {
          "base_uri": "https://localhost:8080/",
          "height": 276
        },
        "id": "Gpa10e9whZAI",
        "outputId": "4bf045fd-176f-4d43-cec5-dc74d265669e"
      },
      "execution_count": null,
      "outputs": [
        {
          "output_type": "stream",
          "name": "stdout",
          "text": [
            "1\n"
          ]
        },
        {
          "output_type": "error",
          "ename": "NameError",
          "evalue": "name 'a' is not defined",
          "traceback": [
            "\u001b[0;31m---------------------------------------------------------------------------\u001b[0m",
            "\u001b[0;31mNameError\u001b[0m                                 Traceback (most recent call last)",
            "\u001b[0;32m<ipython-input-2-c29aff88bf03>\u001b[0m in \u001b[0;36m<cell line: 10>\u001b[0;34m()\u001b[0m\n\u001b[1;32m      8\u001b[0m \u001b[0;34m\u001b[0m\u001b[0m\n\u001b[1;32m      9\u001b[0m \u001b[0mf\u001b[0m\u001b[0;34m(\u001b[0m\u001b[0;34m)\u001b[0m\u001b[0;34m\u001b[0m\u001b[0;34m\u001b[0m\u001b[0m\n\u001b[0;32m---> 10\u001b[0;31m \u001b[0mprint\u001b[0m\u001b[0;34m(\u001b[0m\u001b[0ma\u001b[0m\u001b[0;34m)\u001b[0m \u001b[0;31m#\u001b[0m\u001b[0;34m\u001b[0m\u001b[0;34m\u001b[0m\u001b[0m\n\u001b[0m\u001b[1;32m     11\u001b[0m \u001b[0;31m#  1출력된다음 error가 뜹니다.\u001b[0m\u001b[0;34m\u001b[0m\u001b[0;34m\u001b[0m\u001b[0m\n\u001b[1;32m     12\u001b[0m \u001b[0;31m#  a는 함수안에서만 선언된 지역변수이므로,\u001b[0m\u001b[0;34m\u001b[0m\u001b[0;34m\u001b[0m\u001b[0m\n",
            "\u001b[0;31mNameError\u001b[0m: name 'a' is not defined"
          ]
        }
      ]
    },
    {
      "cell_type": "code",
      "source": [
        "# 지역 변수 사용예시\n",
        "def f():\n",
        "    a = 1\n",
        "\n",
        "    return a\n",
        "f()\n",
        "print(a)"
      ],
      "metadata": {
        "colab": {
          "base_uri": "https://localhost:8080/",
          "height": 221
        },
        "id": "63cfJc37hxVo",
        "outputId": "136d7a09-fbaa-4de7-91ea-77bb98c5c992"
      },
      "execution_count": null,
      "outputs": [
        {
          "output_type": "error",
          "ename": "NameError",
          "evalue": "name 'a' is not defined",
          "traceback": [
            "\u001b[0;31m---------------------------------------------------------------------------\u001b[0m",
            "\u001b[0;31mNameError\u001b[0m                                 Traceback (most recent call last)",
            "\u001b[0;32m<ipython-input-5-38bcf575d87c>\u001b[0m in \u001b[0;36m<cell line: 7>\u001b[0;34m()\u001b[0m\n\u001b[1;32m      5\u001b[0m     \u001b[0;32mreturn\u001b[0m \u001b[0ma\u001b[0m\u001b[0;34m\u001b[0m\u001b[0;34m\u001b[0m\u001b[0m\n\u001b[1;32m      6\u001b[0m \u001b[0mf\u001b[0m\u001b[0;34m(\u001b[0m\u001b[0;34m)\u001b[0m\u001b[0;34m\u001b[0m\u001b[0;34m\u001b[0m\u001b[0m\n\u001b[0;32m----> 7\u001b[0;31m \u001b[0mprint\u001b[0m\u001b[0;34m(\u001b[0m\u001b[0ma\u001b[0m\u001b[0;34m)\u001b[0m\u001b[0;34m\u001b[0m\u001b[0;34m\u001b[0m\u001b[0m\n\u001b[0m",
            "\u001b[0;31mNameError\u001b[0m: name 'a' is not defined"
          ]
        }
      ]
    },
    {
      "cell_type": "code",
      "source": [
        "def f():\n",
        "    a = 1\n",
        "    print(locals()) # 출력: {'a': 1}\n",
        "\n",
        "f()"
      ],
      "metadata": {
        "colab": {
          "base_uri": "https://localhost:8080/"
        },
        "id": "MocqgPQnjRvO",
        "outputId": "bde401b0-d8d8-4d2e-81be-896d1133f383"
      },
      "execution_count": null,
      "outputs": [
        {
          "output_type": "stream",
          "name": "stdout",
          "text": [
            "{'a': 1}\n"
          ]
        }
      ]
    },
    {
      "cell_type": "code",
      "source": [
        "def f():\n",
        "    a = 1\n",
        "    b = 'hello'\n",
        "    def ff():\n",
        "        pass\n",
        "    print(locals()) # 출력: {'a': 1, 'b': 'hello', 'ff': <function f.<locals>.ff at 0x7a46e99d2c20>}\n",
        "\n",
        "f()"
      ],
      "metadata": {
        "colab": {
          "base_uri": "https://localhost:8080/"
        },
        "id": "QDfYX2Ztjrgw",
        "outputId": "ab83abba-ab37-47dc-f3c7-ea45e7dfa22a"
      },
      "execution_count": null,
      "outputs": [
        {
          "output_type": "stream",
          "name": "stdout",
          "text": [
            "{'a': 1, 'b': 'hello', 'ff': <function f.<locals>.ff at 0x7c97b743dfc0>}\n"
          ]
        }
      ]
    },
    {
      "cell_type": "code",
      "source": [
        "# 전역변수\n",
        "# 전역 변수는 프로그램 전체, 어떤 함수에서도 접근 가능한 변수입니다. 함수 내부에서 함수 외부에 정의된 변수를 변경하려면, 그 변수를 **`global`**로 선언해야 합니다.\n",
        "# 키워드를 사용하면 함수 내부에서 전역 변수를 참조하고 수정할 수 있게 됩니다.\n",
        "# 그러나 global 키워드를 사용한 전역 변수의 변경은 권장되지 않습니다.\n",
        "# 이는 코드가 복잡해질 때 변수의 값이 예기치 않게 변경될 수 있어 버그를 유발할 위험이 있기 때문입니다.\n",
        "#  대신, 필요한 값을 함수의 인자로 전달하고, 함수의 반환 값을 사용하여 결과를 얻는 방식을 선호합니다.\n",
        "#  이 방법은 객체 지향 프로그래밍에서 권장하는 방식으로, 코드의 안정성과 유지보수성을 높여줍니다.\n",
        "\n",
        "# 이렇게 하면, 각 함수는 주어진 입력에 대해서만 작동하고 외부 변수에 의존하지 않으므로,\n",
        "# 함수의 행동이 예측 가능해지며, 다른 코드 부분과의 상호 작용에서 발생할 수 있는 문제를 줄일 수 있습니다.\n",
        "\n",
        "a = 100\n",
        "\n",
        "def f():\n",
        "    global a\n",
        "    a = a + 1\n",
        "\n",
        "f()\n",
        "print(a)  # 출력: 101, 함수 f 내에서 전역 변수 a가 수정되었습니다."
      ],
      "metadata": {
        "colab": {
          "base_uri": "https://localhost:8080/"
        },
        "id": "nrwaJ-ogjtiD",
        "outputId": "1597e4ef-46b0-411a-d488-cbedb79a7d7b"
      },
      "execution_count": null,
      "outputs": [
        {
          "output_type": "stream",
          "name": "stdout",
          "text": [
            "101\n"
          ]
        }
      ]
    },
    {
      "cell_type": "code",
      "source": [
        "# 이번에는 아래와 같이 golbal을 지우고 실행해보도록 하겠습니다.\n",
        "\n",
        "a = 100\n",
        "def f():\n",
        "    a = a + 1 # error\n",
        "\n",
        "f()\n",
        "print(a)"
      ],
      "metadata": {
        "colab": {
          "base_uri": "https://localhost:8080/",
          "height": 368
        },
        "id": "br8U2mG8k62N",
        "outputId": "8e418228-c205-4715-8d12-b8439af53b0c"
      },
      "execution_count": null,
      "outputs": [
        {
          "output_type": "error",
          "ename": "UnboundLocalError",
          "evalue": "local variable 'a' referenced before assignment",
          "traceback": [
            "\u001b[0;31m---------------------------------------------------------------------------\u001b[0m",
            "\u001b[0;31mUnboundLocalError\u001b[0m                         Traceback (most recent call last)",
            "\u001b[0;32m<ipython-input-10-5c13ec67af4b>\u001b[0m in \u001b[0;36m<cell line: 7>\u001b[0;34m()\u001b[0m\n\u001b[1;32m      5\u001b[0m     \u001b[0ma\u001b[0m \u001b[0;34m=\u001b[0m \u001b[0ma\u001b[0m \u001b[0;34m+\u001b[0m \u001b[0;36m1\u001b[0m \u001b[0;31m# error\u001b[0m\u001b[0;34m\u001b[0m\u001b[0;34m\u001b[0m\u001b[0m\n\u001b[1;32m      6\u001b[0m \u001b[0;34m\u001b[0m\u001b[0m\n\u001b[0;32m----> 7\u001b[0;31m \u001b[0mf\u001b[0m\u001b[0;34m(\u001b[0m\u001b[0;34m)\u001b[0m\u001b[0;34m\u001b[0m\u001b[0;34m\u001b[0m\u001b[0m\n\u001b[0m\u001b[1;32m      8\u001b[0m \u001b[0mprint\u001b[0m\u001b[0;34m(\u001b[0m\u001b[0ma\u001b[0m\u001b[0;34m)\u001b[0m\u001b[0;34m\u001b[0m\u001b[0;34m\u001b[0m\u001b[0m\n",
            "\u001b[0;32m<ipython-input-10-5c13ec67af4b>\u001b[0m in \u001b[0;36mf\u001b[0;34m()\u001b[0m\n\u001b[1;32m      3\u001b[0m \u001b[0ma\u001b[0m \u001b[0;34m=\u001b[0m \u001b[0;36m100\u001b[0m\u001b[0;34m\u001b[0m\u001b[0;34m\u001b[0m\u001b[0m\n\u001b[1;32m      4\u001b[0m \u001b[0;32mdef\u001b[0m \u001b[0mf\u001b[0m\u001b[0;34m(\u001b[0m\u001b[0;34m)\u001b[0m\u001b[0;34m:\u001b[0m\u001b[0;34m\u001b[0m\u001b[0;34m\u001b[0m\u001b[0m\n\u001b[0;32m----> 5\u001b[0;31m     \u001b[0ma\u001b[0m \u001b[0;34m=\u001b[0m \u001b[0ma\u001b[0m \u001b[0;34m+\u001b[0m \u001b[0;36m1\u001b[0m \u001b[0;31m# error\u001b[0m\u001b[0;34m\u001b[0m\u001b[0;34m\u001b[0m\u001b[0m\n\u001b[0m\u001b[1;32m      6\u001b[0m \u001b[0;34m\u001b[0m\u001b[0m\n\u001b[1;32m      7\u001b[0m \u001b[0mf\u001b[0m\u001b[0;34m(\u001b[0m\u001b[0;34m)\u001b[0m\u001b[0;34m\u001b[0m\u001b[0;34m\u001b[0m\u001b[0m\n",
            "\u001b[0;31mUnboundLocalError\u001b[0m: local variable 'a' referenced before assignment"
          ]
        }
      ]
    },
    {
      "cell_type": "code",
      "source": [
        "# 함수안에서 전역변수를 global키워드 없이 수정하는 것은 허락하지 않기 때문에 에러가 납니다.\n",
        "# 이번에는 전역 변수를 읽기만 해보도록 하겠습니다.\n",
        "\n",
        "a = 100\n",
        "\n",
        "def f():\n",
        "    print(a) # 출력 : 100\n",
        "\n",
        "f()\n",
        "\n",
        "def ff():\n",
        "    b = a + 1\n",
        "    print(b) # 출력 : 101\n",
        "\n",
        "ff()"
      ],
      "metadata": {
        "colab": {
          "base_uri": "https://localhost:8080/"
        },
        "id": "TSgJlAEalHKv",
        "outputId": "cdcc186c-5da1-42be-c35f-33f7f5550081"
      },
      "execution_count": null,
      "outputs": [
        {
          "output_type": "stream",
          "name": "stdout",
          "text": [
            "100\n",
            "101\n"
          ]
        }
      ]
    },
    {
      "cell_type": "code",
      "source": [
        "# 위처럼 불러와서 읽기만 하는 경우는 사용이 가능.\n",
        "# 이처럼 global 변수를 쓰지않더라도 외부변수에 접근은 가능,\n",
        "# 변경은 불가능\n",
        "\n",
        "a = 100\n",
        "\n",
        "def f():\n",
        "    a = 1000\n",
        "    print(a) # 출력: 1000\n",
        "\n",
        "f()"
      ],
      "metadata": {
        "colab": {
          "base_uri": "https://localhost:8080/"
        },
        "id": "mDpdL9wjlimH",
        "outputId": "9704435f-2865-4180-d389-c76c6a04fd0e"
      },
      "execution_count": null,
      "outputs": [
        {
          "output_type": "stream",
          "name": "stdout",
          "text": [
            "1000\n"
          ]
        }
      ]
    },
    {
      "cell_type": "code",
      "source": [
        "# 위 예시는 error가 출력될 것 같지만 1000이 출력됨.\n",
        "# 이유는 전역에 있는 a와 로컬에 있는 a변수가 구분되기 떄문입니다.\n",
        "\n",
        "def f():\n",
        "    a = 100\n",
        "    a = a + 1\n",
        "    return a\n",
        "print(f())"
      ],
      "metadata": {
        "colab": {
          "base_uri": "https://localhost:8080/",
          "height": 239
        },
        "id": "BA59f_Voly5b",
        "outputId": "3c82c1a0-4f61-4091-b49e-64cdaf5f6afa"
      },
      "execution_count": null,
      "outputs": [
        {
          "output_type": "stream",
          "name": "stdout",
          "text": [
            "101\n"
          ]
        },
        {
          "output_type": "error",
          "ename": "TypeError",
          "evalue": "f() takes 0 positional arguments but 1 was given",
          "traceback": [
            "\u001b[0;31m---------------------------------------------------------------------------\u001b[0m",
            "\u001b[0;31mTypeError\u001b[0m                                 Traceback (most recent call last)",
            "\u001b[0;32m<ipython-input-16-f7ba0115edff>\u001b[0m in \u001b[0;36m<cell line: 9>\u001b[0;34m()\u001b[0m\n\u001b[1;32m      7\u001b[0m     \u001b[0;32mreturn\u001b[0m \u001b[0ma\u001b[0m\u001b[0;34m\u001b[0m\u001b[0;34m\u001b[0m\u001b[0m\n\u001b[1;32m      8\u001b[0m \u001b[0mprint\u001b[0m\u001b[0;34m(\u001b[0m\u001b[0mf\u001b[0m\u001b[0;34m(\u001b[0m\u001b[0;34m)\u001b[0m\u001b[0;34m)\u001b[0m\u001b[0;34m\u001b[0m\u001b[0;34m\u001b[0m\u001b[0m\n\u001b[0;32m----> 9\u001b[0;31m \u001b[0mprint\u001b[0m\u001b[0;34m(\u001b[0m\u001b[0mf\u001b[0m\u001b[0;34m(\u001b[0m\u001b[0ma\u001b[0m\u001b[0;34m)\u001b[0m\u001b[0;34m)\u001b[0m\u001b[0;34m\u001b[0m\u001b[0;34m\u001b[0m\u001b[0m\n\u001b[0m",
            "\u001b[0;31mTypeError\u001b[0m: f() takes 0 positional arguments but 1 was given"
          ]
        }
      ]
    },
    {
      "cell_type": "markdown",
      "source": [
        "# built-in funtion"
      ],
      "metadata": {
        "id": "HJKSV038qxhX"
      }
    },
    {
      "cell_type": "code",
      "source": [
        "# all, any\n",
        "# all은 and와 비슷함\n",
        "all([1, 1, 1, 0])\n",
        "all([1, 1, 1, 1,])\n",
        "all([1, 100, 10 , -1])\n",
        "all([True, True, True])"
      ],
      "metadata": {
        "colab": {
          "base_uri": "https://localhost:8080/"
        },
        "id": "uhqxz_h5rBfM",
        "outputId": "60aff0b3-fb6d-4127-922c-b937f0421e08"
      },
      "execution_count": null,
      "outputs": [
        {
          "output_type": "execute_result",
          "data": {
            "text/plain": [
              "True"
            ]
          },
          "metadata": {},
          "execution_count": 17
        }
      ]
    },
    {
      "cell_type": "code",
      "source": [
        "# any\n",
        "# 하나라도 True면 True\n",
        "\n",
        "any([1, 1, 1, 0])\n",
        "any([0, 0, 0, 0])\n",
        "any([True, True, False, False])"
      ],
      "metadata": {
        "colab": {
          "base_uri": "https://localhost:8080/"
        },
        "id": "Gks6wL31r75D",
        "outputId": "4d7b4f4f-1dbe-4b44-bd73-10086ff918d0"
      },
      "execution_count": null,
      "outputs": [
        {
          "output_type": "execute_result",
          "data": {
            "text/plain": [
              "True"
            ]
          },
          "metadata": {},
          "execution_count": 19
        }
      ]
    },
    {
      "cell_type": "code",
      "source": [
        "# map funtion\n",
        "# map() 함수는 기존의 리스트(또는 튜플)의 모든 요소에 특정 함수를 적용한 결과를 map 객체 형태로 반환하는 함수입니다.\n",
        "# map 객체는 다시 list()를 이용해 리스트 형태로 변환할 수 있습니다.\n",
        "\n",
        "# map()의 기본구조\n",
        "\n",
        "# map(함수, 리스트 혹은 튜플)"
      ],
      "metadata": {
        "id": "1rS0GRo1sDNJ"
      },
      "execution_count": null,
      "outputs": []
    },
    {
      "cell_type": "code",
      "source": [
        "# 첫번째 방법\n",
        "def 제곱(x):\n",
        "    return x ** 2\n",
        "list(map(제곱, [1, 2, 3, 4]))  # 출력 : [1, 4, 9, 16]\n",
        "\n",
        "# 제곱이라는 일반 함수정의후,이를 map() 함수의 첫 번쨰 인자로 전달"
      ],
      "metadata": {
        "colab": {
          "base_uri": "https://localhost:8080/"
        },
        "id": "0Ud9RYW1sr2v",
        "outputId": "2104878d-1dc2-4e94-e0a1-11a29459de4d"
      },
      "execution_count": null,
      "outputs": [
        {
          "output_type": "execute_result",
          "data": {
            "text/plain": [
              "[1, 4, 9, 16]"
            ]
          },
          "metadata": {},
          "execution_count": 22
        }
      ]
    },
    {
      "cell_type": "code",
      "source": [
        "# 두번쨰 방법\n",
        "\n",
        "list(map(lambda x : x ** 2,[1, 2, 3, 4]))\n",
        "\n",
        "# 두 방법 모두 **`map()`** 함수를 이용해 리스트의 각 요소에 함수를 적용한 후, 결과를 리스트 형태로 받아왔습니다.\n",
        "\n",
        "# **`map()`** 함수는 이처럼 리스트의 각 요소에 특정 함수를 일괄적으로 적용할 때 매우 유용하게 사용됩니다."
      ],
      "metadata": {
        "colab": {
          "base_uri": "https://localhost:8080/"
        },
        "id": "AVyIp9BRs8rD",
        "outputId": "ce9f2d60-6652-49dc-8390-3cca86958883"
      },
      "execution_count": null,
      "outputs": [
        {
          "output_type": "execute_result",
          "data": {
            "text/plain": [
              "[1, 4, 9, 16]"
            ]
          },
          "metadata": {},
          "execution_count": 25
        }
      ]
    },
    {
      "cell_type": "code",
      "source": [
        "# filter\n",
        "\n",
        "# fiter()함수는 순회할 수 있는 객체의 요소 중\n",
        "# 특정 조건을 만족하는 요소만을 선택하여 반환합니다.\n",
        "# 반환값은 filter 객체 형태로 제공되며,이를 다시 list()를 이용해 변환 할 수 있습니다."
      ],
      "metadata": {
        "id": "te78RJjStLhx"
      },
      "execution_count": null,
      "outputs": []
    },
    {
      "cell_type": "code",
      "source": [
        "# zip\n",
        "# 여러개의 순회 할 수있는 객체의 요소를 묶어서 반환.\n",
        "# 다만메모리의 효율을 위해 형변환이나 직접 순회전까지 메모리 주소로만 반환\n",
        "\n",
        "# zip(순회할 수 있는 객체 1,순회할 수 있는 객체2)"
      ],
      "metadata": {
        "id": "cbQ1nP9mt0m0"
      },
      "execution_count": null,
      "outputs": []
    },
    {
      "cell_type": "code",
      "source": [
        "# 예제\n",
        "\n",
        "zip('ab', '12')"
      ],
      "metadata": {
        "colab": {
          "base_uri": "https://localhost:8080/"
        },
        "id": "n5B7MMsIuIiO",
        "outputId": "63a3f830-27ee-4256-dcf0-d0951e7ed234"
      },
      "execution_count": null,
      "outputs": [
        {
          "output_type": "execute_result",
          "data": {
            "text/plain": [
              "<zip at 0x7c97a587d080>"
            ]
          },
          "metadata": {},
          "execution_count": 28
        }
      ]
    },
    {
      "cell_type": "code",
      "source": [
        "# 위와 같이 사용하면 메모리 주소를 반환,\n",
        "# 순회를 하거나 형변환을 하면 아래와 같이 출력값 반환\n",
        "\n",
        "list(zip('ab', '12'))"
      ],
      "metadata": {
        "colab": {
          "base_uri": "https://localhost:8080/"
        },
        "id": "YshgN2ZVuMws",
        "outputId": "88082d5d-9489-4395-9b46-7975bb5a62ed"
      },
      "execution_count": null,
      "outputs": [
        {
          "output_type": "execute_result",
          "data": {
            "text/plain": [
              "[('a', '1'), ('b', '2')]"
            ]
          },
          "metadata": {},
          "execution_count": 29
        }
      ]
    },
    {
      "cell_type": "code",
      "source": [
        "list(zip('ab', '12', [10, 20]))"
      ],
      "metadata": {
        "colab": {
          "base_uri": "https://localhost:8080/"
        },
        "id": "b7ogVVgeuZhz",
        "outputId": "1fe9e894-29bc-4945-cd66-f1651024314c"
      },
      "execution_count": null,
      "outputs": [
        {
          "output_type": "execute_result",
          "data": {
            "text/plain": [
              "[('a', '1', 10), ('b', '2', 20)]"
            ]
          },
          "metadata": {},
          "execution_count": 30
        }
      ]
    },
    {
      "cell_type": "code",
      "source": [
        "list(zip('abc', '1234567', [10, 20, 30]))"
      ],
      "metadata": {
        "colab": {
          "base_uri": "https://localhost:8080/"
        },
        "id": "VvvJoJfRuvGv",
        "outputId": "590fb140-ad7e-4659-e24f-bbc6a086c0d6"
      },
      "execution_count": null,
      "outputs": [
        {
          "output_type": "execute_result",
          "data": {
            "text/plain": [
              "[('a', '1', 10), ('b', '2', 20), ('c', '3', 30)]"
            ]
          },
          "metadata": {},
          "execution_count": 31
        }
      ]
    },
    {
      "cell_type": "code",
      "source": [
        "x = [1, 2, 3]\n",
        "y = [1, 4, 9]\n",
        "list(zip(x, y))"
      ],
      "metadata": {
        "colab": {
          "base_uri": "https://localhost:8080/"
        },
        "id": "IM6G3cmRu4yV",
        "outputId": "ee9153f2-1986-4235-aa32-a143f43ecc33"
      },
      "execution_count": null,
      "outputs": [
        {
          "output_type": "execute_result",
          "data": {
            "text/plain": [
              "[(1, 1), (2, 4), (3, 9)]"
            ]
          },
          "metadata": {},
          "execution_count": 33
        }
      ]
    },
    {
      "cell_type": "code",
      "source": [
        "x = [2, 4, 8, 16, 32, 64, 128]\n",
        "list(zip(x, x[1:], x[2:]))\n",
        "\n",
        "# 위 코드는 x와 x의 1번째부터 슬라이싱 한 값, x의 2번째부터 슬라이싱 한 값들이 각각 zip으로 묶입니다.\n",
        "# 여기서 주의깊게 보아야 할 점은 x는 32까지만 묶였다는 점입니다.\n",
        "# 왜냐하면 길이가 가장 짧은 x[2:] 기준으로 묶였기 때문입니다."
      ],
      "metadata": {
        "colab": {
          "base_uri": "https://localhost:8080/"
        },
        "id": "JQYA60feu_60",
        "outputId": "7263be35-82b8-4d4e-c2b0-9e0b4fe3ceee"
      },
      "execution_count": null,
      "outputs": [
        {
          "output_type": "execute_result",
          "data": {
            "text/plain": [
              "[(2, 4, 8), (4, 8, 16), (8, 16, 32), (16, 32, 64), (32, 64, 128)]"
            ]
          },
          "metadata": {},
          "execution_count": 35
        }
      ]
    },
    {
      "cell_type": "code",
      "source": [
        "# enumerate\n",
        "\n",
        "values = ['A', 'B', 'C', 'D']\n",
        "print(list(enumerate(values)))\n",
        "print(list(enumerate(values, 1)))\n",
        "print(list(enumerate(values, 100)))\n",
        "\n",
        "# 인덱스와 값에 동시에 접근!\n",
        "# 데이터를 리스트형으로 처리를 할때(리스트는 키값이 없기때문에 유용함)\n",
        "# 같은 key값으로 묶는다. -> JOIN"
      ],
      "metadata": {
        "colab": {
          "base_uri": "https://localhost:8080/"
        },
        "id": "2SIf3WaHvNg5",
        "outputId": "057da1aa-6893-436e-f432-a4bf1de6dfaf"
      },
      "execution_count": null,
      "outputs": [
        {
          "output_type": "stream",
          "name": "stdout",
          "text": [
            "[(0, 'A'), (1, 'B'), (2, 'C'), (3, 'D')]\n",
            "[(1, 'A'), (2, 'B'), (3, 'C'), (4, 'D')]\n",
            "[(100, 'A'), (101, 'B'), (102, 'C'), (103, 'D')]\n"
          ]
        }
      ]
    },
    {
      "cell_type": "code",
      "source": [
        "values = ['이규성', '기재만', '재만킴', '캥거루 마스터']\n",
        "print(list(enumerate(values)))"
      ],
      "metadata": {
        "colab": {
          "base_uri": "https://localhost:8080/"
        },
        "id": "CSoOZ67RwYbt",
        "outputId": "b0fb36a7-e0b8-46b0-ed51-1062b997da30"
      },
      "execution_count": null,
      "outputs": [
        {
          "output_type": "stream",
          "name": "stdout",
          "text": [
            "[(0, '이규성'), (1, '기재만'), (2, '재만킴'), (3, '캥거루 마스터')]\n"
          ]
        }
      ]
    },
    {
      "cell_type": "code",
      "source": [],
      "metadata": {
        "id": "8Jg4nx2GxCGt"
      },
      "execution_count": null,
      "outputs": []
    }
  ]
}