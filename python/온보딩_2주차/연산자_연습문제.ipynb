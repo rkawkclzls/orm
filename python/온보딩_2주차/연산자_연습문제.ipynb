{
  "nbformat": 4,
  "nbformat_minor": 0,
  "metadata": {
    "colab": {
      "provenance": []
    },
    "kernelspec": {
      "name": "python3",
      "display_name": "Python 3"
    },
    "language_info": {
      "name": "python"
    }
  },
  "cells": [
    {
      "cell_type": "code",
      "execution_count": 15,
      "metadata": {
        "colab": {
          "base_uri": "https://localhost:8080/"
        },
        "id": "YutWDiqyIuu2",
        "outputId": "26c20fde-51c2-42a4-95e2-c07c4f51ec2b"
      },
      "outputs": [
        {
          "output_type": "stream",
          "name": "stdout",
          "text": [
            "False\n",
            "True\n",
            "True\n",
            "True\n"
          ]
        }
      ],
      "source": [
        "#1번\n",
        "a = 100 # 100\n",
        "print((a > 100) and (a < 200)) # False\n",
        "print((a > 100) or (a < 200)) # True\n",
        "print((a >= 100) and (a <= 200)) # True\n",
        "print((a >= 100) or (a <= 200)) # True"
      ]
    },
    {
      "cell_type": "code",
      "source": [
        "b = 25\n",
        "(b % 2 == 0) and (b % 5 == 0) # False"
      ],
      "metadata": {
        "colab": {
          "base_uri": "https://localhost:8080/"
        },
        "id": "Z_E0Yp78W9-D",
        "outputId": "e1e1fb85-2840-4e55-ce23-0213cb7185e2"
      },
      "execution_count": 4,
      "outputs": [
        {
          "output_type": "execute_result",
          "data": {
            "text/plain": [
              "False"
            ]
          },
          "metadata": {},
          "execution_count": 4
        }
      ]
    },
    {
      "cell_type": "code",
      "source": [
        "c = 1000\n",
        "c_1 = (int(c / 100))\n",
        "print(f'결과값은 {c_1}입니다')"
      ],
      "metadata": {
        "colab": {
          "base_uri": "https://localhost:8080/"
        },
        "id": "jyw56InQXHn0",
        "outputId": "82b0675c-5291-4120-b9af-fc66e7e8b58f"
      },
      "execution_count": 16,
      "outputs": [
        {
          "output_type": "stream",
          "name": "stdout",
          "text": [
            "결과값은 10입니다\n"
          ]
        }
      ]
    },
    {
      "cell_type": "code",
      "source": [
        "# 사용자로부터 금액을 입력받습니다.\n",
        "\n",
        "amount = int(input())\n",
        "\n",
        "# 5000원, 1000원, 500원, 100원 지폐 및 동전의 개수를 계산합니다.\n",
        "notes_5000 = amount // 5000\n",
        "remainder = amount % 5000\n",
        "\n",
        "notes_1000 = remainder // 1000\n",
        "remainder = remainder % 1000\n",
        "\n",
        "coins_500 = remainder // 500\n",
        "remainder = remainder % 500\n",
        "\n",
        "coins_100 = remainder // 100\n",
        "\n",
        "print(f'5000의 개수: {notes_5000}개입니다 ,1000의 개수: {notes_1000}개입니다 ,500의 개수: {coins_500}개입니다 ,100의 개수: {coins_100}개입니다.')\n"
      ],
      "metadata": {
        "colab": {
          "base_uri": "https://localhost:8080/"
        },
        "id": "U2KgLNuSbJDA",
        "outputId": "ab2dd712-9e17-4155-d8a9-4f762d34a31f"
      },
      "execution_count": 21,
      "outputs": [
        {
          "output_type": "stream",
          "name": "stdout",
          "text": [
            "102304\n",
            "5000의 개수: 20개입니다 ,1000의 개수: 2개입니다 ,500의 개수: 0개입니다 ,100의 개수: 3개입니다.\n"
          ]
        }
      ]
    },
    {
      "cell_type": "code",
      "source": [
        "def exchange_money(amount):\n",
        "    # 5000원, 1000원, 500원, 100원 지폐 및 동전의 개수를 계산합니다.\n",
        "    notes_5000 = amount // 5000\n",
        "    remainder = amount % 5000\n",
        "\n",
        "    notes_1000 = remainder // 1000\n",
        "    remainder = remainder % 1000\n",
        "\n",
        "    coins_500 = remainder // 500\n",
        "    remainder = remainder % 500\n",
        "\n",
        "    coins_100 = remainder // 100\n",
        "\n",
        "    return notes_5000, notes_1000, coins_500, coins_100\n",
        "\n",
        "# 예시 금액으로 함수를 테스트해봅니다.\n",
        "test_amount = int(input())\n",
        "\n",
        "exchange_money(test_amount)\n"
      ],
      "metadata": {
        "colab": {
          "base_uri": "https://localhost:8080/"
        },
        "id": "qzt9XNO4XPNI",
        "outputId": "5eeb0427-6065-41c4-db43-90dc95df3baf"
      },
      "execution_count": 18,
      "outputs": [
        {
          "name": "stdout",
          "output_type": "stream",
          "text": [
            "50000\n"
          ]
        },
        {
          "output_type": "execute_result",
          "data": {
            "text/plain": [
              "(10, 0, 0, 0)"
            ]
          },
          "metadata": {},
          "execution_count": 18
        }
      ]
    },
    {
      "cell_type": "code",
      "source": [
        "amount = float(input())\n",
        "dis = float(input())\n",
        "\n",
        "# 할인된 가격 계산\n",
        "dis_price = (amount - (amount * dis / 100))\n",
        "\n",
        "#결과 출력\n",
        "print(dis_price)\n",
        "\n"
      ],
      "metadata": {
        "colab": {
          "base_uri": "https://localhost:8080/"
        },
        "id": "vM6BwQO6X81U",
        "outputId": "0bdc431f-f588-4cc9-d008-b8d49051cdf8"
      },
      "execution_count": 23,
      "outputs": [
        {
          "output_type": "stream",
          "name": "stdout",
          "text": [
            "2000\n",
            "20\n",
            "1600.0\n"
          ]
        }
      ]
    },
    {
      "cell_type": "code",
      "source": [
        "name = input()\n",
        "age = int(input())\n",
        "\n"
      ],
      "metadata": {
        "colab": {
          "base_uri": "https://localhost:8080/"
        },
        "id": "8YbWtz3jfkhi",
        "outputId": "59c60e93-1391-49fb-8cb9-e93565c645a4"
      },
      "execution_count": 24,
      "outputs": [
        {
          "name": "stdout",
          "output_type": "stream",
          "text": [
            "이규성\n",
            "26\n"
          ]
        }
      ]
    },
    {
      "cell_type": "code",
      "source": [
        "age1 = age + 1"
      ],
      "metadata": {
        "id": "fPqn3vV7g1V4"
      },
      "execution_count": 30,
      "outputs": []
    },
    {
      "cell_type": "code",
      "source": [
        "name_len = len(name)"
      ],
      "metadata": {
        "id": "BH1_L3DXg-EA"
      },
      "execution_count": 36,
      "outputs": []
    },
    {
      "cell_type": "code",
      "source": [
        "major = age >= 18\n",
        "minor = age < 18"
      ],
      "metadata": {
        "id": "OxvZyQCahJcv"
      },
      "execution_count": 37,
      "outputs": []
    },
    {
      "cell_type": "code",
      "source": [
        "print(age1)\n",
        "print(name_len)\n",
        "print(major)\n",
        "print(minor)"
      ],
      "metadata": {
        "colab": {
          "base_uri": "https://localhost:8080/"
        },
        "id": "Es1-koS5hoSN",
        "outputId": "5987acd4-6277-4aa1-fb4c-4df57d523a90"
      },
      "execution_count": 38,
      "outputs": [
        {
          "output_type": "stream",
          "name": "stdout",
          "text": [
            "27\n",
            "3\n",
            "True\n",
            "False\n"
          ]
        }
      ]
    },
    {
      "cell_type": "code",
      "source": [],
      "metadata": {
        "id": "v-PnSq5Wh15I"
      },
      "execution_count": null,
      "outputs": []
    }
  ]
}