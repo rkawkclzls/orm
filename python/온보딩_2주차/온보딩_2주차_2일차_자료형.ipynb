{
  "nbformat": 4,
  "nbformat_minor": 0,
  "metadata": {
    "colab": {
      "provenance": []
    },
    "kernelspec": {
      "name": "python3",
      "display_name": "Python 3"
    },
    "language_info": {
      "name": "python"
    }
  },
  "cells": [
    {
      "cell_type": "markdown",
      "source": [
        "# 산술연산자"
      ],
      "metadata": {
        "id": "utCyefEFQez2"
      }
    },
    {
      "cell_type": "code",
      "source": [
        "# 덧셈"
      ],
      "metadata": {
        "id": "F52r4cyiQnBV"
      },
      "execution_count": null,
      "outputs": []
    },
    {
      "cell_type": "code",
      "source": [
        "# 숫자 덧셈\n",
        "\n",
        "# 정수와 정수의 덧셈\n",
        "\n",
        "result = 5 + 3\n",
        "print(result) # 결과 : 8"
      ],
      "metadata": {
        "colab": {
          "base_uri": "https://localhost:8080/"
        },
        "id": "bZvQoDAWQqVC",
        "outputId": "330f660f-4135-4e0d-fa24-21783d7d05cf"
      },
      "execution_count": null,
      "outputs": [
        {
          "output_type": "stream",
          "name": "stdout",
          "text": [
            "8\n"
          ]
        }
      ]
    },
    {
      "cell_type": "code",
      "source": [
        "# 정수와 실수의 덧셈\n",
        "\n",
        "result = 3 + 2.5\n",
        "print(result) # 결과 5.5\n"
      ],
      "metadata": {
        "colab": {
          "base_uri": "https://localhost:8080/"
        },
        "id": "SSdQW0yTQ4RL",
        "outputId": "b63cd1b5-3b14-4779-cf43-76372324bd71"
      },
      "execution_count": null,
      "outputs": [
        {
          "output_type": "stream",
          "name": "stdout",
          "text": [
            "5.5\n"
          ]
        }
      ]
    },
    {
      "cell_type": "code",
      "source": [
        "# 리스트와 튜플의 덧셈(연결)\n",
        "\n",
        "list1 = [1,2,3]\n",
        "list2 = [4,5,6]\n",
        "combined_list = list1 + list2\n",
        "print(combined_list) #[1,2,3,4,5,6]"
      ],
      "metadata": {
        "colab": {
          "base_uri": "https://localhost:8080/"
        },
        "id": "o1n1DqTCRCes",
        "outputId": "886824aa-4a5d-4527-f21d-55da91e12581"
      },
      "execution_count": null,
      "outputs": [
        {
          "output_type": "stream",
          "name": "stdout",
          "text": [
            "[1, 2, 3, 4, 5, 6]\n"
          ]
        }
      ]
    },
    {
      "cell_type": "code",
      "source": [
        "tuple1 = (1,2,3)\n",
        "tuple2 = (4,5,6)\n",
        "combined_tuple = tuple1 + tuple2\n",
        "print(combined_tuple) # (1,2,3,4,5,)"
      ],
      "metadata": {
        "colab": {
          "base_uri": "https://localhost:8080/"
        },
        "id": "X9HaGGnFRc0s",
        "outputId": "e2a1ba68-cdae-4917-9948-539215bc040d"
      },
      "execution_count": null,
      "outputs": [
        {
          "output_type": "stream",
          "name": "stdout",
          "text": [
            "(1, 2, 3, 4, 5, 6)\n"
          ]
        }
      ]
    },
    {
      "cell_type": "code",
      "source": [
        "# 나아가기\n",
        "'''\n",
        "서로 다른 자료형 간의 덧셈은 지원되지 않습니다.\n",
        "예를 들어, 문자열과 숫자를 직접 더할 수 없습니다.\n",
        "'''\n",
        "\n",
        "# result = \"Hello\" + 5\n",
        "\n",
        "'''\n",
        "또한 덧셈이 지원되지 않는 자료형도있습니다.\n",
        "딕셔너리와 셋이 그러합니다.\n",
        "'''\n",
        "\n",
        "# {'one': 1} + {'two':2} error\n",
        "# {5} + {6} error\n",
        "\n",
        "'''\n",
        "여기서 덧셈이 지원되지 않기에 뺄셈도 지원이 안될 것이라 생각하면 안됩니다.\n",
        "셋의 경우에는 뺄셈을 차집합으로 지원합니다.\n",
        "'''\n",
        "{3,4,5} - {4} # 결과: {3,5}\n",
        "\n"
      ],
      "metadata": {
        "colab": {
          "base_uri": "https://localhost:8080/"
        },
        "id": "tN_7OQt_RsYk",
        "outputId": "4cf20437-7db9-4b76-89c4-bb4beac9327b"
      },
      "execution_count": null,
      "outputs": [
        {
          "output_type": "execute_result",
          "data": {
            "text/plain": [
              "{3, 5}"
            ]
          },
          "metadata": {},
          "execution_count": 9
        }
      ]
    },
    {
      "cell_type": "code",
      "source": [
        "# 뺄셈"
      ],
      "metadata": {
        "id": "FbsR3ulBRyo7"
      },
      "execution_count": null,
      "outputs": []
    },
    {
      "cell_type": "code",
      "source": [
        "# 숫자 뺼셈\n",
        "\n",
        "result = 7 - 4 # 정수와 정수의 뺄셈\n",
        "print(result)\n",
        "\n",
        "result = 10 - 3.5 # 정수와 실수의 뺼셈\n",
        "print(result)\n",
        "\n",
        "result = 5 - (-3) # 음수와 뺄셈\n",
        "print(result) # 결과 : 8\n"
      ],
      "metadata": {
        "colab": {
          "base_uri": "https://localhost:8080/"
        },
        "id": "2XpSd2x6S95l",
        "outputId": "b853c623-06d7-4292-cd14-a83346ae1466"
      },
      "execution_count": null,
      "outputs": [
        {
          "output_type": "stream",
          "name": "stdout",
          "text": [
            "3\n",
            "6.5\n",
            "8\n"
          ]
        }
      ]
    },
    {
      "cell_type": "code",
      "source": [
        "# set의 뺼셈\n",
        "\n",
        "{3, 4, 5} - {4} # 결과 : {3,5}\n",
        "\n",
        "'''\n",
        "앞에 언급된 것처럼 set 자료형에서는 뺄셈을 차집합으로 연산합니다.\n",
        "다만 덧셈이 합집합은 아닙니다. 이는 아래 메서드와 동일한 결과를 가집니다.\n",
        "'''\n",
        "\n",
        "{3, 4, 5}.difference({4}) # 결과 : {3, 5}"
      ],
      "metadata": {
        "colab": {
          "base_uri": "https://localhost:8080/"
        },
        "id": "kNHksnO0TipR",
        "outputId": "efb2e979-61ef-409e-8833-cb16392e147f"
      },
      "execution_count": null,
      "outputs": [
        {
          "output_type": "execute_result",
          "data": {
            "text/plain": [
              "{3, 5}"
            ]
          },
          "metadata": {},
          "execution_count": 13
        }
      ]
    },
    {
      "cell_type": "code",
      "source": [
        "# 나아가기\n",
        "\n",
        "'''\n",
        "서로 다른 자료형 간의 뺄셈은 지원되지 않습니다.\n",
        "예를 들어,문자열에서 숫자를 뺄 수 없습니다.\n",
        "'''\n",
        "\n",
        "# result = \"Hello\" - 3 # error\n",
        "\n",
        "'''\n",
        "파이썬에서 문자열,리스트,튜플 등에서 뺄셈 연산자를 직접 사용하는 것은 지원되지 않습니다.\n",
        "이러한 데이터 유형에서 항목을 제거하려면 메서드나 슬라이싱 등 다른 방법을 사용해야 합니다.\n",
        "\n",
        "뺄셈 기호인 대쉬(-)는 음의 정수를 표현하는 것에도 사용하니 표현에 유의해주세요. 예를 들어 아래와 같은 표현은 유효한\n",
        "표현입니다.\n",
        "'''\n",
        "\n",
        "print(7 -4)\n",
        "print(7 -- 4)\n",
        "print(7 --- 4)"
      ],
      "metadata": {
        "colab": {
          "base_uri": "https://localhost:8080/"
        },
        "id": "jQmVsYyuUGsW",
        "outputId": "fe1cc39f-6b7b-4fcd-e16d-7b5ee1f35ace"
      },
      "execution_count": null,
      "outputs": [
        {
          "output_type": "stream",
          "name": "stdout",
          "text": [
            "3\n",
            "11\n",
            "3\n"
          ]
        }
      ]
    },
    {
      "cell_type": "code",
      "source": [
        "# 곱셉"
      ],
      "metadata": {
        "id": "gZZl0in5VUlx"
      },
      "execution_count": null,
      "outputs": []
    },
    {
      "cell_type": "code",
      "source": [
        "# 숫자의 곱셈\n",
        "\n",
        "result = 3 * 4 # 정수와 정수의 곱셈\n",
        "print(result) # 결과: 12"
      ],
      "metadata": {
        "colab": {
          "base_uri": "https://localhost:8080/"
        },
        "id": "4ZC5luW7Vhq2",
        "outputId": "26d82208-a1cc-42c0-ee28-19925c37599e"
      },
      "execution_count": null,
      "outputs": [
        {
          "output_type": "stream",
          "name": "stdout",
          "text": [
            "12\n"
          ]
        }
      ]
    },
    {
      "cell_type": "code",
      "source": [
        "result = 5 * 2.5 # 정수와 실수의 곱셈:\n",
        "print(result) # 결과: 12.5"
      ],
      "metadata": {
        "colab": {
          "base_uri": "https://localhost:8080/"
        },
        "id": "8MwPGY7gVuNn",
        "outputId": "7f49722c-ed3a-42cf-fd77-ce772ea60a36"
      },
      "execution_count": null,
      "outputs": [
        {
          "output_type": "stream",
          "name": "stdout",
          "text": [
            "12.5\n"
          ]
        }
      ]
    },
    {
      "cell_type": "code",
      "source": [
        "# 문자열과 곱셈\n",
        "'''\n",
        "문자열과 정수를 곱하면 해당 문자열이 정수만큼 반복됩니다.\n",
        "다만 문자열과 실수를 곱하는 것은 지원되지 않습니다.\n",
        "'''\n",
        "\n",
        "result = \"Ha\" * 3\n",
        "print(result) # 출력: \"HaHaHa\""
      ],
      "metadata": {
        "colab": {
          "base_uri": "https://localhost:8080/"
        },
        "id": "cvraomyJWuPO",
        "outputId": "dd7b94f1-fd17-4df5-cb8a-372fc71c014b"
      },
      "execution_count": null,
      "outputs": [
        {
          "output_type": "stream",
          "name": "stdout",
          "text": [
            "HaHaHa\n"
          ]
        }
      ]
    },
    {
      "cell_type": "code",
      "source": [
        "# 리스트와 곱셈\n",
        "\n",
        "'''\n",
        "리스트와 정수를 곱하면 리스트내의 요소들이 정수 만큼 반복됩니다.\n",
        "다만 리스트와 실수를 곱하는것,리스트와 리스트를 곱하는 것은 지원되지않습니다.\n",
        "'''\n",
        "\n",
        "result = [1, 2, 3] * 2\n",
        "print(result)"
      ],
      "metadata": {
        "colab": {
          "base_uri": "https://localhost:8080/"
        },
        "id": "p8V0ospPWkc8",
        "outputId": "3bc5d5ba-0b61-4546-9978-a2fd71a16a33"
      },
      "execution_count": null,
      "outputs": [
        {
          "output_type": "stream",
          "name": "stdout",
          "text": [
            "[1, 2, 3, 1, 2, 3]\n"
          ]
        }
      ]
    },
    {
      "cell_type": "code",
      "source": [
        "# 나눗셈\n",
        "\n",
        "'''\n",
        "나눗셈 연산자(/,//)는 두 수를 나누는 연산자입니다.\n",
        "첫번쨰 나눗셈 연산자는 항상 float 형식으로 반환되며,\n",
        "두번째 나눗셈 연산자는 항상 int형으로 반환됩니다. //는 내림입니다.\n",
        "'''\n",
        "\n",
        "a = 10\n",
        "b = 2\n",
        "print(a / b)\n",
        "print(a // b)\n"
      ],
      "metadata": {
        "colab": {
          "base_uri": "https://localhost:8080/"
        },
        "id": "iOlZR7GnZITg",
        "outputId": "d09cccad-cbe6-40a1-99fb-0456087b931e"
      },
      "execution_count": null,
      "outputs": [
        {
          "output_type": "stream",
          "name": "stdout",
          "text": [
            "5.0\n",
            "5\n"
          ]
        }
      ]
    },
    {
      "cell_type": "code",
      "source": [
        "a = -5\n",
        "b = 2\n",
        "print(a / b)\n",
        "print(a // b)"
      ],
      "metadata": {
        "colab": {
          "base_uri": "https://localhost:8080/"
        },
        "id": "7FiU9HDVZrxe",
        "outputId": "8db9578c-21e1-4622-a7e9-3b7c8c33470c"
      },
      "execution_count": null,
      "outputs": [
        {
          "output_type": "stream",
          "name": "stdout",
          "text": [
            "-2.5\n",
            "-3\n"
          ]
        }
      ]
    },
    {
      "cell_type": "code",
      "source": [
        "# 나아가기\n",
        "\n",
        "'''\n",
        "나누기의 경우 0으로 나누면 아래와 같은 에러가 발생합니다.\n",
        "이는 수학적으로 0으로 나누는 것이 정의되지 않았기 때문입니다.\n",
        "'''\n",
        "\n",
        "z = 0\n",
        "# x / z #ZeroDivisionError 발생\n",
        "\n",
        "'''\n",
        "또한 float형으로 반환되는 경우 아래처럼 소숫점 2번째 자리까지\n",
        "구문을 많이 사용합니다.\n",
        "'''\n",
        "a = 10\n",
        "b = 3\n",
        "divide = a / b\n",
        "print(f'{a} % {b} = {divide:.2f}')"
      ],
      "metadata": {
        "colab": {
          "base_uri": "https://localhost:8080/"
        },
        "id": "6Tc9Tty4Zx-Y",
        "outputId": "fe353883-9b6c-4b86-de2e-55c7210e3aae"
      },
      "execution_count": null,
      "outputs": [
        {
          "output_type": "stream",
          "name": "stdout",
          "text": [
            "10 % 3 = 3.33\n"
          ]
        }
      ]
    },
    {
      "cell_type": "code",
      "source": [
        "# 나머지연산자\n",
        "\n",
        "'''\n",
        "나머지 연산자(%)는 한 숫자를 다른 숫자로 나누었을 때의 나머지를 반환하는 연산자입니다.\n",
        "이 연산자는 특히 비교 연산자와 함께 사용하여 값이 나누어 떨어지는지 확인할 때 많이 사용합니다.\n",
        "'''\n",
        "\n",
        "10 % 3\n",
        "# 10을 3으로 나누면 몫이 3이고 나머지가 1입니다. 따라서 1을 출력합니다."
      ],
      "metadata": {
        "colab": {
          "base_uri": "https://localhost:8080/"
        },
        "id": "RkwBYQRjaRFY",
        "outputId": "f43ac1a7-38f6-40cc-cab8-8a962a139d85"
      },
      "execution_count": null,
      "outputs": [
        {
          "output_type": "execute_result",
          "data": {
            "text/plain": [
              "1"
            ]
          },
          "metadata": {},
          "execution_count": 25
        }
      ]
    },
    {
      "cell_type": "code",
      "source": [
        "# 활용 예시\n",
        "\n",
        "10 % 2 == 0  #홀수, 짝수 판별\n",
        "365 % 10 == 0 # 1의 자리 반환\n",
        "\n",
        "\n",
        "'''\n",
        "위와 같이 나머지 연산은 홀수와 짝수를 판별하거나 특정 자리 수를 반환하거나,\n",
        "특정 주기마다 코드를 실행시킬 경우 등에 주로 사용합니다.\n",
        "'''\n",
        "\n"
      ],
      "metadata": {
        "colab": {
          "base_uri": "https://localhost:8080/",
          "height": 54
        },
        "id": "1oYoxSggbhhc",
        "outputId": "76aaa8af-4902-45d7-a068-ac5d30782dd9"
      },
      "execution_count": null,
      "outputs": [
        {
          "output_type": "execute_result",
          "data": {
            "text/plain": [
              "'\\n위와 같이 나머지 연산은 홀수와 짝수를 판별하거나 특정 자리 수를 반환하거나,\\n특정 주기마다 코드를 실행시킬 경우 등에 주로 사용합니다.\\n'"
            ],
            "application/vnd.google.colaboratory.intrinsic+json": {
              "type": "string"
            }
          },
          "metadata": {},
          "execution_count": 26
        }
      ]
    },
    {
      "cell_type": "code",
      "source": [
        "# 나아가기\n",
        "\n",
        "# 10 % 0 # ZeroDivisionError 발생\n",
        "\n",
        "'''\n",
        "나머지 연산과 마찬가지로 0으로 나누려 하면 에러를 발생시킵니다.\n",
        "나머지 연산은 실수에서도 사용 할 수있습니다. 하지만 부동 소숫점 문제가 발생될 수있으므로 주의\n",
        "'''\n",
        "\n",
        "10 % 3.3"
      ],
      "metadata": {
        "colab": {
          "base_uri": "https://localhost:8080/"
        },
        "id": "-tMqweKfb9PF",
        "outputId": "99bbc7e3-4d30-4d29-9f41-b1ce367b004e"
      },
      "execution_count": null,
      "outputs": [
        {
          "output_type": "execute_result",
          "data": {
            "text/plain": [
              "0.10000000000000053"
            ]
          },
          "metadata": {},
          "execution_count": 27
        }
      ]
    },
    {
      "cell_type": "code",
      "source": [
        "# 제곱 연산자\n",
        "\n",
        "'''\n",
        "제곱 연산자(**)는 특정 숫자를 다른 숫자의 제곱만큼 곱하는 연산자입니다.\n",
        "'''\n",
        "10 ** 3"
      ],
      "metadata": {
        "colab": {
          "base_uri": "https://localhost:8080/"
        },
        "id": "MafkN8avcdQ2",
        "outputId": "d434d862-3784-47f3-80b8-2bd7370f7072"
      },
      "execution_count": null,
      "outputs": [
        {
          "output_type": "execute_result",
          "data": {
            "text/plain": [
              "1000"
            ]
          },
          "metadata": {},
          "execution_count": 28
        }
      ]
    },
    {
      "cell_type": "code",
      "source": [
        "4 ** 0.5\n",
        "# 위 연산 결과는 4의 1/2승과 같습니다.\n",
        "# 제곱근을 구하는 것이고,루트를 씌운 결과와 같습니다.\n",
        "\n"
      ],
      "metadata": {
        "colab": {
          "base_uri": "https://localhost:8080/"
        },
        "id": "7VbCpUawcwvS",
        "outputId": "fa0819df-53a3-4127-e079-a760a6c5a85f"
      },
      "execution_count": null,
      "outputs": [
        {
          "output_type": "execute_result",
          "data": {
            "text/plain": [
              "2.0"
            ]
          },
          "metadata": {},
          "execution_count": 29
        }
      ]
    },
    {
      "cell_type": "code",
      "source": [],
      "metadata": {
        "id": "ohMGdB_tdDbQ"
      },
      "execution_count": null,
      "outputs": []
    }
  ]
}