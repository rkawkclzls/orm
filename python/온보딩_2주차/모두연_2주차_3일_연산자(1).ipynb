{
  "nbformat": 4,
  "nbformat_minor": 0,
  "metadata": {
    "colab": {
      "provenance": []
    },
    "kernelspec": {
      "name": "python3",
      "display_name": "Python 3"
    },
    "language_info": {
      "name": "python"
    }
  },
  "cells": [
    {
      "cell_type": "markdown",
      "source": [
        "# 논리연산"
      ],
      "metadata": {
        "id": "tHsGsdzoA04K"
      }
    },
    {
      "cell_type": "markdown",
      "source": [
        "* 내가 휴먼고객에 대해서 데이터를 받아서 가망고객\n",
        "\n",
        "휴먼고객 100,000명(DB) ->\n",
        "1차. 20 ~ 40먼저 거르면 -> 4만명(-6만명) ->\n",
        "\n",
        "2차. 10만원 이하를 사용한 고객 거르면 -> 2만명"
      ],
      "metadata": {
        "id": "3RXQC_WjBNUW"
      }
    },
    {
      "cell_type": "code",
      "execution_count": null,
      "metadata": {
        "id": "b3Zt0YTR6qM4"
      },
      "outputs": [],
      "source": [
        "# and 두가지 조건이 모두 참일때만 True\n",
        "# 예 5 > 3 and 4 > 3 -> True\n",
        "# 하나라도  조건이 틀리면 False\n",
        "# 값이 같더라도 ID가 달라서 False가 나올 수 있다"
      ]
    },
    {
      "cell_type": "code",
      "source": [
        "for i in range(101):\n",
        "    if i % 3 == 0 and i % 5 == 0:\n",
        "        print(i)\n"
      ],
      "metadata": {
        "colab": {
          "base_uri": "https://localhost:8080/"
        },
        "id": "XTF_T9Bp7kgV",
        "outputId": "bc063576-d625-4579-c904-2d94e4ba965c"
      },
      "execution_count": null,
      "outputs": [
        {
          "output_type": "stream",
          "name": "stdout",
          "text": [
            "0\n",
            "15\n",
            "30\n",
            "45\n",
            "60\n",
            "75\n",
            "90\n"
          ]
        }
      ]
    },
    {
      "cell_type": "code",
      "source": [
        "def test1():\n",
        "    print(\"test1 함수 호출!\")\n",
        "    return False\n",
        "\n",
        "def test2():\n",
        "    print(\"test2 함수 호출!\")\n",
        "    return True\n",
        "\n",
        "# 가장 많이 걸러지는 조건을 맨 앞에 두어야 리소스를 줄일 수 있다.\n",
        "\n",
        "result = test1() and test2()\n",
        "print(result) # 결과: False"
      ],
      "metadata": {
        "colab": {
          "base_uri": "https://localhost:8080/"
        },
        "id": "uwhT3jbcAyEC",
        "outputId": "e82c3338-0404-43b7-e1a3-61b51a8d1820"
      },
      "execution_count": null,
      "outputs": [
        {
          "output_type": "stream",
          "name": "stdout",
          "text": [
            "test1 함수 호출!\n",
            "False\n"
          ]
        }
      ]
    },
    {
      "cell_type": "code",
      "source": [
        "0 and 1"
      ],
      "metadata": {
        "colab": {
          "base_uri": "https://localhost:8080/"
        },
        "id": "Og-9aymEA7wS",
        "outputId": "7fd61298-c6f0-4e4e-84b0-6030f41cea17"
      },
      "execution_count": null,
      "outputs": [
        {
          "output_type": "execute_result",
          "data": {
            "text/plain": [
              "0"
            ]
          },
          "metadata": {},
          "execution_count": 5
        }
      ]
    },
    {
      "cell_type": "code",
      "source": [
        "# x = 5\n",
        "# y = 2\n",
        "# z = 10\n",
        "\n",
        "# x += y * z\n",
        "# x2 = x2 + (y * z)\n",
        "# x3 = y * z\n",
        "# print(x)\n",
        "# print(x2)\n",
        "# print(x3)"
      ],
      "metadata": {
        "id": "8RMhIJgIEbls"
      },
      "execution_count": null,
      "outputs": []
    },
    {
      "cell_type": "code",
      "source": [
        " a = 10\n",
        " a -= 5\n",
        " print(a)\n"
      ],
      "metadata": {
        "colab": {
          "base_uri": "https://localhost:8080/"
        },
        "id": "4pGxIK-nE9VV",
        "outputId": "8641ea1a-6a39-44d3-e510-ae1381df0fb4"
      },
      "execution_count": null,
      "outputs": [
        {
          "output_type": "stream",
          "name": "stdout",
          "text": [
            "5\n"
          ]
        }
      ]
    },
    {
      "cell_type": "code",
      "source": [
        " a = 3\n",
        " a *= 2 + 4\n",
        " print(a)\n",
        "\n"
      ],
      "metadata": {
        "colab": {
          "base_uri": "https://localhost:8080/"
        },
        "id": "E9ZQ25l3GlM7",
        "outputId": "a3f94ecf-b574-4e13-9c0b-dfc8727f4484"
      },
      "execution_count": null,
      "outputs": [
        {
          "output_type": "stream",
          "name": "stdout",
          "text": [
            "18\n"
          ]
        }
      ]
    },
    {
      "cell_type": "code",
      "source": [
        "# 기본 예시\n",
        "a = [1,2,3,4]\n",
        "b = [1,2,3,4 ]\n",
        "c = 'hello world'\n",
        "\n",
        "print(1 in a)"
      ],
      "metadata": {
        "colab": {
          "base_uri": "https://localhost:8080/"
        },
        "id": "J-KxoQ6gQL3Z",
        "outputId": "0a9979da-2f8c-498e-b7b3-71013d609c91"
      },
      "execution_count": null,
      "outputs": [
        {
          "output_type": "stream",
          "name": "stdout",
          "text": [
            "True\n"
          ]
        }
      ]
    },
    {
      "cell_type": "code",
      "source": [
        "print(0 not in b) # 출력 : True"
      ],
      "metadata": {
        "colab": {
          "base_uri": "https://localhost:8080/"
        },
        "id": "Y94NnMrwQXN-",
        "outputId": "b7594854-4d04-459f-c755-885a2f0c01f2"
      },
      "execution_count": null,
      "outputs": [
        {
          "output_type": "stream",
          "name": "stdout",
          "text": [
            "True\n"
          ]
        }
      ]
    },
    {
      "cell_type": "code",
      "source": [
        "print([2] in b)"
      ],
      "metadata": {
        "colab": {
          "base_uri": "https://localhost:8080/"
        },
        "id": "8se5HNbNQe4t",
        "outputId": "a53b2fb0-9c28-4728-a3dd-213020296f4b"
      },
      "execution_count": null,
      "outputs": [
        {
          "output_type": "stream",
          "name": "stdout",
          "text": [
            "False\n"
          ]
        }
      ]
    },
    {
      "cell_type": "code",
      "source": [
        "# 자료형태를 잘 파악하고 In을 사용해야한다.\n",
        "a_1 = [1, [2], 3, 4]"
      ],
      "metadata": {
        "id": "J0wWwNcCQkNg"
      },
      "execution_count": null,
      "outputs": []
    },
    {
      "cell_type": "code",
      "source": [
        "print([2] in a_1)"
      ],
      "metadata": {
        "colab": {
          "base_uri": "https://localhost:8080/"
        },
        "id": "vpX8ogaZQpNk",
        "outputId": "7a53678f-1f14-4a65-be66-f29858e96850"
      },
      "execution_count": null,
      "outputs": [
        {
          "output_type": "stream",
          "name": "stdout",
          "text": [
            "True\n"
          ]
        }
      ]
    },
    {
      "cell_type": "code",
      "source": [
        "print('h' in c)\n",
        "print('hello' in c)"
      ],
      "metadata": {
        "colab": {
          "base_uri": "https://localhost:8080/"
        },
        "id": "JCiZ79-iQs6j",
        "outputId": "5027eff3-f97a-4666-a125-00b74d349cec"
      },
      "execution_count": null,
      "outputs": [
        {
          "output_type": "stream",
          "name": "stdout",
          "text": [
            "True\n",
            "True\n"
          ]
        }
      ]
    },
    {
      "cell_type": "markdown",
      "source": [
        "# 연산자 순서"
      ],
      "metadata": {
        "id": "1xmHB2FhRE7_"
      }
    },
    {
      "cell_type": "code",
      "source": [
        "-2 ** 2"
      ],
      "metadata": {
        "colab": {
          "base_uri": "https://localhost:8080/"
        },
        "id": "dnRqnxs_SZMO",
        "outputId": "2936c9d8-d057-41fe-c304-3630fd5aaf6b"
      },
      "execution_count": null,
      "outputs": [
        {
          "output_type": "execute_result",
          "data": {
            "text/plain": [
              "-4"
            ]
          },
          "metadata": {},
          "execution_count": 21
        }
      ]
    },
    {
      "cell_type": "code",
      "source": [
        "True * True and True + False # 출력: 1 , ((True * True) and (True + False))"
      ],
      "metadata": {
        "colab": {
          "base_uri": "https://localhost:8080/"
        },
        "id": "0EO7AJvRSbZM",
        "outputId": "d0d8c734-ffb5-4d3b-a68c-2b9bc440fc26"
      },
      "execution_count": null,
      "outputs": [
        {
          "output_type": "execute_result",
          "data": {
            "text/plain": [
              "1"
            ]
          },
          "metadata": {},
          "execution_count": 22
        }
      ]
    },
    {
      "cell_type": "code",
      "source": [
        "# 복합 할당 연산자가 가장 나중입니다!\n",
        "a = 10\n",
        "a *= 10 + 100\n",
        "a # 출력: 1100"
      ],
      "metadata": {
        "colab": {
          "base_uri": "https://localhost:8080/"
        },
        "id": "U2IC9H0nSgbs",
        "outputId": "1dedd8dc-6ba3-4fc8-e074-438bcc89303e"
      },
      "execution_count": null,
      "outputs": [
        {
          "output_type": "execute_result",
          "data": {
            "text/plain": [
              "1100"
            ]
          },
          "metadata": {},
          "execution_count": 23
        }
      ]
    },
    {
      "cell_type": "code",
      "source": [
        " result = 10 / 2 * 4 - 3\n",
        " print(result)\n"
      ],
      "metadata": {
        "colab": {
          "base_uri": "https://localhost:8080/"
        },
        "id": "3NqXxfjcSizc",
        "outputId": "f721f4b7-d674-4c1e-f1ce-e91a986b4953"
      },
      "execution_count": null,
      "outputs": [
        {
          "output_type": "stream",
          "name": "stdout",
          "text": [
            "17.0\n"
          ]
        }
      ]
    },
    {
      "cell_type": "code",
      "source": [],
      "metadata": {
        "id": "5ZcOql1UUfPM"
      },
      "execution_count": null,
      "outputs": []
    }
  ]
}