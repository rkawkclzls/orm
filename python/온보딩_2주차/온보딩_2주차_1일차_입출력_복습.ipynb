{
  "nbformat": 4,
  "nbformat_minor": 0,
  "metadata": {
    "colab": {
      "provenance": []
    },
    "kernelspec": {
      "name": "python3",
      "display_name": "Python 3"
    },
    "language_info": {
      "name": "python"
    }
  },
  "cells": [
    {
      "cell_type": "markdown",
      "source": [
        "# 1.1 입출력 복습"
      ],
      "metadata": {
        "id": "hHlYhaFVytsX"
      }
    },
    {
      "cell_type": "code",
      "source": [
        "'''\n",
        "이번 해에는 매일 ___ 운동을 하기로 했다:유산소\n",
        "이번 해에는 매일 ___ 아침식사를 하기로 했다:푸짐한\n",
        "이번 해에는 매일 ___ 일어나기로 했다:일찍\n",
        "이번 해에는 매일 ___ 했다:웃기로\n",
        "이번 해에는 매일 ___ 했다:커밋을 올리기로\n",
        "이번 해에는 매일 ___ 했다:독서를 하기로\n",
        "이번 해에는 매일 ___ 했다:코딩연습을\n",
        "이번 해에는 매일 ___ 했다:규칙적인 생활습관을 가지기로\n",
        "이번 해에는 매일 ___ 했다:긍정적인 마인드를 가지기로\n",
        "이번 해에는 매일 ___ 했다:집중력을 기르기로\n",
        "'''"
      ],
      "metadata": {
        "id": "F-EeByxSqGSE"
      },
      "execution_count": null,
      "outputs": []
    },
    {
      "cell_type": "code",
      "source": [
        "#입력\n",
        "sentence_1 = input('이번 해에는 매일 ___ 운동을 하기로 했다:')\n",
        "sentence_2 = input('이번 해에는 매일 ___ 아침식사를 하기로 했다:')\n",
        "sentence_3 = input('이번 해에는 매일 ___ 일어나기로 했다:')\n",
        "sentence_4 = input('이번 해에는 매일 ___ 했다:')\n",
        "sentence_5 = input('이번 해에는 매일 ___ 했다:')\n",
        "sentence_6 = input('이번 해에는 매일 ___ 했다:')\n",
        "sentence_7 = input('이번 해에는 매일 ___ 했다:')\n",
        "sentence_8 = input('이번 해에는 매일 ___ 했다:')\n",
        "sentence_9 = input('이번 해에는 매일 ___ 했다:')\n",
        "\n",
        "sentence_10 = input('이번 해에는 매일 ___ 했다:')"
      ],
      "metadata": {
        "colab": {
          "base_uri": "https://localhost:8080/"
        },
        "id": "8Ej0zDZklYpg",
        "outputId": "0bc26328-efcf-46ce-8b0a-8770bd181005"
      },
      "execution_count": null,
      "outputs": [
        {
          "name": "stdout",
          "output_type": "stream",
          "text": [
            "이번 해에는 매일 ___ 운동을 하기로 했다:1\n",
            "이번 해에는 매일 ___ 아침식사를 하기로 했다:\n",
            "이번 해에는 매일 ___ 일어나기로 했다:1\n",
            "이번 해에는 매일 ___ 했다:1\n",
            "이번 해에는 매일 ___ 했다:1\n",
            "이번 해에는 매일 ___ 했다:1\n",
            "이번 해에는 매일 ___ 했다:1\n",
            "이번 해에는 매일 ___ 했다:1\n",
            "이번 해에는 매일 ___ 했다:1\n",
            "이번 해에는 매일 ___ 했다:1\n"
          ]
        }
      ]
    },
    {
      "cell_type": "code",
      "source": [
        "#출력\n",
        "print(f\"이번 해에는 매일 {sentence_1} 했다.\\n\")\n",
        "print(f\"이번 해에는 매일 {sentence_3} 했다.\\n\")\n",
        "print(f\"이번 해에는 매일 {sentence_4} 했다.\\n\")\n",
        "print(f\"이번 해에는 매일 {sentence_5} 했다.\\n\")\n",
        "print(f\"이번 해에는 매일 {sentence_6} 했다.\\n\")\n",
        "print(f\"이번 해에는 매일 {sentence_7} 했다.\\n\")\n",
        "print(f\"이번 해에는 매일 {sentence_8} 했다.\\n\")\n",
        "print(f\"이번 해에는 매일 {sentence_9} 했으며,{sentence_10}에도 집중하기로 했다.\")\n"
      ],
      "metadata": {
        "colab": {
          "base_uri": "https://localhost:8080/"
        },
        "id": "v1d_7nD7l9Yt",
        "outputId": "3a67bd22-d56f-471b-b7f9-31eb5fb3b50b"
      },
      "execution_count": null,
      "outputs": [
        {
          "output_type": "stream",
          "name": "stdout",
          "text": [
            "이번 해에는 매일 1 했다.\n",
            "\n",
            "이번 해에는 매일 1 했다.\n",
            "\n",
            "이번 해에는 매일 1 했다.\n",
            "\n",
            "이번 해에는 매일 1 했다.\n",
            "\n",
            "이번 해에는 매일 1 했다.\n",
            "\n",
            "이번 해에는 매일 1 했다.\n",
            "\n",
            "이번 해에는 매일 1 했다.\n",
            "\n",
            "이번 해에는 매일 1 했으며,1에도 집중하기로 했다.\n"
          ]
        }
      ]
    },
    {
      "cell_type": "code",
      "source": [
        "#2가지 인풋을 받아보자"
      ],
      "metadata": {
        "id": "-tpOk7FhmUUI"
      },
      "execution_count": null,
      "outputs": []
    },
    {
      "cell_type": "code",
      "source": [
        "word1 = input(\"올해는 __와\")\n",
        "word2 = input(\"_-에 집중하려고한다.\")\n",
        "\n",
        "#한문장안에 word1과 word2 출력하기\n",
        "print(f\"올해는 {word1}과 {word2}에 집중하려고 한다.\")"
      ],
      "metadata": {
        "colab": {
          "base_uri": "https://localhost:8080/"
        },
        "id": "n2XRBL5wufWU",
        "outputId": "b8d4e179-b27a-413e-ab70-7dcf4e3c0725"
      },
      "execution_count": null,
      "outputs": [
        {
          "output_type": "stream",
          "name": "stdout",
          "text": [
            "올해는 __와1\n",
            "_-에 집중하려고한다.2\n",
            "올해는 1과 2에 집중하려고 한다.\n"
          ]
        }
      ]
    },
    {
      "cell_type": "code",
      "source": [
        "# 2. end를 사용해서 다른 두 문장을 합치기\n",
        "print(f\"{word1}와\",end = \" \")\n",
        "print(f\"{word2}에 집중하려고한다\")"
      ],
      "metadata": {
        "colab": {
          "base_uri": "https://localhost:8080/"
        },
        "id": "TICa0y_Avah1",
        "outputId": "f331474b-dea1-463c-e39c-c836cb6ce34e"
      },
      "execution_count": null,
      "outputs": [
        {
          "output_type": "stream",
          "name": "stdout",
          "text": [
            "1와 2에 집중하려고한다\n"
          ]
        }
      ]
    },
    {
      "cell_type": "markdown",
      "source": [
        "# 1.2 두가지 단어를 한번에 받기"
      ],
      "metadata": {
        "id": "JW6otNvswg1w"
      }
    },
    {
      "cell_type": "code",
      "source": [
        "sentence_2 = input(\"올해는 __와 __에 집중하려고한다\")"
      ],
      "metadata": {
        "colab": {
          "base_uri": "https://localhost:8080/"
        },
        "id": "Ah1gKJXgw8qn",
        "outputId": "b4534c96-5d18-4e7f-942f-8681b5b30d0d"
      },
      "execution_count": null,
      "outputs": [
        {
          "name": "stdout",
          "output_type": "stream",
          "text": [
            "올해는 __와 __에 집중하려고한다캥거루 재만이\n"
          ]
        }
      ]
    },
    {
      "cell_type": "code",
      "source": [
        "print(sentence_2)\n"
      ],
      "metadata": {
        "colab": {
          "base_uri": "https://localhost:8080/"
        },
        "id": "iA_EgkGIxKV4",
        "outputId": "7334010a-d0ff-4a21-9af7-eebfc6ec3a90"
      },
      "execution_count": null,
      "outputs": [
        {
          "output_type": "stream",
          "name": "stdout",
          "text": [
            "캥거루 재만이\n"
          ]
        }
      ]
    },
    {
      "cell_type": "markdown",
      "source": [],
      "metadata": {
        "id": "OMzWFhjAysmy"
      }
    },
    {
      "cell_type": "code",
      "source": [
        "word_1,word_2 = sentence_2.split() #두 단어를 입력받고, (필수) 공백을 기준으로 분리"
      ],
      "metadata": {
        "id": "WJLIfK9AxOqe"
      },
      "execution_count": null,
      "outputs": []
    },
    {
      "cell_type": "code",
      "source": [
        "print(word_1)"
      ],
      "metadata": {
        "colab": {
          "base_uri": "https://localhost:8080/"
        },
        "id": "hcoz82kVxmT9",
        "outputId": "2fbf7639-3142-4044-d6dc-915ebc1c50d7"
      },
      "execution_count": null,
      "outputs": [
        {
          "output_type": "stream",
          "name": "stdout",
          "text": [
            "1\n"
          ]
        }
      ]
    },
    {
      "cell_type": "code",
      "source": [
        "print(word_2)"
      ],
      "metadata": {
        "colab": {
          "base_uri": "https://localhost:8080/"
        },
        "id": "0brBXRUIxrsj",
        "outputId": "c7ce6d64-bdb5-4c77-a94a-7ee6d3dd258f"
      },
      "execution_count": null,
      "outputs": [
        {
          "output_type": "stream",
          "name": "stdout",
          "text": [
            "2\n"
          ]
        }
      ]
    },
    {
      "cell_type": "code",
      "source": [
        "print(f\"올해는 {word_1}과 {word_2}에 집중하려고한다.\\n\")"
      ],
      "metadata": {
        "colab": {
          "base_uri": "https://localhost:8080/"
        },
        "id": "3iXzByNNx_M5",
        "outputId": "7d521566-ef6f-4144-c3eb-5e327405f284"
      },
      "execution_count": null,
      "outputs": [
        {
          "output_type": "stream",
          "name": "stdout",
          "text": [
            "올해는 1과 2에 집중하려고한다.\n",
            "\n"
          ]
        }
      ]
    },
    {
      "cell_type": "code",
      "source": [],
      "metadata": {
        "id": "jRpDjgg7yLKM"
      },
      "execution_count": null,
      "outputs": []
    }
  ]
}