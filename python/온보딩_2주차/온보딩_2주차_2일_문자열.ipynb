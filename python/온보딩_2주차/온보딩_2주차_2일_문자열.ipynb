{
  "nbformat": 4,
  "nbformat_minor": 0,
  "metadata": {
    "colab": {
      "provenance": []
    },
    "kernelspec": {
      "name": "python3",
      "display_name": "Python 3"
    },
    "language_info": {
      "name": "python"
    }
  },
  "cells": [
    {
      "cell_type": "markdown",
      "source": [
        "# 1.문자열"
      ],
      "metadata": {
        "id": "9wQkhujByFVu"
      }
    },
    {
      "cell_type": "code",
      "source": [
        "#1.1 문자열 기초"
      ],
      "metadata": {
        "id": "pz19mjGQyN8T"
      },
      "execution_count": null,
      "outputs": []
    },
    {
      "cell_type": "code",
      "source": [
        "x = 'hello'\n",
        "y = \"python\""
      ],
      "metadata": {
        "id": "3x4XHc25yREl"
      },
      "execution_count": null,
      "outputs": []
    },
    {
      "cell_type": "code",
      "source": [
        "print(x,y)"
      ],
      "metadata": {
        "colab": {
          "base_uri": "https://localhost:8080/"
        },
        "id": "tZgOQglayYBZ",
        "outputId": "97d59215-3819-4ec3-8014-86e8311c8af5"
      },
      "execution_count": null,
      "outputs": [
        {
          "output_type": "stream",
          "name": "stdout",
          "text": [
            "hello python\n"
          ]
        }
      ]
    },
    {
      "cell_type": "code",
      "source": [
        "print(type(x),type(y))"
      ],
      "metadata": {
        "colab": {
          "base_uri": "https://localhost:8080/"
        },
        "id": "gblNSjh8ydK0",
        "outputId": "27535304-0f3e-4b90-802c-3eb966b3f234"
      },
      "execution_count": null,
      "outputs": [
        {
          "output_type": "stream",
          "name": "stdout",
          "text": [
            "<class 'str'> <class 'str'>\n"
          ]
        }
      ]
    },
    {
      "cell_type": "code",
      "source": [
        "i = '''안녕하세요.\n",
        "제 이름은 이규성입니다.\n",
        "만나서 반갑습니다.'''"
      ],
      "metadata": {
        "id": "B55F9Tx6yjcr"
      },
      "execution_count": null,
      "outputs": []
    },
    {
      "cell_type": "code",
      "source": [
        "print(i)"
      ],
      "metadata": {
        "colab": {
          "base_uri": "https://localhost:8080/"
        },
        "id": "2gn9efqMyoQ7",
        "outputId": "59d2e656-2151-4ba4-cd9a-064384f6f68b"
      },
      "execution_count": null,
      "outputs": [
        {
          "output_type": "stream",
          "name": "stdout",
          "text": [
            "안녕하세요.\n",
            "제 이름은 이규성입니다.\n",
            "만나서 반갑습니다.\n"
          ]
        }
      ]
    },
    {
      "cell_type": "code",
      "source": [
        "# 1.2 문자열 덧셈, 곱셈\n",
        "\n",
        "# 문자열의 덧셈\n",
        "\n",
        "x = 'hello'\n",
        "y = 'world'\n",
        "\n",
        "print(x + y) #출력 : helloworld\n",
        "\n",
        "x = '10'\n",
        "y = '20'\n",
        "print(x*3 + y*3)"
      ],
      "metadata": {
        "colab": {
          "base_uri": "https://localhost:8080/"
        },
        "id": "T0RcM3Rpyw6U",
        "outputId": "c4a25839-3a95-4969-a572-b8bec91126b8"
      },
      "execution_count": null,
      "outputs": [
        {
          "output_type": "stream",
          "name": "stdout",
          "text": [
            "helloworld\n",
            "101010202020\n"
          ]
        }
      ]
    },
    {
      "cell_type": "code",
      "source": [
        "# 1.3 문자열 인덱싱\n",
        "    #012 3 456\n",
        "\n",
        "s = '김재만 월드!'\n",
        "print(s[0]) # 출력 : '위'\n",
        "print(s[6])\n",
        "print(s[-1]) # 출력 : '!'"
      ],
      "metadata": {
        "colab": {
          "base_uri": "https://localhost:8080/"
        },
        "id": "l5opa77l2JFU",
        "outputId": "4a3aca0b-5e4d-4d9b-a6af-ddcfddfa3b97"
      },
      "execution_count": null,
      "outputs": [
        {
          "output_type": "stream",
          "name": "stdout",
          "text": [
            "김\n",
            "!\n",
            "!\n"
          ]
        }
      ]
    },
    {
      "cell_type": "code",
      "source": [
        "'''\n",
        "문자열 슬라이싱\n",
        "    슬라이싱은 [start:stop:step] 형태로 사용하며,\n",
        "    step은 기본적으로 1이며 콜론과 함께 생략될 수 있습니다.\n",
        "    여기서 stop 인덱스는 포함하지 않습니다.\n",
        "'''\n",
        "\n",
        "s = '김재만 월드 외곽'\n",
        "\n",
        "print(s[:]) # 전체 출력\n",
        "print(s[1:4]) # 2 ~ 4 출력\n",
        "print(s[::2]) # 전체 2간격으로 출력\n",
        "print(s[::-1]) # 전체 거꾸로 출력\n",
        "print(s[1:5:-1]) # 2 ~ 5 거꾸로 출력\n"
      ],
      "metadata": {
        "colab": {
          "base_uri": "https://localhost:8080/"
        },
        "id": "iu_OrlMs2ApV",
        "outputId": "1fb071e3-d5b8-4b0b-ec51-8e0b6f3e75df"
      },
      "execution_count": null,
      "outputs": [
        {
          "output_type": "stream",
          "name": "stdout",
          "text": [
            "김재만 월드 외곽\n",
            "재만 \n",
            "김만월 곽\n",
            "곽외 드월 만재김\n",
            "\n"
          ]
        }
      ]
    },
    {
      "cell_type": "code",
      "source": [
        "# 슬라이스 실습\n",
        "s = 'weniv_licat.png'\n",
        "# 출력 weniv_licat만 나오게\n",
        "print(s[:-4])\n",
        "# png만나오게\n",
        "print(s[-3:])\n",
        "print(s[-1:-4])"
      ],
      "metadata": {
        "colab": {
          "base_uri": "https://localhost:8080/"
        },
        "id": "xTxEITej4j70",
        "outputId": "15f79efb-23b8-4eca-f8f4-dafa34ffd2dc"
      },
      "execution_count": null,
      "outputs": [
        {
          "output_type": "stream",
          "name": "stdout",
          "text": [
            "weniv_licat\n",
            "png\n",
            "\n"
          ]
        }
      ]
    },
    {
      "cell_type": "code",
      "source": [
        "print(s[-1:-4])"
      ],
      "metadata": {
        "colab": {
          "base_uri": "https://localhost:8080/"
        },
        "id": "lIbodk866cZy",
        "outputId": "783a6289-ae5d-4549-f164-ad84ac981b45"
      },
      "execution_count": null,
      "outputs": [
        {
          "output_type": "stream",
          "name": "stdout",
          "text": [
            "\n"
          ]
        }
      ]
    },
    {
      "cell_type": "code",
      "source": [
        "# 슬라이스 복사 - 다만 id가 달라짐\n",
        "\n",
        "s = [1,2,3]\n",
        "ss = s[:]\n",
        "\n",
        "print(id(s)),id(ss)"
      ],
      "metadata": {
        "colab": {
          "base_uri": "https://localhost:8080/"
        },
        "id": "VDvw15Ax7M0m",
        "outputId": "711c15a6-056a-49b6-9551-d4f0c4a55cc2"
      },
      "execution_count": null,
      "outputs": [
        {
          "output_type": "stream",
          "name": "stdout",
          "text": [
            "135154623690368\n"
          ]
        },
        {
          "output_type": "execute_result",
          "data": {
            "text/plain": [
              "(None, 135154623687424)"
            ]
          },
          "metadata": {},
          "execution_count": 27
        }
      ]
    },
    {
      "cell_type": "code",
      "source": [
        "# 대문자 소문자\n",
        "\n",
        "s = 'weniv CEO licat'\n",
        "s.lower() # 전체를 소문자로 바꿔주는 method"
      ],
      "metadata": {
        "colab": {
          "base_uri": "https://localhost:8080/",
          "height": 35
        },
        "id": "LDcqiGEC8ag7",
        "outputId": "8416a66f-9533-4bcd-8d93-a25a38f59b40"
      },
      "execution_count": null,
      "outputs": [
        {
          "output_type": "execute_result",
          "data": {
            "text/plain": [
              "'weniv ceo licat'"
            ],
            "application/vnd.google.colaboratory.intrinsic+json": {
              "type": "string"
            }
          },
          "metadata": {},
          "execution_count": 28
        }
      ]
    },
    {
      "cell_type": "code",
      "source": [
        "s.upper() # 전체를 대문자로 바꿔주는 method"
      ],
      "metadata": {
        "colab": {
          "base_uri": "https://localhost:8080/",
          "height": 35
        },
        "id": "vC73jSW88x7n",
        "outputId": "3ad821b4-799e-43e8-ffbd-10b0bdbdf4a8"
      },
      "execution_count": null,
      "outputs": [
        {
          "output_type": "execute_result",
          "data": {
            "text/plain": [
              "'WENIV CEO LICAT'"
            ],
            "application/vnd.google.colaboratory.intrinsic+json": {
              "type": "string"
            }
          },
          "metadata": {},
          "execution_count": 29
        }
      ]
    },
    {
      "cell_type": "code",
      "source": [
        "# 메서드 , find index\n",
        "\n",
        "s = 'weniv CEO licat'\n",
        "s.find('CEO') # 문자열을 찾아주는 method"
      ],
      "metadata": {
        "colab": {
          "base_uri": "https://localhost:8080/"
        },
        "id": "oGA7vyc09CKJ",
        "outputId": "c297ad11-c4fd-4b7a-9e73-829ff29071dc"
      },
      "execution_count": null,
      "outputs": [
        {
          "output_type": "execute_result",
          "data": {
            "text/plain": [
              "6"
            ]
          },
          "metadata": {},
          "execution_count": 30
        }
      ]
    },
    {
      "cell_type": "code",
      "source": [
        "s.index('CEO')"
      ],
      "metadata": {
        "colab": {
          "base_uri": "https://localhost:8080/"
        },
        "id": "qGHCZeux9PY_",
        "outputId": "fef8d252-6d86-4236-97b2-b50adaeea651"
      },
      "execution_count": null,
      "outputs": [
        {
          "output_type": "execute_result",
          "data": {
            "text/plain": [
              "6"
            ]
          },
          "metadata": {},
          "execution_count": 32
        }
      ]
    },
    {
      "cell_type": "code",
      "source": [
        "s.index('CTO')"
      ],
      "metadata": {
        "colab": {
          "base_uri": "https://localhost:8080/",
          "height": 184
        },
        "id": "jjvNe0VY9Sf9",
        "outputId": "59e4bf62-a5da-4c4a-cecb-11a23b23cee9"
      },
      "execution_count": null,
      "outputs": [
        {
          "output_type": "error",
          "ename": "ValueError",
          "evalue": "ignored",
          "traceback": [
            "\u001b[0;31m---------------------------------------------------------------------------\u001b[0m",
            "\u001b[0;31mValueError\u001b[0m                                Traceback (most recent call last)",
            "\u001b[0;32m<ipython-input-33-757e572f43a6>\u001b[0m in \u001b[0;36m<cell line: 1>\u001b[0;34m()\u001b[0m\n\u001b[0;32m----> 1\u001b[0;31m \u001b[0ms\u001b[0m\u001b[0;34m.\u001b[0m\u001b[0mindex\u001b[0m\u001b[0;34m(\u001b[0m\u001b[0;34m'CTO'\u001b[0m\u001b[0;34m)\u001b[0m\u001b[0;34m\u001b[0m\u001b[0;34m\u001b[0m\u001b[0m\n\u001b[0m",
            "\u001b[0;31mValueError\u001b[0m: substring not found"
          ]
        }
      ]
    },
    {
      "cell_type": "code",
      "source": [
        "s.find('CTO')"
      ],
      "metadata": {
        "colab": {
          "base_uri": "https://localhost:8080/"
        },
        "id": "eyekEksQ9X09",
        "outputId": "be535fe0-0a5f-4fab-f793-594fb1f962e8"
      },
      "execution_count": null,
      "outputs": [
        {
          "output_type": "execute_result",
          "data": {
            "text/plain": [
              "-1"
            ]
          },
          "metadata": {},
          "execution_count": 35
        }
      ]
    },
    {
      "cell_type": "code",
      "source": [
        "# conunt()\n",
        "\n",
        "s.count('i') # i 가 몇개?\n",
        "s.count(' ') # 공백이 몇개?"
      ],
      "metadata": {
        "colab": {
          "base_uri": "https://localhost:8080/"
        },
        "id": "xgCSpV6W9aat",
        "outputId": "aa3820d2-7820-4f82-b7fa-0d369bd6ac3b"
      },
      "execution_count": null,
      "outputs": [
        {
          "output_type": "execute_result",
          "data": {
            "text/plain": [
              "2"
            ]
          },
          "metadata": {},
          "execution_count": 37
        }
      ]
    },
    {
      "cell_type": "code",
      "source": [
        "# strip()\n",
        "\n",
        "# 스트립은 문자열의 양쪽에 있는 공백을 제거하는 method입니다.\n",
        "\n",
        "s = '   weniv CEO licat    '\n",
        "s.strip() # 양쪽 공백을 제거하는 method"
      ],
      "metadata": {
        "colab": {
          "base_uri": "https://localhost:8080/",
          "height": 35
        },
        "id": "BtHBu1bo9xBH",
        "outputId": "70376e92-8581-4b57-f886-d5c5c264f3bd"
      },
      "execution_count": null,
      "outputs": [
        {
          "output_type": "execute_result",
          "data": {
            "text/plain": [
              "'weniv CEO licat'"
            ],
            "application/vnd.google.colaboratory.intrinsic+json": {
              "type": "string"
            }
          },
          "metadata": {},
          "execution_count": 39
        }
      ]
    },
    {
      "cell_type": "code",
      "source": [
        "s = '          ,!! hello world'.strip(' ,!') # 양쪽의 공백와 ',!을 제거해주는 method\n",
        "print(s)"
      ],
      "metadata": {
        "colab": {
          "base_uri": "https://localhost:8080/"
        },
        "id": "RppLBIad-aie",
        "outputId": "88048762-27bd-4ea4-eea2-53eaebebced0"
      },
      "execution_count": null,
      "outputs": [
        {
          "output_type": "stream",
          "name": "stdout",
          "text": [
            "hello world\n"
          ]
        }
      ]
    },
    {
      "cell_type": "code",
      "source": [
        "# replace()\n",
        "    # 대소문자 구분\n",
        "    # s.repalce('ceo','CEO') 이런식으로 사용하면 안됨\n",
        "\n",
        "s = 'weniv CEO licat'\n",
        "s.replace('CEO','CTO')"
      ],
      "metadata": {
        "colab": {
          "base_uri": "https://localhost:8080/",
          "height": 35
        },
        "id": "bjuOs-zg-qUY",
        "outputId": "eecbb0a5-8063-464f-d06f-4c58e3bb019f"
      },
      "execution_count": null,
      "outputs": [
        {
          "output_type": "execute_result",
          "data": {
            "text/plain": [
              "'weniv CTO licat'"
            ],
            "application/vnd.google.colaboratory.intrinsic+json": {
              "type": "string"
            }
          },
          "metadata": {},
          "execution_count": 45
        }
      ]
    },
    {
      "cell_type": "code",
      "source": [
        "# 수정된 문자열이 원본에 반영되지않습니다\n",
        "s = 'weniv CEO licat'\n",
        "ss = s.replace('i','I')\n",
        "ss , s"
      ],
      "metadata": {
        "colab": {
          "base_uri": "https://localhost:8080/"
        },
        "id": "uBy_oAGr_J4f",
        "outputId": "123d05d7-5cd0-49e5-a544-f91c0ec71e2f"
      },
      "execution_count": null,
      "outputs": [
        {
          "output_type": "execute_result",
          "data": {
            "text/plain": [
              "('wenIv CEO lIcat', 'weniv CEO licat')"
            ]
          },
          "metadata": {},
          "execution_count": 47
        }
      ]
    },
    {
      "cell_type": "code",
      "source": [
        "# split(),join()\n",
        "    # 문자열을 나누고 합치는 method입니다.\n",
        "    # split은 리스트 형태로 결과가 나오게 된다.\n",
        "\n",
        "s = 'weniv CEO licat'\n",
        "s.split() # 공백을 기준으로 문자열 나누기"
      ],
      "metadata": {
        "colab": {
          "base_uri": "https://localhost:8080/"
        },
        "id": "dBLrtQCA_yCM",
        "outputId": "29a92f1e-86a9-420e-c660-dd97f023115b"
      },
      "execution_count": null,
      "outputs": [
        {
          "output_type": "execute_result",
          "data": {
            "text/plain": [
              "['weniv', 'CEO', 'licat']"
            ]
          },
          "metadata": {},
          "execution_count": 48
        }
      ]
    },
    {
      "cell_type": "code",
      "source": [
        "s = 'weniv-CEO-licat'\n",
        "s.split('-') #-을 기준으로 문자열 나누기"
      ],
      "metadata": {
        "colab": {
          "base_uri": "https://localhost:8080/"
        },
        "id": "MzSljAtWAex9",
        "outputId": "df454ef5-6fec-4604-d608-95b798212553"
      },
      "execution_count": null,
      "outputs": [
        {
          "output_type": "execute_result",
          "data": {
            "text/plain": [
              "['weniv', 'CEO', 'licat']"
            ]
          },
          "metadata": {},
          "execution_count": 49
        }
      ]
    },
    {
      "cell_type": "code",
      "source": [
        "s = '    weniv CEO licat     '\n",
        "s.strip()\n",
        "'    ,!!  hello world   '.strip(' ,!')\n",
        "print(s)"
      ],
      "metadata": {
        "colab": {
          "base_uri": "https://localhost:8080/"
        },
        "id": "FQZOOUH1AoNE",
        "outputId": "e0332e49-aef2-47d6-8ebe-e2c56113f3dc"
      },
      "execution_count": null,
      "outputs": [
        {
          "output_type": "stream",
          "name": "stdout",
          "text": [
            "    weniv CEO licat     \n"
          ]
        }
      ]
    },
    {
      "cell_type": "code",
      "source": [
        "s = ['weniv','CEO','licat']\n",
        "'-'.join(s) #리스트를 하나의 문자열로 합치기"
      ],
      "metadata": {
        "colab": {
          "base_uri": "https://localhost:8080/",
          "height": 35
        },
        "id": "kWmaiqRqA-mG",
        "outputId": "4ca7bd71-2327-46cb-ba6e-c45774a81209"
      },
      "execution_count": null,
      "outputs": [
        {
          "output_type": "execute_result",
          "data": {
            "text/plain": [
              "'weniv-CEO-licat'"
            ],
            "application/vnd.google.colaboratory.intrinsic+json": {
              "type": "string"
            }
          },
          "metadata": {},
          "execution_count": 53
        }
      ]
    },
    {
      "cell_type": "code",
      "source": [
        "# join(),split() 함께 사용하면 유용함\n",
        "\n",
        "s = '010 1000 1000'\n",
        "'-'.join(s.split()) #공백을 기준으로 문자열을 나눈 후 '-'로 합치기"
      ],
      "metadata": {
        "colab": {
          "base_uri": "https://localhost:8080/",
          "height": 35
        },
        "id": "olCBJlenCqWE",
        "outputId": "716322cc-84fd-49eb-f9b3-094510f74192"
      },
      "execution_count": null,
      "outputs": [
        {
          "output_type": "execute_result",
          "data": {
            "text/plain": [
              "'010-1000-1000'"
            ],
            "application/vnd.google.colaboratory.intrinsic+json": {
              "type": "string"
            }
          },
          "metadata": {},
          "execution_count": 57
        }
      ]
    },
    {
      "cell_type": "code",
      "source": [
        "name = 'licat'\n",
        "age = 29\n",
        "\n",
        "print('제 이름은 {}이고,나이는 {}살 입니다.'.format(age,name))"
      ],
      "metadata": {
        "colab": {
          "base_uri": "https://localhost:8080/"
        },
        "id": "KvvEc7BxHnul",
        "outputId": "375e8686-4795-41d9-e280-5155d5e38540"
      },
      "execution_count": null,
      "outputs": [
        {
          "output_type": "stream",
          "name": "stdout",
          "text": [
            "제 이름은 29이고,나이는 licat살 입니다.\n"
          ]
        }
      ]
    },
    {
      "cell_type": "code",
      "source": [
        "# isdigit / isalpha\n",
        "\n",
        "s = '123'\n",
        "s.isdigit() # 문자열이 숫자로만 이루어져 있는지 확인하는 method"
      ],
      "metadata": {
        "colab": {
          "base_uri": "https://localhost:8080/"
        },
        "id": "4hZcqMoXICfL",
        "outputId": "e5049ebe-ed1f-4204-9cf3-e867d4f6c7b6"
      },
      "execution_count": null,
      "outputs": [
        {
          "output_type": "execute_result",
          "data": {
            "text/plain": [
              "True"
            ]
          },
          "metadata": {},
          "execution_count": 62
        }
      ]
    },
    {
      "cell_type": "code",
      "source": [
        "# 문자열이 문자로만 이루어져 있는지 확인\n",
        "\n",
        "print('abcd1234'.isalpha()) # 출력: False\n",
        "print('안녕하세요'.isalpha()) # 출력: True\n",
        "print('こんにちは'.isalpha()) # 출력: True\n",
        "print('你好'.isalpha()) # 출력: True"
      ],
      "metadata": {
        "colab": {
          "base_uri": "https://localhost:8080/"
        },
        "id": "nis4Se9tIlWP",
        "outputId": "0193cb40-1d83-4db4-c933-14a8a203a19f"
      },
      "execution_count": null,
      "outputs": [
        {
          "output_type": "stream",
          "name": "stdout",
          "text": [
            "False\n",
            "True\n",
            "True\n",
            "True\n"
          ]
        }
      ]
    },
    {
      "cell_type": "code",
      "source": [
        "# rjust()\n",
        "    # 문자열을 지정한 길이로 맞추고, 왼쪽을 지정한 문자로 채우는 메서드입니다\n",
        "\n",
        "s = 'licat' #5글자 - 10글자를 채워야만하는 5글자가 공백! --> 으로 채우는 method\n",
        "s.rjust(10,'-') #문자열을 지정한 길이로 맞추고,왼쪽을 '-'로 채우는 method"
      ],
      "metadata": {
        "colab": {
          "base_uri": "https://localhost:8080/",
          "height": 35
        },
        "id": "q-l8SQk8IuYd",
        "outputId": "6322a898-1d30-4e52-8559-debefa4ab6fa"
      },
      "execution_count": null,
      "outputs": [
        {
          "output_type": "execute_result",
          "data": {
            "text/plain": [
              "'-----licat'"
            ],
            "application/vnd.google.colaboratory.intrinsic+json": {
              "type": "string"
            }
          },
          "metadata": {},
          "execution_count": 65
        }
      ]
    },
    {
      "cell_type": "code",
      "source": [
        "s = 'licat'\n",
        "s.ljust(10, '-')"
      ],
      "metadata": {
        "colab": {
          "base_uri": "https://localhost:8080/",
          "height": 35
        },
        "id": "6c_pnrm8Jt0W",
        "outputId": "ecc8bd1d-47a4-41b3-8500-1130ddd53e4b"
      },
      "execution_count": null,
      "outputs": [
        {
          "output_type": "execute_result",
          "data": {
            "text/plain": [
              "'licat-----'"
            ],
            "application/vnd.google.colaboratory.intrinsic+json": {
              "type": "string"
            }
          },
          "metadata": {},
          "execution_count": 66
        }
      ]
    },
    {
      "cell_type": "code",
      "source": [
        "s = '1234512-1'\n",
        "s.ljust(14,'*')"
      ],
      "metadata": {
        "colab": {
          "base_uri": "https://localhost:8080/",
          "height": 35
        },
        "id": "ekgtO0MDJ0KA",
        "outputId": "a0b8041f-4394-4cf8-bbb9-132c49805387"
      },
      "execution_count": null,
      "outputs": [
        {
          "output_type": "execute_result",
          "data": {
            "text/plain": [
              "'1234512-1*****'"
            ],
            "application/vnd.google.colaboratory.intrinsic+json": {
              "type": "string"
            }
          },
          "metadata": {},
          "execution_count": 67
        }
      ]
    },
    {
      "cell_type": "code",
      "source": [
        "s = 'licat'\n",
        "s.center(13,'-') #문자열을 지정한 길이로 맞추고 나머지를 '-'로 채우는 method"
      ],
      "metadata": {
        "colab": {
          "base_uri": "https://localhost:8080/",
          "height": 35
        },
        "id": "PM_nFwXRKwyv",
        "outputId": "968c1800-9c9a-4000-d3ae-32ac9fc87e9e"
      },
      "execution_count": null,
      "outputs": [
        {
          "output_type": "execute_result",
          "data": {
            "text/plain": [
              "'----licat----'"
            ],
            "application/vnd.google.colaboratory.intrinsic+json": {
              "type": "string"
            }
          },
          "metadata": {},
          "execution_count": 70
        }
      ]
    },
    {
      "cell_type": "code",
      "source": [
        "# zfill\n",
        "\n",
        "x ='43'\n",
        "result = x.zfill(10)\n",
        "print(result)"
      ],
      "metadata": {
        "colab": {
          "base_uri": "https://localhost:8080/"
        },
        "id": "QoHq8BtnMdWt",
        "outputId": "a89d2e86-9bc1-4b75-e754-fcff6e31f2df"
      },
      "execution_count": null,
      "outputs": [
        {
          "output_type": "stream",
          "name": "stdout",
          "text": [
            "0000000043\n"
          ]
        }
      ]
    },
    {
      "cell_type": "code",
      "source": [
        "y = '-42'\n",
        "result = y.zfill(5)\n",
        "print(result)"
      ],
      "metadata": {
        "colab": {
          "base_uri": "https://localhost:8080/"
        },
        "id": "vUipyq20NoZB",
        "outputId": "72429936-8ecd-4a0c-d742-0254db7df7b2"
      },
      "execution_count": null,
      "outputs": [
        {
          "output_type": "stream",
          "name": "stdout",
          "text": [
            "-0042\n"
          ]
        }
      ]
    },
    {
      "cell_type": "code",
      "source": [
        "z = \"abc\"\n",
        "result = z.zfill(10)\n",
        "print(result)\n"
      ],
      "metadata": {
        "colab": {
          "base_uri": "https://localhost:8080/"
        },
        "id": "ClpcPnPlNwLY",
        "outputId": "c74bf42c-0be5-4fb0-942e-5335cb51a9a4"
      },
      "execution_count": null,
      "outputs": [
        {
          "output_type": "stream",
          "name": "stdout",
          "text": [
            "0000000abc\n"
          ]
        }
      ]
    },
    {
      "cell_type": "code",
      "source": [
        "# 순차적으로 붙이기\n",
        "\n",
        "filename = '1'.zfill(3) + \".jpg\"\n",
        "print(filename)"
      ],
      "metadata": {
        "colab": {
          "base_uri": "https://localhost:8080/"
        },
        "id": "0EQaPBnSN74z",
        "outputId": "fe3fdc7a-1867-47aa-a9e7-a6093684be77"
      },
      "execution_count": null,
      "outputs": [
        {
          "output_type": "stream",
          "name": "stdout",
          "text": [
            "001.jpg\n"
          ]
        }
      ]
    },
    {
      "cell_type": "code",
      "source": [
        "년 = '23'\n",
        "월 = '9'\n",
        "일 = '8'\n",
        "오늘날짜 = 년 + 월.zfill(2) + 일.zfill(2)\n",
        "print(오늘날짜)"
      ],
      "metadata": {
        "colab": {
          "base_uri": "https://localhost:8080/"
        },
        "id": "KC8rsbjNOixj",
        "outputId": "d0aad5ca-565f-4c58-dcc1-6960601cf3e9"
      },
      "execution_count": null,
      "outputs": [
        {
          "output_type": "stream",
          "name": "stdout",
          "text": [
            "230908\n"
          ]
        }
      ]
    },
    {
      "cell_type": "code",
      "source": [
        "# tlanstlate()\n",
        "\n",
        "table = str.maketrans(\"abc\",\"123\")"
      ],
      "metadata": {
        "id": "K0xm2si7OzA7"
      },
      "execution_count": null,
      "outputs": []
    },
    {
      "cell_type": "code",
      "source": [
        "text = \"abcde a b c abc\"\n",
        "result = text.translate(table)\n",
        "print(result)"
      ],
      "metadata": {
        "colab": {
          "base_uri": "https://localhost:8080/"
        },
        "id": "f_zthO7nRxZR",
        "outputId": "fecd691f-a442-4cce-afd7-f37bff77ba5a"
      },
      "execution_count": null,
      "outputs": [
        {
          "output_type": "stream",
          "name": "stdout",
          "text": [
            "123de 1 2 3 123\n"
          ]
        }
      ]
    },
    {
      "cell_type": "code",
      "source": [
        "# 'd'와 'e' 문자 제거하기\n",
        "table = str.maketrans('', '', 'de')\n",
        "text = \"abcde\"\n",
        "result = text.translate(table)\n",
        "print(result)  # abc"
      ],
      "metadata": {
        "colab": {
          "base_uri": "https://localhost:8080/"
        },
        "id": "7yuGe66vR96z",
        "outputId": "1fbfc717-f236-4781-c5fc-42d496eefbb5"
      },
      "execution_count": null,
      "outputs": [
        {
          "output_type": "stream",
          "name": "stdout",
          "text": [
            "abc\n"
          ]
        }
      ]
    },
    {
      "cell_type": "code",
      "source": [
        "# 아래와 같이 이스케이프 문자를 제거하는 용도로도 사용할 수 있습니다.\n",
        "\n",
        "table = str.maketrans('\\n\\t', '  ') # 똑같은 길이를 가지고 있어야 함\n",
        "'weniv \\n\\n\\n CEO \\t\\t\\t licat'.translate(table)\n",
        "\n"
      ],
      "metadata": {
        "colab": {
          "base_uri": "https://localhost:8080/",
          "height": 35
        },
        "id": "ERpEKN1uSf4c",
        "outputId": "62dfb533-e5bb-4de1-9f35-29db8bf11324"
      },
      "execution_count": null,
      "outputs": [
        {
          "output_type": "execute_result",
          "data": {
            "text/plain": [
              "'weniv     CEO     licat'"
            ],
            "application/vnd.google.colaboratory.intrinsic+json": {
              "type": "string"
            }
          },
          "metadata": {},
          "execution_count": 79
        }
      ]
    },
    {
      "cell_type": "code",
      "source": [
        "# 문자열 포매팅\n",
        "    # %연산자 사용\n",
        "\n"
      ],
      "metadata": {
        "id": "e5CbI2IgSqV8"
      },
      "execution_count": null,
      "outputs": []
    },
    {
      "cell_type": "code",
      "source": [
        "# escape\n",
        "\n",
        "print(\"Hello\\nWorld\")\n",
        "print(\"Hello\\tWorld\")\n",
        "print(\"She said, \\\"hello World\\\"\")\n",
        "print(\"She said, \\'Hello World\\'\")\n",
        "print(\"Backslash: \\\\\")"
      ],
      "metadata": {
        "colab": {
          "base_uri": "https://localhost:8080/"
        },
        "id": "_Qx_Xj7HTrQ0",
        "outputId": "812493a5-3e40-48d3-a8e4-ff750a771b43"
      },
      "execution_count": null,
      "outputs": [
        {
          "output_type": "stream",
          "name": "stdout",
          "text": [
            "Hello\n",
            "World\n",
            "Hello\tWorld\n",
            "She said, \"hello World\"\n",
            "She said, 'Hello World'\n",
            "Backslash: \\\n"
          ]
        }
      ]
    },
    {
      "cell_type": "code",
      "source": [],
      "metadata": {
        "id": "F3OoHVI5UfRr"
      },
      "execution_count": null,
      "outputs": []
    },
    {
      "cell_type": "code",
      "source": [],
      "metadata": {
        "id": "WsotDhjmW4QF"
      },
      "execution_count": null,
      "outputs": []
    }
  ]
}