{
  "nbformat": 4,
  "nbformat_minor": 0,
  "metadata": {
    "colab": {
      "provenance": []
    },
    "kernelspec": {
      "name": "python3",
      "display_name": "Python 3"
    },
    "language_info": {
      "name": "python"
    }
  },
  "cells": [
    {
      "cell_type": "code",
      "execution_count": null,
      "metadata": {
        "colab": {
          "base_uri": "https://localhost:8080/"
        },
        "id": "roKQ3DOLZyGN",
        "outputId": "e12ab12c-4b45-4e5c-c40a-b98a8f8a3e94"
      },
      "outputs": [
        {
          "output_type": "stream",
          "name": "stdout",
          "text": [
            "<class 'str'>\n",
            "<class 'int'>\n"
          ]
        }
      ],
      "source": [
        "# int로 형변환\n",
        "\n",
        "num = '123'\n",
        "print(type(num))\n",
        "\n",
        "num = int(num)\n",
        "print(type(num))"
      ]
    },
    {
      "cell_type": "code",
      "source": [
        "# 위 예제는 문자열을 정수형으로 바꾸고 있습니다. 다만 아래와 같은 코드는 가능하지않습니다.\n",
        "\n",
        "'''\n",
        "s = 'hello'\n",
        "print(type(s))\n",
        "\n",
        "s = int(s)\n",
        "print(type(s))\n",
        "'''"
      ],
      "metadata": {
        "colab": {
          "base_uri": "https://localhost:8080/",
          "height": 35
        },
        "id": "_K3WfNgqp07k",
        "outputId": "26ea070a-a626-4aa7-ee7c-c1db69877bae"
      },
      "execution_count": null,
      "outputs": [
        {
          "output_type": "execute_result",
          "data": {
            "text/plain": [
              "\"\\ns = 'hello'\\nprint(type(s))\\n\\ns = int(s) \\nprint(type(s))\\n\""
            ],
            "application/vnd.google.colaboratory.intrinsic+json": {
              "type": "string"
            }
          },
          "metadata": {},
          "execution_count": 4
        }
      ]
    },
    {
      "cell_type": "code",
      "source": [
        "# float -> int로 변환\n",
        "\n",
        "f = 3.14159\n",
        "number = int(f)\n",
        "print(number) # 출력: 3"
      ],
      "metadata": {
        "colab": {
          "base_uri": "https://localhost:8080/"
        },
        "id": "ok-g-HC5qMc0",
        "outputId": "a9d3123a-e679-4a88-b28d-81645103ba56"
      },
      "execution_count": null,
      "outputs": [
        {
          "output_type": "stream",
          "name": "stdout",
          "text": [
            "3\n"
          ]
        }
      ]
    },
    {
      "cell_type": "code",
      "source": [
        "# bool -> int로 형변환\n",
        "\n",
        "true_int = int(True)\n",
        "false_int = int(False)\n",
        "\n",
        "print(true_int)\n",
        "print(false_int)\n",
        "\n",
        "# None은 int형으로 형변환 하면 0이라고 오해하는 사람이 많지만 None은 int형으로 변환이 가능하지 않습니다."
      ],
      "metadata": {
        "colab": {
          "base_uri": "https://localhost:8080/"
        },
        "id": "kHiathYoqi2O",
        "outputId": "de812d30-a92d-4f31-9d82-18bd38378786"
      },
      "execution_count": null,
      "outputs": [
        {
          "output_type": "stream",
          "name": "stdout",
          "text": [
            "1\n",
            "0\n"
          ]
        }
      ]
    },
    {
      "cell_type": "markdown",
      "source": [
        "# String으로 형변환"
      ],
      "metadata": {
        "id": "1ui4EupyqxQM"
      }
    },
    {
      "cell_type": "code",
      "source": [
        "# int와 float -> str로 변환\n",
        "\n",
        "n = 123\n",
        "print(type(n))\n",
        "\n",
        "m = 123.4\n",
        "print(type(m))\n",
        "\n",
        "n = str(n)\n",
        "print(type(n))\n",
        "\n",
        "m = str(m)\n",
        "print(type(m))\n",
        "\n",
        "# 주의해야 할 점. int형은 str형으로 변환했다가 다시 int형으로 변경하는 것이 문제가 되지 않지만 float형은 str으로 변환했다가"
      ],
      "metadata": {
        "colab": {
          "base_uri": "https://localhost:8080/"
        },
        "id": "_g-9ysAyrHFU",
        "outputId": "0d265b87-717d-4fed-9975-3fdb99cc5471"
      },
      "execution_count": null,
      "outputs": [
        {
          "output_type": "stream",
          "name": "stdout",
          "text": [
            "<class 'int'>\n",
            "<class 'float'>\n",
            "<class 'str'>\n",
            "<class 'str'>\n"
          ]
        }
      ]
    },
    {
      "cell_type": "markdown",
      "source": [
        "# bool형으로 형변환"
      ],
      "metadata": {
        "id": "rvtKezedrZd-"
      }
    },
    {
      "cell_type": "code",
      "source": [
        "print(\"bool('test'):\", bool('test'))\n",
        "print(\"bool(' '):\", bool(' '))\n",
        "print(\"bool(''):\", bool(''))\n",
        "print(\"bool(100):\", bool(100))\n",
        "print(\"bool(1):\", bool(1))\n",
        "print(\"bool(0):\", bool(0))\n",
        "print(\"bool(-1):\", bool(-1))\n",
        "print(\"bool(None):\", bool(None))\n",
        "print(\"bool([]):\", bool([]))\n",
        "print(\"bool(tuple()):\", bool(tuple()))\n",
        "print(\"bool({}):\", bool({}))\n",
        "print(\"bool(set()):\", bool(set()))\n",
        "\n",
        "# 빈 자료형의 경우에는 Fasle로 평가된다는 점을 기억\n",
        "# 2번째 예시인 `' '`는 공백이 존재하기 떄문에 빈자료형이 아닙니다."
      ],
      "metadata": {
        "colab": {
          "base_uri": "https://localhost:8080/"
        },
        "id": "cNVTDGIJru9_",
        "outputId": "d5239f53-03df-4a5e-cea5-4302a4262323"
      },
      "execution_count": null,
      "outputs": [
        {
          "output_type": "stream",
          "name": "stdout",
          "text": [
            "bool('test'): True\n",
            "bool(' '): True\n",
            "bool(''): False\n",
            "bool(100): True\n",
            "bool(1): True\n",
            "bool(0): False\n",
            "bool(-1): True\n",
            "bool(None): False\n",
            "bool([]): False\n",
            "bool(tuple()): False\n",
            "bool({}): False\n",
            "bool(set()): False\n"
          ]
        }
      ]
    },
    {
      "cell_type": "markdown",
      "source": [
        "# float형으로 형변환"
      ],
      "metadata": {
        "id": "w9wBth7-ryN2"
      }
    },
    {
      "cell_type": "code",
      "source": [
        "# 일반 float형변환\n",
        "\n",
        "s = 10\n",
        "print(float(s))\n",
        "\n",
        "s = '10'\n",
        "print(float(s))\n",
        "\n",
        "s = '3.14'\n",
        "print(float(s))"
      ],
      "metadata": {
        "colab": {
          "base_uri": "https://localhost:8080/"
        },
        "id": "Jb6cAgulsEdc",
        "outputId": "ea721391-e5c8-472e-a0a1-8bba0527fe95"
      },
      "execution_count": null,
      "outputs": [
        {
          "output_type": "stream",
          "name": "stdout",
          "text": [
            "10.0\n",
            "10.0\n",
            "3.14\n"
          ]
        }
      ]
    },
    {
      "cell_type": "code",
      "source": [
        "# 특수 floaat형변환\n",
        "\n",
        "infinity = float('inf')\n",
        "neg_infinity = float('-inf')\n",
        "not_a_number = float('nan')\n"
      ],
      "metadata": {
        "id": "fHl7cE7bsO4e"
      },
      "execution_count": null,
      "outputs": []
    },
    {
      "cell_type": "code",
      "source": [
        "# 묵시적 형변환\n",
        "    # 다음과 같이 정수와 실수의 나눗셈 같은 경우 항상 float를 반환합니다.\n",
        "\n",
        "10/1 # 출력: 10.0"
      ],
      "metadata": {
        "colab": {
          "base_uri": "https://localhost:8080/"
        },
        "id": "E9YkZwshs9uQ",
        "outputId": "6c4e3424-daac-4358-8fcb-cd4fad330195"
      },
      "execution_count": null,
      "outputs": [
        {
          "output_type": "execute_result",
          "data": {
            "text/plain": [
              "10.0"
            ]
          },
          "metadata": {},
          "execution_count": 15
        }
      ]
    },
    {
      "cell_type": "markdown",
      "source": [
        "# list형으로 형변환"
      ],
      "metadata": {
        "id": "voiKeBTatdBa"
      }
    },
    {
      "cell_type": "code",
      "source": [
        "# str -> list로 변환"
      ],
      "metadata": {
        "id": "HekmYMlxtnKF"
      },
      "execution_count": null,
      "outputs": []
    },
    {
      "cell_type": "code",
      "source": [
        "s = '10'\n",
        "print(list(s))\n",
        "\n",
        "name = 'licat'\n",
        "print(list(name))"
      ],
      "metadata": {
        "colab": {
          "base_uri": "https://localhost:8080/"
        },
        "id": "YtE5trA2t1QL",
        "outputId": "7043db61-0622-48e7-8edf-0cd6ed3800ac"
      },
      "execution_count": null,
      "outputs": [
        {
          "output_type": "stream",
          "name": "stdout",
          "text": [
            "['1', '0']\n",
            "['l', 'i', 'c', 'a', 't']\n"
          ]
        }
      ]
    },
    {
      "cell_type": "code",
      "source": [
        "# int -> list로 변환\n",
        "\n",
        "n = 10\n",
        "# print(list(n)) 에러"
      ],
      "metadata": {
        "id": "1cLcoZ8rt9BN"
      },
      "execution_count": null,
      "outputs": []
    },
    {
      "cell_type": "markdown",
      "source": [
        "# tuple 형으로 형변환"
      ],
      "metadata": {
        "id": "BdwTA_YTusKw"
      }
    },
    {
      "cell_type": "code",
      "source": [
        "# tuple형으로 형변환\n",
        "    # 튜플의 특성은 리스트와 비슷합니다. 다만 값의 변경이 불가 합니다ㅐ.\n",
        "\n",
        "name = 'licat'\n",
        "tuple(name)"
      ],
      "metadata": {
        "colab": {
          "base_uri": "https://localhost:8080/"
        },
        "id": "am9UJs0auJXj",
        "outputId": "a68ee34c-0ec3-4384-a69b-57b9e1cde721"
      },
      "execution_count": null,
      "outputs": [
        {
          "output_type": "execute_result",
          "data": {
            "text/plain": [
              "('l', 'i', 'c', 'a', 't')"
            ]
          },
          "metadata": {},
          "execution_count": 19
        }
      ]
    },
    {
      "cell_type": "markdown",
      "source": [
        "# dict형으로 형변환"
      ],
      "metadata": {
        "id": "UIGHKLLnumTD"
      }
    },
    {
      "cell_type": "code",
      "source": [
        "# 딕셔너리 자료형은 key와 value로 이뤄진 쌍입니다.\n",
        "# 따라서 쌍이 없는 일반 문자열은 변환이 되지 않습니다.\n",
        "\n",
        "# name = 'licat'\n",
        "# dict(name)\n",
        "\n",
        "# 아래와 같이 쌍을 맞춰줘야 합니다.\n",
        "\n",
        "data = [('name','licat'),('age',10)]\n",
        "d = dict(data)\n",
        "d"
      ],
      "metadata": {
        "colab": {
          "base_uri": "https://localhost:8080/"
        },
        "id": "r4fKMS8Iu0BH",
        "outputId": "0dcc598a-4783-4448-ea6d-3dcec1e05675"
      },
      "execution_count": null,
      "outputs": [
        {
          "output_type": "execute_result",
          "data": {
            "text/plain": [
              "{'name': 'licat', 'age': 10}"
            ]
          },
          "metadata": {},
          "execution_count": 20
        }
      ]
    },
    {
      "cell_type": "markdown",
      "source": [
        "# set형으로 형변환"
      ],
      "metadata": {
        "id": "3-vPtqPqvXfG"
      }
    },
    {
      "cell_type": "code",
      "source": [
        "# set은 중복을 허락하지 않는 자료형입니다.\n",
        "# 이 특성을 사용하여 중복을 제거 할 때 많이 사용됩니다.\n",
        "\n",
        "s = 'weniv CEO licat'\n",
        "print(set(s)) # 중복을 허락하지 않고 순서가 없습니다.\n",
        "print(len(set(s))) #중복을 제거한 상태로의 길이를 알려줍니다.\n",
        "print(len(s))"
      ],
      "metadata": {
        "colab": {
          "base_uri": "https://localhost:8080/"
        },
        "id": "te1Oi8Lyw_38",
        "outputId": "66a0718b-f7d0-4979-f8d3-575dec395276"
      },
      "execution_count": null,
      "outputs": [
        {
          "output_type": "stream",
          "name": "stdout",
          "text": [
            "{'i', 'O', 't', 'w', ' ', 'l', 'a', 'C', 'n', 'e', 'c', 'v', 'E'}\n",
            "13\n",
            "15\n"
          ]
        }
      ]
    },
    {
      "cell_type": "markdown",
      "source": [
        "# 나아가기"
      ],
      "metadata": {
        "id": "le9pI3zCxel0"
      }
    },
    {
      "cell_type": "code",
      "source": [
        "# 문자열에 닷(`.`)이 포함되어 있으면 정수로 변환 X\n",
        "\n",
        "'''\n",
        "x = 1.0\n",
        "x = str(x)\n",
        "print(int(x))\n",
        "'''\n"
      ],
      "metadata": {
        "colab": {
          "base_uri": "https://localhost:8080/",
          "height": 35
        },
        "id": "FQOYh20dxqsN",
        "outputId": "9adc82d7-1c21-4246-ee1e-fa00a40baa49"
      },
      "execution_count": null,
      "outputs": [
        {
          "output_type": "execute_result",
          "data": {
            "text/plain": [
              "'\\nx = 1.0\\nx = str(x)\\nprint(int(x))\\n'"
            ],
            "application/vnd.google.colaboratory.intrinsic+json": {
              "type": "string"
            }
          },
          "metadata": {},
          "execution_count": 24
        }
      ]
    },
    {
      "cell_type": "code",
      "source": [
        "# 따라서 이런코드는 아래와 같이 조건을 만들어 형변환\n",
        "# float형으로 변환후 int로 변환해주면 된다.\n",
        "\n",
        "x = 1.0\n",
        "x = str(x)\n",
        "if x.find('.') == -1:\n",
        "    print(int(x))\n",
        "else:\n",
        "    print(float(x))\n",
        "\n",
        "x = 1.0\n",
        "x = str(x)\n",
        "int(float(x))"
      ],
      "metadata": {
        "colab": {
          "base_uri": "https://localhost:8080/"
        },
        "id": "q1k1Q-7nx1vE",
        "outputId": "6514fbe7-7061-4a1a-a914-fe6b84250f65"
      },
      "execution_count": null,
      "outputs": [
        {
          "output_type": "stream",
          "name": "stdout",
          "text": [
            "1.0\n"
          ]
        },
        {
          "output_type": "execute_result",
          "data": {
            "text/plain": [
              "1"
            ]
          },
          "metadata": {},
          "execution_count": 25
        }
      ]
    },
    {
      "cell_type": "code",
      "source": [
        "print(list(map(int, ['10', '20', '30']))) # 출력: [10, 20, 30]\n",
        "list(map(int, '12345')) # 출력: [1, 2, 3, 4, 5]"
      ],
      "metadata": {
        "colab": {
          "base_uri": "https://localhost:8080/"
        },
        "id": "lQGgzvCvySeo",
        "outputId": "0d3918f1-adc8-4f32-d243-fb83a844a38e"
      },
      "execution_count": null,
      "outputs": [
        {
          "output_type": "stream",
          "name": "stdout",
          "text": [
            "[10, 20, 30]\n"
          ]
        },
        {
          "output_type": "execute_result",
          "data": {
            "text/plain": [
              "[1, 2, 3, 4, 5]"
            ]
          },
          "metadata": {},
          "execution_count": 27
        }
      ]
    },
    {
      "cell_type": "code",
      "source": [],
      "metadata": {
        "id": "V1P5_gQ4yTZ7"
      },
      "execution_count": null,
      "outputs": []
    }
  ]
}