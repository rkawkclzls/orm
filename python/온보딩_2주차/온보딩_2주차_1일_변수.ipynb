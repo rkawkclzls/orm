{
  "nbformat": 4,
  "nbformat_minor": 0,
  "metadata": {
    "colab": {
      "provenance": []
    },
    "kernelspec": {
      "name": "python3",
      "display_name": "Python 3"
    },
    "language_info": {
      "name": "python"
    }
  },
  "cells": [
    {
      "cell_type": "markdown",
      "source": [
        "# 1.변수란?\n",
        "\n",
        "* 1.1 변수는 가리키는 것\n"
      ],
      "metadata": {
        "id": "7eVwPhXtMlXA"
      }
    },
    {
      "cell_type": "markdown",
      "source": [
        "* 1.2 변수의 생성"
      ],
      "metadata": {
        "id": "MEOGs0SON_sX"
      }
    },
    {
      "cell_type": "code",
      "source": [
        "# 변수의 생성\n",
        "\n",
        "age = 30\n",
        "name = \"Jun\""
      ],
      "metadata": {
        "id": "DQKnG_myOI-l"
      },
      "execution_count": 1,
      "outputs": []
    },
    {
      "cell_type": "markdown",
      "source": [
        "이 예제이서 'age'라는 변수에 30이라는 값을,'name'이라는 변수에 \"Jun\"이라는 값을 할당했습니다. 이는 아래와 같은 화살표가 그려지는 것입니다.\n",
        "\n",
        "![woaks](https://paullabworkspace.notion.site/image/https%3A%2F%2Fprod-files-secure.s3.us-west-2.amazonaws.com%2F579fe283-28aa-489d-ae65-d683304becfc%2F5b049766-f054-412f-b02e-9cc4e9786e42%2FUntitled.png?table=block&id=e6e2342d-1ad9-4e40-a2f2-a0ea00868f1f&spaceId=579fe283-28aa-489d-ae65-d683304becfc&width=580&userId=&cache=v2)"
      ],
      "metadata": {
        "id": "_cLwTXK8O_7W"
      }
    },
    {
      "cell_type": "markdown",
      "source": [
        "# 1.3 변수가 가리키는 값"
      ],
      "metadata": {
        "id": "HSW3Wj10PhQU"
      }
    },
    {
      "cell_type": "code",
      "source": [
        "x = 10\n",
        "y = x\n",
        "z = y"
      ],
      "metadata": {
        "id": "C5FpGqdwPQGC"
      },
      "execution_count": 2,
      "outputs": []
    },
    {
      "cell_type": "markdown",
      "source": [
        "![이미지1](https://paullabworkspace.notion.site/image/https%3A%2F%2Fprod-files-secure.s3.us-west-2.amazonaws.com%2F579fe283-28aa-489d-ae65-d683304becfc%2F50adc7cb-7d45-49b4-89ca-fb54b6dc0d6d%2FUntitled.png?table=block&id=d4acd72c-4ed4-444b-80e6-52e88731da9b&spaceId=579fe283-28aa-489d-ae65-d683304becfc&width=1060&userId=&cache=v2)"
      ],
      "metadata": {
        "id": "S4p5X4bbQdbp"
      }
    },
    {
      "cell_type": "markdown",
      "source": [
        "혹시 여러분이 위와 같이 변수가 만들어졌다고 생각하신다면 오해를 하고 있는 것 입니다. 만약 위와 같은 화살표였다면 x가 가리키고 있는 값이 변했을 떄 y와 z도 값이 변해야겠죠."
      ],
      "metadata": {
        "id": "QYiZWlQDQnXu"
      }
    },
    {
      "cell_type": "markdown",
      "source": [
        "따라서 위와 같은 그림은 아래와 같이 그려지는 것이 맞습니다."
      ],
      "metadata": {
        "id": "eDJX7nbFQ5tJ"
      }
    },
    {
      "cell_type": "markdown",
      "source": [
        "![이미지2](https://paullabworkspace.notion.site/image/https%3A%2F%2Fprod-files-secure.s3.us-west-2.amazonaws.com%2F579fe283-28aa-489d-ae65-d683304becfc%2F3eba8e05-b4f4-4b86-8bbe-346141ac5a34%2FUntitled.png?table=block&id=28247ee8-fe78-4413-9be7-a105bee5bf8e&spaceId=579fe283-28aa-489d-ae65-d683304becfc&width=480&userId=&cache=v2)"
      ],
      "metadata": {
        "id": "goGWD6zxREf0"
      }
    },
    {
      "cell_type": "markdown",
      "source": [
        "# 2. 변수 이름의 규칙\n",
        "\n",
        "2.1 변수 이름 짓기"
      ],
      "metadata": {
        "id": "SWjOrg2eRZUq"
      }
    },
    {
      "cell_type": "code",
      "source": [
        "#1 변수의 속성 확인\n",
        "\n",
        "x = 10\n",
        "print(type(x))\n",
        "print(dir(x))\n",
        "\n",
        "y = \"10\"\n",
        "print(type(y))\n",
        "print(dir(y))"
      ],
      "metadata": {
        "colab": {
          "base_uri": "https://localhost:8080/"
        },
        "id": "uGCwGGSaRrex",
        "outputId": "ce5eae69-ef1a-4d3d-e670-76f291c15e70"
      },
      "execution_count": 4,
      "outputs": [
        {
          "output_type": "stream",
          "name": "stdout",
          "text": [
            "<class 'int'>\n",
            "['__abs__', '__add__', '__and__', '__bool__', '__ceil__', '__class__', '__delattr__', '__dir__', '__divmod__', '__doc__', '__eq__', '__float__', '__floor__', '__floordiv__', '__format__', '__ge__', '__getattribute__', '__getnewargs__', '__gt__', '__hash__', '__index__', '__init__', '__init_subclass__', '__int__', '__invert__', '__le__', '__lshift__', '__lt__', '__mod__', '__mul__', '__ne__', '__neg__', '__new__', '__or__', '__pos__', '__pow__', '__radd__', '__rand__', '__rdivmod__', '__reduce__', '__reduce_ex__', '__repr__', '__rfloordiv__', '__rlshift__', '__rmod__', '__rmul__', '__ror__', '__round__', '__rpow__', '__rrshift__', '__rshift__', '__rsub__', '__rtruediv__', '__rxor__', '__setattr__', '__sizeof__', '__str__', '__sub__', '__subclasshook__', '__truediv__', '__trunc__', '__xor__', 'as_integer_ratio', 'bit_count', 'bit_length', 'conjugate', 'denominator', 'from_bytes', 'imag', 'numerator', 'real', 'to_bytes']\n",
            "<class 'str'>\n",
            "['__add__', '__class__', '__contains__', '__delattr__', '__dir__', '__doc__', '__eq__', '__format__', '__ge__', '__getattribute__', '__getitem__', '__getnewargs__', '__gt__', '__hash__', '__init__', '__init_subclass__', '__iter__', '__le__', '__len__', '__lt__', '__mod__', '__mul__', '__ne__', '__new__', '__reduce__', '__reduce_ex__', '__repr__', '__rmod__', '__rmul__', '__setattr__', '__sizeof__', '__str__', '__subclasshook__', 'capitalize', 'casefold', 'center', 'count', 'encode', 'endswith', 'expandtabs', 'find', 'format', 'format_map', 'index', 'isalnum', 'isalpha', 'isascii', 'isdecimal', 'isdigit', 'isidentifier', 'islower', 'isnumeric', 'isprintable', 'isspace', 'istitle', 'isupper', 'join', 'ljust', 'lower', 'lstrip', 'maketrans', 'partition', 'removeprefix', 'removesuffix', 'replace', 'rfind', 'rindex', 'rjust', 'rpartition', 'rsplit', 'rstrip', 'split', 'splitlines', 'startswith', 'strip', 'swapcase', 'title', 'translate', 'upper', 'zfill']\n"
          ]
        }
      ]
    },
    {
      "cell_type": "code",
      "source": [
        "# 변수 재할당\n",
        "\n",
        "x = 10\n",
        "print(x)\n",
        "\n",
        "x = 20\n",
        "print(x)"
      ],
      "metadata": {
        "colab": {
          "base_uri": "https://localhost:8080/"
        },
        "id": "2C7XW0Knn5cz",
        "outputId": "3ed86a88-ebb6-4c1d-f4a7-361454389943"
      },
      "execution_count": 5,
      "outputs": [
        {
          "output_type": "stream",
          "name": "stdout",
          "text": [
            "10\n",
            "20\n"
          ]
        }
      ]
    },
    {
      "cell_type": "code",
      "source": [
        "# 변수 삭제\n",
        "\n",
        "x = 10\n",
        "print(x)\n",
        "\n",
        "del x\n"
      ],
      "metadata": {
        "colab": {
          "base_uri": "https://localhost:8080/"
        },
        "id": "0975tJlnm3F4",
        "outputId": "165c6905-d800-4157-f69e-c233ac41d877"
      },
      "execution_count": 9,
      "outputs": [
        {
          "output_type": "stream",
          "name": "stdout",
          "text": [
            "10\n"
          ]
        }
      ]
    },
    {
      "cell_type": "markdown",
      "source": [
        "# 변수의 여러가지 타입\n",
        "\n",
        "i- 숫자형: 숫자를 다룹니다.\n",
        "    - 정수형(int): 양수와 0, 음수를 저장할 수 있습니다.\n",
        "    - 실수형(float): 소숫점을 표현할 수 있습니다.\n",
        "    - 복소수형(complex): 실수부와 허수부로 나누어 수를 표현할 수 있습니다.\n",
        "- 논리 자료형(bool) : 논리 자료형 True, False을 다룹니다.\n",
        "- 시퀀스: 순서가 있는 자료형입니다.\n",
        "    - 문자열 자료형(str): 문자열을 저장합니다.\n",
        "    - 리스트 자료형(list): 다른 자료형을 담을 수 있는 변경 가능한 자료형입니다.\n",
        "    - 튜플 자료형(tuple): 다른 자료형을 담을 수 있는 변경 불가능한 자료형입니다.\n",
        "- 컬렉션 혹은 컨테이너 자료형: 다른 자료형을 담을 수 있는 자료형입니다.\n",
        "    - 리스트 자료형(list): 다른 자료형을 담을 수 있는 변경 가능한 자료형입니다.\n",
        "    - 튜플 자료형(tuple): 다른 자료형을 담을 수 있는 변경 불가능한 자료형입니다.\n",
        "    - 사전 자료형 또는 딕셔너리 자료형(dict): key와 value의 쌍으로 묶여 있는 key의 중복을 허락하지 않는 자료형입니다.\n",
        "    - 집합 자료형 또는 셋 자료형(set): 값에 중복을 허락하지 않는 자료형입니다.\n",
        "- None 자료형: None, 아무것도 없음을 명시하는 자료형입니다.\n"
      ],
      "metadata": {
        "id": "KWxuMt9DodEc"
      }
    },
    {
      "cell_type": "code",
      "source": [
        "# 나눗셈 예제\n",
        "\n",
        "x = 20\n",
        "y = 3\n",
        "result = x / y\n",
        "print(result) # 정수로 출력되지 않음\n",
        "\n",
        "\n",
        "x = 20\n",
        "y = 3\n",
        "result = x / y\n",
        "print(int(result)) # 정수로 출력"
      ],
      "metadata": {
        "id": "R0jvJ6X6ouF1",
        "colab": {
          "base_uri": "https://localhost:8080/"
        },
        "outputId": "7c34d868-1300-48e3-b29e-2245f3c5f74e"
      },
      "execution_count": 14,
      "outputs": [
        {
          "output_type": "stream",
          "name": "stdout",
          "text": [
            "6.666666666666667\n",
            "6\n"
          ]
        }
      ]
    },
    {
      "cell_type": "code",
      "source": [
        "# id(x), id(y)에 대해서\n",
        "# -5 ~ 256\n",
        "\n",
        "x = 256\n",
        "y = 256\n",
        "\n",
        "print(x,y)"
      ],
      "metadata": {
        "colab": {
          "base_uri": "https://localhost:8080/"
        },
        "id": "uktAUz6GuMOi",
        "outputId": "26dac61c-10c3-43e0-f887-89f665405a3a"
      },
      "execution_count": 15,
      "outputs": [
        {
          "output_type": "stream",
          "name": "stdout",
          "text": [
            "256 256\n"
          ]
        }
      ]
    },
    {
      "cell_type": "code",
      "source": [
        "print(x == y)"
      ],
      "metadata": {
        "colab": {
          "base_uri": "https://localhost:8080/"
        },
        "id": "hL-mLFQH0A_V",
        "outputId": "d2a436d3-b93e-4178-b28e-76aca09014d1"
      },
      "execution_count": 16,
      "outputs": [
        {
          "output_type": "stream",
          "name": "stdout",
          "text": [
            "True\n"
          ]
        }
      ]
    },
    {
      "cell_type": "code",
      "source": [
        "print(id(x), id(y))"
      ],
      "metadata": {
        "colab": {
          "base_uri": "https://localhost:8080/"
        },
        "id": "aKCxeZH50GPb",
        "outputId": "068526ce-4118-43e9-83d1-e8de246d8381"
      },
      "execution_count": 18,
      "outputs": [
        {
          "output_type": "stream",
          "name": "stdout",
          "text": [
            "133891164414160 133891164414160\n"
          ]
        }
      ]
    },
    {
      "cell_type": "code",
      "source": [
        "# 무한대\n",
        "\n",
        "x_inf = float(\"inf\")"
      ],
      "metadata": {
        "id": "l4n2zV-J0LKV"
      },
      "execution_count": 19,
      "outputs": []
    },
    {
      "cell_type": "code",
      "source": [
        "10.1 + 10.2"
      ],
      "metadata": {
        "colab": {
          "base_uri": "https://localhost:8080/"
        },
        "id": "Jsmg7Fl43ZUu",
        "outputId": "5a467706-4f44-4015-d22b-54d0e99163ae"
      },
      "execution_count": 22,
      "outputs": [
        {
          "output_type": "execute_result",
          "data": {
            "text/plain": [
              "20.299999999999997"
            ]
          },
          "metadata": {},
          "execution_count": 22
        }
      ]
    },
    {
      "cell_type": "code",
      "source": [
        "x_test1 = 0.1\n",
        "y_test2 = 0.2\n",
        "\n",
        "print(x_test1 + y_test2 )"
      ],
      "metadata": {
        "colab": {
          "base_uri": "https://localhost:8080/"
        },
        "id": "CefapvV23vDc",
        "outputId": "5637dac1-0423-4713-e2b6-19eee7dc9f5d"
      },
      "execution_count": 23,
      "outputs": [
        {
          "output_type": "stream",
          "name": "stdout",
          "text": [
            "0.30000000000000004\n"
          ]
        }
      ]
    },
    {
      "cell_type": "code",
      "source": [
        "from decimal import Decimal\n",
        "\n",
        "# 소수점 정확도를 위해 Decimal 모듈 사용\n",
        "num1 = Decimal('10.1')\n",
        "num2 = Decimal('10.2')\n",
        "\n",
        "# Decimal을 이용한 연산\n",
        "result = num1 + num2\n",
        "\n",
        "result\n"
      ],
      "metadata": {
        "colab": {
          "base_uri": "https://localhost:8080/"
        },
        "id": "w7uLR_1e4VPj",
        "outputId": "9c8250a9-b6d8-4aa7-8600-30e34e02524d"
      },
      "execution_count": 25,
      "outputs": [
        {
          "output_type": "execute_result",
          "data": {
            "text/plain": [
              "Decimal('20.3')"
            ]
          },
          "metadata": {},
          "execution_count": 25
        }
      ]
    },
    {
      "cell_type": "code",
      "source": [
        "# 제곱형태\n",
        "\n",
        "print(2e3) # 지수표현, float형\n",
        "print(2E3)\n",
        "\n",
        "print(20000000000000000000)\n",
        "\n",
        "print(2 * (10 ** 3)) # int 형"
      ],
      "metadata": {
        "colab": {
          "base_uri": "https://localhost:8080/"
        },
        "id": "Gvb7cLNx4vXo",
        "outputId": "c37babfe-b5d4-4df7-df4b-a70b58fd0bbc"
      },
      "execution_count": 27,
      "outputs": [
        {
          "output_type": "stream",
          "name": "stdout",
          "text": [
            "2000.0\n",
            "2000.0\n",
            "20000000000000000000\n",
            "2000\n"
          ]
        }
      ]
    },
    {
      "cell_type": "markdown",
      "source": [
        "# 복소수"
      ],
      "metadata": {
        "id": "E9mcl7gz6E2t"
      }
    },
    {
      "cell_type": "code",
      "source": [
        "# 복소수 출력\n",
        "\n",
        "x1 = 3 + 4j\n",
        "x2 = complex(3,4)\n",
        "\n",
        "print(x1, )"
      ],
      "metadata": {
        "id": "kdMR-Ius6Iwd"
      },
      "execution_count": null,
      "outputs": []
    }
  ]
}