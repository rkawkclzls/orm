{
  "nbformat": 4,
  "nbformat_minor": 0,
  "metadata": {
    "colab": {
      "provenance": []
    },
    "kernelspec": {
      "name": "python3",
      "display_name": "Python 3"
    },
    "language_info": {
      "name": "python"
    }
  },
  "cells": [
    {
      "cell_type": "code",
      "source": [],
      "metadata": {
        "id": "Lcvd0Dl103C4"
      },
      "execution_count": null,
      "outputs": []
    },
    {
      "cell_type": "markdown",
      "source": [
        "# 1.random 라이브러리에 대한 설명\n",
        "\n",
        "* ```random```라이브러리는 파이썬 무작위 수 생성 기능을 제공하며,이를 통해 게임,시뮬레이션,테스트 데이터 생성,보안과 관련된 프로그래밍 등 다양한 분에서 활용됩니다.\n"
      ],
      "metadata": {
        "id": "715keUhlzNIs"
      }
    },
    {
      "cell_type": "code",
      "source": [
        "# 1. 기본 사용법\n",
        "\n",
        "import random\n",
        "\n",
        "'''\n",
        "0~9까지의 임의의 숫자를 선택하는 코드를 작성\n",
        "파이썬의 숫자의 시작은 무조건 0부터\n",
        "10으로 입력하면 -1 즉, 9까지\n",
        "'''\n",
        "\n",
        "\n",
        "num = random.randrange(20)\n",
        "print(num)\n"
      ],
      "metadata": {
        "colab": {
          "base_uri": "https://localhost:8080/"
        },
        "id": "0SqHO1Cy0sRH",
        "outputId": "b52eeebb-261b-456e-ff71-7d222c44f25d"
      },
      "execution_count": null,
      "outputs": [
        {
          "output_type": "stream",
          "name": "stdout",
          "text": [
            "10\n"
          ]
        }
      ]
    },
    {
      "cell_type": "code",
      "source": [
        "# 1.2 시작값과 끝값을 지정\n",
        "\n",
        "num_1 = random.randrange(1, 19) # 1에서 19까지 랜덤한 수 하나\n",
        "num_2 = random.randrange(1, 19)\n",
        "num_3 = random.randrange(1, 19)\n",
        "num_4 = random.randrange(1, 19)\n",
        "num_5 = random.randrange(1, 19)\n",
        "num_6 = random.randrange(1, 19)\n",
        "print(\"오늘의 로또 번호는\",num_1,num_2,num_3,num_4,num_5,num_6)"
      ],
      "metadata": {
        "colab": {
          "base_uri": "https://localhost:8080/"
        },
        "id": "tW9x1ePi15XL",
        "outputId": "e8644848-e006-4bd9-ffed-ff895e56cb04"
      },
      "execution_count": null,
      "outputs": [
        {
          "output_type": "stream",
          "name": "stdout",
          "text": [
            "오늘의 로또 번호는 18 17 4 13 15 2\n"
          ]
        }
      ]
    },
    {
      "cell_type": "code",
      "source": [
        "# 1.3 간격 설정\n",
        "# 10부터 100까지 숫자 중에서 10의 간격으로 무작위 선택\n",
        "\n",
        "num10_100 = random.randrange(10, 101, 10)\n",
        "print(num10_100)"
      ],
      "metadata": {
        "colab": {
          "base_uri": "https://localhost:8080/"
        },
        "id": "tlHPSjZ-27h-",
        "outputId": "28a58c67-2c19-4c64-da99-435fc795d982"
      },
      "execution_count": null,
      "outputs": [
        {
          "output_type": "stream",
          "name": "stdout",
          "text": [
            "70\n"
          ]
        }
      ]
    },
    {
      "cell_type": "markdown",
      "source": [
        "# 2.choice 함수"
      ],
      "metadata": {
        "id": "gv-ccSQL7dVy"
      }
    },
    {
      "cell_type": "code",
      "source": [
        "# 1. Choice 기본 사용법\n",
        "\n",
        "# chosen_element = random.choice(sequence)\n",
        "\n",
        "elements = ['사과','바나나', '체리']\n"
      ],
      "metadata": {
        "id": "xQv4FNSV7i5a"
      },
      "execution_count": null,
      "outputs": []
    },
    {
      "cell_type": "code",
      "source": [
        "print(elements)"
      ],
      "metadata": {
        "colab": {
          "base_uri": "https://localhost:8080/"
        },
        "id": "nD13EXVt8AwH",
        "outputId": "506280c3-b872-43db-dc88-5c68c6b8ccac"
      },
      "execution_count": null,
      "outputs": [
        {
          "output_type": "stream",
          "name": "stdout",
          "text": [
            "['사과', '바나나', '체리']\n"
          ]
        }
      ]
    },
    {
      "cell_type": "code",
      "source": [
        "choice_elements = random.choice(elements)"
      ],
      "metadata": {
        "id": "761levan8E9s"
      },
      "execution_count": null,
      "outputs": []
    },
    {
      "cell_type": "code",
      "source": [
        "print(f'선택된 요소 : {choice_elements}입니다.')\n",
        "# 문자를 가져오기에 유리하다."
      ],
      "metadata": {
        "colab": {
          "base_uri": "https://localhost:8080/"
        },
        "id": "kPbfKjzp8Pzj",
        "outputId": "40724e36-ef54-4afc-a378-33535e13005c"
      },
      "execution_count": null,
      "outputs": [
        {
          "output_type": "stream",
          "name": "stdout",
          "text": [
            "선택된 요소 : 체리입니다.\n"
          ]
        }
      ]
    },
    {
      "cell_type": "code",
      "source": [
        "# 2. 문자열에서 무작위 문자 선택\n",
        "\n",
        "greeting = \"안녕하세요\"\n",
        "choice_char = random.choice(greeting)\n",
        "print(f\"선택된 문자 : {choice_char} 입니다.\")"
      ],
      "metadata": {
        "colab": {
          "base_uri": "https://localhost:8080/"
        },
        "id": "lrdtQ-hL822v",
        "outputId": "65eea586-20c2-4860-fd02-537d07618859"
      },
      "execution_count": null,
      "outputs": [
        {
          "output_type": "stream",
          "name": "stdout",
          "text": [
            "선택된 문자 : 요 입니다.\n"
          ]
        }
      ]
    },
    {
      "cell_type": "code",
      "source": [
        "# 이렇게 입력하면 문자열\n",
        "\n",
        "test1 = input(\"임의의 숫자를 입력하세요\")"
      ],
      "metadata": {
        "colab": {
          "base_uri": "https://localhost:8080/"
        },
        "id": "9t_8_zFL9WN5",
        "outputId": "d50f2ef2-89ef-4ea3-f8bb-d8069f29c681"
      },
      "execution_count": null,
      "outputs": [
        {
          "name": "stdout",
          "output_type": "stream",
          "text": [
            "임의의 숫자를 입력하세요123\n"
          ]
        }
      ]
    },
    {
      "cell_type": "code",
      "source": [
        "type(test1)"
      ],
      "metadata": {
        "colab": {
          "base_uri": "https://localhost:8080/"
        },
        "id": "BScCvBIt-dK4",
        "outputId": "763fea74-1b55-44bf-9a55-0a43aebd0f24"
      },
      "execution_count": null,
      "outputs": [
        {
          "output_type": "execute_result",
          "data": {
            "text/plain": [
              "str"
            ]
          },
          "metadata": {},
          "execution_count": 19
        }
      ]
    },
    {
      "cell_type": "code",
      "source": [
        "test2 = random.randrange(1,46)\n"
      ],
      "metadata": {
        "id": "bRUEUhAR-hyO"
      },
      "execution_count": null,
      "outputs": []
    },
    {
      "cell_type": "code",
      "source": [
        "type(test2)"
      ],
      "metadata": {
        "colab": {
          "base_uri": "https://localhost:8080/"
        },
        "id": "rtWcNT05-0yf",
        "outputId": "f82a5da6-5560-42d1-c4fb-12d064bd3024"
      },
      "execution_count": null,
      "outputs": [
        {
          "output_type": "execute_result",
          "data": {
            "text/plain": [
              "int"
            ]
          },
          "metadata": {},
          "execution_count": 21
        }
      ]
    },
    {
      "cell_type": "code",
      "source": [
        "print(test2 + test2)"
      ],
      "metadata": {
        "colab": {
          "base_uri": "https://localhost:8080/"
        },
        "id": "rYoJ5GCD-4OW",
        "outputId": "b9931a88-2775-4219-ccc3-8482612a9039"
      },
      "execution_count": null,
      "outputs": [
        {
          "output_type": "stream",
          "name": "stdout",
          "text": [
            "54\n"
          ]
        }
      ]
    },
    {
      "cell_type": "code",
      "source": [
        "'''\n",
        "코드 실행 날짜 : 2024년 1월 1일\n",
        "'''\n",
        "\n",
        "\n",
        "\n",
        "\n",
        "\n",
        "# 이 코드는 Random 라이브러리를 사용한 예시입니다.\n",
        "\n",
        "# random 라이브러리를 import해줍니다\n",
        "import random\n",
        "\n",
        "# 2가지의 임의 숫자 생성\n",
        "random_number1 = random.randint(1, 10) # random_number1 에 1부터 9까지의 임의의 숫자를 가져옵니다.\n",
        "random_number2 = random.randint(1, 10) # random_number2 에 1부터 9까지의 임의의 숫자를 가져옵니다.\n",
        "\n",
        "# 생성했던 2가지 숫자를 더해주는 계산\n",
        "sum_of_numbers = random_number1 + random_number2\n",
        "\n",
        "# 결과 출력\n",
        "print(f\"첫 번째 생성된 숫자: {random_number1}\") # 첫번째 생성된 값\n",
        "print(f\"두 번째 생성된 숫자: {random_number2}\") # 두번째 생성된 값\n",
        "print(f\"두 숫자의 합: {sum_of_numbers}\")        # 두 숫자의 합 출력"
      ],
      "metadata": {
        "colab": {
          "base_uri": "https://localhost:8080/"
        },
        "id": "C8BneM2f9SGB",
        "outputId": "8f77a286-0f81-4aa8-9b3c-f597cc8ab772"
      },
      "execution_count": null,
      "outputs": [
        {
          "output_type": "stream",
          "name": "stdout",
          "text": [
            "첫 번째 생성된 숫자: 6\n",
            "두 번째 생성된 숫자: 9\n",
            "두 숫자의 합: 15\n"
          ]
        }
      ]
    },
    {
      "cell_type": "code",
      "source": [
        "# 주사위게임 만들기\n",
        "\n",
        "# random 라이브러리 가져오기\n",
        "import random\n",
        "\n",
        "# 주사위 값 나오기\n",
        "dice1 = random.randrange(1,7)\n",
        "dice2 = random.randrange(1,7)\n",
        "\n",
        "# 주사위 값 더하기\n",
        "sum_dice = dice1 + dice2\n",
        "\n",
        "# 결과 출력\n",
        "print(f'주사위 던져서 나온 숫자!,주사위1은 {dice1}의 값이 나왔습니다,주사위2는 {dice2}의 값이 나왔습니다.\\n')\n",
        "print(f'두 주사위 값의 합은 {sum_dice} 입니다!')"
      ],
      "metadata": {
        "colab": {
          "base_uri": "https://localhost:8080/"
        },
        "id": "-NCirKPVBy1k",
        "outputId": "c8cdca9d-045d-478b-9c95-d5f98926e6d9"
      },
      "execution_count": null,
      "outputs": [
        {
          "output_type": "stream",
          "name": "stdout",
          "text": [
            "주사위 던져서 나온 숫자!,주사위1은 3의 값이 나왔습니다,주사위2는 1의 값이 나왔습니다.\n",
            "\n",
            "두 주사위 값의 합은 4 입니다!\n"
          ]
        }
      ]
    },
    {
      "cell_type": "code",
      "source": [
        "# 던진 결과\n",
        "throw1 = random.choice([0,1])\n",
        "throw2 = random.choice([0,1])\n",
        "throw3 = random.choice([0,1])\n",
        "throw4 = random.choice([0,1])\n",
        "\n",
        "# 뒷면만 합산\n",
        "total_back = throw1 + throw2 + throw3 + throw4\n",
        "\n",
        "# 도 개 걸 윷 모 설정\n",
        "도 = 3\n",
        "개 = 2\n",
        "걸 = 1\n",
        "윷 = 4\n",
        "모 = 0\n",
        "\n",
        "# 윷 결과가 포함된 result 리스트 작성\n",
        "result = ['도','개','걸','윷','모']\n",
        "\n",
        "# 결과 출력\n",
        "print(result[total_back])"
      ],
      "metadata": {
        "colab": {
          "base_uri": "https://localhost:8080/"
        },
        "id": "EKYHDUtfE69O",
        "outputId": "2fbd8acd-f86d-47d0-aa66-3785110ec9f5"
      },
      "execution_count": null,
      "outputs": [
        {
          "output_type": "stream",
          "name": "stdout",
          "text": [
            "걸\n"
          ]
        }
      ]
    }
  ]
}