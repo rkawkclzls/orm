{
  "cells": [
    {
      "cell_type": "code",
      "execution_count": null,
      "metadata": {
        "id": "4mKcyECrev8v"
      },
      "outputs": [],
      "source": [
        "data = []\n",
        "\n",
        "\n",
        "\n",
        "\n",
        "n = int(input(\"리스트의 길이: \"))\n",
        "\n",
        "for i in range(n):\n",
        "    if n < 1 or n > 100:\n",
        "        print(\"실행할수 없습니다.\")\n",
        "    else:\n",
        "     element = int(input(f\"{i+1}번째 원소를 입력하세요:\"))\n",
        "     data.append(element)\n",
        "\n",
        "print(\"생성된 리스트:\",data)\n",
        "\n",
        "def solution(data):\n",
        "    a = 0\n",
        "    for woaks in data:\n",
        "\n",
        "        if (woaks % 2 == 1):\n",
        "             a += woaks\n",
        "\n",
        "    return a\n",
        "\n",
        "\n",
        "if __name__ == \"__main__\":\n",
        "    solution(data)\n",
        "    print(a)\n",
        "\n",
        "\n",
        "\n",
        "\n"
      ]
    },
    {
      "cell_type": "code",
      "execution_count": null,
      "metadata": {
        "id": "v5JVNn_bfABN"
      },
      "outputs": [],
      "source": [
        "def solution(data):\n",
        "    # 리스트가 비어 있으면 0을 반환\n",
        "    if not data:\n",
        "        return 0\n",
        "\n",
        "    sum_of_odds = 0\n",
        "    for number in data:\n",
        "        # 숫자가 홀수인 경우 합계에 추가\n",
        "        if number % 2 == 1:\n",
        "            sum_of_odds += number\n",
        "\n",
        "    return sum_of_odds\n"
      ]
    },
    {
      "cell_type": "markdown",
      "metadata": {
        "id": "tRhHQXkPu9q4"
      },
      "source": [
        "# 곱하기\n",
        "\n",
        "* 문제 설명\n",
        "\n",
        "주어진 리스트를 모두 곱하는 solution 함수를 완성해주세요.\n",
        "\n",
        "* 제한 사항\n",
        "\n",
        "1 ≤ 리스트 안의 수 ≤ 100\n",
        "\n",
        "숫자 외에 다른 값은 주어지지 않습니다.\n",
        "\n",
        "각각의 값은 1차원 리스트로 주어집니다.\n",
        "\n",
        "리스트 안에 값이 없는 경우는 0으로 출력해야 합니다.\n",
        "\n",
        "\n"
      ]
    },
    {
      "cell_type": "code",
      "execution_count": null,
      "metadata": {
        "id": "DbkvWihRzRew"
      },
      "outputs": [],
      "source": [
        "data = []\n",
        "\n",
        "\n",
        "\n",
        "\n",
        "n = int(input(\"리스트의 길이: \"))\n",
        "\n",
        "for i in range(n):\n",
        "    if n < 1 or n > 100:\n",
        "        print(\"실행할수 없습니다.\")\n",
        "    else:\n",
        "     element = int(input(f\"{i+1}번째 원소를 입력하세요:\"))\n",
        "     data.append(element)\n",
        "\n",
        "print(\"생성된 리스트:\",data)\n",
        "\n",
        "\n",
        "\n",
        "\n",
        "\n",
        "\n",
        "def solution(data):\n",
        "    # 리스트가 비어 있으면 0을 반환\n",
        "    if not data:\n",
        "        return 0\n",
        "    a = 1\n",
        "\n",
        "    for i in data:\n",
        "        a = a *i\n",
        "    return a\n",
        "\n",
        "if __name__ == \"__main__\":\n",
        "    result = solution(data)\n",
        "    print(result)\n",
        "\n",
        "\n"
      ]
    },
    {
      "cell_type": "code",
      "execution_count": null,
      "metadata": {
        "id": "5urJZJXZ_PkI"
      },
      "outputs": [],
      "source": [
        "def solution(data):\n",
        "    # 리스트가 비어 있으면 0을 반환\n",
        "    if not data:\n",
        "        return 0\n",
        "    multi = 1\n",
        "\n",
        "    for i in data:\n",
        "        multi = multi *i\n",
        "    return multi"
      ]
    },
    {
      "cell_type": "markdown",
      "metadata": {
        "id": "qGw6TPeP_pqj"
      },
      "source": [
        "# 조건 덧셈"
      ]
    },
    {
      "cell_type": "code",
      "execution_count": null,
      "metadata": {
        "id": "TKwNMKydWf99"
      },
      "outputs": [],
      "source": [
        "data = []\n",
        "\n",
        "n = int(input())\n",
        "for i in range(n):\n",
        "    i = int(input())\n",
        "    data.append(i)\n",
        "\n",
        "def solution(data):\n",
        "    sum = 0\n",
        "    for woaks in data:\n",
        "        if woaks % 5 == 0 or woaks % 3 == 0:\n",
        "            sum = sum\n",
        "        else:\n",
        "            sum += woaks\n",
        "    return sum\n",
        "\n",
        "if __name__ == '__main__':\n",
        "    results = solution(data)\n",
        "    print(results)\n",
        "\n",
        "\n"
      ]
    },
    {
      "cell_type": "code",
      "execution_count": null,
      "metadata": {
        "id": "tISlJstbXq2p"
      },
      "outputs": [],
      "source": [
        "def solution(data):\n",
        "    sum = 0\n",
        "    for woaks in data:\n",
        "        if woaks % 5 == 0 or woaks % 3 == 0:\n",
        "            sum = sum\n",
        "        else:\n",
        "            sum += woaks\n",
        "    return sum"
      ]
    },
    {
      "cell_type": "markdown",
      "metadata": {
        "id": "RCU7FXr4ZVoG"
      },
      "source": [
        "# 크리스마스 쿠키\n",
        "\n",
        "* 문제 설명\n",
        "\n",
        "라이캣은 크리스마스 선물 룰렛 게임을 하고 있습니다. 룰렛에는 '쿠키 1개'부터 '쿠키 10개'까지 값이 들어 있습니다. 룰렛은 총 3번 돌릴 수 있고, 첫번째 시도에서 나온 값은 곱하기 1을 하고, 두번째 시도에서 나온 값은 곱하기 2를 하고 세번째 시도에서 나온 값은 곱하기 3을 하기로 하였습니다. 라이캣이 가져갈 쿠키의 수를 리턴하는 함수를 완성해주세요.\n",
        "\n",
        "*제한 사항\n",
        "\n",
        "룰렛에는 '쿠키 1개'와 같은 문자열이 주어집니다.\n",
        "각각의 값은 1차원 리스트로 주어집니다.\n",
        "중복해서 같은 값을 뽑을 수 있습니다.\n"
      ]
    },
    {
      "cell_type": "code",
      "execution_count": null,
      "metadata": {
        "id": "tgggEOe4Zid1"
      },
      "outputs": [],
      "source": [
        "#룰렛에는 쿠키 1개부터 10개까지 값이 들어있슴다\n",
        "#룰렛은 총 3번 돌릴 수 있습니다.\n",
        "#첫번쨰 시도에서 나온 값은 곱하기 1을하고ㅐ,\n",
        "\n",
        "data = ['쿠키 1개', '쿠키 2개', '쿠키 3개', '쿠키 4개', '쿠키 5개', '쿠키 6개', '쿠키 7개', '쿠키 8개', '쿠키 9개', '쿠키 10개' ]\n",
        "\n",
        "def solution(data):\n",
        "    import random\n",
        "    cookie_number = 0\n",
        "    cookie_sum = 0\n",
        "    a = 0\n",
        "    # 리스트는 랜덤 메서드를 사용 할수없다,\n",
        "    # data 리스트의 len을 가져와 랜덤 인덱스를 만드는 방법을 사용함\n",
        "    random_index1 = random.randrange(len(data))\n",
        "    random_index2 = random.randrange(len(data))\n",
        "    random_index3 = random.randrange(len(data))\n",
        "    # 랜덤한\n",
        "    random_data = [data[random_index1],data[random_index2],data[random_index3]]\n",
        "\n",
        "    for i in random_data:\n",
        "\n",
        "        a += 1\n",
        "\n",
        "        cookie_number = ''.join([char for char in i if char.isdigit()])\n",
        "        cookie_number = int(cookie_number)\n",
        "        print(cookie_number)\n",
        "        cookie_sum += cookie_number * (a)\n",
        "\n",
        "    return cookie_sum\n",
        "\n",
        "if __name__ == '__main__':\n",
        "    result = solution(data)\n",
        "    print(result)"
      ]
    },
    {
      "cell_type": "code",
      "execution_count": null,
      "metadata": {
        "id": "LrBRTkP3fQ57"
      },
      "outputs": [],
      "source": [
        "def solution(data):\n",
        "    import random\n",
        "    cookie_number = 0\n",
        "    cookie_sum = 0\n",
        "    a = 0\n",
        "\n",
        "    random_index1 = random.randrange(len(data))\n",
        "    random_index2 = random.randrange(len(data))\n",
        "    random_index3 = random.randrange(len(data))\n",
        "\n",
        "    random_data = [data[random_index1],data[random_index2],data[random_index3]]\n",
        "\n",
        "    for i in random_data:\n",
        "\n",
        "        a += 1\n",
        "\n",
        "        cookie_number = ''.join([char for char in i if char.isdigit()])\n",
        "        cookie_number = int(cookie_number)\n",
        "        print(cookie_number)\n",
        "        cookie_sum += cookie_number * (a)\n",
        "\n",
        "\n",
        "    return cookie_sum"
      ]
    },
    {
      "cell_type": "markdown",
      "metadata": {
        "id": "42MLI5bJcEXF"
      },
      "source": [
        "# 1의 갯수 반환\n",
        "\n",
        "* 문제 설명\n",
        "\n",
        "주어진 리스트의 값 중 1의 갯수를 반환하는 solution 함수를 완성해주세요."
      ]
    },
    {
      "cell_type": "code",
      "execution_count": null,
      "metadata": {
        "id": "2qRONkza4IN_"
      },
      "outputs": [],
      "source": [
        "data = []\n",
        "n = int(input())\n",
        "for i in range(n):\n",
        "    i = int(input())\n",
        "    data.append(i)\n",
        "\n",
        "def solution(data):\n",
        "    # 리스트가 비어 있으면 0을 반환\n",
        "    if not data:\n",
        "        return 0\n",
        "    count1 = str(data).count('1')\n",
        "    return count1\n",
        "\n",
        "if __name__ == '__main__':\n",
        "    result = solution(data)\n",
        "    print(result)"
      ]
    },
    {
      "cell_type": "code",
      "execution_count": null,
      "metadata": {
        "id": "zFBAEAGYaR0e"
      },
      "outputs": [],
      "source": [
        "def solution(data):\n",
        "    # 리스트가 비어 있으면 0을 반환\n",
        "    if not data:\n",
        "        return 0\n",
        "    count1 = str(data).count('1')\n",
        "    return count1"
      ]
    },
    {
      "cell_type": "markdown",
      "metadata": {
        "id": "UAS93E1q09Hn"
      },
      "source": [
        "# 문자열 덧셈\n",
        "\n",
        "* 문제 설명\n",
        "\n",
        "주어진 문자열의 숫자를 모두 더하는  solution 함수를 완성해주세요.\n",
        "\n",
        "\n",
        "\n",
        "\n"
      ]
    },
    {
      "cell_type": "code",
      "execution_count": null,
      "metadata": {
        "id": "J9_9g6Zp2w8F"
      },
      "outputs": [],
      "source": [
        "data = ['1hel2lo3']\n",
        "\n",
        "solution(data):\n",
        "    data2 = []\n",
        "    for i in data:\n",
        "        for j in i:\n",
        "            if j.isdigit():\n",
        "                data2.append(int(j))\n",
        "    result = sum(data2)\n",
        "    return result\n",
        "\n",
        "solution(data)"
      ]
    },
    {
      "cell_type": "markdown",
      "metadata": {
        "id": "FTihGfwgPw_L"
      },
      "source": [
        "# 업무 우선순위\n",
        "* 문제 설명\n",
        "\n",
        "라이캣은 업무 우선순위에 따라 일일 업무를 보고 있습니다.\n",
        "\n",
        "리스트 안에 업무 이름과 업무 우선순위가 함께 주어졌을 때,\n",
        "\n",
        "오름차순 업무 우선순위에 따라 업무 이름을 출력해주세요.\n",
        "\n",
        "\n",
        "\n",
        "\n"
      ]
    },
    {
      "cell_type": "code",
      "execution_count": null,
      "metadata": {
        "id": "nX2X0sIvQSbP"
      },
      "outputs": [],
      "source": [
        "data = [['A', 3], ['B', 1], ['C', 2]]\n",
        "def solution(data):\n",
        "    data = sorted(data, key = lambda x : x[1])\n",
        "    data = [ x[0] for x in data ]\n",
        "    return data\n",
        "\n",
        "solution(data)"
      ]
    },
    {
      "cell_type": "markdown",
      "metadata": {
        "id": "QIrohBb7aWi6"
      },
      "source": [
        "# 두 점 사이의 거리\n",
        "\n",
        "* 문제설명\n",
        "\n",
        "직선 위에 가각 점이 [1, 3, 5, 6, 10, 12, 19]\n",
        "찍혀져 있을 때 두점 사이의 거리가 가장 짧은 것은 [5, 6]입니다.\n",
        "\n",
        " 두 점 사이가 가장 짧은 쌍을 출력하는 solution함수를 완성해주세요"
      ]
    },
    {
      "cell_type": "code",
      "execution_count": null,
      "metadata": {
        "id": "sCxCN0ZYfQ41"
      },
      "outputs": [],
      "source": [
        "data = [1, 3, 4, 6]\n",
        "\n",
        "# data1 = data[1:]\n",
        "# data2 = list(zip(data, data1))\n",
        "# woaks = sorted(data2, key = lambda x: x[1] - x[0])[0]\n",
        "# list(woaks)\n",
        "\n",
        "def solution(data):\n",
        "    data1 = data[1:]\n",
        "    data = list(zip(data, data1))\n",
        "    data = sorted(data, key = lambda x: x[1] - x[0])[0]\n",
        "    return list(data)\n",
        "\n",
        "solution(data)\n",
        "\n"
      ]
    },
    {
      "cell_type": "markdown",
      "metadata": {
        "id": "noR1PKsaiXmZ"
      },
      "source": [
        "# 수학은 내가 1등\n",
        "\n",
        "* 문제 설명\n",
        "\n",
        "이름, 국영수 점수가 {'이름': '홍길동', '국': 70, '영': 30, '수':20}와 같이 딕셔너리 형태로 주어졌을 때 반 점수는\n",
        "\n",
        "[{'이름': 'A'...}, {'이름': 'B'...}, {'이름': 'C'...}]와 같은 형태로 주어집니다.\n",
        "\n",
        "이 때 반에서 수학점수가 가장 높은 학생의 이름을 출력하는 solution함수를 완성해주세요.\n",
        "\n"
      ]
    },
    {
      "cell_type": "code",
      "execution_count": null,
      "metadata": {
        "id": "LMp7sP6TIxXK"
      },
      "outputs": [],
      "source": [
        "data = [{'이름': 'A', '국': 30, '영': 20, '수': 85}, {'이름': 'B', '국': 95, '영': 98, '수': 10}]\n",
        "def solution(data):\n",
        "    return sorted(data, key = lambda x: x['수'])[::-1][0]['이름']\n",
        "\n",
        "solution(data)\n"
      ]
    },
    {
      "cell_type": "code",
      "execution_count": null,
      "metadata": {
        "id": "g8FmvStLI92n"
      },
      "outputs": [],
      "source": [
        "def gen():\n",
        "    i = 0\n",
        "    while i <= 100:\n",
        "        yield i\n",
        "        i += 2\n",
        "    return i\n",
        "\n",
        "for j in gen():\n",
        "    print(j)\n",
        "\n",
        "list(zip('hello world',gen()))\n"
      ]
    },
    {
      "cell_type": "code",
      "execution_count": null,
      "metadata": {
        "id": "BtDwKCJL65U8"
      },
      "outputs": [],
      "source": [
        "def divide(x, y):\n",
        "    try:\n",
        "        return x / y\n",
        "    except ZeroDivisionError:\n",
        "        print('재만이가 웃고 있어')\n",
        "\n",
        "x = int(input(''))\n",
        "y = int(input(''))\n",
        "\n",
        "divide(x, y)"
      ]
    },
    {
      "cell_type": "markdown",
      "metadata": {
        "id": "hXZN02v38HxV"
      },
      "source": [
        "# 우편 번호 정렬\n",
        "문제 설명\n",
        "\n",
        "각 주소가 담긴 배열과 우편번호 목록이 딕셔너리 형태로 주어질 때 에서 우편번호 오름차순 순서대로 주소를 정렬하는 코드를 작성해주세요."
      ]
    },
    {
      "cell_type": "code",
      "execution_count": null,
      "metadata": {
        "id": "g-H5TZAthl1m"
      },
      "outputs": [],
      "source": [
        "m# def solution(data):\n",
        "#     data[0]\n",
        "\n",
        "#     return data[1][key]\n",
        "\n",
        "\n",
        "# solution([['제주시 A동 한라산길 61', '제주시 B동 백록담길 63', '제주시 C동 사라봉길 31'],\n",
        "#  {'A동': 63007, 'B동': 63010, 'C동': 63002}])"
      ]
    },
    {
      "cell_type": "code",
      "execution_count": null,
      "metadata": {
        "id": "ScVvequOhtbR"
      },
      "outputs": [],
      "source": []
    },
    {
      "cell_type": "code",
      "execution_count": null,
      "metadata": {
        "id": "Zl0tgjjrrpeN"
      },
      "outputs": [],
      "source": [
        "def solution(data):\n",
        "    a = data[0]\n",
        "    b = data[1]\n",
        "    c = [key for key, value in sorted(b.items(), key=lambda item: item[1])] # 정렬\n",
        "\n",
        "\n",
        "    print(c)\n",
        "\n",
        "\n",
        "    d = []\n",
        "    for i in range(len(a)):\n",
        "        for j in range(len(a)):\n",
        "            if c[i] in a[j]:\n",
        "                d.append(a[j])\n",
        "    return d\n",
        "\n",
        "\n",
        "\n",
        "\n",
        "\n",
        "solution([['제주시 A동 한라산길 61', '제주시 B동 백록담길 63', '제주시 C동 사라봉길 31'],\n",
        " {'A동': 63007, 'B동': 63010, 'C동': 63002}])"
      ]
    },
    {
      "cell_type": "code",
      "execution_count": null,
      "metadata": {
        "id": "R9Tew2S4sCkZ"
      },
      "outputs": [],
      "source": [
        "def solution(data):\n",
        "    a = data[0]\n",
        "    b = data[1]\n",
        "    c = [key for key,value in sorted(b.items(), key = lambda item: item[1])]\n",
        "    d = []\n",
        "\n",
        "    for i in range(len(a)):\n",
        "        for j in range(len(a)):\n",
        "            if c[i] in a[j]:\n",
        "                d.append(a[j])\n",
        "    return d\n",
        "\n",
        "solution([['Moby Dick', 'To Kill a Mockingbird', '1984'],\n",
        "          {'Moby Dick': 1851, 'To Kill a Mockingbird': 1960, '1984': 1949}])"
      ]
    },
    {
      "cell_type": "code",
      "execution_count": null,
      "metadata": {
        "id": "YVPySfRMu_-O"
      },
      "outputs": [],
      "source": [
        "def solution(data):\n",
        "    adresses = [(adress, data[1][adress.split()[1]]) for adress in data[0]]\n",
        "    sorted_adress = sorted(adresses, key= lambda adress: adress[1])\n",
        "    return [adress[0] for adress in sorted_adress]\n",
        "\n",
        "solution([['제주시 A동 한라산길 61', '제주시 B동 백록담길 63', '제주시 C동 사라봉길 31'],\n",
        "          {'A동': 63007, 'B동': 63010, 'C동': 63002}])\n"
      ]
    },
    {
      "cell_type": "code",
      "execution_count": null,
      "metadata": {
        "id": "Zr_DjwAaxr4f"
      },
      "outputs": [],
      "source": [
        "data = [['제주시 A동 한라산길 61', '제주시 B동 백록담길 63', '제주시 C동 사라봉길 31'],\n",
        "          {'A동': 63007, 'B동': 63010, 'C동': 63002}]\n",
        "\n",
        "for i in data[0]:\n",
        "    adresses = [(adress, data[1][adress.split()[1]]) for adress in data[0]]"
      ]
    },
    {
      "cell_type": "code",
      "execution_count": null,
      "metadata": {
        "id": "tef1WCPSztsz"
      },
      "outputs": [],
      "source": [
        "def solution(data):\n",
        "    a = []\n",
        "    for i in data:\n",
        "        print(i)\n",
        "\n",
        "    # return len([i for i in data if sum(i) / len(data) >= 80])\n",
        "\n",
        "\n",
        "            # if sum(j) // len(data) >= 80:\n",
        "            #     a.append(j)\n",
        "    # return [j if sum(j) // len(data) >= 80 else None for i in data for j in i]\n",
        "\n",
        "solution([[92, 85, 97], [30, 21, 60], [90, 99, 98], [0, 0, 0], [81, 80, 88, 83]])"
      ]
    },
    {
      "cell_type": "markdown",
      "metadata": {
        "id": "2KuEOJZK2iQQ"
      },
      "source": [
        "# 도서관 책 위치 정렬\n",
        "*문제 설명\n",
        "\n",
        "도서관의 책들은 각각 고유한 위치 코드를 가지고 있습니다. 책의 위치 코드와 해당 위치 코드에 대응하는 책의 제목이 딕셔너리 형태로 주어질 때, 위치 코드 순으로 책의 제목을 정렬하는 코드를 작성해주세요. 위치 코드는 문자열로 구성되며, 사전순으로 정렬합니다."
      ]
    },
    {
      "cell_type": "code",
      "execution_count": null,
      "metadata": {
        "colab": {
          "background_save": true
        },
        "id": "1en1TxEgPBCz"
      },
      "outputs": [],
      "source": [
        "print(data.items())\n",
        "def solution(data):\n",
        "    data2 = sorted(data, key=lambda x: x[0], reverse=True)\n",
        "\n",
        "    a = []\n",
        "    for i in data2:\n",
        "        a.append(data[i])\n",
        "    return a\n"
      ]
    },
    {
      "cell_type": "markdown",
      "source": [
        "#도서관 책 위치 정렬\n",
        "*문제 설명\n",
        "\n",
        "도서관의 책들은 각각 고유한 위치 코드를 가지고 있습니다. 책의 위치 코드와 해당 위치 코드에 대응하는 책의 제목이 딕셔너리 형태로 주어질 때, 위치 코드 순으로 책의 제목을 정렬하는 코드를 작성해주세요. 위치 코드는 문자열로 구성되며, 사전순으로 정렬합니다.\n",
        "\n",
        "*제한 사항\n",
        "\n",
        "위치 코드는 영문 대소문자와 숫자로 구성된 문자열입니다.\n",
        "위치 코드의 길이는 최대 10자입니다.\n",
        "도서관에는 최소 1권에서 최대 100권의 책이 있습니다.\n",
        "같은 위치 코드를 가진 책은 없습니다."
      ],
      "metadata": {
        "id": "-JAoBMmc7STg"
      }
    },
    {
      "cell_type": "code",
      "source": [
        "def solution(data):\n",
        "    data2 = sorted(data, key=lambda x: x[0])\n",
        "\n",
        "    a = []\n",
        "    for i in data2:\n",
        "        a.append(data[i])\n",
        "    return a"
      ],
      "metadata": {
        "id": "uCZ0pn8c7X19"
      },
      "execution_count": null,
      "outputs": []
    },
    {
      "cell_type": "markdown",
      "source": [
        "# 위니브 회의 시간표 정렬\n",
        "\n",
        "*문제 설명\n",
        "\n",
        "위니브 A 회의실에는 회의 시간 목록이 AM/PM 형식으로 표현되어 있습니다. 이 시간들을 24시간제로 변환한 뒤, 오름차순으로 정렬하는 코드를 작성해주세요. 시간은 'HH:MM AM' 또는 'HH:MM PM' 형식으로 주어지며, 12시간제를 24시간제로 변환할 때 '12:00 AM'은 '00:00', '12:00 PM'은 '12:00'으로 변환합니다.\n",
        "\n",
        "*제한 사항\n",
        "\n",
        "시간은 'HH:MM AM' 또는 'HH:MM PM' 형식으로 주어집니다.\n",
        "'HH'는 01에서 12 사이, 'MM'은 00에서 59 사이입니다.\n",
        "시간 목록에는 최소 1개에서 최대 100개의 시간이 주어집니다."
      ],
      "metadata": {
        "id": "VbUwpIGI7ciA"
      }
    },
    {
      "cell_type": "code",
      "source": [
        "def solution(data):\n",
        "    time = []\n",
        "    for i in data:\n",
        "        if i[6:8] == 'PM':\n",
        "            if int(i[0:2]) == 12:\n",
        "                i = '12'  + i[3:5]\n",
        "            else:\n",
        "                i = str(int(i[0:2]) + 12)  + i[3:5]\n",
        "        elif int(i[0:2]) == 12:\n",
        "            i = '00' + i[3:5]\n",
        "        else:\n",
        "            i = i[0:2] + i[3:5]\n",
        "        time.append(i)\n",
        "\n",
        "    _intime = (list(map(int,time)))\n",
        "    newdata = list(zip(data,_intime))\n",
        "    newdata = sorted(newdata, key=lambda x: x[1])\n",
        "    newdata2 = []\n",
        "    for j in newdata:\n",
        "        newdata2.append(j[0])\n",
        "    return newdata2"
      ],
      "metadata": {
        "id": "JX4zs-zf7ydS"
      },
      "execution_count": null,
      "outputs": []
    },
    {
      "cell_type": "markdown",
      "source": [
        "# 뮤라의 휴가 입력\n",
        "\n",
        "* 문제 설명\n",
        "뮤라는 위니브 직원들의 휴가를 입력하는 업무를 맡았습니다. 휴가는 '일-월-연', '월/일/연', '연.월.일' 등 다양한 형식으로 뮤라에게 전달되었습니다. 이 날짜들을 '연/월/일' 형식으로 변환한 후, 오름차순으로 정렬하는 코드를 작성해주세요.\n",
        "\n",
        "* 제한 사항\n",
        "휴가는 '일-월-연', '월/일/연', '연.월.일' 형식 중 하나로 주어집니다.\n",
        "'연'은 4자리 숫자, '월'과 '일'은 각각 2자리 숫자입니다.\n",
        "날짜 목록에는 최소 1개에서 최대 100개의 날짜가 주어집니다."
      ],
      "metadata": {
        "id": "Q8himSZGdDda"
      }
    },
    {
      "cell_type": "code",
      "execution_count": null,
      "metadata": {
        "id": "ViMY-ldOV26d"
      },
      "outputs": [],
      "source": [
        "def solution(data):\n",
        "    data2 = []\n",
        "    for i in data:\n",
        "        if i[2] == '-':\n",
        "           a = i.split('-')\n",
        "           a = f'{a[2]}/{a[1]}/{a[0]}'\n",
        "           data2.append(a)\n",
        "        elif i[2] == '/':\n",
        "            a = i.split('/')\n",
        "            a = f'{a[2]}/{a[0]}/{a[1]}'\n",
        "            data2.append(a)\n",
        "        else:\n",
        "            a = i.split('.')\n",
        "            a = f'{a[0]}/{a[1]}/{a[2]}'\n",
        "            data2.append(a)\n",
        "    data3 = []\n",
        "    for j in data2:\n",
        "        a = j.split('/')\n",
        "        a = int(a[0] + a[1] + a[2])\n",
        "        data3.append(a)\n",
        "    data = list(zip(data2,data3))\n",
        "    data = sorted(data, key= lambda x: x[1])\n",
        "    data = [data[0][0], data[1][0], data[2][0]]\n",
        "    return data"
      ]
    },
    {
      "cell_type": "markdown",
      "source": [
        "# 라이캣 CEO의 최근 일정 3개\n",
        "\n",
        "* 문제 설명\n",
        "\n",
        "라이캣은 '캣네생선'의 대표로 바쁜 나날을 보내고 있습니다. 그에게는 매주 주간 일정이 요일별로 주어집니다. 각 요일(월요일부터 금요일까지)에는 여러 일정이 있으며, 각 일정은 'YYYY-MM-DD' 형식의 날짜로 주어집니다. 모든 요일의 일정 중에서 최근 3개의 일정을 찾아 'YY-MM-DD 요일' 형식으로 반환하는 코드를 작성해주세요.\n",
        "\n",
        "*제한 사항\n",
        "\n",
        "일정은 0개에서 최대 100개 주어집니다.\n",
        "각 일정의 날짜는 'YYYY-MM-DD' 형식으로 주어지며, 중복되는 날짜는 없습니다.\n",
        "각 요일별로 일정이 있을 경우 최소 1개 이상 존재한다고 가정합니다.\n",
        "반환되는 날짜 형식은 'YY-MM-DD 요일'이어야 합니다.\n",
        "내림차순 정렬하여 가장 앞에 있는 것 3개를 출력해야 합니다."
      ],
      "metadata": {
        "id": "oA9mpQT5VueK"
      }
    },
    {
      "cell_type": "code",
      "source": [
        "def solution(data):\n",
        "    # 요일에 관계없이 처리하는 공통 로직을 사용하여 data2 리스트를 생성\n",
        "    data2 = [f\"{j.split('-')[0][2:4]}-{j.split('-')[1]}-{j.split('-')[2]} {i}\"\n",
        "             for i in data for j in data[i]]\n",
        "\n",
        "    # 날짜 번호 생성 및 (data2, data_number) 튜플 생성\n",
        "    data_number = [\"\".join(j.split(' ')[0].split('-')) for j in data2]\n",
        "    data_tuples = list(zip(data2, data_number))\n",
        "\n",
        "    # 날짜 번호를 기준으로 정렬 후 상위 3개 항목의 첫 번째 요소(날짜 문자열) 선택\n",
        "    sorted_data = sorted(data_tuples, key=lambda x: x[1], reverse=True)\n",
        "    result = [sorted_data[i][0] for i in range(min(3, len(sorted_data)))]\n",
        "\n",
        "    return result\n"
      ],
      "metadata": {
        "id": "n0rbMeTW8JDZ"
      },
      "execution_count": null,
      "outputs": []
    },
    {
      "cell_type": "markdown",
      "source": [
        "# 주간 최고 온도 기록 분석\n",
        "*문제 설명\n",
        "\n",
        "일주일 동안의 최고 기온이 기록된 데이터가 주어집니다. 이 데이터에서 가장 높은 온도를 기록한 상위 3일을 찾아 'YY-MM-DD: 온도' 형식으로 반환하는 코드를 작성해주세요. 데이터는 'YYYY-MM-DD' 형식의 날짜와 해당 날짜의 최고 온도(섭씨)로 구성됩니다.\n",
        "\n",
        "*제한 사항\n",
        "\n",
        "각 날짜의 최고 온도는 정수로 주어집니다.\n",
        "기온 데이터는 최소 7개(일주일)에서 최대 30개(한달)까지 주어질 수 있습니다.\n",
        "날짜는 중복되지 않습니다.\n",
        "중복된 온도일 경우 날짜가 빠른 것이 앞에 정렬되어야 합니다.\n"
      ],
      "metadata": {
        "id": "8DTcZfpw8RKQ"
      }
    },
    {
      "cell_type": "code",
      "source": [],
      "metadata": {
        "id": "ezCYaTbQ8Xq_"
      },
      "execution_count": null,
      "outputs": []
    },
    {
      "cell_type": "markdown",
      "source": [
        "# 타입 확인\n",
        "\n",
        "*문제 설명\n",
        "\n",
        "여러 클래스 이름과 이 이름의 인스턴스가 주어집니다. 각 인스턴스가 특정 클래스의 인스턴스인지 확인하는 코드를 작성해주세요.\n",
        "\n",
        "*제한 사항\n",
        "\n",
        "클래스는 파이썬의 기본 데이터 타입입니다.\n",
        "안에 클래스와 인스턴스 매칭이 모두 올바른 경우 True를 그 외의 경우에는 False를 반환해주세요.\n",
        "isinstance와 issubclass 함수를 사용하진 않습니다."
      ],
      "metadata": {
        "id": "gvQL2PVW8gQa"
      }
    },
    {
      "cell_type": "code",
      "source": [
        "def solution(data):\n",
        "    for i,k in data:\n",
        "        if i != type(k).__name__:\n",
        "            return False\n",
        "    return True"
      ],
      "metadata": {
        "id": "-yZWMcwO8teP"
      },
      "execution_count": null,
      "outputs": []
    },
    {
      "cell_type": "markdown",
      "source": [
        "# 숫자 배열 탐색\n",
        "\n",
        "* 문제 설명\n",
        "\n",
        "정렬된 숫자 배열과 타겟 숫자가 주어집니다. 주어진 배열에서 타겟 숫자의 위치(인덱스)를 찾는 코드를 작성해주세요. 배열에 타겟 숫자가 없는 경우 False를 반환합니다.\n",
        "\n",
        "* 제한 사항\n",
        "\n",
        "배열은 오름차순으로 정렬되어 있습니다.\n",
        "배열에 중복된 숫자는 없습니다.\n",
        "배열의 크기는 최소 1에서 최대 100까지입니다.\n"
      ],
      "metadata": {
        "id": "_tZ7hRXC80j3"
      }
    },
    {
      "cell_type": "code",
      "source": [
        "def solution(data):\n",
        "    data2 = data[1]\n",
        "    for i,k in enumerate(data[0]):\n",
        "        if data2 in data[0]:\n",
        "            if k == data2:\n",
        "                return i\n",
        "        else:\n",
        "            return False"
      ],
      "metadata": {
        "id": "xEUB7S-E85WI"
      },
      "execution_count": null,
      "outputs": []
    }
  ],
  "metadata": {
    "colab": {
      "provenance": []
    },
    "kernelspec": {
      "display_name": "Python 3",
      "name": "python3"
    },
    "language_info": {
      "name": "python"
    },
    "accelerator": "TPU"
  },
  "nbformat": 4,
  "nbformat_minor": 0
}