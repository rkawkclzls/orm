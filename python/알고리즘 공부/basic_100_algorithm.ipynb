{
  "nbformat": 4,
  "nbformat_minor": 0,
  "metadata": {
    "colab": {
      "provenance": []
    },
    "kernelspec": {
      "name": "python3",
      "display_name": "Python 3"
    },
    "language_info": {
      "name": "python"
    }
  },
  "cells": [
    {
      "cell_type": "code",
      "execution_count": null,
      "metadata": {
        "id": "4mKcyECrev8v",
        "colab": {
          "base_uri": "https://localhost:8080/"
        },
        "outputId": "db99932b-da16-4573-e599-07ba6099da3c"
      },
      "outputs": [
        {
          "output_type": "stream",
          "name": "stdout",
          "text": [
            "리스트의 길이: 5\n",
            "1번째 원소를 입력하세요:1\n",
            "2번째 원소를 입력하세요:2\n",
            "3번째 원소를 입력하세요:3\n",
            "4번째 원소를 입력하세요:4\n",
            "5번째 원소를 입력하세요:5\n",
            "생성된 리스트: [1, 2, 3, 4, 5]\n",
            "0\n"
          ]
        }
      ],
      "source": [
        "data = []\n",
        "\n",
        "\n",
        "\n",
        "\n",
        "n = int(input(\"리스트의 길이: \"))\n",
        "\n",
        "for i in range(n):\n",
        "    if n < 1 or n > 100:\n",
        "        print(\"실행할수 없습니다.\")\n",
        "    else:\n",
        "     element = int(input(f\"{i+1}번째 원소를 입력하세요:\"))\n",
        "     data.append(element)\n",
        "\n",
        "print(\"생성된 리스트:\",data)\n",
        "\n",
        "def solution(data):\n",
        "    a = 0\n",
        "    for woaks in data:\n",
        "\n",
        "        if (woaks % 2 == 1):\n",
        "             a += woaks\n",
        "\n",
        "    return a\n",
        "\n",
        "\n",
        "if __name__ == \"__main__\":\n",
        "    solution(data)\n",
        "    print(a)\n",
        "\n",
        "\n",
        "\n",
        "\n"
      ]
    },
    {
      "cell_type": "code",
      "source": [
        "def solution(data):\n",
        "    # 리스트가 비어 있으면 0을 반환\n",
        "    if not data:\n",
        "        return 0\n",
        "\n",
        "    sum_of_odds = 0\n",
        "    for number in data:\n",
        "        # 숫자가 홀수인 경우 합계에 추가\n",
        "        if number % 2 == 1:\n",
        "            sum_of_odds += number\n",
        "\n",
        "    return sum_of_odds\n"
      ],
      "metadata": {
        "id": "v5JVNn_bfABN"
      },
      "execution_count": null,
      "outputs": []
    },
    {
      "cell_type": "markdown",
      "source": [
        "# 곱하기\n",
        "\n",
        "* 문제 설명\n",
        "\n",
        "주어진 리스트를 모두 곱하는 solution 함수를 완성해주세요.\n",
        "\n",
        "* 제한 사항\n",
        "\n",
        "1 ≤ 리스트 안의 수 ≤ 100\n",
        "\n",
        "숫자 외에 다른 값은 주어지지 않습니다.\n",
        "\n",
        "각각의 값은 1차원 리스트로 주어집니다.\n",
        "\n",
        "리스트 안에 값이 없는 경우는 0으로 출력해야 합니다.\n",
        "\n",
        "\n"
      ],
      "metadata": {
        "id": "tRhHQXkPu9q4"
      }
    },
    {
      "cell_type": "code",
      "source": [
        "data = []\n",
        "\n",
        "\n",
        "\n",
        "\n",
        "n = int(input(\"리스트의 길이: \"))\n",
        "\n",
        "for i in range(n):\n",
        "    if n < 1 or n > 100:\n",
        "        print(\"실행할수 없습니다.\")\n",
        "    else:\n",
        "     element = int(input(f\"{i+1}번째 원소를 입력하세요:\"))\n",
        "     data.append(element)\n",
        "\n",
        "print(\"생성된 리스트:\",data)\n",
        "\n",
        "\n",
        "\n",
        "\n",
        "\n",
        "\n",
        "def solution(data):\n",
        "    # 리스트가 비어 있으면 0을 반환\n",
        "    if not data:\n",
        "        return 0\n",
        "    a = 1\n",
        "\n",
        "    for i in data:\n",
        "        a = a *i\n",
        "    return a\n",
        "\n",
        "if __name__ == \"__main__\":\n",
        "    result = solution(data)\n",
        "    print(result)\n",
        "\n",
        "\n"
      ],
      "metadata": {
        "colab": {
          "base_uri": "https://localhost:8080/"
        },
        "id": "DbkvWihRzRew",
        "outputId": "6c90fea2-deea-44f9-a5a3-b8203e6bcded"
      },
      "execution_count": null,
      "outputs": [
        {
          "output_type": "stream",
          "name": "stdout",
          "text": [
            "리스트의 길이: 5\n",
            "1번째 원소를 입력하세요:1\n",
            "2번째 원소를 입력하세요:2\n",
            "3번째 원소를 입력하세요:3\n",
            "4번째 원소를 입력하세요:4\n",
            "5번째 원소를 입력하세요:5\n",
            "생성된 리스트: [1, 2, 3, 4, 5]\n",
            "120\n"
          ]
        }
      ]
    },
    {
      "cell_type": "code",
      "source": [
        "def solution(data):\n",
        "    # 리스트가 비어 있으면 0을 반환\n",
        "    if not data:\n",
        "        return 0\n",
        "    multi = 1\n",
        "\n",
        "    for i in data:\n",
        "        multi = multi *i\n",
        "    return multi"
      ],
      "metadata": {
        "id": "5urJZJXZ_PkI"
      },
      "execution_count": null,
      "outputs": []
    },
    {
      "cell_type": "markdown",
      "source": [
        "# 조건 덧셈"
      ],
      "metadata": {
        "id": "qGw6TPeP_pqj"
      }
    },
    {
      "cell_type": "code",
      "source": [
        "data = []\n",
        "\n",
        "n = int(input())\n",
        "for i in range(n):\n",
        "    i = int(input())\n",
        "    data.append(i)\n",
        "\n",
        "def solution(data):\n",
        "    sum = 0\n",
        "    for woaks in data:\n",
        "        if woaks % 5 == 0 or woaks % 3 == 0:\n",
        "            sum = sum\n",
        "        else:\n",
        "            sum += woaks\n",
        "    return sum\n",
        "\n",
        "if __name__ == '__main__':\n",
        "    results = solution(data)\n",
        "    print(results)\n",
        "\n",
        "\n"
      ],
      "metadata": {
        "colab": {
          "base_uri": "https://localhost:8080/"
        },
        "id": "TKwNMKydWf99",
        "outputId": "15762146-b573-4583-82cc-0d407e43eaa7"
      },
      "execution_count": null,
      "outputs": [
        {
          "output_type": "stream",
          "name": "stdout",
          "text": [
            "5\n",
            "1\n",
            "2\n",
            "3\n",
            "4\n",
            "5\n",
            "7\n"
          ]
        }
      ]
    },
    {
      "cell_type": "code",
      "source": [
        "def solution(data):\n",
        "    sum = 0\n",
        "    for woaks in data:\n",
        "        if woaks % 5 == 0 or woaks % 3 == 0:\n",
        "            sum = sum\n",
        "        else:\n",
        "            sum += woaks\n",
        "    return sum"
      ],
      "metadata": {
        "id": "tISlJstbXq2p"
      },
      "execution_count": null,
      "outputs": []
    },
    {
      "cell_type": "markdown",
      "source": [
        "# 크리스마스 쿠키\n",
        "\n",
        "* 문제 설명\n",
        "\n",
        "라이캣은 크리스마스 선물 룰렛 게임을 하고 있습니다. 룰렛에는 '쿠키 1개'부터 '쿠키 10개'까지 값이 들어 있습니다. 룰렛은 총 3번 돌릴 수 있고, 첫번째 시도에서 나온 값은 곱하기 1을 하고, 두번째 시도에서 나온 값은 곱하기 2를 하고 세번째 시도에서 나온 값은 곱하기 3을 하기로 하였습니다. 라이캣이 가져갈 쿠키의 수를 리턴하는 함수를 완성해주세요.\n",
        "\n",
        "*제한 사항\n",
        "\n",
        "룰렛에는 '쿠키 1개'와 같은 문자열이 주어집니다.\n",
        "각각의 값은 1차원 리스트로 주어집니다.\n",
        "중복해서 같은 값을 뽑을 수 있습니다.\n"
      ],
      "metadata": {
        "id": "RCU7FXr4ZVoG"
      }
    },
    {
      "cell_type": "code",
      "source": [
        "#룰렛에는 쿠키 1개부터 10개까지 값이 들어있슴다\n",
        "#룰렛은 총 3번 돌릴 수 있습니다.\n",
        "#첫번쨰 시도에서 나온 값은 곱하기 1을하고ㅐ,\n",
        "\n",
        "data = ['쿠키 1개', '쿠키 2개', '쿠키 3개', '쿠키 4개', '쿠키 5개', '쿠키 6개', '쿠키 7개', '쿠키 8개', '쿠키 9개', '쿠키 10개' ]\n",
        "\n",
        "def solution(data):\n",
        "    import random\n",
        "    cookie_number = 0\n",
        "    cookie_sum = 0\n",
        "    a = 0\n",
        "    # 리스트는 랜덤 메서드를 사용 할수없다,\n",
        "    # data 리스트의 len을 가져와 랜덤 인덱스를 만드는 방법을 사용함\n",
        "    random_index1 = random.randrange(len(data))\n",
        "    random_index2 = random.randrange(len(data))\n",
        "    random_index3 = random.randrange(len(data))\n",
        "    # 랜덤한\n",
        "    random_data = [data[random_index1],data[random_index2],data[random_index3]]\n",
        "\n",
        "    for i in random_data:\n",
        "\n",
        "        a += 1\n",
        "\n",
        "        cookie_number = ''.join([char for char in i if char.isdigit()])\n",
        "        cookie_number = int(cookie_number)\n",
        "        print(cookie_number)\n",
        "        cookie_sum += cookie_number * (a)\n",
        "\n",
        "\n",
        "    return cookie_sum\n",
        "\n",
        "if __name__ == '__main__':\n",
        "    result = solution(data)\n",
        "    print(result)\n",
        "\n",
        "\n",
        "\n",
        "\n",
        "\n",
        "\n",
        "\n",
        "\n",
        "\n",
        "\n",
        "\n",
        "\n",
        "\n"
      ],
      "metadata": {
        "colab": {
          "base_uri": "https://localhost:8080/"
        },
        "id": "tgggEOe4Zid1",
        "outputId": "1925f03e-85b5-4b86-e128-f85753b5e213"
      },
      "execution_count": null,
      "outputs": [
        {
          "output_type": "stream",
          "name": "stdout",
          "text": [
            "4\n",
            "2\n",
            "7\n",
            "29\n"
          ]
        }
      ]
    },
    {
      "cell_type": "code",
      "source": [
        "def solution(data):\n",
        "    import random\n",
        "    cookie_number = 0\n",
        "    cookie_sum = 0\n",
        "    a = 0\n",
        "\n",
        "    random_index1 = random.randrange(len(data))\n",
        "    random_index2 = random.randrange(len(data))\n",
        "    random_index3 = random.randrange(len(data))\n",
        "\n",
        "    random_data = [data[random_index1],data[random_index2],data[random_index3]]\n",
        "\n",
        "    for i in random_data:\n",
        "\n",
        "        a += 1\n",
        "\n",
        "        cookie_number = ''.join([char for char in i if char.isdigit()])\n",
        "        cookie_number = int(cookie_number)\n",
        "        print(cookie_number)\n",
        "        cookie_sum += cookie_number * (a)\n",
        "\n",
        "\n",
        "    return cookie_sum"
      ],
      "metadata": {
        "id": "LrBRTkP3fQ57"
      },
      "execution_count": null,
      "outputs": []
    },
    {
      "cell_type": "markdown",
      "source": [
        "# 1의 갯수 반환\n",
        "\n",
        "* 문제 설명\n",
        "\n",
        "주어진 리스트의 값 중 1의 갯수를 반환하는 solution 함수를 완성해주세요."
      ],
      "metadata": {
        "id": "42MLI5bJcEXF"
      }
    },
    {
      "cell_type": "code",
      "source": [
        "data = []\n",
        "n = int(input())\n",
        "for i in range(n):\n",
        "    i = int(input())\n",
        "    data.append(i)\n",
        "\n",
        "def solution(data):\n",
        "    # 리스트가 비어 있으면 0을 반환\n",
        "    if not data:\n",
        "        return 0\n",
        "    count1 = str(data).count('1')\n",
        "    return count1\n",
        "\n",
        "if __name__ == '__main__':\n",
        "    result = solution(data)\n",
        "    print(result)\n",
        "\n",
        "\n",
        "\n",
        "\n",
        "\n",
        "\n",
        "\n"
      ],
      "metadata": {
        "colab": {
          "base_uri": "https://localhost:8080/"
        },
        "id": "2qRONkza4IN_",
        "outputId": "93bcea85-f8c5-41e5-8e74-55a29e824bd4"
      },
      "execution_count": null,
      "outputs": [
        {
          "output_type": "stream",
          "name": "stdout",
          "text": [
            "3\n",
            "1\n",
            "11\n",
            "111\n",
            "6\n"
          ]
        }
      ]
    },
    {
      "cell_type": "code",
      "source": [
        "def solution(data):\n",
        "    # 리스트가 비어 있으면 0을 반환\n",
        "    if not data:\n",
        "        return 0\n",
        "    count1 = str(data).count('1')\n",
        "    return count1\n"
      ],
      "metadata": {
        "id": "zFBAEAGYaR0e"
      },
      "execution_count": null,
      "outputs": []
    },
    {
      "cell_type": "markdown",
      "source": [
        "# 문자열 덧셈\n",
        "\n",
        "* 문제 설명\n",
        "\n",
        "주어진 문자열의 숫자를 모두 더하는  solution 함수를 완성해주세요.\n",
        "\n",
        "\n",
        "\n",
        "\n"
      ],
      "metadata": {
        "id": "UAS93E1q09Hn"
      }
    },
    {
      "cell_type": "code",
      "source": [
        "data = ['1hel2lo3']\n",
        "\n",
        "\n",
        "def solution(data):\n",
        "    data2 = []\n",
        "    for i in data:\n",
        "        for j in i:\n",
        "            if j.isdigit():\n",
        "                data2.append(int(j))\n",
        "    result = sum(data2)\n",
        "    return result\n",
        "\n",
        "solution(data)"
      ],
      "metadata": {
        "colab": {
          "base_uri": "https://localhost:8080/"
        },
        "id": "J9_9g6Zp2w8F",
        "outputId": "4e78bd0b-d84f-4133-facf-9050ecebc8c9"
      },
      "execution_count": 24,
      "outputs": [
        {
          "output_type": "execute_result",
          "data": {
            "text/plain": [
              "6"
            ]
          },
          "metadata": {},
          "execution_count": 24
        }
      ]
    },
    {
      "cell_type": "markdown",
      "source": [
        "# 업무 우선순위\n",
        "* 문제 설명\n",
        "\n",
        "라이캣은 업무 우선순위에 따라 일일 업무를 보고 있습니다.\n",
        "\n",
        "리스트 안에 업무 이름과 업무 우선순위가 함께 주어졌을 때,\n",
        "\n",
        "오름차순 업무 우선순위에 따라 업무 이름을 출력해주세요.\n",
        "\n",
        "\n",
        "\n",
        "\n"
      ],
      "metadata": {
        "id": "FTihGfwgPw_L"
      }
    },
    {
      "cell_type": "code",
      "source": [
        "data = [['A', 3], ['B', 1], ['C', 2]]\n",
        "def solution(data):\n",
        "    data = sorted(data, key = lambda x : x[1])\n",
        "    data = [ x[0] for x in data ]\n",
        "    return data\n",
        "\n",
        "solution(data)"
      ],
      "metadata": {
        "colab": {
          "base_uri": "https://localhost:8080/"
        },
        "id": "nX2X0sIvQSbP",
        "outputId": "5ad31518-6c2c-44fc-845c-c2666837ed14"
      },
      "execution_count": 10,
      "outputs": [
        {
          "output_type": "execute_result",
          "data": {
            "text/plain": [
              "['B', 'C', 'A']"
            ]
          },
          "metadata": {},
          "execution_count": 10
        }
      ]
    },
    {
      "cell_type": "markdown",
      "source": [
        "# 두 점 사이의 거리\n",
        "\n",
        "* 문제설명\n",
        "\n",
        "직선 위에 가각 점이 [1, 3,"
      ],
      "metadata": {
        "id": "QIrohBb7aWi6"
      }
    }
  ]
}