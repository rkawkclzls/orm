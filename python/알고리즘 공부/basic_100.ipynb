{
  "cells": [
    {
      "cell_type": "code",
      "execution_count": null,
      "metadata": {
        "colab": {
          "base_uri": "https://localhost:8080/"
        },
        "id": "4mKcyECrev8v",
        "outputId": "db99932b-da16-4573-e599-07ba6099da3c"
      },
      "outputs": [
        {
          "name": "stdout",
          "output_type": "stream",
          "text": [
            "리스트의 길이: 5\n",
            "1번째 원소를 입력하세요:1\n",
            "2번째 원소를 입력하세요:2\n",
            "3번째 원소를 입력하세요:3\n",
            "4번째 원소를 입력하세요:4\n",
            "5번째 원소를 입력하세요:5\n",
            "생성된 리스트: [1, 2, 3, 4, 5]\n",
            "0\n"
          ]
        }
      ],
      "source": [
        "data = []\n",
        "\n",
        "\n",
        "\n",
        "\n",
        "n = int(input(\"리스트의 길이: \"))\n",
        "\n",
        "for i in range(n):\n",
        "    if n < 1 or n > 100:\n",
        "        print(\"실행할수 없습니다.\")\n",
        "    else:\n",
        "     element = int(input(f\"{i+1}번째 원소를 입력하세요:\"))\n",
        "     data.append(element)\n",
        "\n",
        "print(\"생성된 리스트:\",data)\n",
        "\n",
        "def solution(data):\n",
        "    a = 0\n",
        "    for woaks in data:\n",
        "\n",
        "        if (woaks % 2 == 1):\n",
        "             a += woaks\n",
        "\n",
        "    return a\n",
        "\n",
        "\n",
        "if __name__ == \"__main__\":\n",
        "    solution(data)\n",
        "    print(a)\n",
        "\n",
        "\n",
        "\n",
        "\n"
      ]
    },
    {
      "cell_type": "code",
      "execution_count": null,
      "metadata": {
        "id": "v5JVNn_bfABN"
      },
      "outputs": [],
      "source": [
        "def solution(data):\n",
        "    # 리스트가 비어 있으면 0을 반환\n",
        "    if not data:\n",
        "        return 0\n",
        "\n",
        "    sum_of_odds = 0\n",
        "    for number in data:\n",
        "        # 숫자가 홀수인 경우 합계에 추가\n",
        "        if number % 2 == 1:\n",
        "            sum_of_odds += number\n",
        "\n",
        "    return sum_of_odds\n"
      ]
    },
    {
      "cell_type": "markdown",
      "metadata": {
        "id": "tRhHQXkPu9q4"
      },
      "source": [
        "# 곱하기\n",
        "\n",
        "* 문제 설명\n",
        "\n",
        "주어진 리스트를 모두 곱하는 solution 함수를 완성해주세요.\n",
        "\n",
        "* 제한 사항\n",
        "\n",
        "1 ≤ 리스트 안의 수 ≤ 100\n",
        "\n",
        "숫자 외에 다른 값은 주어지지 않습니다.\n",
        "\n",
        "각각의 값은 1차원 리스트로 주어집니다.\n",
        "\n",
        "리스트 안에 값이 없는 경우는 0으로 출력해야 합니다.\n",
        "\n",
        "\n"
      ]
    },
    {
      "cell_type": "code",
      "execution_count": null,
      "metadata": {
        "colab": {
          "base_uri": "https://localhost:8080/"
        },
        "id": "DbkvWihRzRew",
        "outputId": "6c90fea2-deea-44f9-a5a3-b8203e6bcded"
      },
      "outputs": [
        {
          "name": "stdout",
          "output_type": "stream",
          "text": [
            "리스트의 길이: 5\n",
            "1번째 원소를 입력하세요:1\n",
            "2번째 원소를 입력하세요:2\n",
            "3번째 원소를 입력하세요:3\n",
            "4번째 원소를 입력하세요:4\n",
            "5번째 원소를 입력하세요:5\n",
            "생성된 리스트: [1, 2, 3, 4, 5]\n",
            "120\n"
          ]
        }
      ],
      "source": [
        "data = []\n",
        "\n",
        "\n",
        "\n",
        "\n",
        "n = int(input(\"리스트의 길이: \"))\n",
        "\n",
        "for i in range(n):\n",
        "    if n < 1 or n > 100:\n",
        "        print(\"실행할수 없습니다.\")\n",
        "    else:\n",
        "     element = int(input(f\"{i+1}번째 원소를 입력하세요:\"))\n",
        "     data.append(element)\n",
        "\n",
        "print(\"생성된 리스트:\",data)\n",
        "\n",
        "\n",
        "\n",
        "\n",
        "\n",
        "\n",
        "def solution(data):\n",
        "    # 리스트가 비어 있으면 0을 반환\n",
        "    if not data:\n",
        "        return 0\n",
        "    a = 1\n",
        "\n",
        "    for i in data:\n",
        "        a = a *i\n",
        "    return a\n",
        "\n",
        "if __name__ == \"__main__\":\n",
        "    result = solution(data)\n",
        "    print(result)\n",
        "\n",
        "\n"
      ]
    },
    {
      "cell_type": "code",
      "execution_count": null,
      "metadata": {
        "id": "5urJZJXZ_PkI"
      },
      "outputs": [],
      "source": [
        "def solution(data):\n",
        "    # 리스트가 비어 있으면 0을 반환\n",
        "    if not data:\n",
        "        return 0\n",
        "    multi = 1\n",
        "\n",
        "    for i in data:\n",
        "        multi = multi *i\n",
        "    return multi"
      ]
    },
    {
      "cell_type": "markdown",
      "metadata": {
        "id": "qGw6TPeP_pqj"
      },
      "source": [
        "# 조건 덧셈"
      ]
    },
    {
      "cell_type": "code",
      "execution_count": 7,
      "metadata": {
        "colab": {
          "base_uri": "https://localhost:8080/"
        },
        "id": "TKwNMKydWf99",
        "outputId": "15762146-b573-4583-82cc-0d407e43eaa7"
      },
      "outputs": [
        {
          "name": "stdout",
          "output_type": "stream",
          "text": [
            "5\n",
            "1\n",
            "2\n",
            "3\n",
            "4\n",
            "5\n",
            "7\n"
          ]
        }
      ],
      "source": [
        "data = []\n",
        "\n",
        "n = int(input())\n",
        "for i in range(n):\n",
        "    i = int(input())\n",
        "    data.append(i)\n",
        "\n",
        "def solution(data):\n",
        "    sum = 0\n",
        "    for woaks in data:\n",
        "        if woaks % 5 == 0 or woaks % 3 == 0:\n",
        "            sum = sum\n",
        "        else:\n",
        "            sum += woaks\n",
        "    return sum\n",
        "\n",
        "if __name__ == '__main__':\n",
        "    results = solution(data)\n",
        "    print(results)\n",
        "\n",
        "\n"
      ]
    },
    {
      "cell_type": "code",
      "execution_count": 9,
      "metadata": {
        "id": "tISlJstbXq2p"
      },
      "outputs": [],
      "source": [
        "def solution(data):\n",
        "    sum = 0\n",
        "    for woaks in data:\n",
        "        if woaks % 5 == 0 or woaks % 3 == 0:\n",
        "            sum = sum\n",
        "        else:\n",
        "            sum += woaks\n",
        "    return sum"
      ]
    },
    {
      "cell_type": "markdown",
      "metadata": {
        "id": "RCU7FXr4ZVoG"
      },
      "source": [
        "# 크리스마스 쿠키\n",
        "\n",
        "* 문제 설명\n",
        "\n",
        "라이캣은 크리스마스 선물 룰렛 게임을 하고 있습니다. 룰렛에는 '쿠키 1개'부터 '쿠키 10개'까지 값이 들어 있습니다. 룰렛은 총 3번 돌릴 수 있고, 첫번째 시도에서 나온 값은 곱하기 1을 하고, 두번째 시도에서 나온 값은 곱하기 2를 하고 세번째 시도에서 나온 값은 곱하기 3을 하기로 하였습니다. 라이캣이 가져갈 쿠키의 수를 리턴하는 함수를 완성해주세요.\n",
        "\n",
        "*제한 사항\n",
        "\n",
        "룰렛에는 '쿠키 1개'와 같은 문자열이 주어집니다.\n",
        "각각의 값은 1차원 리스트로 주어집니다.\n",
        "중복해서 같은 값을 뽑을 수 있습니다.\n"
      ]
    },
    {
      "cell_type": "code",
      "execution_count": 9,
      "metadata": {
        "colab": {
          "base_uri": "https://localhost:8080/"
        },
        "id": "tgggEOe4Zid1",
        "outputId": "1925f03e-85b5-4b86-e128-f85753b5e213"
      },
      "outputs": [
        {
          "name": "stdout",
          "output_type": "stream",
          "text": [
            "4\n",
            "2\n",
            "7\n",
            "29\n"
          ]
        }
      ],
      "source": [
        "#룰렛에는 쿠키 1개부터 10개까지 값이 들어있슴다\n",
        "#룰렛은 총 3번 돌릴 수 있습니다.\n",
        "#첫번쨰 시도에서 나온 값은 곱하기 1을하고ㅐ,\n",
        "\n",
        "data = ['쿠키 1개', '쿠키 2개', '쿠키 3개', '쿠키 4개', '쿠키 5개', '쿠키 6개', '쿠키 7개', '쿠키 8개', '쿠키 9개', '쿠키 10개' ]\n",
        "\n",
        "def solution(data):\n",
        "    import random\n",
        "    cookie_number = 0\n",
        "    cookie_sum = 0\n",
        "    a = 0\n",
        "    # 리스트는 랜덤 메서드를 사용 할수없다,\n",
        "    # data 리스트의 len을 가져와 랜덤 인덱스를 만드는 방법을 사용함\n",
        "    random_index1 = random.randrange(len(data))\n",
        "    random_index2 = random.randrange(len(data))\n",
        "    random_index3 = random.randrange(len(data))\n",
        "    # 랜덤한\n",
        "    random_data = [data[random_index1],data[random_index2],data[random_index3]]\n",
        "\n",
        "    for i in random_data:\n",
        "\n",
        "        a += 1\n",
        "\n",
        "        cookie_number = ''.join([char for char in i if char.isdigit()])\n",
        "        cookie_number = int(cookie_number)\n",
        "        print(cookie_number)\n",
        "        cookie_sum += cookie_number * (a)\n",
        "\n",
        "\n",
        "    return cookie_sum\n",
        "\n",
        "if __name__ == '__main__':\n",
        "    result = solution(data)\n",
        "    print(result)\n",
        "\n",
        "\n",
        "\n",
        "\n",
        "\n",
        "\n",
        "\n",
        "\n",
        "\n",
        "\n",
        "\n",
        "\n",
        "\n"
      ]
    },
    {
      "cell_type": "code",
      "execution_count": 10,
      "metadata": {
        "id": "LrBRTkP3fQ57"
      },
      "outputs": [],
      "source": [
        "def solution(data):\n",
        "    import random\n",
        "    cookie_number = 0\n",
        "    cookie_sum = 0\n",
        "    a = 0\n",
        "\n",
        "    random_index1 = random.randrange(len(data))\n",
        "    random_index2 = random.randrange(len(data))\n",
        "    random_index3 = random.randrange(len(data))\n",
        "\n",
        "    random_data = [data[random_index1],data[random_index2],data[random_index3]]\n",
        "\n",
        "    for i in random_data:\n",
        "\n",
        "        a += 1\n",
        "\n",
        "        cookie_number = ''.join([char for char in i if char.isdigit()])\n",
        "        cookie_number = int(cookie_number)\n",
        "        print(cookie_number)\n",
        "        cookie_sum += cookie_number * (a)\n",
        "\n",
        "\n",
        "    return cookie_sum"
      ]
    },
    {
      "cell_type": "markdown",
      "metadata": {
        "id": "42MLI5bJcEXF"
      },
      "source": [
        "# 1의 갯수 반환\n",
        "\n",
        "* 문제 설명\n",
        "\n",
        "주어진 리스트의 값 중 1의 갯수를 반환하는 solution 함수를 완성해주세요."
      ]
    },
    {
      "cell_type": "code",
      "execution_count": 10,
      "metadata": {
        "colab": {
          "base_uri": "https://localhost:8080/"
        },
        "id": "2qRONkza4IN_",
        "outputId": "93bcea85-f8c5-41e5-8e74-55a29e824bd4"
      },
      "outputs": [
        {
          "name": "stdout",
          "output_type": "stream",
          "text": [
            "3\n",
            "1\n",
            "11\n",
            "111\n",
            "6\n"
          ]
        }
      ],
      "source": [
        "data = []\n",
        "n = int(input())\n",
        "for i in range(n):\n",
        "    i = int(input())\n",
        "    data.append(i)\n",
        "\n",
        "def solution(data):\n",
        "    # 리스트가 비어 있으면 0을 반환\n",
        "    if not data:\n",
        "        return 0\n",
        "    count1 = str(data).count('1')\n",
        "    return count1\n",
        "\n",
        "if __name__ == '__main__':\n",
        "    result = solution(data)\n",
        "    print(result)\n",
        "\n",
        "\n",
        "\n",
        "\n",
        "\n",
        "\n",
        "\n"
      ]
    },
    {
      "cell_type": "code",
      "execution_count": null,
      "metadata": {
        "id": "zFBAEAGYaR0e"
      },
      "outputs": [],
      "source": [
        "def solution(data):\n",
        "    # 리스트가 비어 있으면 0을 반환\n",
        "    if not data:\n",
        "        return 0\n",
        "    count1 = str(data).count('1')\n",
        "    return count1\n"
      ]
    },
    {
      "cell_type": "markdown",
      "metadata": {
        "id": "UAS93E1q09Hn"
      },
      "source": [
        "# 문자열 덧셈\n",
        "\n",
        "* 문제 설명\n",
        "\n",
        "주어진 문자열의 숫자를 모두 더하는  solution 함수를 완성해주세요.\n",
        "\n",
        "\n",
        "\n",
        "\n"
      ]
    },
    {
      "cell_type": "code",
      "execution_count": 2,
      "metadata": {
        "colab": {
          "base_uri": "https://localhost:8080/"
        },
        "id": "J9_9g6Zp2w8F",
        "outputId": "74f017dc-6f21-4e1b-8f45-cff8a92e9d5d"
      },
      "outputs": [
        {
          "name": "stdout",
          "output_type": "stream",
          "text": [
            "3\n",
            "1\n",
            "11\n",
            "111\n",
            "[1, 11, 111]\n"
          ]
        }
      ],
      "source": [
        "data = []\n",
        "n = int(input())\n",
        "for i in range(n):\n",
        "    i = input()\n",
        "    data.append(i)\n",
        "\n",
        "# def solution(data):\n",
        "# if not data:\n",
        "#     return 0\n",
        "for a in data:\n",
        "\n",
        "\n",
        "\n",
        "\n",
        "\n"
      ]
    },
    {
      "cell_type": "code",
      "execution_count": null,
      "metadata": {
        "id": "FTihGfwgPw_L"
      },
      "outputs": [],
      "source": [
        "data = [-1 , -2, -3, -2, -1 ]\n",
        "data3 = []\n",
        "print(len(data))\n",
        "\n",
        "\n",
        "\n",
        "\n",
        "def solution(data):\n",
        "    sum_data = []\n",
        "    for i in range(len(data)):\n",
        "        for j in range(len(data)):\n",
        "         new_data = data[i: (len(data)- j)] \n",
        "         sum_data.append(sum(new_data))\n",
        "    return max(sum_data)\n",
        "\n",
        "print(solution(data))\n"
      ]
    },
    {
      "cell_type": "code",
      "execution_count": null,
      "metadata": {},
      "outputs": [],
      "source": [
        "def solution(N):\n",
        "    sieve = [True] * (N+1)  # 모든 수를 소수로 가정, 0과 1은 소수가 아니므로 False로 설정될 것임\n",
        "    m = int(N ** 0.5)  # N의 제곱근까지만 확인하면 됨\n",
        "    for i in range(2, m+1):\n",
        "        if sieve[i]:  # i가 소수인 경우\n",
        "            for j in range(i+i, N+1, i):  # i의 배수들을 False로 설정\n",
        "                sieve[j] = False\n",
        "    # 소수의 개수를 세어 반환 (0과 1은 소수가 아니므로 제외)\n",
        "    return len([i for i in range(2, N+1) if sieve[i]])\n",
        "\n",
        "# 입력 예제\n",
        "print(solution(10))  # 출력: 4\n",
        "print(solution(5))   # 출력: 3\n"
      ]
    },
    {
      "cell_type": "code",
      "execution_count": null,
      "metadata": {},
      "outputs": [],
      "source": []
    }
  ],
  "metadata": {
    "colab": {
      "provenance": []
    },
    "kernelspec": {
      "display_name": "Python 3",
      "name": "python3"
    },
    "language_info": {
      "name": "python"
    }
  },
  "nbformat": 4,
  "nbformat_minor": 0
}
