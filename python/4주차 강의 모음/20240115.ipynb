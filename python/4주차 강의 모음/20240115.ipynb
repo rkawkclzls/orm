{
  "nbformat": 4,
  "nbformat_minor": 0,
  "metadata": {
    "colab": {
      "provenance": []
    },
    "kernelspec": {
      "name": "python3",
      "display_name": "Python 3"
    },
    "language_info": {
      "name": "python"
    }
  },
  "cells": [
    {
      "cell_type": "code",
      "execution_count": null,
      "metadata": {
        "colab": {
          "base_uri": "https://localhost:8080/",
          "height": 54
        },
        "id": "ISinuqhvgP54",
        "outputId": "de0b7cf7-a008-4c82-c345-9be5a97d809b"
      },
      "outputs": [
        {
          "output_type": "stream",
          "name": "stdout",
          "text": [
            "2024/1/15\n"
          ]
        },
        {
          "output_type": "execute_result",
          "data": {
            "text/plain": [
              "'2024/01/15'"
            ],
            "application/vnd.google.colaboratory.intrinsic+json": {
              "type": "string"
            }
          },
          "metadata": {},
          "execution_count": 6
        }
      ],
      "source": [
        "from datetime import datetime\n",
        "\n",
        "datetime.now()\n",
        "datetime.now().date()\n",
        "datetime.now().year\n",
        "datetime.now().month\n",
        "datetime.now().day\n",
        "datetime.now().hour\n",
        "datetime.now().minute\n",
        "\n",
        "d = datetime.now()\n",
        "print(f'{d.year}/{d.month}/{d.day}')\n",
        "\n",
        "d.strftime(\"올해 연도는 %Y!\")\n",
        "d.strftime(\"%Y/%m/%d\") # 가장 많이 사용하는 date format,하나만 기억해야 한다면 이것을 기억해주세요!"
      ]
    },
    {
      "cell_type": "code",
      "source": [
        "from datetime import datetime\n",
        "\n",
        "class User:\n",
        "    user_count = 0\n",
        "    gender = ('남', '여')\n",
        "\n",
        "    def __init__(self, name, joindate, gender, age, email, password):\n",
        "        self.joindate = joindate\n",
        "        self.accessdate = joindate\n",
        "        self.name = name\n",
        "        self.gender = gender\n",
        "        self.age = age\n",
        "        self.email = email\n",
        "        self.password = password # 실무에서 이렇게 저장 절대 안합니다.\n",
        "        # (Django에서도 이렇게 저장해서 오류나는 경우 많습니다.)\n",
        "\n",
        "        # self.password = 39743FFC/FB179CEB/A590B68F/FF1A7C65/A9DB72B3/A5AD63E/E01A66C6/896A07311 + salt\n",
        "        # Django에서도 sha256을 사용합니다. 은행권에서는 이 알고리즘이 깨졌다고 보고 있습니다.\n",
        "        # sha512를 사용하려 노력을 합니다.\n",
        "        # MD5라는 알고리즘을 암호화 알고리즘으로 많이 사용했었는데 이게 깨졌습니다. (레인보우 어택)\n",
        "\n",
        "user1 = User('이호준', '2024/01/15', '남', 15, 'hojun@gmail.com', '1q2w3e4r!')\n",
        "user1.name\n",
        "user1.accessdate\n",
        "\n",
        "User.user_count = 1\n",
        "\n",
        "user2 = User('홍길동', '2024/01/15', '남', 30, 'gildong@gmail.com', '1q2w3e4r!!')\n",
        "user2.name\n",
        "User.user_count = 2\n",
        "\n",
        "user1.user_count\n",
        "\n",
        "# 무엇을 알 수 있나요? 실제로 class와 인스턴스의 메모리 영역은 교집합 상태\n",
        "# 한 곳에서 수정이 되면 모두 수정이 됩니다!\n",
        "# 그래서 처음에 클래스를 설계하실 때 모든 인스턴스에 있을 변수(클래스 변수)와\n",
        "# 인스턴스에만 있는 변수(인스턴스 변수)를 나누는 것이 매우 중요합니다!"
      ],
      "metadata": {
        "colab": {
          "base_uri": "https://localhost:8080/"
        },
        "id": "fZ5u3p2ugbMw",
        "outputId": "4abf757e-cf96-489f-893b-e7c985a333f1"
      },
      "execution_count": null,
      "outputs": [
        {
          "output_type": "execute_result",
          "data": {
            "text/plain": [
              "2"
            ]
          },
          "metadata": {},
          "execution_count": 8
        }
      ]
    },
    {
      "cell_type": "code",
      "source": [
        "from datetime import datetime\n",
        "\n",
        "class User:\n",
        "    user_count = 0\n",
        "    gender = ('남', '여')\n",
        "\n",
        "    def __init__(self, name, joindate, gender, age, email, password):\n",
        "        self.joindate = joindate\n",
        "        self.accessdate = joindate\n",
        "        self.name = name\n",
        "        self.gender = gender\n",
        "        self.age = age\n",
        "        self.email = email\n",
        "        self.password = password\n",
        "\n",
        "    def change_password(self, password): # django의 user.set_password('비밀번호')와 비슷한 역할\n",
        "        self.password = password\n",
        "        self.accessdate = datetime.now().strftime('%Y/%m/%d')\n",
        "\n",
        "    def update_email(self, email):\n",
        "        self.email = email\n",
        "        self.accessdate = datetime.now().strf\n",
        "\n",
        "    def display_profile(self):\n",
        "        print(f'name: {self.name} ')\n",
        "        print(f'joindate: {self.joindate} ')\n",
        "        print(f'accessdate: {self.accessdate} ')\n",
        "\n",
        "    def __str__(self):\n",
        "        return self.name\n",
        "    def __repr__(self):\n",
        "        return self.name\n",
        "user1 = User('이호준', '2024/01/15', '남', 15, 'hojun@gmail.com', '1q2w3e4r!')\n",
        "user2 = User('홍길동', '2024/01/15', '남', 30, 'gildong@gmail.com', '1q2w3e4r!!')\n",
        "\n",
        "\n",
        "\n",
        "\n"
      ],
      "metadata": {
        "id": "SVJDGj96mapM",
        "colab": {
          "base_uri": "https://localhost:8080/"
        },
        "outputId": "0c6dad6a-368e-44ae-fab8-ae7fd433faf5"
      },
      "execution_count": 4,
      "outputs": [
        {
          "output_type": "execute_result",
          "data": {
            "text/plain": [
              "이호준"
            ]
          },
          "metadata": {},
          "execution_count": 4
        }
      ]
    },
    {
      "cell_type": "code",
      "source": [
        "def f():\n",
        "    return\n",
        "\n",
        "f() # 반환값이 None이면 출력을 안합니다."
      ],
      "metadata": {
        "id": "ZOveGEPsp9BX"
      },
      "execution_count": 5,
      "outputs": []
    },
    {
      "cell_type": "code",
      "source": [
        "# 수정된 버전\n",
        "# 이해 X, 복습 X\n",
        "import hashlib\n",
        "import re\n",
        "from datetime import datetime\n",
        "\n",
        "class User:\n",
        "    user_count = 0\n",
        "    gender = ('남', '여')\n",
        "\n",
        "    def __init__(self, name, joindate, gender, age, email, password):\n",
        "        self.joindate = joindate\n",
        "        self.accessdate = joindate\n",
        "        self.name = name\n",
        "        self.gender = gender\n",
        "        self.age = age\n",
        "        self.email = email\n",
        "        self.password = self._hash_password(password)\n",
        "\n",
        "    def _hash_password(self, password):\n",
        "        return hashlib.sha256(password.encode()).hexdigest()\n",
        "\n",
        "    def change_password(self, password): # django의 user.set_password('비밀번호')와 비슷한 역할\n",
        "        if len(password) < 8: # validate 또는 유효성 검증이라고 합니다.\n",
        "            print('너무 짧습니다!')\n",
        "            return\n",
        "        self.password = self._hash_password(password)\n",
        "        self.accessdate = datetime.now().strftime('%Y/%m/%d')\n",
        "\n",
        "    def update_email(self, email):\n",
        "        if self._validate_email(email):\n",
        "            self.email = email\n",
        "            self.accessdate = datetime.now().strftime('%Y/%m/%d')\n",
        "        else:\n",
        "            print(\"유효하지 않은 이메일 주소입니다.\")\n",
        "\n",
        "    def _validate_email(self, email):\n",
        "        pattern = r\"[\\w.-]+@[\\w.-]+\\.\\w+\"\n",
        "        return re.match(pattern, email) is not None\n",
        "\n",
        "    def display_profile(self):\n",
        "        print(f'name: {self.name}')\n",
        "        print(f'joindate: {self.joindate}')\n",
        "        print(f'accessdate: {self.accessdate}')\n",
        "        print(f'email: {self.email}')\n",
        "\n",
        "    def __str__(self):\n",
        "        return self.name\n",
        "\n",
        "    def __repr__(self):\n",
        "        return self.name\n",
        "\n",
        "user1 = User('이호준', '2024/01/15', '남', 15, 'hojun@gmail.com', '1q2w3e4r!')\n",
        "user2 = User('홍길동', '2024/01/15', '남', 30, 'gildong@gmail.com', '1q2w3e4r!!')\n",
        "\n",
        "print(user1)\n",
        "user1.display_profile()\n",
        "user1.password"
      ],
      "metadata": {
        "colab": {
          "base_uri": "https://localhost:8080/",
          "height": 127
        },
        "id": "mW4cQz6GtxhP",
        "outputId": "69972a52-17f4-4d70-98b9-26b4944796d9"
      },
      "execution_count": null,
      "outputs": [
        {
          "output_type": "stream",
          "name": "stdout",
          "text": [
            "이호준\n",
            "name: 이호준\n",
            "joindate: 2024/01/15\n",
            "accessdate: 2024/01/15\n",
            "email: hojun@gmail.com\n"
          ]
        },
        {
          "output_type": "execute_result",
          "data": {
            "text/plain": [
              "'febd93f04bda1aec0d374f8fd014d062525934feb1f1b81ee7c64d61f66b84b1'"
            ],
            "application/vnd.google.colaboratory.intrinsic+json": {
              "type": "string"
            }
          },
          "metadata": {},
          "execution_count": 10
        }
      ]
    },
    {
      "cell_type": "code",
      "source": [
        "# 온라인 쇼핑몰에서 장바구니에 넣기\n",
        "\n",
        "class Cart:\n",
        "    def __init__(self):\n",
        "        self.items = []\n",
        "\n",
        "    def add_item(self, item, count):\n",
        "        self.items.append({\n",
        "            '물품': item,\n",
        "            '갯수': count,\n",
        "        })\n",
        "\n",
        "    def total_price(self):\n",
        "        total_sum = 0\n",
        "        for i in self.items:\n",
        "            total_sum += i['물품'].price * i['갯수']\n",
        "        return format(total_sum, ',')\n",
        "\n",
        "class Product:\n",
        "    def __init__(self, product_name, price):\n",
        "        self.product_name = product_name\n",
        "        self.price = price\n",
        "\n",
        "    def __str__(self):\n",
        "        return self.product_name\n",
        "\n",
        "    def __repr__(self):\n",
        "        return self.product_name\n",
        "\n",
        "로지텍키보드 = Product('로지텍키보드', 50000)\n",
        "LG모니터 = Product('LG모니터', 300000)\n",
        "그래픽카드4090 = Product('GTX4090', 2000000)\n",
        "\n",
        "hojun_cart = Cart()\n",
        "hojun_cart.add_item(로지텍키보드, 10)\n",
        "hojun_cart.add_item(LG모니터, 10)\n",
        "hojun_cart.add_item(그래픽카드4090, 2)\n",
        "hojun_cart.items\n",
        "# hojun_cart.total_price()"
      ],
      "metadata": {
        "colab": {
          "base_uri": "https://localhost:8080/"
        },
        "id": "ukk0SSmEul6p",
        "outputId": "b64993db-3bc2-4905-cb73-3842288c3eac"
      },
      "execution_count": 6,
      "outputs": [
        {
          "output_type": "execute_result",
          "data": {
            "text/plain": [
              "[{'물품': 로지텍키보드, '갯수': 10}, {'물품': LG모니터, '갯수': 10}, {'물품': GTX4090, '갯수': 2}]"
            ]
          },
          "metadata": {},
          "execution_count": 6
        }
      ]
    },
    {
      "cell_type": "markdown",
      "source": [
        "# 이론"
      ],
      "metadata": {
        "id": "cJcAYP0pw4Jh"
      }
    },
    {
      "cell_type": "code",
      "source": [
        "# 클래스 메서드\n",
        "# 클래스 메서드는 클래스 변수를 변경하고 싶을 때 사용합니다.\n",
        "# 주의해야 할 점이 첫번째 인자로 오는 cls는 관습으로 고정입니다.\n",
        "# self가 a로 바꾸면 작동은 하지만 관습적으로 안되는 것처럼 cls도 바꾸시면 안됩니다.\n",
        "# cls는 class를 나타냅니다.\n",
        "\n",
        "class MyClass:\n",
        "    count = 0\n",
        "\n",
        "    @classmethod\n",
        "    def increment(cls):\n",
        "        cls.count += 1\n",
        "\n",
        "MyClass.increment()\n",
        "print(MyClass.count)  # 출력: 1"
      ],
      "metadata": {
        "colab": {
          "base_uri": "https://localhost:8080/"
        },
        "id": "m-G_fqpqzidx",
        "outputId": "19cab549-4fb7-4a61-f0a1-352da3469ae4"
      },
      "execution_count": null,
      "outputs": [
        {
          "output_type": "stream",
          "name": "stdout",
          "text": [
            "1\n"
          ]
        }
      ]
    },
    {
      "cell_type": "code",
      "source": [
        "# 정적 메서드\n",
        "# 언제 쓰는냐?\n",
        "# self로 내부 변수에 접근이 안되서\n",
        "# 할인률,책 클래스 만든 것 중 할인률 같이 관련은 있는데 밖으로 함수를 빼기 부담스러운 것들을\n",
        "# 이렇게 사용합니다.\n",
        "\n",
        "class Myclass:\n",
        "    @staticmethod\n",
        "    def my_method(x, y):\n",
        "        return x + y\n",
        "\n",
        "print(Myclass.my_method(5, 3)) # 출력: 8"
      ],
      "metadata": {
        "colab": {
          "base_uri": "https://localhost:8080/"
        },
        "id": "mhiLSwV6zkAM",
        "outputId": "ed915c55-bc10-42b1-ba85-58e2d3baee25"
      },
      "execution_count": null,
      "outputs": [
        {
          "output_type": "stream",
          "name": "stdout",
          "text": [
            "8\n"
          ]
        }
      ]
    },
    {
      "cell_type": "code",
      "source": [
        "class Book:\n",
        "    def __init__(self, name, price):\n",
        "        self.name = name\n",
        "        self.price = price\n",
        "\n",
        "    @staticmethod\n",
        "    def 할인율(원가, 할인):\n",
        "        return 원가 * (1 - (할인/10))\n",
        "\n",
        "Book.할인율(9000, 10) # 밖으로 뺄 수 있는 함수이고, 굳이 안에 들어가 필요가 없죠?\n",
        "# 그런데 할인률은 Book과 연관이 있습니다.\n",
        "# 이렇게 코딩을 하시면 유지보수하기가 좋습니다."
      ],
      "metadata": {
        "colab": {
          "base_uri": "https://localhost:8080/"
        },
        "id": "7OwaF4AQ0lI4",
        "outputId": "8d8aed5f-a8e1-400c-d236-5e2afb1ab7f7"
      },
      "execution_count": null,
      "outputs": [
        {
          "output_type": "execute_result",
          "data": {
            "text/plain": [
              "0.0"
            ]
          },
          "metadata": {},
          "execution_count": 24
        }
      ]
    },
    {
      "cell_type": "code",
      "source": [
        "# 비권장하는 케이스\n",
        "\n",
        "class Book:\n",
        "    def __init__(self, name, price):\n",
        "        self.name = name\n",
        "        self.price = price\n",
        "\n",
        "def 할인율(원가, 할인):\n",
        "    return 원가 * (1 - (할인/10))\n",
        "\n",
        "book1 = Book('python 100제', 9000)\n",
        "\n",
        "할인율(book1.price, 10)"
      ],
      "metadata": {
        "colab": {
          "base_uri": "https://localhost:8080/"
        },
        "id": "zBA5R9WU1Mhm",
        "outputId": "ed97a6e4-2510-4625-ab0b-97a95143ae95"
      },
      "execution_count": null,
      "outputs": [
        {
          "output_type": "execute_result",
          "data": {
            "text/plain": [
              "0.0"
            ]
          },
          "metadata": {},
          "execution_count": 23
        }
      ]
    },
    {
      "cell_type": "code",
      "source": [
        "# 중요도 높지 않음\n",
        "# 별표 0.5\n",
        "# 속성 접근자 {property}\n",
        "\n",
        "class Person:\n",
        "    def __init__(self, first_name, last_name):\n",
        "        self._first_name = first_name\n",
        "        self._last_name = last_name\n",
        "\n",
        "    @property\n",
        "    def full_name(self): # 메서드를 속성처럼 사용할 수 있음.\n",
        "        return f'{self._first_name}{self._last_name}'\n",
        "\n",
        "licat = Person('li', 'cat')\n",
        "print(licat._first_name)\n",
        "print(licat._last_name)\n",
        "print(licat.full_name)\n",
        "# print(licat.full_name())"
      ],
      "metadata": {
        "colab": {
          "base_uri": "https://localhost:8080/"
        },
        "id": "B7MhRvUt1hrX",
        "outputId": "01fd508d-84bf-4240-b491-2a0943cdbf2e"
      },
      "execution_count": null,
      "outputs": [
        {
          "output_type": "stream",
          "name": "stdout",
          "text": [
            "li\n",
            "cat\n",
            "licat\n"
          ]
        }
      ]
    },
    {
      "cell_type": "code",
      "source": [
        "# 덕타이핑\n",
        "# https://world.weniv.co.kr/\n",
        "# licat.move()\n",
        "# move() -> 직관적이고 움직이고 싶을 뿐\n",
        "\n",
        "# 덕타이핑\n",
        "# https://world.weniv.co.kr/\n",
        "\n",
        "# licat.move()\n",
        "# move() => 직관적이고 누가 움직이는지는 알고 싶지 않고 주인공을 앞으로 한 칸 움직이고 싶다.\n",
        "\n",
        "class Duck:\n",
        "    def quack(self):\n",
        "        print('꽥꽥!')\n",
        "\n",
        "class Person:\n",
        "    def quack(self):\n",
        "        print(\"안녕하세요!\")\n",
        "\n",
        "def quack(obj):\n",
        "    obj.quack()\n",
        "\n",
        "duck = Duck()\n",
        "person = Person()\n",
        "\n",
        "quack(duck)  # 출력: 꽥꽥! duck.quack() 대신 quack(duck)를 사용하겠다.\n",
        "quack(person)  # 출력: 안녕하세요! person.quack() 대신 quack(person)를 사용하겠다."
      ],
      "metadata": {
        "id": "sPlAzjTW2GAF",
        "colab": {
          "base_uri": "https://localhost:8080/"
        },
        "outputId": "6a2fb705-0c56-4f56-efa8-e3da31549e0e"
      },
      "execution_count": 7,
      "outputs": [
        {
          "output_type": "stream",
          "name": "stdout",
          "text": [
            "꽥꽥!\n",
            "안녕하세요!\n"
          ]
        }
      ]
    },
    {
      "cell_type": "code",
      "source": [
        "# 오버라이딩\n",
        "\n",
        "class Animal:\n",
        "    def sound(self):\n",
        "        print(\"기본 동물 울음 소리, 악!\")\n",
        "\n",
        "class Dog(Animal):\n",
        "    def sound(self):\n",
        "        print(\"왈왈!\")\n",
        "\n",
        "class Cat(Animal):\n",
        "    def sound(self):\n",
        "        print(\"냐옹!\")"
      ],
      "metadata": {
        "id": "JWGho5m03SAX"
      },
      "execution_count": null,
      "outputs": []
    },
    {
      "cell_type": "code",
      "source": [
        "# 오버라이딩\n",
        "# 자식이 부모의 메서드를 덮어 쓰는 것\n",
        "\n",
        "class Animal:\n",
        "    def sound(self):\n",
        "        print(\"기본 동물 울음 소리, 악!\")\n",
        "\n",
        "class Dog(Animal):\n",
        "    def sound(self):\n",
        "        print(\"왈왈!\")\n",
        "\n",
        "class Cat(Animal):\n",
        "    def sound(self):\n",
        "        print(\"냐옹!\")\n",
        "\n",
        "# super()를 사용해서 부모의 메서드를 사용 할 수 있습니다.\n",
        "class Bird(Animal):\n",
        "    def sound(self):\n",
        "        super().sound()\n",
        "        print(\"짹짹!\")\n",
        "\n",
        "b = Bird()\n",
        "b.sound()\n",
        "\n",
        "class Person:\n",
        "    def __init__(self, name):\n",
        "        self.name = name\n",
        "\n",
        "class Student(Person):\n",
        "    def __init__(self, name, student_id):\n",
        "        super().__init__(name)  # 부모 클래스의 __init__ 메서드 호출\n",
        "        self.student_id = student_id\n",
        "\n",
        "s = Student(\"Alice\", \"S12345\")\n",
        "print(s.name)        # 출력: Alice\n",
        "print(s.student_id)  # 출력: S12345"
      ],
      "metadata": {
        "colab": {
          "base_uri": "https://localhost:8080/"
        },
        "id": "wrO632Xs4qgW",
        "outputId": "1e6055f6-16fd-45c9-d622-a1a0c9c0d626"
      },
      "execution_count": null,
      "outputs": [
        {
          "output_type": "stream",
          "name": "stdout",
          "text": [
            "기본 동물 울음 소리, 악!\n",
            "짹짹!\n",
            "Alice\n",
            "S12345\n"
          ]
        }
      ]
    },
    {
      "cell_type": "code",
      "source": [
        "class Person:\n",
        "    def __init__(self, name):\n",
        "        self.name = name\n",
        "\n",
        "class Student(Person):\n",
        "    def __init__(self, name, student_id):\n",
        "        super().__init__(name)  # 부모 클래스의 __init__ 메서드 호출\n",
        "        # self.name = name 위 코드와 이코드는 동일합니다.\n",
        "        self.student_id = student_id\n",
        "\n",
        "s = Student(\"Alice\", \"S12345\")\n",
        "print(s.name)        # 출력: Alice\n",
        "print(s.student_id)  # 출력: S12345"
      ],
      "metadata": {
        "colab": {
          "base_uri": "https://localhost:8080/"
        },
        "id": "P82lIHIl8TOI",
        "outputId": "48d12db9-16ec-49b6-d513-a840384a37a2"
      },
      "execution_count": null,
      "outputs": [
        {
          "output_type": "stream",
          "name": "stdout",
          "text": [
            "Alice\n",
            "S12345\n"
          ]
        }
      ]
    },
    {
      "cell_type": "code",
      "source": [
        "# 추상 클래스\n",
        "# 중요도는 높지만 빈도가 낮아 별 0.5개\n",
        "# 추상 클래스: 반드시 구현되어야 하는 메서드를 명시하면\n",
        "# 그것을 상속한 클래스에서는 반드시 그 메서드를 구현해야 합니다.\n",
        "# 언제 사용하나요? 예를 들어 빠트리면 안되는 메서드가 있는 경우\n",
        "# 게시판 만드는데 게시물 업데이트 날짜, 생성 날짜를 추상 클래스로 구현할 수 있습니다.\n",
        "\n",
        "from abc import ABC, abstractmethod\n",
        "\n",
        "class AbstractClassExample(ABC):\n",
        "\n",
        "    @abstractmethod\n",
        "    def do_something(self):\n",
        "        pass\n",
        "\n",
        "class Person(AbstractClassExample):\n",
        "\n",
        "    def __init__(self, name):\n",
        "        self.name = name\n",
        "\n",
        "    def print_name(self):\n",
        "        print(f'제 이름은 {self.name}입니다.')\n",
        "\n",
        "    def do_something(self):\n",
        "        print('hello')\n",
        "\n",
        "hojun = Person('hojun')\n",
        "hojun.print_name()"
      ],
      "metadata": {
        "colab": {
          "base_uri": "https://localhost:8080/"
        },
        "id": "MzMzh4YH8eac",
        "outputId": "030e757d-5aa5-4067-ee10-2df8f60ed7c7"
      },
      "execution_count": null,
      "outputs": [
        {
          "output_type": "stream",
          "name": "stdout",
          "text": [
            "제 이름은 hojun입니다.\n"
          ]
        }
      ]
    },
    {
      "cell_type": "markdown",
      "source": [
        "# 인터페이스"
      ],
      "metadata": {
        "id": "jQFkZOV79rBW"
      }
    },
    {
      "cell_type": "code",
      "source": [
        "# 비공개 속성\n",
        "# 시큐어 코딩\n",
        "# 별표 0.3개 복습애매함\n",
        "class MyClass:\n",
        "    __a = 10 # 비공개 속성(Private Attributes)\n",
        "    _a = 100\n",
        "    b = 20\n",
        "\n",
        "    def __init__(self, c, d):\n",
        "        self.__c = c\n",
        "        self.d = d\n",
        "\n",
        "c = MyClass(30, 40)\n",
        "c._a # 보통 다른 언어에서는 _ 한개가 prive value입니다.\n",
        "# c.__a # 어? 접근이 안되네!? 이걸로 변수를 감추면 되겠다!? => 이렇게 생각하면 안된다는 것입니다.\n",
        "\n",
        "# c.__a #error\n",
        "# c._a # 출력: 100\n",
        "# c.b # 출력: 20\n",
        "# # c.__c # error\n",
        "# c.d # 출력: 40\n",
        "\n",
        "print(c._MyClass__c) # 실제로는 이렇게 출력할 수 있습니다."
      ],
      "metadata": {
        "colab": {
          "base_uri": "https://localhost:8080/"
        },
        "id": "ryMZd_MN-CK-",
        "outputId": "bf5c6eb1-8709-479b-b73e-450ae0c216ed"
      },
      "execution_count": null,
      "outputs": [
        {
          "output_type": "stream",
          "name": "stdout",
          "text": [
            "30\n"
          ]
        }
      ]
    },
    {
      "cell_type": "code",
      "source": [],
      "metadata": {
        "id": "NMOS-w9__Ac0"
      },
      "execution_count": null,
      "outputs": []
    }
  ]
}