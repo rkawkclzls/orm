{
  "cells": [
    {
      "cell_type": "markdown",
      "metadata": {
        "id": "sDE5hk00Clu-"
      },
      "source": [
        "# 함수는 이름은 변수다"
      ]
    },
    {
      "cell_type": "code",
      "execution_count": null,
      "metadata": {
        "id": "5kQHtpZr10lF"
      },
      "outputs": [],
      "source": [
        "def hello(): # 펑션의 인스턴스\n",
        "    '''\n",
        "\n",
        "    Doc String\n",
        "\n",
        "    arg :\n",
        "\n",
        "    return:\n",
        "\n",
        "    주석은 여기 답니다.\n",
        "    '''\n",
        "    pass"
      ]
    },
    {
      "cell_type": "code",
      "execution_count": null,
      "metadata": {
        "colab": {
          "base_uri": "https://localhost:8080/"
        },
        "id": "qCE9GV4G5eYB",
        "outputId": "28cb2e00-f495-40fe-a9f8-6bb00f2c261d"
      },
      "outputs": [
        {
          "name": "stdout",
          "output_type": "stream",
          "text": [
            "<class 'function'>\n"
          ]
        }
      ],
      "source": [
        "print(type(hello) # 함수도 class입니다!?"
      ]
    },
    {
      "cell_type": "code",
      "execution_count": null,
      "metadata": {
        "id": "nZ_8b5Hz5juQ"
      },
      "outputs": [],
      "source": [
        "a = 10\n",
        "# a는 무엇이죠?\n",
        "# a는 int에 인스턴스"
      ]
    },
    {
      "cell_type": "code",
      "execution_count": null,
      "metadata": {
        "id": "cFhlvzh36QiB"
      },
      "outputs": [],
      "source": [
        "l = [a, a, a]\n",
        "l[2]"
      ]
    },
    {
      "cell_type": "code",
      "execution_count": null,
      "metadata": {
        "colab": {
          "base_uri": "https://localhost:8080/"
        },
        "id": "EbuUyWjI6JEi",
        "outputId": "1957e686-dabc-493a-9880-f14e28e1e1ca"
      },
      "outputs": [
        {
          "name": "stdout",
          "output_type": "stream",
          "text": [
            "hello world\n"
          ]
        }
      ],
      "source": [
        "print('hello world') # built in funtion"
      ]
    },
    {
      "cell_type": "code",
      "execution_count": null,
      "metadata": {
        "colab": {
          "base_uri": "https://localhost:8080/"
        },
        "id": "jve1H43q6Zs5",
        "outputId": "8f0570b5-91d1-4968-9469-c581a50f5285"
      },
      "outputs": [
        {
          "name": "stdout",
          "output_type": "stream",
          "text": [
            "hello world\n"
          ]
        }
      ],
      "source": [
        "l = [print, print, print] #함수 이름은 변수다.\n",
        "l[2]('hello world')"
      ]
    },
    {
      "cell_type": "code",
      "execution_count": null,
      "metadata": {
        "colab": {
          "base_uri": "https://localhost:8080/"
        },
        "id": "ql_sBCIb6zXO",
        "outputId": "b78f7900-bdbd-4a5e-8791-36b59a8d8034"
      },
      "outputs": [
        {
          "name": "stdout",
          "output_type": "stream",
          "text": [
            "hello world\n"
          ]
        }
      ],
      "source": [
        "hojun = print\n",
        "hojun('hello world')"
      ]
    },
    {
      "cell_type": "code",
      "execution_count": null,
      "metadata": {
        "colab": {
          "base_uri": "https://localhost:8080/"
        },
        "id": "1dT-cR-i664P",
        "outputId": "2870d2e4-e253-4283-8874-bdc81d1ce0d1"
      },
      "outputs": [
        {
          "data": {
            "text/plain": [
              "(140172781901104, 140172781901104)"
            ]
          },
          "execution_count": 9,
          "metadata": {},
          "output_type": "execute_result"
        }
      ],
      "source": [
        "id(hojun), id(print)"
      ]
    },
    {
      "cell_type": "code",
      "execution_count": null,
      "metadata": {
        "id": "SK6TEl1s6_o7"
      },
      "outputs": [],
      "source": [
        "print = 10"
      ]
    },
    {
      "cell_type": "code",
      "execution_count": null,
      "metadata": {
        "colab": {
          "base_uri": "https://localhost:8080/",
          "height": 184
        },
        "id": "JWB-YgD67CJB",
        "outputId": "6ea9ecaa-c662-4525-ee6c-225f27dd8970"
      },
      "outputs": [
        {
          "ename": "TypeError",
          "evalue": "'int' object is not callable",
          "output_type": "error",
          "traceback": [
            "\u001b[0;31m---------------------------------------------------------------------------\u001b[0m",
            "\u001b[0;31mTypeError\u001b[0m                                 Traceback (most recent call last)",
            "\u001b[0;32m<ipython-input-11-66eb98f8e52a>\u001b[0m in \u001b[0;36m<cell line: 1>\u001b[0;34m()\u001b[0m\n\u001b[0;32m----> 1\u001b[0;31m \u001b[0mprint\u001b[0m\u001b[0;34m(\u001b[0m\u001b[0;34m'hello world'\u001b[0m\u001b[0;34m)\u001b[0m\u001b[0;34m\u001b[0m\u001b[0;34m\u001b[0m\u001b[0m\n\u001b[0m",
            "\u001b[0;31mTypeError\u001b[0m: 'int' object is not callable"
          ]
        }
      ],
      "source": [
        "print('hello world')"
      ]
    },
    {
      "cell_type": "code",
      "execution_count": null,
      "metadata": {
        "colab": {
          "base_uri": "https://localhost:8080/"
        },
        "id": "SGpLR2kk7IUY",
        "outputId": "c844aa64-07dc-417b-dca6-fa193bef758e"
      },
      "outputs": [
        {
          "name": "stdout",
          "output_type": "stream",
          "text": [
            "hello\n"
          ]
        }
      ],
      "source": [
        "hojun('hello')"
      ]
    },
    {
      "cell_type": "code",
      "execution_count": null,
      "metadata": {
        "colab": {
          "base_uri": "https://localhost:8080/",
          "height": 184
        },
        "id": "mQC4f0vR7LPW",
        "outputId": "7454e2be-d987-4ee4-d497-723304cf5f2e"
      },
      "outputs": [
        {
          "ename": "NameError",
          "evalue": "name 'hojun' is not defined",
          "output_type": "error",
          "traceback": [
            "\u001b[0;31m---------------------------------------------------------------------------\u001b[0m",
            "\u001b[0;31mNameError\u001b[0m                                 Traceback (most recent call last)",
            "\u001b[0;32m<ipython-input-1-d4316b3ea20a>\u001b[0m in \u001b[0;36m<cell line: 1>\u001b[0;34m()\u001b[0m\n\u001b[0;32m----> 1\u001b[0;31m \u001b[0mprint\u001b[0m \u001b[0;34m=\u001b[0m \u001b[0mhojun\u001b[0m\u001b[0;34m\u001b[0m\u001b[0;34m\u001b[0m\u001b[0m\n\u001b[0m",
            "\u001b[0;31mNameError\u001b[0m: name 'hojun' is not defined"
          ]
        }
      ],
      "source": [
        "print = hojun"
      ]
    },
    {
      "cell_type": "code",
      "execution_count": null,
      "metadata": {
        "colab": {
          "base_uri": "https://localhost:8080/"
        },
        "id": "NkIZyrn57Tuo",
        "outputId": "e565e8d7-640b-45fd-8d9c-8e4588c7c0b5"
      },
      "outputs": [
        {
          "data": {
            "text/plain": [
              "138796572988720"
            ]
          },
          "execution_count": 2,
          "metadata": {},
          "output_type": "execute_result"
        }
      ],
      "source": [
        "id(print)"
      ]
    },
    {
      "cell_type": "markdown",
      "metadata": {
        "id": "kmRlEZreCqDG"
      },
      "source": [
        "# 람다의 응용.feat 삼향연산자\n",
        "\n",
        "## top3 -1 map에서사용"
      ]
    },
    {
      "cell_type": "code",
      "execution_count": null,
      "metadata": {
        "id": "zsxRdKtV7WlK"
      },
      "outputs": [],
      "source": [
        "add = lambda x, y: x + y # 람다는 인풋 아웃풋"
      ]
    },
    {
      "cell_type": "code",
      "execution_count": null,
      "metadata": {
        "colab": {
          "base_uri": "https://localhost:8080/"
        },
        "id": "oE3NEHJr7h0x",
        "outputId": "7b377aac-bcbd-40de-c462-05460e042300"
      },
      "outputs": [
        {
          "data": {
            "text/plain": [
              "True"
            ]
          },
          "execution_count": 7,
          "metadata": {},
          "output_type": "execute_result"
        }
      ],
      "source": [
        "# 코드가 이해가 안된다 => 이해할려고 노력하지마\n",
        "# 예제를 30개 정도 만들어보자\n",
        "# Django 어려워요? 30개 만들어보세요.\n",
        "# Lambda 어려우면 30개 만들어보세요.\n",
        "\n",
        "# lambda + 3향 연산자 많이 사용합니다.\n",
        "\n",
        "x = 10\n",
        "y = True if x % 2 == 0 else False\n",
        "\n",
        "y"
      ]
    },
    {
      "cell_type": "code",
      "execution_count": null,
      "metadata": {
        "colab": {
          "base_uri": "https://localhost:8080/"
        },
        "id": "m-8Rkv4e8SNs",
        "outputId": "0048ddcd-ac69-458d-9d68-c238f85eb383"
      },
      "outputs": [
        {
          "data": {
            "text/plain": [
              "[1, 4, 9, 16]"
            ]
          },
          "execution_count": 8,
          "metadata": {},
          "output_type": "execute_result"
        }
      ],
      "source": [
        "# 재사용 할 경우 이렇게 함수로\n",
        "def 제곱(x):\n",
        "    return x ** 2\n",
        "\n",
        "list(map(제곱, [1, 2, 3, 4]))"
      ]
    },
    {
      "cell_type": "code",
      "execution_count": null,
      "metadata": {
        "colab": {
          "base_uri": "https://localhost:8080/"
        },
        "id": "v17Rf_G292Cj",
        "outputId": "4fc5fe42-ba97-4bdb-b1ec-98f20d247abc"
      },
      "outputs": [
        {
          "data": {
            "text/plain": [
              "[1, 4, 9, 16]"
            ]
          },
          "execution_count": 9,
          "metadata": {},
          "output_type": "execute_result"
        }
      ],
      "source": [
        "# 재사용 하지 않을 것이면 이렇게 lambda로!\n",
        "# lambda가 실무에서 좀 더 많이 사용됩니다.\n",
        "# 수식이 복잡해지면 재사용과 별개로 lambda로 했을 경우 가독성이 떨어지는 경우도 발생합니다.\n",
        "# 이럴떄에는 함수로 빼기도 합니다.\n",
        "list(map(lambda x: x **2,[1, 2, 3, 4]))"
      ]
    },
    {
      "cell_type": "code",
      "execution_count": null,
      "metadata": {
        "colab": {
          "base_uri": "https://localhost:8080/"
        },
        "id": "r7FNwQzK-Cwu",
        "outputId": "fecc53e8-aec8-45e6-abd6-ac34034d5105"
      },
      "outputs": [
        {
          "data": {
            "text/plain": [
              "[False, True, False, True]"
            ]
          },
          "execution_count": 11,
          "metadata": {},
          "output_type": "execute_result"
        }
      ],
      "source": [
        "list(map(lambda x: True if x % 2 == 0 else False,[1, 2, 3, 4])) # 마스킹,마커,거름망 True False,ip대역에서 사용합니다."
      ]
    },
    {
      "cell_type": "code",
      "execution_count": null,
      "metadata": {
        "colab": {
          "base_uri": "https://localhost:8080/"
        },
        "id": "i0Ug1z43-6KD",
        "outputId": "f1499c5d-e077-4c87-f393-ba2ea3b93058"
      },
      "outputs": [
        {
          "data": {
            "text/plain": [
              "[2, 3, 5, 7, 11, 13, 17, 19, 23, 29]"
            ]
          },
          "execution_count": 13,
          "metadata": {},
          "output_type": "execute_result"
        }
      ],
      "source": [
        "# 알고리즘 문제에서\n",
        "# [True, False, False, False, True]\n",
        "# 에라토스테네스의 체(얼마나 마스킹이 유용한지 알 수 있죠.)\n",
        "\n",
        "# 필터링이라고 생각하면 된다.\n"
      ]
    },
    {
      "cell_type": "code",
      "execution_count": null,
      "metadata": {
        "colab": {
          "base_uri": "https://localhost:8080/"
        },
        "id": "8db40AQCC7FD",
        "outputId": "eb52bc5b-673d-4181-a9b3-0539f2572aeb"
      },
      "outputs": [
        {
          "name": "stdout",
          "output_type": "stream",
          "text": [
            "소수아님\n"
          ]
        }
      ],
      "source": [
        "def eratosthenes_sieve_lambda(n):\n",
        "    \"\"\" 에라토스테네스의 체를 람다와 3항 연산자를 사용하여 구현 \"\"\"\n",
        "    return [] if n < 2 else [p for p in range(2, n+1) if not [x for x in range(2, int(p**0.5) + 1) if p % x == 0]]\n",
        "\n",
        "# 함수 테스트: 30까지의 소수 찾기\n",
        "eratosthenes_sieve_lambda(30)\n",
        "\n",
        "# for를 n제곱 돌아야한다.\n",
        "\n",
        "# 101이 소수인가?\n",
        "\n",
        "# 지금은 얼마나 마스킹한 값이 효율적인지를 만씀드리기 위한 코드일 뿐입니다.\n",
        "\n",
        "for i in range(2, 31):\n",
        "    if 30 % i == 0:\n",
        "        print('소수아님')\n",
        "        break\n",
        "else: # else 대신 than으로 하자라고 했지만 -> else가이김\n",
        "    print('소수임')\n",
        "\n",
        "# 3항 연산자와 람다 함수를 사용하여 주어진 코드를 재작성\n",
        "is_prime = lambda x: \"소수임\" if all(x % i != 0 for i in range(2, int(x**0.5) + 1)) and x > 1 else \"소수아님\"\n",
        "\n",
        "# 30이 소수인지 확인\n",
        "is_prime(30)\n",
        "\n"
      ]
    },
    {
      "cell_type": "code",
      "execution_count": null,
      "metadata": {
        "id": "S3aVMyNyDLnp"
      },
      "outputs": [],
      "source": [
        "[True, True, True,True,True,True,True,True,True]"
      ]
    },
    {
      "cell_type": "code",
      "execution_count": null,
      "metadata": {
        "colab": {
          "base_uri": "https://localhost:8080/"
        },
        "id": "RsDswL5EFTwM",
        "outputId": "55353b22-c4fd-4e69-8300-9480e7907b36"
      },
      "outputs": [
        {
          "data": {
            "text/plain": [
              "[0,\n",
              " 3,\n",
              " 6,\n",
              " 9,\n",
              " 12,\n",
              " 15,\n",
              " 18,\n",
              " 21,\n",
              " 24,\n",
              " 27,\n",
              " 30,\n",
              " 33,\n",
              " 36,\n",
              " 39,\n",
              " 42,\n",
              " 45,\n",
              " 48,\n",
              " 51,\n",
              " 54,\n",
              " 57,\n",
              " 60,\n",
              " 63,\n",
              " 66,\n",
              " 69,\n",
              " 72,\n",
              " 75,\n",
              " 78,\n",
              " 81,\n",
              " 84,\n",
              " 87,\n",
              " 90,\n",
              " 93,\n",
              " 96,\n",
              " 99]"
            ]
          },
          "execution_count": 18,
          "metadata": {},
          "output_type": "execute_result"
        }
      ],
      "source": [
        "# list(filter()) # True인 경우만 가져옴\n",
        "list(filter(lambda x: x % 2 == 0,range(100)))\n",
        "\n",
        "list(filter(lambda x: x % 3 == 0,range(100)))"
      ]
    },
    {
      "cell_type": "code",
      "execution_count": null,
      "metadata": {
        "colab": {
          "base_uri": "https://localhost:8080/"
        },
        "id": "sw814kvJFw94",
        "outputId": "46eaa1c8-271b-4f94-e6eb-ba5f2bd5387a"
      },
      "outputs": [
        {
          "data": {
            "text/plain": [
              "[50,\n",
              " 51,\n",
              " 52,\n",
              " 53,\n",
              " 54,\n",
              " 55,\n",
              " 56,\n",
              " 57,\n",
              " 58,\n",
              " 59,\n",
              " 60,\n",
              " 61,\n",
              " 62,\n",
              " 63,\n",
              " 64,\n",
              " 65,\n",
              " 66,\n",
              " 67,\n",
              " 68,\n",
              " 69,\n",
              " 70,\n",
              " 71,\n",
              " 72,\n",
              " 73,\n",
              " 74,\n",
              " 75,\n",
              " 76,\n",
              " 77,\n",
              " 78,\n",
              " 79]"
            ]
          },
          "execution_count": 20,
          "metadata": {},
          "output_type": "execute_result"
        }
      ],
      "source": [
        "list(filter(lambda x: x >= 50 and x < 80,(range(100))))"
      ]
    },
    {
      "cell_type": "code",
      "execution_count": null,
      "metadata": {
        "colab": {
          "base_uri": "https://localhost:8080/"
        },
        "id": "39QK-LyIGahr",
        "outputId": "0f44b8c8-781f-45aa-de0a-7ac1c02b7a1c"
      },
      "outputs": [
        {
          "data": {
            "text/plain": [
              "[0,\n",
              " 1,\n",
              " 2,\n",
              " 3,\n",
              " 4,\n",
              " 6,\n",
              " 7,\n",
              " 8,\n",
              " 9,\n",
              " 11,\n",
              " 12,\n",
              " 13,\n",
              " 14,\n",
              " 15,\n",
              " 16,\n",
              " 17,\n",
              " 18,\n",
              " 19,\n",
              " 21,\n",
              " 22,\n",
              " 23,\n",
              " 24,\n",
              " 26,\n",
              " 27,\n",
              " 28,\n",
              " 29,\n",
              " 30,\n",
              " 31,\n",
              " 32,\n",
              " 33,\n",
              " 34,\n",
              " 36,\n",
              " 37,\n",
              " 38,\n",
              " 39,\n",
              " 41,\n",
              " 42,\n",
              " 43,\n",
              " 44,\n",
              " 45,\n",
              " 46,\n",
              " 47,\n",
              " 48,\n",
              " 49,\n",
              " 51,\n",
              " 52,\n",
              " 53,\n",
              " 54,\n",
              " 56,\n",
              " 57,\n",
              " 58,\n",
              " 59,\n",
              " 60,\n",
              " 61,\n",
              " 62,\n",
              " 63,\n",
              " 64,\n",
              " 66,\n",
              " 67,\n",
              " 68,\n",
              " 69,\n",
              " 71,\n",
              " 72,\n",
              " 73,\n",
              " 74,\n",
              " 75,\n",
              " 76,\n",
              " 77,\n",
              " 78,\n",
              " 79,\n",
              " 81,\n",
              " 82,\n",
              " 83,\n",
              " 84,\n",
              " 86,\n",
              " 87,\n",
              " 88,\n",
              " 89,\n",
              " 90,\n",
              " 91,\n",
              " 92,\n",
              " 93,\n",
              " 94,\n",
              " 96,\n",
              " 97,\n",
              " 98,\n",
              " 99]"
            ]
          },
          "execution_count": 21,
          "metadata": {},
          "output_type": "execute_result"
        }
      ],
      "source": [
        "list(filter(lambda x: True if x % 3 == 0 or x % 5 -- 0 else False,range(100)))"
      ]
    },
    {
      "cell_type": "code",
      "execution_count": null,
      "metadata": {
        "colab": {
          "base_uri": "https://localhost:8080/"
        },
        "id": "xfqQaN9RHBXw",
        "outputId": "dbadeb67-756d-412b-894f-40ddb03127d1"
      },
      "outputs": [
        {
          "data": {
            "text/plain": [
              "[1,\n",
              " 3,\n",
              " 5,\n",
              " 7,\n",
              " 9,\n",
              " 11,\n",
              " 13,\n",
              " 15,\n",
              " 17,\n",
              " 19,\n",
              " 21,\n",
              " 23,\n",
              " 25,\n",
              " 27,\n",
              " 29,\n",
              " 31,\n",
              " 33,\n",
              " 35,\n",
              " 37,\n",
              " 39,\n",
              " 41,\n",
              " 43,\n",
              " 45,\n",
              " 47,\n",
              " 49,\n",
              " 51,\n",
              " 53,\n",
              " 55,\n",
              " 57,\n",
              " 59,\n",
              " 61,\n",
              " 63,\n",
              " 65,\n",
              " 67,\n",
              " 69,\n",
              " 71,\n",
              " 73,\n",
              " 75,\n",
              " 77,\n",
              " 79,\n",
              " 81,\n",
              " 83,\n",
              " 85,\n",
              " 87,\n",
              " 89,\n",
              " 91,\n",
              " 93,\n",
              " 95,\n",
              " 97,\n",
              " 99]"
            ]
          },
          "execution_count": 23,
          "metadata": {},
          "output_type": "execute_result"
        }
      ],
      "source": [
        "# list(filter(lambda x: x % 2 == 0, range(100)))\n",
        "list(filter(lambda x: x % 2, range(100))) # 홀수를!?\n",
        "\n",
        "# [0, 1, 2, 3, 4, 5, 6, 7, 8, 9]\n",
        "# x == 0일때 => lambda x: x % 2 => 0 => False로 평가!\n",
        "# x == 1일때 => lambda x: x % 2 => 1 => True로 평가!\n",
        "# x == 2일때 => lambda x: x % 2 => 0\n",
        "# x == 3일때 => lambda x: x % 2 => 1\n",
        "# x == 4일때 => lambda x: x % 2 => 0\n",
        "# x == 5일때 => lambda x: x % 2 => 1\n",
        "# x == 6일때 => lambda x: x % 2 => 0"
      ]
    },
    {
      "cell_type": "markdown",
      "metadata": {
        "id": "94pF6bbpG4-F"
      },
      "source": [
        "## sorted에서 사용"
      ]
    },
    {
      "cell_type": "code",
      "execution_count": null,
      "metadata": {
        "colab": {
          "base_uri": "https://localhost:8080/"
        },
        "id": "3OvznQ0yIf6r",
        "outputId": "93a16a99-adca-44ce-f7f6-5b66e5d4c11f"
      },
      "outputs": [
        {
          "data": {
            "text/plain": [
              "[4, 5, 5, 9, 10, 11, 20, 22, 32]"
            ]
          },
          "execution_count": 24,
          "metadata": {},
          "output_type": "execute_result"
        }
      ],
      "source": [
        "l = [10, 20 , 5 ,4 ,22 ,32, 5, 9, 11]\n",
        "l.sort() #sort를 자주사용하진 않습니다. 원본을 변경시키기 때문입니다.\n",
        "l"
      ]
    },
    {
      "cell_type": "code",
      "execution_count": null,
      "metadata": {
        "colab": {
          "base_uri": "https://localhost:8080/"
        },
        "id": "kpKE8U5jIy4R",
        "outputId": "cae3bb86-c4e5-439b-d79a-eb0271a87b9d"
      },
      "outputs": [
        {
          "data": {
            "text/plain": [
              "[10, 20, 5, 4, 22, 32, 5, 9, 11]"
            ]
          },
          "execution_count": 26,
          "metadata": {},
          "output_type": "execute_result"
        }
      ],
      "source": [
        "l = [10, 20 ,5, 4, 22, 32, 5, 9, 11]\n",
        "sorted(l) # sorted의 return값이 정렬된 값이죠!\n",
        "l # l은 원본 그대로"
      ]
    },
    {
      "cell_type": "code",
      "execution_count": null,
      "metadata": {
        "colab": {
          "base_uri": "https://localhost:8080/",
          "height": 221
        },
        "id": "1TjAjPHuI7lj",
        "outputId": "e2cfcb31-684e-43d4-ff67-4242b0273a8b"
      },
      "outputs": [
        {
          "ename": "TypeError",
          "evalue": "sorted expected 1 argument, got 0",
          "output_type": "error",
          "traceback": [
            "\u001b[0;31m---------------------------------------------------------------------------\u001b[0m",
            "\u001b[0;31mTypeError\u001b[0m                                 Traceback (most recent call last)",
            "\u001b[0;32m<ipython-input-27-1f6007b02355>\u001b[0m in \u001b[0;36m<cell line: 1>\u001b[0;34m()\u001b[0m\n\u001b[0;32m----> 1\u001b[0;31m \u001b[0msorted\u001b[0m\u001b[0;34m(\u001b[0m\u001b[0;34m)\u001b[0m \u001b[0;31m# key, reverse 옵션을 정말 많이 사용합니다.\u001b[0m\u001b[0;34m\u001b[0m\u001b[0;34m\u001b[0m\u001b[0m\n\u001b[0m\u001b[1;32m      2\u001b[0m \u001b[0;31m# 알고리즘 문제에서 단골문제이고, sorted 문제는 1문제는 거의 출제된다고 보시면 됩니다.\u001b[0m\u001b[0;34m\u001b[0m\u001b[0;34m\u001b[0m\u001b[0m\n\u001b[1;32m      3\u001b[0m \u001b[0;31m# 최댓값, 최솟값\u001b[0m\u001b[0;34m\u001b[0m\u001b[0;34m\u001b[0m\u001b[0m\n",
            "\u001b[0;31mTypeError\u001b[0m: sorted expected 1 argument, got 0"
          ]
        }
      ],
      "source": [
        "sorted() # key, reverse 옵션을 정말 많이 사용합니다.\n",
        "# 알고리즘 문제에서 단골문제이고, sorted 문제는 1문제는 거의 출제된다고 보시면 됩니다.\n",
        "# 최댓값, 최솟값"
      ]
    },
    {
      "cell_type": "code",
      "execution_count": null,
      "metadata": {
        "id": "89XJkBISLB7z"
      },
      "outputs": [],
      "source": [
        "# 아래와 같은 형식으로 반별 점수가 주어진다고 하겠습니다.\n",
        "\n",
        "반별점수 = [\n",
        "    ['홍길동', 30, 55, 22],\n",
        "    ['홍춘향', 55, 60, 73],\n",
        "    ['이철수', 32, 65, 68],\n",
        "    ['이호준', 92, 11, 95],\n",
        "]"
      ]
    },
    {
      "cell_type": "code",
      "execution_count": null,
      "metadata": {
        "colab": {
          "base_uri": "https://localhost:8080/"
        },
        "id": "_7QpI3g1L-bf",
        "outputId": "76d5662c-071a-4334-a7f3-a8f6d6748f43"
      },
      "outputs": [
        {
          "data": {
            "text/plain": [
              "[['이철수', 32, 65, 68],\n",
              " ['이호준', 92, 11, 95],\n",
              " ['홍길동', 30, 55, 22],\n",
              " ['홍춘향', 55, 60, 73]]"
            ]
          },
          "execution_count": 29,
          "metadata": {},
          "output_type": "execute_result"
        }
      ],
      "source": [
        "sorted(반별점수) # 값이나 키값 0번째 값 기준으로 정렬"
      ]
    },
    {
      "cell_type": "code",
      "execution_count": null,
      "metadata": {
        "colab": {
          "base_uri": "https://localhost:8080/"
        },
        "id": "qHKNcIl8MH7j",
        "outputId": "d2c6bb02-174d-4d9b-ca1d-0df20c568c93"
      },
      "outputs": [
        {
          "data": {
            "text/plain": [
              "[['홍길동', 30, 55, 22],\n",
              " ['이철수', 32, 65, 68],\n",
              " ['홍춘향', 55, 60, 73],\n",
              " ['이호준', 92, 11, 95]]"
            ]
          },
          "execution_count": 32,
          "metadata": {},
          "output_type": "execute_result"
        }
      ],
      "source": [
        "def 함수(x):\n",
        "    return x[3]\n",
        "\n",
        "# sorted(반별점수, key = 함수 ) # 가장 중요한 것은 이 key함수의 return값대로 정렬한다!\n",
        "sorted(반별점수, key = lambda x: x[3] )"
      ]
    },
    {
      "cell_type": "code",
      "execution_count": null,
      "metadata": {
        "colab": {
          "base_uri": "https://localhost:8080/"
        },
        "id": "b2YNxSQJMt_S",
        "outputId": "c2b537db-845f-422d-8333-8e7f869f7391"
      },
      "outputs": [
        {
          "data": {
            "text/plain": [
              "[['이호준', 92, 11, 95],\n",
              " ['홍길동', 30, 55, 22],\n",
              " ['홍춘향', 55, 60, 73],\n",
              " ['이철수', 32, 65, 68]]"
            ]
          },
          "execution_count": 33,
          "metadata": {},
          "output_type": "execute_result"
        }
      ],
      "source": [
        "sorted(반별점수, key = lambda x: x[2]) # 영어 점수 순서대로"
      ]
    },
    {
      "cell_type": "code",
      "execution_count": null,
      "metadata": {
        "colab": {
          "base_uri": "https://localhost:8080/"
        },
        "id": "oorl0TrQRUvu",
        "outputId": "b2e07dc3-e943-4c64-fbb5-6dc057206dc3"
      },
      "outputs": [
        {
          "data": {
            "text/plain": [
              "[['이호준', 92, 11, 95],\n",
              " ['홍춘향', 55, 60, 73],\n",
              " ['이철수', 32, 65, 68],\n",
              " ['홍길동', 30, 55, 22]]"
            ]
          },
          "execution_count": 35,
          "metadata": {},
          "output_type": "execute_result"
        }
      ],
      "source": [
        "반별점수 = [['홍길동', 30, 55, 22],\n",
        " ['이철수', 32, 65, 68],\n",
        " ['홍춘향', 55, 60, 73],\n",
        " ['이호준', 92, 11, 95]]\n",
        "\n",
        "# 문제: 국, 영, 수 평균 점수대로 출력해주세요!\n",
        "# 정답:\n",
        "sorted(반별점수, key=lambda x: x[1] + x[2] + x[3]) # 나눌 필요 없습니다.\n",
        "sorted(반별점수, key=lambda x: x[1] + x[2] + x[3], reverse=True)\n",
        "# 내림차순으로 정렬합니다!\n",
        "# 평균 점수가 높은게 앞으로 옵니다."
      ]
    },
    {
      "cell_type": "code",
      "execution_count": null,
      "metadata": {
        "colab": {
          "base_uri": "https://localhost:8080/"
        },
        "id": "IGnDHiA5TkBQ",
        "outputId": "4f670a26-2413-4d05-e5ee-a50d8d1118ef"
      },
      "outputs": [
        {
          "data": {
            "text/plain": [
              "[['이호준', 92, 11, 95],\n",
              " ['홍춘향', 60, 35, 75],\n",
              " ['이철수', 45, 50, 55],\n",
              " ['홍길동', 50, 50, 50]]"
            ]
          },
          "execution_count": 36,
          "metadata": {},
          "output_type": "execute_result"
        }
      ],
      "source": [
        "# 문제가 살짝 어려워집니다.\n",
        "# 동점자인 경우 수학점수를 우선순위로 두겠습니다!!!?\n",
        "반별점수 = [\n",
        "    ['홍길동', 50, 50, 50],\n",
        "    ['이철수', 45, 50, 55],\n",
        "    ['홍춘향', 60, 35, 75],\n",
        "    ['이호준', 92, 11, 95]\n",
        "]\n",
        "\n",
        "sorted(반별점수, key=lambda x: x[1] + x[2] + x[3], reverse=True) # 철수가 수학 점수가 높은데 뒤에 있네요?\n",
        "# 제 의도는 수학 점수가 높으니 앞에 두겠다는 얘기입니다.\n",
        "\n",
        "# 1\n",
        "# sorted(반별점수, key=lambda x: x[1] + x[2] + x[3], reverse=True)\n",
        "# 반별점수 = [\n",
        "#     ['홍길동', 50, 50, 50] => 50,\n",
        "#     ['이철수', 45, 50, 55] => 50,\n",
        "#     ['홍춘향', 60, 35, 75] => ??,\n",
        "#     ['이호준', 92, 11, 95] => ??\n",
        "# ]\n",
        "\n",
        "# 2\n",
        "# sorted(반별점수, key=lambda x: (x[1] + x[2] + x[3], x[3]), reverse=True)\n",
        "# 반별점수 = [\n",
        "#     ['홍길동', 50, 50, 50] => (50, 50),\n",
        "#     ['이철수', 45, 50, 55] => (50, 55),\n",
        "#     ['홍춘향', 60, 35, 75] => ??,\n",
        "#     ['이호준', 92, 11, 95] => ??\n",
        "# ]\n",
        "\n",
        "sorted(반별점수, key=lambda x: (x[1] + x[2] + x[3], x[3]), reverse=True) # 철수랑 길동이 바뀌었습니다!"
      ]
    },
    {
      "cell_type": "code",
      "execution_count": null,
      "metadata": {
        "colab": {
          "base_uri": "https://localhost:8080/"
        },
        "id": "8-IXKMtDTpv9",
        "outputId": "9235b569-edf3-432c-efe2-eebe89a57757"
      },
      "outputs": [
        {
          "data": {
            "text/plain": [
              "[{'주소': '경기도 용인시', '우편번호': 321},\n",
              " {'주소': '경기도 수원시', '우편번호': 355},\n",
              " {'주소': '제주특별자치도 제주시', '우편번호': 333}]"
            ]
          },
          "execution_count": 39,
          "metadata": {},
          "output_type": "execute_result"
        }
      ],
      "source": [
        "[\n",
        "{\n",
        "   '주소': '경기도 용인시',\n",
        "   '우편번호': 321\n",
        "},\n",
        "{\n",
        "   '주소': '경기도 수원시',\n",
        "   '우편번호': 355\n",
        "},\n",
        " {\n",
        "   '주소': '제주특별자치도 제주시',\n",
        "   '우편번호': 333\n",
        "}\n",
        "]\n",
        "\n"
      ]
    },
    {
      "cell_type": "code",
      "execution_count": null,
      "metadata": {
        "colab": {
          "base_uri": "https://localhost:8080/"
        },
        "id": "DTcKKMjqUVA8",
        "outputId": "33d91ba5-9cec-4c55-e671-d199bd030e2c"
      },
      "outputs": [
        {
          "data": {
            "text/plain": [
              "[{'주소': '경기도 용인시', '우편번호': 321},\n",
              " {'주소': '제주특별자치도 제주시', '우편번호': 333},\n",
              " {'주소': '경기도 수원시', '우편번호': 355}]"
            ]
          },
          "execution_count": 40,
          "metadata": {},
          "output_type": "execute_result"
        }
      ],
      "source": [
        "우편번호 = [\n",
        "    {\n",
        "        '주소': '경기도 용인시',\n",
        "        '우편번호': 321\n",
        "    },\n",
        "    {\n",
        "        '주소': '경기도 수원시',\n",
        "        '우편번호': 355\n",
        "    },\n",
        "    {\n",
        "        '주소': '제주특별자치도 제주시',\n",
        "        '우편번호': 333\n",
        "    }\n",
        "]\n",
        "\n",
        "# sorted(우편번호) #error, 비교를 할 수 없다!?\n",
        "sorted(우편번호, key=lambda x: x['우편번호'])\n",
        "\n",
        "# 우편번호 = [\n",
        "#     {\n",
        "#         '주소': '경기도 용인시',\n",
        "#         '우편번호': 321\n",
        "#     }, => 321\n",
        "#     {\n",
        "#         '주소': '경기도 수원시',\n",
        "#         '우편번호': 355\n",
        "#     }, => 355\n",
        "#     {\n",
        "#         '주소': '제주특별자치도 제주시',\n",
        "#         '우편번호': 333\n",
        "#     } => 333\n",
        "# ]"
      ]
    },
    {
      "cell_type": "code",
      "execution_count": null,
      "metadata": {
        "colab": {
          "base_uri": "https://localhost:8080/"
        },
        "id": "RLlcZGepU9it",
        "outputId": "72c7cdf0-58cf-4baa-93b0-9146ae58ff11"
      },
      "outputs": [
        {
          "data": {
            "text/plain": [
              "[3, 4, 8, 12, 17, 20]"
            ]
          },
          "execution_count": 41,
          "metadata": {},
          "output_type": "execute_result"
        }
      ],
      "source": [
        "# 직선에 있는 점 좌표\n",
        "# 점과 점 사이가 가장 짧은 점의 쌍을 출력하세요\n",
        "\n",
        "s = [1, 3, 4, 8, 12, 17, 20]\n",
        "\n",
        "s[1:]"
      ]
    },
    {
      "cell_type": "code",
      "execution_count": null,
      "metadata": {
        "id": "SeFmWpIBWJme"
      },
      "outputs": [],
      "source": [
        "x = list(zip(s, s[1:]))\n",
        "print(x)"
      ]
    },
    {
      "cell_type": "code",
      "execution_count": null,
      "metadata": {
        "colab": {
          "base_uri": "https://localhost:8080/"
        },
        "id": "Lr1BIGWgX2xm",
        "outputId": "ed556b10-9dcb-41c6-d267-13eeab17a874"
      },
      "outputs": [
        {
          "data": {
            "text/plain": [
              "(3, 4)"
            ]
          },
          "execution_count": 49,
          "metadata": {},
          "output_type": "execute_result"
        }
      ],
      "source": [
        "sorted(x, key = lambda x : x[1] - x[0])\n",
        "sorted(x, key = lambda x : x[1] - x[0])[0]"
      ]
    },
    {
      "cell_type": "code",
      "execution_count": null,
      "metadata": {
        "colab": {
          "base_uri": "https://localhost:8080/"
        },
        "id": "p04VKBtBWPcW",
        "outputId": "34b62b9f-328f-4bc4-f209-5a16e9a79e0f"
      },
      "outputs": [
        {
          "data": {
            "text/plain": [
              "[('h', 'w'), ('e', 'o'), ('l', 'r'), ('l', 'l'), ('o', 'd')]"
            ]
          },
          "execution_count": 43,
          "metadata": {},
          "output_type": "execute_result"
        }
      ],
      "source": [
        "# 이해를 하시진 마시고, 이해가 되시는 분들만 이해해주세요.\n",
        "# 제가 자주 사용하는 코드입니다.\n",
        "\n",
        "list(zip('hello', 'world'))"
      ]
    },
    {
      "cell_type": "code",
      "execution_count": null,
      "metadata": {
        "colab": {
          "base_uri": "https://localhost:8080/"
        },
        "id": "zHZDBOmkWah0",
        "outputId": "3409dda6-7df8-4495-961d-50d314b6c354"
      },
      "outputs": [
        {
          "data": {
            "text/plain": [
              "[(0, ('h', 'w')),\n",
              " (1, ('e', 'o')),\n",
              " (2, ('l', 'r')),\n",
              " (3, ('l', 'l')),\n",
              " (4, ('o', 'd'))]"
            ]
          },
          "execution_count": 44,
          "metadata": {},
          "output_type": "execute_result"
        }
      ],
      "source": [
        "# 예시1\n",
        "list(enumerate(zip('hello', 'world')))"
      ]
    },
    {
      "cell_type": "code",
      "execution_count": null,
      "metadata": {
        "colab": {
          "base_uri": "https://localhost:8080/"
        },
        "id": "lDoGd5sgWw-5",
        "outputId": "d334817f-61f7-484d-d4c9-faa9782ed76c"
      },
      "outputs": [
        {
          "data": {
            "text/plain": [
              "[(1, 'h', 'w'), (2, 'e', 'o'), (3, 'l', 'r'), (4, 'l', 'l'), (5, 'o', 'd')]"
            ]
          },
          "execution_count": 45,
          "metadata": {},
          "output_type": "execute_result"
        }
      ],
      "source": [
        "# 제너레이터를 만듭니다.\n",
        "\n",
        "def gen():\n",
        "    i = 1\n",
        "    while True:\n",
        "        yield i\n",
        "        i += 1\n",
        "\n",
        "list(zip(gen(),'hello', 'world'))"
      ]
    },
    {
      "cell_type": "markdown",
      "metadata": {
        "id": "TmGPmxMqXBGD"
      },
      "source": [
        "# built in function"
      ]
    },
    {
      "cell_type": "markdown",
      "metadata": {
        "id": "VdNucsAcZUuW"
      },
      "source": [
        "![](https://cdn.discordapp.com/attachments/1173449925393121361/1194833702572806215/image.png?ex=65b1ca99&is=659f5599&hm=46004c8e8ea30d5f778deb3105e67550049ac4d80eb5a8e613cb7edae9f1f973&)"
      ]
    },
    {
      "cell_type": "code",
      "execution_count": null,
      "metadata": {
        "colab": {
          "base_uri": "https://localhost:8080/",
          "height": 35
        },
        "id": "sM75AqQRZsbB",
        "outputId": "2aedb9f4-d916-49c6-e2d3-9fe3457d6648"
      },
      "outputs": [
        {
          "data": {
            "application/vnd.google.colaboratory.intrinsic+json": {
              "type": "string"
            },
            "text/plain": [
              "'A'"
            ]
          },
          "execution_count": 50,
          "metadata": {},
          "output_type": "execute_result"
        }
      ],
      "source": [
        "chr(65) # 별표 0.1개"
      ]
    },
    {
      "cell_type": "code",
      "execution_count": null,
      "metadata": {
        "colab": {
          "base_uri": "https://localhost:8080/"
        },
        "id": "tceDfj-bZxAw",
        "outputId": "d2ee6b79-8b56-436c-a1f8-4a49097b2c1a"
      },
      "outputs": [
        {
          "data": {
            "text/plain": [
              "65"
            ]
          },
          "execution_count": 51,
          "metadata": {},
          "output_type": "execute_result"
        }
      ],
      "source": [
        "ord('A') # 별표 0.1개"
      ]
    },
    {
      "cell_type": "code",
      "execution_count": null,
      "metadata": {
        "colab": {
          "base_uri": "https://localhost:8080/"
        },
        "id": "RneRrWI-Z3_7",
        "outputId": "5f796b1c-6186-4f5b-9550-9fa4985d4779"
      },
      "outputs": [
        {
          "data": {
            "text/plain": [
              "30"
            ]
          },
          "execution_count": 52,
          "metadata": {},
          "output_type": "execute_result"
        }
      ],
      "source": [
        "max([10, 20, 30])"
      ]
    },
    {
      "cell_type": "code",
      "execution_count": null,
      "metadata": {
        "colab": {
          "base_uri": "https://localhost:8080/"
        },
        "id": "W6-1q_Y9aARD",
        "outputId": "74ecc650-5adb-471d-8bf2-c0ae4ba21b7f"
      },
      "outputs": [
        {
          "data": {
            "text/plain": [
              "[1, 2, 3, 4, 5, 6]"
            ]
          },
          "execution_count": 55,
          "metadata": {},
          "output_type": "execute_result"
        }
      ],
      "source": [
        "sum([10, 20, 30])\n",
        "sum([10, 20, 30], 100)\n",
        "sum([[1, 2, 3], [4, 5, 6]], [])"
      ]
    },
    {
      "cell_type": "code",
      "execution_count": null,
      "metadata": {
        "colab": {
          "base_uri": "https://localhost:8080/"
        },
        "id": "Er_X94lGaM3R",
        "outputId": "30ae7cba-66e6-4825-924b-7db24efc2d24"
      },
      "outputs": [
        {
          "data": {
            "text/plain": [
              "True"
            ]
          },
          "execution_count": 56,
          "metadata": {},
          "output_type": "execute_result"
        }
      ],
      "source": [
        "sum([[1, 2, 3], [4, 5, 6]], [])\n",
        "\n",
        "[] + [1, 2, 3] == [1, 2, 3]\n",
        "[1, 2, 3] + [4, 5, 6] == [1, 2, 3, 4, 5, 6]"
      ]
    },
    {
      "cell_type": "code",
      "execution_count": null,
      "metadata": {
        "colab": {
          "base_uri": "https://localhost:8080/"
        },
        "id": "SFBphzE4aeSD",
        "outputId": "e3086098-78ae-4110-ccaf-3626c8d78b91"
      },
      "outputs": [
        {
          "name": "stdout",
          "output_type": "stream",
          "text": [
            "10\n"
          ]
        },
        {
          "data": {
            "text/plain": [
              "10"
            ]
          },
          "execution_count": 57,
          "metadata": {},
          "output_type": "execute_result"
        }
      ],
      "source": [
        "# 다른 값이 출력될 수도 있다는 것을 기억해야 합니다.\n",
        "\n",
        "a = 10\n",
        "print(a) # a.__str__\n",
        "a # a.__repr"
      ]
    },
    {
      "cell_type": "code",
      "execution_count": null,
      "metadata": {
        "id": "VeisYUhce4CM"
      },
      "outputs": [],
      "source": [
        "# 실제 Django에서 사용하는 코드\n",
        "class Notice(): # 게시물 클래스\n",
        "    '''\n",
        "    게시물 클래스\n",
        "    '''\n",
        "    def __init__(self, title, contents):\n",
        "        self.title = title\n",
        "        self.contents = contents\n",
        "\n",
        "    def __str__(self):\n",
        "        return self.title\n",
        "\n",
        "    def __repr__(self):\n",
        "        return f'{self.titile}, {self.contents}'\n",
        "\n",
        "게시물1 = Notice('파이썬 재밌당', '내가 알던 파이썬이 아니야...')\n",
        "게시물1 = Notice('Django도 재밌당', '재만이를 잘 못해서 내가 할 수 있을까 생각이 들었는데..')\n",
        "게시물1 = Notice('파이썬 재밌당', '내가 알던 파이썬이 아니야...')\n",
        "\n",
        "\n"
      ]
    },
    {
      "cell_type": "code",
      "execution_count": null,
      "metadata": {
        "colab": {
          "base_uri": "https://localhost:8080/",
          "height": 349
        },
        "id": "Ri-GWPu8fmWV",
        "outputId": "297fcd09-98be-480b-cfc3-d60096994944"
      },
      "outputs": [
        {
          "ename": "AttributeError",
          "evalue": "'Notice' object has no attribute 'titile'",
          "output_type": "error",
          "traceback": [
            "\u001b[0;31m---------------------------------------------------------------------------\u001b[0m",
            "\u001b[0;31mAttributeError\u001b[0m                            Traceback (most recent call last)",
            "\u001b[0;32m<ipython-input-66-dac2029cbeb1>\u001b[0m in \u001b[0;36m<cell line: 3>\u001b[0;34m()\u001b[0m\n\u001b[1;32m      1\u001b[0m \u001b[0;31m# print(게시물1)\u001b[0m\u001b[0;34m\u001b[0m\u001b[0;34m\u001b[0m\u001b[0m\n\u001b[1;32m      2\u001b[0m \u001b[0;31m# 게시물1\u001b[0m\u001b[0;34m\u001b[0m\u001b[0;34m\u001b[0m\u001b[0m\n\u001b[0;32m----> 3\u001b[0;31m \u001b[0mrepr\u001b[0m\u001b[0;34m(\u001b[0m\u001b[0m게시물1\u001b[0m\u001b[0;34m)\u001b[0m\u001b[0;34m\u001b[0m\u001b[0;34m\u001b[0m\u001b[0m\n\u001b[0m",
            "\u001b[0;32m<ipython-input-64-deb87d89d5e4>\u001b[0m in \u001b[0;36m__repr__\u001b[0;34m(self)\u001b[0m\n\u001b[1;32m     12\u001b[0m \u001b[0;34m\u001b[0m\u001b[0m\n\u001b[1;32m     13\u001b[0m     \u001b[0;32mdef\u001b[0m \u001b[0m__repr__\u001b[0m\u001b[0;34m(\u001b[0m\u001b[0mself\u001b[0m\u001b[0;34m)\u001b[0m\u001b[0;34m:\u001b[0m\u001b[0;34m\u001b[0m\u001b[0;34m\u001b[0m\u001b[0m\n\u001b[0;32m---> 14\u001b[0;31m         \u001b[0;32mreturn\u001b[0m \u001b[0;34mf'{self.titile}, {self.contents}'\u001b[0m\u001b[0;34m\u001b[0m\u001b[0;34m\u001b[0m\u001b[0m\n\u001b[0m\u001b[1;32m     15\u001b[0m \u001b[0;34m\u001b[0m\u001b[0m\n\u001b[1;32m     16\u001b[0m \u001b[0m게시물1\u001b[0m \u001b[0;34m=\u001b[0m \u001b[0mNotice\u001b[0m\u001b[0;34m(\u001b[0m\u001b[0;34m'파이썬 재밌당'\u001b[0m\u001b[0;34m,\u001b[0m \u001b[0;34m'내가 알던 파이썬이 아니야...'\u001b[0m\u001b[0;34m)\u001b[0m\u001b[0;34m\u001b[0m\u001b[0;34m\u001b[0m\u001b[0m\n",
            "\u001b[0;31mAttributeError\u001b[0m: 'Notice' object has no attribute 'titile'"
          ]
        }
      ],
      "source": [
        "# print(게시물1)\n",
        "# 게시물1\n",
        "repr(게시물1)"
      ]
    },
    {
      "cell_type": "code",
      "execution_count": null,
      "metadata": {
        "id": "RgbcKAULhU3Z"
      },
      "outputs": [],
      "source": [
        "# 협업에서 3.6이상을 사용하면 참 다행입니다~~\n",
        "# 예를 들어 서비스를 만든지 조금 오래된 'Y기업'등 다른 기업들은\n",
        "# Django를 2.x, 1.x\n",
        "# 실무에 갔을때 2.x 어느정도는 알고 있어야합니다.\n",
        "# match같은 문법은 아직 사용하지못합니다. 2 ~ 3년 뒤에는 사용할 수있습니다."
      ]
    },
    {
      "cell_type": "code",
      "execution_count": null,
      "metadata": {
        "colab": {
          "base_uri": "https://localhost:8080/"
        },
        "id": "lARkezdqg03F",
        "outputId": "cfcec83b-6e30-4143-98cb-6b89a9ce589d"
      },
      "outputs": [
        {
          "data": {
            "text/plain": [
              "range"
            ]
          },
          "execution_count": 69,
          "metadata": {},
          "output_type": "execute_result"
        }
      ],
      "source": [
        "type(range(10)) # range라는 타입입니다."
      ]
    },
    {
      "cell_type": "code",
      "execution_count": null,
      "metadata": {
        "id": "ZR0a83fMhDHY"
      },
      "outputs": [],
      "source": [
        "# # 2.x\n",
        "# range(10)\n",
        "# print(range(10))\n",
        "# print(type(10))\n",
        "\n",
        "# 문제 : range(100000000000000000) -> 메모리를 갯수만큼 한번에 생성을 해야합니다.\n",
        "# 이것을 개선하자는 얘기가 끊잉없이 나왔습니다.\n",
        "# 2.x에서 나온 것이 xrange()입니다. 이것은 특이하게 현재값과 다음값만을 가지고 있어요\n",
        "# 메모리공간은 2칸(실제로는 더 잡아먹습니다.)이 되서 효율적이게 바뀐것입니다.\n",
        "\n",
        "# 3.x에서 range(10000000)\n",
        "# class range로 바뀌게 된 것입니다.\n",
        "# for i range(1000) # 1000개의 메모리를 할당하는 것이 아닙니다.\n",
        "# pass"
      ]
    },
    {
      "cell_type": "code",
      "execution_count": null,
      "metadata": {
        "colab": {
          "base_uri": "https://localhost:8080/"
        },
        "id": "pZH5O43piLPM",
        "outputId": "b676724b-3890-410f-cef6-28bd83eb5518"
      },
      "outputs": [
        {
          "data": {
            "text/plain": [
              "[0,\n",
              " 1,\n",
              " 2,\n",
              " 3,\n",
              " 4,\n",
              " 5,\n",
              " 6,\n",
              " 7,\n",
              " 8,\n",
              " 9,\n",
              " 10,\n",
              " 11,\n",
              " 12,\n",
              " 13,\n",
              " 14,\n",
              " 15,\n",
              " 16,\n",
              " 17,\n",
              " 18,\n",
              " 19,\n",
              " 20,\n",
              " 21,\n",
              " 22,\n",
              " 23,\n",
              " 24,\n",
              " 25,\n",
              " 26,\n",
              " 27,\n",
              " 28,\n",
              " 29,\n",
              " 30,\n",
              " 31,\n",
              " 32,\n",
              " 33,\n",
              " 34,\n",
              " 35,\n",
              " 36,\n",
              " 37,\n",
              " 38,\n",
              " 39,\n",
              " 40,\n",
              " 41,\n",
              " 42,\n",
              " 43,\n",
              " 44,\n",
              " 45,\n",
              " 46,\n",
              " 47,\n",
              " 48,\n",
              " 49,\n",
              " 50,\n",
              " 51,\n",
              " 52,\n",
              " 53,\n",
              " 54,\n",
              " 55,\n",
              " 56,\n",
              " 57,\n",
              " 58,\n",
              " 59,\n",
              " 60,\n",
              " 61,\n",
              " 62,\n",
              " 63,\n",
              " 64,\n",
              " 65,\n",
              " 66,\n",
              " 67,\n",
              " 68,\n",
              " 69,\n",
              " 70,\n",
              " 71,\n",
              " 72,\n",
              " 73,\n",
              " 74,\n",
              " 75,\n",
              " 76,\n",
              " 77,\n",
              " 78,\n",
              " 79,\n",
              " 80,\n",
              " 81,\n",
              " 82,\n",
              " 83,\n",
              " 84,\n",
              " 85,\n",
              " 86,\n",
              " 87,\n",
              " 88,\n",
              " 89,\n",
              " 90,\n",
              " 91,\n",
              " 92,\n",
              " 93,\n",
              " 94,\n",
              " 95,\n",
              " 96,\n",
              " 97,\n",
              " 98,\n",
              " 99,\n",
              " 100,\n",
              " 101,\n",
              " 102,\n",
              " 103,\n",
              " 104,\n",
              " 105,\n",
              " 106,\n",
              " 107,\n",
              " 108,\n",
              " 109,\n",
              " 110,\n",
              " 111,\n",
              " 112,\n",
              " 113,\n",
              " 114,\n",
              " 115,\n",
              " 116,\n",
              " 117,\n",
              " 118,\n",
              " 119,\n",
              " 120,\n",
              " 121,\n",
              " 122,\n",
              " 123,\n",
              " 124,\n",
              " 125,\n",
              " 126,\n",
              " 127,\n",
              " 128,\n",
              " 129,\n",
              " 130,\n",
              " 131,\n",
              " 132,\n",
              " 133,\n",
              " 134,\n",
              " 135,\n",
              " 136,\n",
              " 137,\n",
              " 138,\n",
              " 139,\n",
              " 140,\n",
              " 141,\n",
              " 142,\n",
              " 143,\n",
              " 144,\n",
              " 145,\n",
              " 146,\n",
              " 147,\n",
              " 148,\n",
              " 149,\n",
              " 150,\n",
              " 151,\n",
              " 152,\n",
              " 153,\n",
              " 154,\n",
              " 155,\n",
              " 156,\n",
              " 157,\n",
              " 158,\n",
              " 159,\n",
              " 160,\n",
              " 161,\n",
              " 162,\n",
              " 163,\n",
              " 164,\n",
              " 165,\n",
              " 166,\n",
              " 167,\n",
              " 168,\n",
              " 169,\n",
              " 170,\n",
              " 171,\n",
              " 172,\n",
              " 173,\n",
              " 174,\n",
              " 175,\n",
              " 176,\n",
              " 177,\n",
              " 178,\n",
              " 179,\n",
              " 180,\n",
              " 181,\n",
              " 182,\n",
              " 183,\n",
              " 184,\n",
              " 185,\n",
              " 186,\n",
              " 187,\n",
              " 188,\n",
              " 189,\n",
              " 190,\n",
              " 191,\n",
              " 192,\n",
              " 193,\n",
              " 194,\n",
              " 195,\n",
              " 196,\n",
              " 197,\n",
              " 198,\n",
              " 199,\n",
              " 200,\n",
              " 201,\n",
              " 202,\n",
              " 203,\n",
              " 204,\n",
              " 205,\n",
              " 206,\n",
              " 207,\n",
              " 208,\n",
              " 209,\n",
              " 210,\n",
              " 211,\n",
              " 212,\n",
              " 213,\n",
              " 214,\n",
              " 215,\n",
              " 216,\n",
              " 217,\n",
              " 218,\n",
              " 219,\n",
              " 220,\n",
              " 221,\n",
              " 222,\n",
              " 223,\n",
              " 224,\n",
              " 225,\n",
              " 226,\n",
              " 227,\n",
              " 228,\n",
              " 229,\n",
              " 230,\n",
              " 231,\n",
              " 232,\n",
              " 233,\n",
              " 234,\n",
              " 235,\n",
              " 236,\n",
              " 237,\n",
              " 238,\n",
              " 239,\n",
              " 240,\n",
              " 241,\n",
              " 242,\n",
              " 243,\n",
              " 244,\n",
              " 245,\n",
              " 246,\n",
              " 247,\n",
              " 248,\n",
              " 249,\n",
              " 250,\n",
              " 251,\n",
              " 252,\n",
              " 253,\n",
              " 254,\n",
              " 255,\n",
              " 256,\n",
              " 257,\n",
              " 258,\n",
              " 259,\n",
              " 260,\n",
              " 261,\n",
              " 262,\n",
              " 263,\n",
              " 264,\n",
              " 265,\n",
              " 266,\n",
              " 267,\n",
              " 268,\n",
              " 269,\n",
              " 270,\n",
              " 271,\n",
              " 272,\n",
              " 273,\n",
              " 274,\n",
              " 275,\n",
              " 276,\n",
              " 277,\n",
              " 278,\n",
              " 279,\n",
              " 280,\n",
              " 281,\n",
              " 282,\n",
              " 283,\n",
              " 284,\n",
              " 285,\n",
              " 286,\n",
              " 287,\n",
              " 288,\n",
              " 289,\n",
              " 290,\n",
              " 291,\n",
              " 292,\n",
              " 293,\n",
              " 294,\n",
              " 295,\n",
              " 296,\n",
              " 297,\n",
              " 298,\n",
              " 299,\n",
              " 300,\n",
              " 301,\n",
              " 302,\n",
              " 303,\n",
              " 304,\n",
              " 305,\n",
              " 306,\n",
              " 307,\n",
              " 308,\n",
              " 309,\n",
              " 310,\n",
              " 311,\n",
              " 312,\n",
              " 313,\n",
              " 314,\n",
              " 315,\n",
              " 316,\n",
              " 317,\n",
              " 318,\n",
              " 319,\n",
              " 320,\n",
              " 321,\n",
              " 322,\n",
              " 323,\n",
              " 324,\n",
              " 325,\n",
              " 326,\n",
              " 327,\n",
              " 328,\n",
              " 329,\n",
              " 330,\n",
              " 331,\n",
              " 332,\n",
              " 333,\n",
              " 334,\n",
              " 335,\n",
              " 336,\n",
              " 337,\n",
              " 338,\n",
              " 339,\n",
              " 340,\n",
              " 341,\n",
              " 342,\n",
              " 343,\n",
              " 344,\n",
              " 345,\n",
              " 346,\n",
              " 347,\n",
              " 348,\n",
              " 349,\n",
              " 350,\n",
              " 351,\n",
              " 352,\n",
              " 353,\n",
              " 354,\n",
              " 355,\n",
              " 356,\n",
              " 357,\n",
              " 358,\n",
              " 359,\n",
              " 360,\n",
              " 361,\n",
              " 362,\n",
              " 363,\n",
              " 364,\n",
              " 365,\n",
              " 366,\n",
              " 367,\n",
              " 368,\n",
              " 369,\n",
              " 370,\n",
              " 371,\n",
              " 372,\n",
              " 373,\n",
              " 374,\n",
              " 375,\n",
              " 376,\n",
              " 377,\n",
              " 378,\n",
              " 379,\n",
              " 380,\n",
              " 381,\n",
              " 382,\n",
              " 383,\n",
              " 384,\n",
              " 385,\n",
              " 386,\n",
              " 387,\n",
              " 388,\n",
              " 389,\n",
              " 390,\n",
              " 391,\n",
              " 392,\n",
              " 393,\n",
              " 394,\n",
              " 395,\n",
              " 396,\n",
              " 397,\n",
              " 398,\n",
              " 399,\n",
              " 400,\n",
              " 401,\n",
              " 402,\n",
              " 403,\n",
              " 404,\n",
              " 405,\n",
              " 406,\n",
              " 407,\n",
              " 408,\n",
              " 409,\n",
              " 410,\n",
              " 411,\n",
              " 412,\n",
              " 413,\n",
              " 414,\n",
              " 415,\n",
              " 416,\n",
              " 417,\n",
              " 418,\n",
              " 419,\n",
              " 420,\n",
              " 421,\n",
              " 422,\n",
              " 423,\n",
              " 424,\n",
              " 425,\n",
              " 426,\n",
              " 427,\n",
              " 428,\n",
              " 429,\n",
              " 430,\n",
              " 431,\n",
              " 432,\n",
              " 433,\n",
              " 434,\n",
              " 435,\n",
              " 436,\n",
              " 437,\n",
              " 438,\n",
              " 439,\n",
              " 440,\n",
              " 441,\n",
              " 442,\n",
              " 443,\n",
              " 444,\n",
              " 445,\n",
              " 446,\n",
              " 447,\n",
              " 448,\n",
              " 449,\n",
              " 450,\n",
              " 451,\n",
              " 452,\n",
              " 453,\n",
              " 454,\n",
              " 455,\n",
              " 456,\n",
              " 457,\n",
              " 458,\n",
              " 459,\n",
              " 460,\n",
              " 461,\n",
              " 462,\n",
              " 463,\n",
              " 464,\n",
              " 465,\n",
              " 466,\n",
              " 467,\n",
              " 468,\n",
              " 469,\n",
              " 470,\n",
              " 471,\n",
              " 472,\n",
              " 473,\n",
              " 474,\n",
              " 475,\n",
              " 476,\n",
              " 477,\n",
              " 478,\n",
              " 479,\n",
              " 480,\n",
              " 481,\n",
              " 482,\n",
              " 483,\n",
              " 484,\n",
              " 485,\n",
              " 486,\n",
              " 487,\n",
              " 488,\n",
              " 489,\n",
              " 490,\n",
              " 491,\n",
              " 492,\n",
              " 493,\n",
              " 494,\n",
              " 495,\n",
              " 496,\n",
              " 497,\n",
              " 498,\n",
              " 499,\n",
              " 500,\n",
              " 501,\n",
              " 502,\n",
              " 503,\n",
              " 504,\n",
              " 505,\n",
              " 506,\n",
              " 507,\n",
              " 508,\n",
              " 509,\n",
              " 510,\n",
              " 511,\n",
              " 512,\n",
              " 513,\n",
              " 514,\n",
              " 515,\n",
              " 516,\n",
              " 517,\n",
              " 518,\n",
              " 519,\n",
              " 520,\n",
              " 521,\n",
              " 522,\n",
              " 523,\n",
              " 524,\n",
              " 525,\n",
              " 526,\n",
              " 527,\n",
              " 528,\n",
              " 529,\n",
              " 530,\n",
              " 531,\n",
              " 532,\n",
              " 533,\n",
              " 534,\n",
              " 535,\n",
              " 536,\n",
              " 537,\n",
              " 538,\n",
              " 539,\n",
              " 540,\n",
              " 541,\n",
              " 542,\n",
              " 543,\n",
              " 544,\n",
              " 545,\n",
              " 546,\n",
              " 547,\n",
              " 548,\n",
              " 549,\n",
              " 550,\n",
              " 551,\n",
              " 552,\n",
              " 553,\n",
              " 554,\n",
              " 555,\n",
              " 556,\n",
              " 557,\n",
              " 558,\n",
              " 559,\n",
              " 560,\n",
              " 561,\n",
              " 562,\n",
              " 563,\n",
              " 564,\n",
              " 565,\n",
              " 566,\n",
              " 567,\n",
              " 568,\n",
              " 569,\n",
              " 570,\n",
              " 571,\n",
              " 572,\n",
              " 573,\n",
              " 574,\n",
              " 575,\n",
              " 576,\n",
              " 577,\n",
              " 578,\n",
              " 579,\n",
              " 580,\n",
              " 581,\n",
              " 582,\n",
              " 583,\n",
              " 584,\n",
              " 585,\n",
              " 586,\n",
              " 587,\n",
              " 588,\n",
              " 589,\n",
              " 590,\n",
              " 591,\n",
              " 592,\n",
              " 593,\n",
              " 594,\n",
              " 595,\n",
              " 596,\n",
              " 597,\n",
              " 598,\n",
              " 599,\n",
              " 600,\n",
              " 601,\n",
              " 602,\n",
              " 603,\n",
              " 604,\n",
              " 605,\n",
              " 606,\n",
              " 607,\n",
              " 608,\n",
              " 609,\n",
              " 610,\n",
              " 611,\n",
              " 612,\n",
              " 613,\n",
              " 614,\n",
              " 615,\n",
              " 616,\n",
              " 617,\n",
              " 618,\n",
              " 619,\n",
              " 620,\n",
              " 621,\n",
              " 622,\n",
              " 623,\n",
              " 624,\n",
              " 625,\n",
              " 626,\n",
              " 627,\n",
              " 628,\n",
              " 629,\n",
              " 630,\n",
              " 631,\n",
              " 632,\n",
              " 633,\n",
              " 634,\n",
              " 635,\n",
              " 636,\n",
              " 637,\n",
              " 638,\n",
              " 639,\n",
              " 640,\n",
              " 641,\n",
              " 642,\n",
              " 643,\n",
              " 644,\n",
              " 645,\n",
              " 646,\n",
              " 647,\n",
              " 648,\n",
              " 649,\n",
              " 650,\n",
              " 651,\n",
              " 652,\n",
              " 653,\n",
              " 654,\n",
              " 655,\n",
              " 656,\n",
              " 657,\n",
              " 658,\n",
              " 659,\n",
              " 660,\n",
              " 661,\n",
              " 662,\n",
              " 663,\n",
              " 664,\n",
              " 665,\n",
              " 666,\n",
              " 667,\n",
              " 668,\n",
              " 669,\n",
              " 670,\n",
              " 671,\n",
              " 672,\n",
              " 673,\n",
              " 674,\n",
              " 675,\n",
              " 676,\n",
              " 677,\n",
              " 678,\n",
              " 679,\n",
              " 680,\n",
              " 681,\n",
              " 682,\n",
              " 683,\n",
              " 684,\n",
              " 685,\n",
              " 686,\n",
              " 687,\n",
              " 688,\n",
              " 689,\n",
              " 690,\n",
              " 691,\n",
              " 692,\n",
              " 693,\n",
              " 694,\n",
              " 695,\n",
              " 696,\n",
              " 697,\n",
              " 698,\n",
              " 699,\n",
              " 700,\n",
              " 701,\n",
              " 702,\n",
              " 703,\n",
              " 704,\n",
              " 705,\n",
              " 706,\n",
              " 707,\n",
              " 708,\n",
              " 709,\n",
              " 710,\n",
              " 711,\n",
              " 712,\n",
              " 713,\n",
              " 714,\n",
              " 715,\n",
              " 716,\n",
              " 717,\n",
              " 718,\n",
              " 719,\n",
              " 720,\n",
              " 721,\n",
              " 722,\n",
              " 723,\n",
              " 724,\n",
              " 725,\n",
              " 726,\n",
              " 727,\n",
              " 728,\n",
              " 729,\n",
              " 730,\n",
              " 731,\n",
              " 732,\n",
              " 733,\n",
              " 734,\n",
              " 735,\n",
              " 736,\n",
              " 737,\n",
              " 738,\n",
              " 739,\n",
              " 740,\n",
              " 741,\n",
              " 742,\n",
              " 743,\n",
              " 744,\n",
              " 745,\n",
              " 746,\n",
              " 747,\n",
              " 748,\n",
              " 749,\n",
              " 750,\n",
              " 751,\n",
              " 752,\n",
              " 753,\n",
              " 754,\n",
              " 755,\n",
              " 756,\n",
              " 757,\n",
              " 758,\n",
              " 759,\n",
              " 760,\n",
              " 761,\n",
              " 762,\n",
              " 763,\n",
              " 764,\n",
              " 765,\n",
              " 766,\n",
              " 767,\n",
              " 768,\n",
              " 769,\n",
              " 770,\n",
              " 771,\n",
              " 772,\n",
              " 773,\n",
              " 774,\n",
              " 775,\n",
              " 776,\n",
              " 777,\n",
              " 778,\n",
              " 779,\n",
              " 780,\n",
              " 781,\n",
              " 782,\n",
              " 783,\n",
              " 784,\n",
              " 785,\n",
              " 786,\n",
              " 787,\n",
              " 788,\n",
              " 789,\n",
              " 790,\n",
              " 791,\n",
              " 792,\n",
              " 793,\n",
              " 794,\n",
              " 795,\n",
              " 796,\n",
              " 797,\n",
              " 798,\n",
              " 799,\n",
              " 800,\n",
              " 801,\n",
              " 802,\n",
              " 803,\n",
              " 804,\n",
              " 805,\n",
              " 806,\n",
              " 807,\n",
              " 808,\n",
              " 809,\n",
              " 810,\n",
              " 811,\n",
              " 812,\n",
              " 813,\n",
              " 814,\n",
              " 815,\n",
              " 816,\n",
              " 817,\n",
              " 818,\n",
              " 819,\n",
              " 820,\n",
              " 821,\n",
              " 822,\n",
              " 823,\n",
              " 824,\n",
              " 825,\n",
              " 826,\n",
              " 827,\n",
              " 828,\n",
              " 829,\n",
              " 830,\n",
              " 831,\n",
              " 832,\n",
              " 833,\n",
              " 834,\n",
              " 835,\n",
              " 836,\n",
              " 837,\n",
              " 838,\n",
              " 839,\n",
              " 840,\n",
              " 841,\n",
              " 842,\n",
              " 843,\n",
              " 844,\n",
              " 845,\n",
              " 846,\n",
              " 847,\n",
              " 848,\n",
              " 849,\n",
              " 850,\n",
              " 851,\n",
              " 852,\n",
              " 853,\n",
              " 854,\n",
              " 855,\n",
              " 856,\n",
              " 857,\n",
              " 858,\n",
              " 859,\n",
              " 860,\n",
              " 861,\n",
              " 862,\n",
              " 863,\n",
              " 864,\n",
              " 865,\n",
              " 866,\n",
              " 867,\n",
              " 868,\n",
              " 869,\n",
              " 870,\n",
              " 871,\n",
              " 872,\n",
              " 873,\n",
              " 874,\n",
              " 875,\n",
              " 876,\n",
              " 877,\n",
              " 878,\n",
              " 879,\n",
              " 880,\n",
              " 881,\n",
              " 882,\n",
              " 883,\n",
              " 884,\n",
              " 885,\n",
              " 886,\n",
              " 887,\n",
              " 888,\n",
              " 889,\n",
              " 890,\n",
              " 891,\n",
              " 892,\n",
              " 893,\n",
              " 894,\n",
              " 895,\n",
              " 896,\n",
              " 897,\n",
              " 898,\n",
              " 899,\n",
              " 900,\n",
              " 901,\n",
              " 902,\n",
              " 903,\n",
              " 904,\n",
              " 905,\n",
              " 906,\n",
              " 907,\n",
              " 908,\n",
              " 909,\n",
              " 910,\n",
              " 911,\n",
              " 912,\n",
              " 913,\n",
              " 914,\n",
              " 915,\n",
              " 916,\n",
              " 917,\n",
              " 918,\n",
              " 919,\n",
              " 920,\n",
              " 921,\n",
              " 922,\n",
              " 923,\n",
              " 924,\n",
              " 925,\n",
              " 926,\n",
              " 927,\n",
              " 928,\n",
              " 929,\n",
              " 930,\n",
              " 931,\n",
              " 932,\n",
              " 933,\n",
              " 934,\n",
              " 935,\n",
              " 936,\n",
              " 937,\n",
              " 938,\n",
              " 939,\n",
              " 940,\n",
              " 941,\n",
              " 942,\n",
              " 943,\n",
              " 944,\n",
              " 945,\n",
              " 946,\n",
              " 947,\n",
              " 948,\n",
              " 949,\n",
              " 950,\n",
              " 951,\n",
              " 952,\n",
              " 953,\n",
              " 954,\n",
              " 955,\n",
              " 956,\n",
              " 957,\n",
              " 958,\n",
              " 959,\n",
              " 960,\n",
              " 961,\n",
              " 962,\n",
              " 963,\n",
              " 964,\n",
              " 965,\n",
              " 966,\n",
              " 967,\n",
              " 968,\n",
              " 969,\n",
              " 970,\n",
              " 971,\n",
              " 972,\n",
              " 973,\n",
              " 974,\n",
              " 975,\n",
              " 976,\n",
              " 977,\n",
              " 978,\n",
              " 979,\n",
              " 980,\n",
              " 981,\n",
              " 982,\n",
              " 983,\n",
              " 984,\n",
              " 985,\n",
              " 986,\n",
              " 987,\n",
              " 988,\n",
              " 989,\n",
              " 990,\n",
              " 991,\n",
              " 992,\n",
              " 993,\n",
              " 994,\n",
              " 995,\n",
              " 996,\n",
              " 997,\n",
              " 998,\n",
              " 999]"
            ]
          },
          "execution_count": 72,
          "metadata": {},
          "output_type": "execute_result"
        }
      ],
      "source": [
        "list(range(1000)) # 메모리 큰 부하를 줍니다!"
      ]
    },
    {
      "cell_type": "code",
      "execution_count": null,
      "metadata": {
        "colab": {
          "base_uri": "https://localhost:8080/"
        },
        "id": "lunBeMp-jUP_",
        "outputId": "2d6af301-8215-4fee-f16a-a82249e0c8ba"
      },
      "outputs": [
        {
          "data": {
            "text/plain": [
              "499500"
            ]
          },
          "execution_count": 73,
          "metadata": {},
          "output_type": "execute_result"
        }
      ],
      "source": [
        "sum(range(1000))"
      ]
    },
    {
      "cell_type": "code",
      "execution_count": null,
      "metadata": {
        "colab": {
          "base_uri": "https://localhost:8080/"
        },
        "id": "39BRoWhGjaTq",
        "outputId": "660f324b-61cb-43a0-8203-57444eecf42e"
      },
      "outputs": [
        {
          "data": {
            "text/plain": [
              "499500"
            ]
          },
          "execution_count": 74,
          "metadata": {},
          "output_type": "execute_result"
        }
      ],
      "source": [
        "sum(list(range(1000))) #메모리 부하가 큽니다."
      ]
    },
    {
      "cell_type": "code",
      "execution_count": null,
      "metadata": {
        "colab": {
          "base_uri": "https://localhost:8080/"
        },
        "id": "_pQozQTojgMz",
        "outputId": "a4cbffa4-ad6a-4e2c-9d47-7eb551b277bf"
      },
      "outputs": [
        {
          "name": "stdout",
          "output_type": "stream",
          "text": [
            "[(0, 'A'), (1, 'B'), (2, 'C'), (3, 'D')]\n",
            "[(1, 'A'), (2, 'B'), (3, 'C'), (4, 'D')]\n"
          ]
        }
      ],
      "source": [
        "values = ['A', 'B', 'C', 'D']\n",
        "print(list(enumerate(values)))\n",
        "print(list(enumerate(values, 1))) # 시작값 넣는 것 많이 사용합니다. 기억해두세요."
      ]
    },
    {
      "cell_type": "code",
      "execution_count": null,
      "metadata": {
        "colab": {
          "base_uri": "https://localhost:8080/"
        },
        "id": "1XrJrv-qkoLO",
        "outputId": "556afa49-cdff-4d1d-a4ce-3acacabdeac1"
      },
      "outputs": [
        {
          "data": {
            "text/plain": [
              "[5, 4, 3, 2, 1]"
            ]
          },
          "execution_count": 76,
          "metadata": {},
          "output_type": "execute_result"
        }
      ],
      "source": [
        "list(reversed([1, 2, 3, 4, 5]))"
      ]
    },
    {
      "cell_type": "code",
      "execution_count": null,
      "metadata": {
        "colab": {
          "base_uri": "https://localhost:8080/"
        },
        "id": "eEJ5xHM6kzvB",
        "outputId": "6b47a86d-7077-4a62-c426-1654da7ffb34"
      },
      "outputs": [
        {
          "data": {
            "text/plain": [
              "[1, 2, 3, 4, 5]"
            ]
          },
          "execution_count": 77,
          "metadata": {},
          "output_type": "execute_result"
        }
      ],
      "source": [
        "sorted([1, 2, 3, 4, 5]) # 왜 sorted만 자료형으로 주나요?,\n",
        "#reversed나 map.filter나 이런건 모두 메모리 주소를 가리키는데?\n",
        "# 정답:(추호에 심화 과정에서 강의합니다.) 메모리의 효율성 때문입니다."
      ]
    },
    {
      "cell_type": "markdown",
      "metadata": {
        "id": "yvN_TMp4l6sZ"
      },
      "source": [
        "# match\n",
        "\n",
        "* 2024에는 중요도가 별포 0.5개 정도 되고\n",
        "* 2 ~ 3년 후에는 중요도가 3 ~ 4개정도로 올라갈 것으로 보입니다.\n",
        "* 속도가 매우 빨라야 하는 프로젝트를 여러분이하게 되었습니다. 그렇가면 match문법을 사용할 수는 있습니다. 다만 권고하기 어렵습니다."
      ]
    },
    {
      "cell_type": "code",
      "execution_count": null,
      "metadata": {
        "colab": {
          "base_uri": "https://localhost:8080/"
        },
        "id": "M9yCkSpMlOkD",
        "outputId": "c30f9421-1484-428f-a355-614f59dc936f"
      },
      "outputs": [
        {
          "name": "stdout",
          "output_type": "stream",
          "text": [
            "수요일\n"
          ]
        }
      ],
      "source": [
        "# 제가 반대하는 이유\n",
        "# 타 언어에 비해서 불편한 점\n",
        "\n",
        "\n",
        "요일 = 3\n",
        "match 요일:\n",
        "    case 0:\n",
        "        print('일요일')\n",
        "    case 1:\n",
        "        print('월요일')\n",
        "    case 2:\n",
        "        print('화요일')\n",
        "    case 3:\n",
        "        print('수요일')\n",
        "    case 4:\n",
        "        print('목요일')\n",
        "    case 5:\n",
        "        print('금요일')\n",
        "    case 6:\n",
        "        print('토요일')\n",
        "    case _:\n",
        "        print('요일없음')\n",
        "\n",
        "# 요일 = 3\n",
        "# match 요일:\n",
        "#     case 0:\n",
        "#         print('일요일')\n",
        "#     case 1:\n",
        "#         print('월요일')\n",
        "#     case 2:\n",
        "#         print('화요일')\n",
        "#     case 3: # 다른 언어에서는 이 문법이 가능합니다.\n",
        "\n",
        "#     case 4:\n",
        "#         print('목요일')\n",
        "#     case 5:\n",
        "#         print('금요일')\n",
        "#     case 6:\n",
        "#         print('토요일')"
      ]
    },
    {
      "cell_type": "code",
      "execution_count": null,
      "metadata": {
        "colab": {
          "base_uri": "https://localhost:8080/"
        },
        "id": "ugQLGA07n-pg",
        "outputId": "e5161c51-2861-49f4-83f3-4a89925d6b6f"
      },
      "outputs": [
        {
          "name": "stdout",
          "output_type": "stream",
          "text": [
            "1, 2\n"
          ]
        }
      ],
      "source": [
        "text = '1'\n",
        "match text:\n",
        "    case '1' | '2':\n",
        "        print('1, 2')\n",
        "    case _:\n",
        "        print('No Match')"
      ]
    },
    {
      "cell_type": "code",
      "execution_count": null,
      "metadata": {
        "colab": {
          "base_uri": "https://localhost:8080/",
          "height": 35
        },
        "id": "t-dGbqNMoh2f",
        "outputId": "ae0eef10-f049-4399-e426-efad1b0aef4b"
      },
      "outputs": [
        {
          "data": {
            "application/vnd.google.colaboratory.intrinsic+json": {
              "type": "string"
            },
            "text/plain": [
              "'요일없음'"
            ]
          },
          "execution_count": 82,
          "metadata": {},
          "output_type": "execute_result"
        }
      ],
      "source": [
        "# 오히려 이코드보다 아래 코드를 더 많이 만나게 될것임\n",
        "def 요일반환(요일):\n",
        "    return {\n",
        "        0: '일요일',\n",
        "        1: '일요일',\n",
        "        2: '일요일',\n",
        "        3: '일요일',\n",
        "        4: '일요일',\n",
        "        5: '일요일',\n",
        "        6: '일요일',\n",
        "    }.get(요일, '요일없음')\n",
        "\n",
        "요일반환(2)\n",
        "요일반환(100)"
      ]
    },
    {
      "cell_type": "markdown",
      "metadata": {
        "id": "5qs2Qd3j8BKr"
      },
      "source": [
        "# class\n",
        "\n",
        "* class 이론을 여러권 + chatGPT + 유튜브를 보시는 것 보다는\n",
        "* 여러개를 만들어보세요. ChatGPT에게 여러개의 클래스를\n",
        "추천받고, ChatGPT에게 짜달라고 해서 그것을 타이핑해보시는 것도 많은 도움이 될겁니다.\n",
        "* 결론:많은 것을 만들어 보셔야 합니다."
      ]
    },
    {
      "cell_type": "markdown",
      "metadata": {
        "id": "wCO-UJA48rmd"
      },
      "source": [
        "* class 클래스이름 -> 인스턴스\n",
        "* class Blog -> 게시물1, 게시물2, 게시물3\n",
        "* class Dot -> 점1, 점2, 점3...\n",
        "* class Matrix -> 행렬 1, 행렬2, 행렬3\n",
        "* class Cart -> Cart1, Cart2, Cart3\n",
        "* class Comment(댓글) -> 댓글1, 댓글2, 댓글3\n",
        "* class Character -> Licaat(주인공), Lion(빌런), Mob1(몬스터)\n",
        "* class Product -> 상품1, 상품2, 상품3...\n",
        "* class Class_ -> 강의, 강의2, 강의3\n",
        "* class Teacher => 강사1, 강사2, 강사3\n"
      ]
    },
    {
      "cell_type": "code",
      "execution_count": null,
      "metadata": {
        "colab": {
          "base_uri": "https://localhost:8080/"
        },
        "id": "P3ibO9oF-P8m",
        "outputId": "baf665ac-5a3d-4962-9740-2edea2b12356"
      },
      "outputs": [
        {
          "data": {
            "text/plain": [
              "100"
            ]
          },
          "execution_count": 84,
          "metadata": {},
          "output_type": "execute_result"
        }
      ],
      "source": [
        "# 0번: 기초상식\n",
        "# 0.0 __init__ 매직메서드는 없어도 되나요?\n",
        "\n",
        "class 우편번호:\n",
        "    제주도 = 100\n",
        "    경기도 = 100\n",
        "    전라북도 = 102\n",
        "    전라남도 = 103\n",
        "\n",
        "우편번호.제주도\n",
        "# 왜 이걸 딕셔너리로 만들지 않고 class로만드나요\n",
        "# 재사용성 + 확장성"
      ]
    },
    {
      "cell_type": "code",
      "execution_count": null,
      "metadata": {
        "colab": {
          "base_uri": "https://localhost:8080/"
        },
        "id": "4IzQQcQYDSZw",
        "outputId": "6c72c664-3716-4753-bdba-4a95b3ab7b08"
      },
      "outputs": [
        {
          "data": {
            "text/plain": [
              "datetime.datetime(2024, 1, 11, 5, 45, 46, 871417)"
            ]
          },
          "execution_count": 88,
          "metadata": {},
          "output_type": "execute_result"
        }
      ],
      "source": [
        "from datetime import datetime\n",
        "\n",
        "datetime.now()"
      ]
    },
    {
      "cell_type": "code",
      "execution_count": null,
      "metadata": {
        "colab": {
          "base_uri": "https://localhost:8080/"
        },
        "id": "HJWkMASlAts4",
        "outputId": "96aca61e-2838-447b-86ce-b335d0b28cb0"
      },
      "outputs": [
        {
          "name": "stdout",
          "output_type": "stream",
          "text": [
            "파이썬은 참 깊군요!\n",
            "파이썬은 참 깊군요!\n",
            "파이썬은 참 깊군요!2\n"
          ]
        },
        {
          "data": {
            "text/plain": [
              "False"
            ]
          },
          "execution_count": 101,
          "metadata": {},
          "output_type": "execute_result"
        }
      ],
      "source": [
        "# 1번\n",
        "# 클래스를 설계하실 때\n",
        "# 첫 번째로 - 모든 인스턴스에서 공유해야할 변수(클래스 변수)나 메서드 설정\n",
        "# 두 번째로 - 인스턴스 고유의 영역\n",
        "# in_crerate_at(스네이크 표기법) - 파이썬 권고사항\n",
        "# inCreatedAt(카멜 표기법) - 파이썬에서는 잘 사용하지 않습니다.(JavaScript에서는 많이 사용합니다.)\n",
        "# InCreatedAt(파스칼 표기법) - 파이썬 클래스\n",
        "\n",
        "# 1번\n",
        "# 클래스를 설계하실 때\n",
        "# 첫 번째로 - 모든 인스턴스에서 공유해야할 변수(클래스 변수)나 메서드 설정\n",
        "# 두 번째로 - 인스턴스 고유의 영역\n",
        "# in_crerate_at(스네이크 표기법) - 파이썬 권고사항\n",
        "# inCreatedAt(카멜 표기법) - 파이썬에서는 잘 사용하지 않습니다.(JavaScript에서는 많이 사용합니다.)\n",
        "# InCreatedAt(파스칼 표기법) - 파이썬 클래스\n",
        "\n",
        "class Post:\n",
        "    def __init__(\n",
        "            self,\n",
        "            in_title='',\n",
        "            in_contents='',\n",
        "            in_count=0,\n",
        "            in_crerate_at='',\n",
        "            in_updated_at='',\n",
        "            in_author=''\n",
        "        ):\n",
        "        self.title = in_title\n",
        "        self.contents = in_contents\n",
        "        self.count = in_count\n",
        "        self.created_at = in_crerate_at\n",
        "        self.updated_at = in_updated_at\n",
        "        self.author = in_author\n",
        "    def __str__(self):\n",
        "        return self.title\n",
        "\n",
        "    def __repr__(self):\n",
        "        return self.title\n",
        "\n",
        "    def __add__(self, next):\n",
        "        # return self.count + next.count\n",
        "        return self.title + next.title\n",
        "\n",
        "    def __len__(self):\n",
        "        pass\n",
        "\n",
        "    def __eq__(self, next):\n",
        "        return self.title == next.title\n",
        "\n",
        "    def update(self, in_contents):\n",
        "        self.contents = in_contents\n",
        "        return '게시물 수정에 성공했습니다! 200'\n",
        "\n",
        "    def delete(self):\n",
        "        pass\n",
        "\n",
        "게시물1 = Post('파이썬은 참 깊군요!',\n",
        "            '오늘은 파이썬 클래스를 배웠는데 너무 어렵기도 하고, 신기했습니다.',\n",
        "            0,\n",
        "            '2024-01-11',\n",
        "            '2024-01-11',\n",
        "            '이호준')\n",
        "\n",
        "게시물2 = Post('2', '22', 0, '2024-01-11', '2024-01-11', '이규성')\n",
        "\n",
        "print(게시물1)\n",
        "print(게시물1.title)\n",
        "print(게시물1 + 게시물2) # +연산이 나오면 앞(게시물 1)\n",
        "게시물1.update('hello world')\n",
        "게시물1.contents\n",
        "\n",
        "게시물1 == 게시물2"
      ]
    },
    {
      "cell_type": "code",
      "execution_count": null,
      "metadata": {
        "colab": {
          "base_uri": "https://localhost:8080/"
        },
        "id": "Rd87q2nzCXoy",
        "outputId": "9ae1247c-cbdc-480f-c2a5-3a012eb65606"
      },
      "outputs": [
        {
          "data": {
            "text/plain": [
              "47"
            ]
          },
          "execution_count": 98,
          "metadata": {},
          "output_type": "execute_result"
        }
      ],
      "source": [
        "l = [10, 20, 30]\n",
        "len(dir(l))"
      ]
    },
    {
      "cell_type": "code",
      "execution_count": null,
      "metadata": {
        "colab": {
          "base_uri": "https://localhost:8080/"
        },
        "id": "phU_vrgrLX3z",
        "outputId": "a4986287-a91b-40f4-d580-394355500698"
      },
      "outputs": [
        {
          "data": {
            "text/plain": [
              "['__add__',\n",
              " '__class__',\n",
              " '__delattr__',\n",
              " '__dict__',\n",
              " '__dir__',\n",
              " '__doc__',\n",
              " '__eq__',\n",
              " '__format__',\n",
              " '__ge__',\n",
              " '__getattribute__',\n",
              " '__gt__',\n",
              " '__hash__',\n",
              " '__init__',\n",
              " '__init_subclass__',\n",
              " '__le__',\n",
              " '__len__',\n",
              " '__lt__',\n",
              " '__module__',\n",
              " '__ne__',\n",
              " '__new__',\n",
              " '__reduce__',\n",
              " '__reduce_ex__',\n",
              " '__repr__',\n",
              " '__setattr__',\n",
              " '__sizeof__',\n",
              " '__str__',\n",
              " '__subclasshook__',\n",
              " '__weakref__',\n",
              " 'author',\n",
              " 'contents',\n",
              " 'count',\n",
              " 'created_at',\n",
              " 'delete',\n",
              " 'title',\n",
              " 'update',\n",
              " 'updated_at']"
            ]
          },
          "execution_count": 99,
          "metadata": {},
          "output_type": "execute_result"
        }
      ],
      "source": [
        "dir(게시물2)"
      ]
    },
    {
      "cell_type": "code",
      "execution_count": null,
      "metadata": {
        "colab": {
          "base_uri": "https://localhost:8080/"
        },
        "id": "epv_iNNZLdxF",
        "outputId": "b4987f94-db5e-4b1d-e9c8-45cf58aa6480"
      },
      "outputs": [
        {
          "name": "stdout",
          "output_type": "stream",
          "text": [
            "2\n",
            "2\n",
            "22\n"
          ]
        },
        {
          "data": {
            "text/plain": [
              "True"
            ]
          },
          "execution_count": 103,
          "metadata": {},
          "output_type": "execute_result"
        }
      ],
      "source": [
        "# 1번\n",
        "# 클래스를 설계하실 때\n",
        "# 첫 번째로 - 모든 인스턴스에서 공유해야할 변수(클래스 변수)나 메서드 설정\n",
        "# 두 번째로 - 인스턴스 고유의 영역\n",
        "# in_crerate_at(스네이크 표기법) - 파이썬 권고사항\n",
        "# inCreatedAt(카멜 표기법) - 파이썬에서는 잘 사용하지 않습니다.(JavaScript에서는 많이 사용합니다.)\n",
        "# InCreatedAt(파스칼 표기법) - 파이썬 클래스\n",
        "\n",
        "class Post:\n",
        "    def __init__(\n",
        "            self,\n",
        "            in_title='',\n",
        "            in_contents='',\n",
        "            in_count=0,\n",
        "            in_crerate_at='',\n",
        "            in_updated_at='',\n",
        "            in_author=''\n",
        "        ):\n",
        "        self.title = in_title\n",
        "        self.contents = in_contents\n",
        "        self.count = in_count\n",
        "        self.created_at = in_crerate_at\n",
        "        self.updated_at = in_updated_at\n",
        "        self.author = in_author\n",
        "\n",
        "    def __str__(self):\n",
        "        return self.title\n",
        "\n",
        "    def __repr__(self):\n",
        "        return self.title\n",
        "\n",
        "    def __add__(self, next):\n",
        "        # return self.count + next.count\n",
        "        return self.title + next.title\n",
        "\n",
        "    def __eq__(self, next):\n",
        "        return self.title == next.title\n",
        "\n",
        "    def update(self, in_contents):\n",
        "        '''\n",
        "        in_ 실무에서 사용하는 접두사가 아닙니다!\n",
        "        여러분에 이해를 돕기 위한 변수명입니다.\n",
        "        '''\n",
        "        self.contents = in_contents\n",
        "        return '게시물 수정에 성공했습니다! 200'\n",
        "\n",
        "게시물1 = Post(\n",
        "    '2',\n",
        "    '오늘은 파이썬 클래스를 배웠는데 너무 어렵기도 하고, 신기했습니다.',\n",
        "    0,\n",
        "    '2024-01-11',\n",
        "    '2024-01-11',\n",
        "    '이호준'\n",
        ")\n",
        "\n",
        "게시물2 = Post('2', '22', 0, '2024-01-11', '2024-01-11', '이호준')\n",
        "\n",
        "print(게시물1)\n",
        "print(게시물1.title)\n",
        "print(게시물1 + 게시물2) # +연산이 나오면 앞(게시물 1)의 __add__가 실행됩니다.\n",
        "게시물1.update('hello world')\n",
        "게시물1.contents\n",
        "\n",
        "# 이해하지 않으셔도 됩니다.\n",
        "게시물1 == 게시물2 # 이 코드는 이제 title만 비교하는 코드가 되었습니다!"
      ]
    },
    {
      "cell_type": "markdown",
      "metadata": {
        "id": "-My3ml3YNZaM"
      },
      "source": [
        "## Dot"
      ]
    },
    {
      "cell_type": "code",
      "execution_count": null,
      "metadata": {
        "colab": {
          "base_uri": "https://localhost:8080/"
        },
        "id": "nSFueWx1NiEs",
        "outputId": "ed0f9247-003f-415d-c3c4-6771e85382b4"
      },
      "outputs": [
        {
          "data": {
            "text/plain": [
              "11.180339887498949"
            ]
          },
          "execution_count": 107,
          "metadata": {},
          "output_type": "execute_result"
        }
      ],
      "source": [
        "class Dot:\n",
        "    def __init__(self, x, y):\n",
        "        self.x = x\n",
        "        self.y = y\n",
        "\n",
        "    def __add__(self, next):\n",
        "        return (self.x + next.x, self.y + next.y)\n",
        "\n",
        "    def __mul__(self, next):\n",
        "        return (self.x * next.x, self.y * next.y)\n",
        "\n",
        "    def distance(self, next):\n",
        "        dx = self.x - next.x\n",
        "        dy = self.y - next.y\n",
        "        return (dx**2 + dy**2) ** 0.5 # root은 ** 0.5로 많이 사용합니다.\n",
        "\n",
        "dot1 = Dot(20, 10)\n",
        "dot2 = Dot(30, 5)\n",
        "\n",
        "dot1 + dot2\n",
        "dot1 * dot2\n",
        "dot1.distance(dot2)"
      ]
    },
    {
      "cell_type": "markdown",
      "metadata": {
        "id": "Tlve1sFYPub6"
      },
      "source": [
        "# Character"
      ]
    },
    {
      "cell_type": "code",
      "execution_count": null,
      "metadata": {
        "colab": {
          "base_uri": "https://localhost:8080/"
        },
        "id": "0YGjA9JZQJBt",
        "outputId": "201a8303-54db-428a-c51a-31a3e5f2a86d"
      },
      "outputs": [
        {
          "data": {
            "text/plain": [
              "90"
            ]
          },
          "execution_count": 109,
          "metadata": {},
          "output_type": "execute_result"
        }
      ],
      "source": [
        "class Character:\n",
        "    def __init__(self, name, skill, hp, mp, power, x):\n",
        "        self.name = name\n",
        "        self.skill = skill\n",
        "        self.hp = hp\n",
        "        self.mp = mp\n",
        "        self.power = power\n",
        "        self.x = x\n",
        "\n",
        "    def move(self):\n",
        "        self.x += 100\n",
        "\n",
        "    def attact(self, next):\n",
        "        next.hp -= self.power\n",
        "\n",
        "\n",
        "주인공1 = Character('licat', '질풍검', 100, 100, 10, 10)\n",
        "몹1 = Character('licat', '질풍검', 100, 100, 10, 10)\n",
        "\n",
        "주인공1.attact(몹1)\n",
        "몹1.hp"
      ]
    },
    {
      "cell_type": "code",
      "execution_count": null,
      "metadata": {
        "id": "_lcTprnrRVNH"
      },
      "outputs": [],
      "source": []
    }
  ],
  "metadata": {
    "colab": {
      "provenance": []
    },
    "kernelspec": {
      "display_name": "Python 3",
      "name": "python3"
    },
    "language_info": {
      "name": "python"
    }
  },
  "nbformat": 4,
  "nbformat_minor": 0
}
