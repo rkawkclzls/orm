{
  "nbformat": 4,
  "nbformat_minor": 0,
  "metadata": {
    "colab": {
      "provenance": []
    },
    "kernelspec": {
      "name": "python3",
      "display_name": "Python 3"
    },
    "language_info": {
      "name": "python"
    }
  },
  "cells": [
    {
      "cell_type": "markdown",
      "source": [
        "# 클랜스란\n",
        "\n",
        "클래스는 데이터(멤버 또는 애트리뷰트, 변수)와 기능(메서드, 함수)을 가지고 있는 일종의 설계 도면입니다. 이 설계도면을 통해 생산된 생산품을 인스턴스 객체라 합니다."
      ],
      "metadata": {
        "id": "QD0etEKcua5k"
      }
    },
    {
      "cell_type": "code",
      "source": [
        "# 이러한 것을 아래와 같이 구현할 수 있습니다.\n",
        "\n",
        "class Character:\n",
        "    def __init__(hp, mp, power, drop_rate...(생략)):\n",
        "        self.hp = hp\n",
        "        self.mp = mp\n",
        "        ...(생략)\n",
        "\n",
        "    def move(self):\n",
        "        ...(생략)\n",
        "\n",
        "    def attack(self):\n",
        "        ...(생략)\n",
        "\n",
        "hero = Character(100, 100, 100, 0, ...(생략))\n",
        "mob1 = Character(30, 30, 30, 0.8, ...(생략))\n",
        "mob2 = Character(50, 50, 50, 0.5, ...(생략))\n",
        "mob3 = Character(70, 70, 70, 0.3, ...(생략))\n",
        "villain = Character(100, 100, 90, 0.1, ...(생략))"
      ],
      "metadata": {
        "colab": {
          "base_uri": "https://localhost:8080/",
          "height": 147
        },
        "id": "nDOqxKP38RCj",
        "outputId": "597c568b-7cbb-4986-8a99-5a1399b1574d"
      },
      "execution_count": null,
      "outputs": [
        {
          "output_type": "error",
          "ename": "SyntaxError",
          "evalue": "invalid syntax (<ipython-input-1-856c5271c857>, line 4)",
          "traceback": [
            "\u001b[0;36m  File \u001b[0;32m\"<ipython-input-1-856c5271c857>\"\u001b[0;36m, line \u001b[0;32m4\u001b[0m\n\u001b[0;31m    def __init__(hp, mp, power, drop_rate...(생략)):\u001b[0m\n\u001b[0m                                         ^\u001b[0m\n\u001b[0;31mSyntaxError\u001b[0m\u001b[0;31m:\u001b[0m invalid syntax\n"
          ]
        }
      ]
    },
    {
      "cell_type": "code",
      "source": [
        "# 단지 게임만 이런식으로 개발하는 것은 아닙니다.\n",
        "# Django와 같은 언어에서는 게시물 같은 것도 아래와 같은\n",
        "# 양식으로 개발합니다.\n",
        "\n",
        "# 단순화 시키긴 했으나 실제 아래와 같이 만듭니다.\n",
        "\n",
        "# 단순화 시키긴 했으나 실제 아래와 같이 만듭니다.\n",
        "class 게시물설계도:\n",
        "    _id = int()\n",
        "    title = str()\n",
        "    contents = str()\n",
        "    author = str()\n",
        "    create_time = str()\n",
        "    update_time = str()\n",
        "    view_count = int()\n",
        "    last_connect_location = str()\n",
        "    last_connect_time = str()\n",
        "\n",
        "게시물1 = 게시물설계도()\n",
        "게시물2 = 게시물설계도()\n",
        "\n",
        "# 파이썬은 대표적인 객체 지향 프로그래밍 언어입니다.\n",
        "# 여기서 객체란 개념 또는 수식이나 모양으로 존재하는 것을 말합니다.\n",
        "# 이것을 우선하여 프로그래밍하겠다는 얘기입니다. 파이썬을 포함한 객체지향언어는\n",
        "# class를 기반으로 객체를 생성합니다.\n",
        "\n",
        "# 위 예제 중 게임에서 주인공과 빌런, 몹이 객체가 됩니다. 또 웹서비스에서는 게시물이 객체가 됩니다."
      ],
      "metadata": {
        "id": "B1qp-aMk86LJ"
      },
      "execution_count": null,
      "outputs": []
    },
    {
      "cell_type": "markdown",
      "source": [
        "# 인스턴스 만들어보기\n",
        "\n",
        "* 파이썬은 설계도면(클래스)를 보며 하나의 객체(인스턴스)를 만들어 냅니다. 우선 우리는 '차'에 대한 어떠한 데이터가 필요하고 기능이 무엇이 있는지 생각해볼 것입니다."
      ],
      "metadata": {
        "id": "ddV6NcyQXUgq"
      }
    },
    {
      "cell_type": "code",
      "source": [
        "'''\n",
        "데이터(멤버, 애트리뷰트) # 클래스 내 변수로 선언됩니다.\n",
        "최대 속도\n",
        "최대 탑승객\n",
        "기어\n",
        "\n",
        "기능(메서드) # 클래스 내 함수로 선언됩니다.\n",
        "출발\n",
        "정지\n",
        "'''\n",
        "# 이렇게 정의된 설계도면을 실제 코드로 작성해봅시다. 아래와 같이 구현될 수 있습니다."
      ],
      "metadata": {
        "colab": {
          "base_uri": "https://localhost:8080/",
          "height": 54
        },
        "id": "d_jddv0TYFG6",
        "outputId": "38495cb1-592a-4c72-ffd7-9712e9e1d183"
      },
      "execution_count": null,
      "outputs": [
        {
          "output_type": "execute_result",
          "data": {
            "text/plain": [
              "'\\n데이터(멤버, 애트리뷰트) # 클래스 내 변수로 선언됩니다.\\n최대 속도\\n최대 탑승객\\n기어\\n\\n기능(메서드) # 클래스 내 함수로 선언됩니다.\\n출발\\n정지\\n'"
            ],
            "application/vnd.google.colaboratory.intrinsic+json": {
              "type": "string"
            }
          },
          "metadata": {},
          "execution_count": 3
        }
      ]
    },
    {
      "cell_type": "code",
      "source": [
        "class Car: # 차에 설계 도면 또는 차공장, 클래스\n",
        "    max_speed = 300 # 멤버 또는 애트리뷰트\n",
        "    max_people = 5\n",
        "    car_gear = ['P', 'D', 'R' 'N']\n",
        "\n",
        "    def start(self): # 메서드\n",
        "        print('차가 출발합니다!')\n",
        "\n",
        "    def stop(self):\n",
        "        print('차가 멈췄습니다!')\n",
        "\n",
        "# 공장에서 생산된 자동차 modelx, y, s, 인스턴스\n",
        "modelx = Car() # 인스턴스 = 클래스()\n",
        "modely = Car()\n",
        "models = Car()\n",
        "\n",
        "print(models.car_gear[1])\n",
        "models.start()\n",
        "models.stop()\n",
        "\n",
        "# Car.max_speed # modelx에 속도를 보고 싶으면 modelx.max_speed를 찍어야 합니다.\n",
        "# 초기 설계는 300으로 찍혀 있지만, 고객이 아래와 같이 자동차 튜닝을 했을 수도 있으니까요\n",
        "\n",
        "models.max_speed = 500\n",
        "\n",
        "print(models.max_speed)\n",
        "print(modely.max_speed)\n",
        "\n",
        "# 이렇게 정의된 class를 가지고 modelx, modely, models를 생성해보았습니다.\n",
        "# 여기서 클래스와 인스턴스를 선언하는 형태에 대해 살펴보겠습니다."
      ],
      "metadata": {
        "colab": {
          "base_uri": "https://localhost:8080/"
        },
        "id": "0AF38jtiZIat",
        "outputId": "cf48b097-729f-487a-fbe1-3993cbb9071c"
      },
      "execution_count": null,
      "outputs": [
        {
          "output_type": "stream",
          "name": "stdout",
          "text": [
            "D\n",
            "차가 출발합니다!\n",
            "차가 멈췄습니다!\n",
            "500\n",
            "300\n"
          ]
        }
      ]
    },
    {
      "cell_type": "code",
      "source": [
        "class ClassName:\n",
        "    pass\n",
        "\n",
        "instance = ClassName()\n",
        "\n",
        "# 위와 같은 양식으로 클래스와 인스턴스를 생성할 수 있습니다. 좀 더 세분화하여\n",
        "# 각 코드를 살펴보도록 하겠습니다.\n",
        "\n",
        "def start(self): # 메서드\n",
        "    print('차가 출발합니다!')\n",
        "\n",
        "# 클래스 내부에서 선언된 start는 self라는 매개변수,파라미터를 가지고 있습니다.\n",
        "#  여기서 self는 인스턴스 고유의 영역,인스턴스 자신을 가리킵니다. 여러분이 아규먼트로 전달하지 않아도\n",
        "# 자동으로 인스턴스 자신이 아규먼트로 전달하지 않아도 자동으로 인스턴스 자신이 아규먼트로 전달됩니다.\n",
        "\n",
        "# 이 매개변수의 이름은 self가 아니라 다른 이름이여도 됩니다.다만 관습적으로 self를 사용합니다.\n"
      ],
      "metadata": {
        "id": "LdkQ1ikSabkk"
      },
      "execution_count": null,
      "outputs": []
    },
    {
      "cell_type": "markdown",
      "source": [
        "# 자료형의 정체"
      ],
      "metadata": {
        "id": "ToyIVRw1cEtD"
      }
    },
    {
      "cell_type": "code",
      "source": [
        "# 위 예제에서 dot을 통해 멤버와 메서드에 접근할 수 있다는 것을 확인했습니다.\n",
        "\n",
        "print(models.car_gear[1])\n",
        "models.start()\n",
        "models.stop()"
      ],
      "metadata": {
        "colab": {
          "base_uri": "https://localhost:8080/"
        },
        "id": "rCKdB1_TcHx_",
        "outputId": "40df06ac-774e-460f-9f4f-69f5e9363382"
      },
      "execution_count": null,
      "outputs": [
        {
          "output_type": "stream",
          "name": "stdout",
          "text": [
            "D\n",
            "차가 출발합니다!\n",
            "차가 멈췄습니다!\n"
          ]
        }
      ]
    },
    {
      "cell_type": "code",
      "source": [
        "# 이러한 형태를 앞에서 많이 보았습니다.\n",
        "\n",
        "l = [1, 2, 3]\n",
        "type(l)\n",
        "dir(l)\n",
        "l.append(4)\n",
        "l # 출력: [1, 2, 3, 4]"
      ],
      "metadata": {
        "colab": {
          "base_uri": "https://localhost:8080/"
        },
        "id": "IJs_Fp0ZcWp3",
        "outputId": "13ebba4c-ce7e-4420-f7f9-0fbf1b6c6245"
      },
      "execution_count": null,
      "outputs": [
        {
          "output_type": "execute_result",
          "data": {
            "text/plain": [
              "[1, 2, 3, 4]"
            ]
          },
          "metadata": {},
          "execution_count": 8
        }
      ]
    },
    {
      "cell_type": "code",
      "source": [
        "# 바로 위와 같은 형태입니다.\n",
        "# 이처럼 우리는 int, float, str과 같은 새로운 Car라는 type을 만들고 있는 것 입니다.\n",
        "\n",
        "print(type(models))\n",
        "print(dir(models))\n",
        "\n",
        "# 우리가 앞에서 많이 사용했었던 코드 입니다.\n"
      ],
      "metadata": {
        "colab": {
          "base_uri": "https://localhost:8080/"
        },
        "id": "PtZaREBvcnIw",
        "outputId": "cdbaa739-34f6-444f-e04c-021edb470b36"
      },
      "execution_count": null,
      "outputs": [
        {
          "output_type": "stream",
          "name": "stdout",
          "text": [
            "<class '__main__.Car'>\n",
            "['__class__', '__delattr__', '__dict__', '__dir__', '__doc__', '__eq__', '__format__', '__ge__', '__getattribute__', '__gt__', '__hash__', '__init__', '__init_subclass__', '__le__', '__lt__', '__module__', '__ne__', '__new__', '__reduce__', '__reduce_ex__', '__repr__', '__setattr__', '__sizeof__', '__str__', '__subclasshook__', '__weakref__', 'car_gear', 'max_people', 'max_speed', 'start', 'stop']\n"
          ]
        }
      ]
    },
    {
      "cell_type": "code",
      "source": [
        "# 우리가 선언하지 않아도 선언되는 많은 매직 메서드와 메서드, 멤버가 있는 것을 확인할 수 있습니다.\n",
        "# 여기서 파이썬을 관통하는 하나의 개념을 확인하실 수 있습니다.\n",
        "\n",
        "x = int(3)\n",
        "print(type(x))"
      ],
      "metadata": {
        "colab": {
          "base_uri": "https://localhost:8080/"
        },
        "id": "olPllL_WdDVi",
        "outputId": "e4091607-6a03-4fe3-9e5b-5640c9d33f45"
      },
      "execution_count": null,
      "outputs": [
        {
          "output_type": "stream",
          "name": "stdout",
          "text": [
            "<class 'int'>\n"
          ]
        }
      ]
    },
    {
      "cell_type": "code",
      "source": [
        "# 여기서 x의 정체르 다시 한 번 생각해볼 필요가 있습니다. x를 int형이라고 말하는 것도\n",
        "# 물론 맞는 얘기이지만, int라는 class의 인스턴스라는 얘기도 맞는 이야기입니다.\n",
        "\n",
        "isinstance(x, int) # 출력: True # int라는 클래스의 인스턴스 x\n",
        "isinstance(modelx, Car) # Car라는 클래스의 인스턴스 modelx"
      ],
      "metadata": {
        "colab": {
          "base_uri": "https://localhost:8080/"
        },
        "id": "JXQK0SfjdVun",
        "outputId": "224b45c7-0546-44fb-badf-df26e32799f8"
      },
      "execution_count": null,
      "outputs": [
        {
          "output_type": "execute_result",
          "data": {
            "text/plain": [
              "True"
            ]
          },
          "metadata": {},
          "execution_count": 11
        }
      ]
    },
    {
      "cell_type": "code",
      "source": [
        "# int(3)과 동일한 형태로 우리가 만든 modelx의 인스턴스도 아규먼트로 값을 넣어\n",
        "# 생성 해보도록 하겠습니다. 동작 형태를 살펴보기 위한 것이니 가볍게 형태만 보세요\n",
        "\n",
        "# x = int(3) 여기서 넣었던 3이라는 값이 어떻게 처리되는지 확인\n",
        "class Car:\n",
        "    max_speed = 300\n",
        "    max_people = 5\n",
        "    car_gear = ['P', 'D', 'R', 'N']\n",
        "\n",
        "    def __init__(self, name): # 클래스로 인스턴스를 만들 떄 호출!\n",
        "        self.name = name\n",
        "\n",
        "    def start(self):\n",
        "        print('차가 출발합니다!')\n",
        "\n",
        "    def stop(self):\n",
        "        print('차가 멈춥니다!')\n",
        "\n",
        "modelx = Car('Tesla Model X') # x = int(3) 여기서 넣었던 3이 __init__ 메직메서드에서 처리!\n",
        "modelx.name\n",
        "\n",
        "# Car('Tesla Model X')에서 안에 텍스트는 __init__ 매직 메서드에 name으로 들어가게 됩니다.\n",
        "# __init__ 매직 메서드는 인스턴스가 생성될 떄 가장 처음 실행되는 매직 메서드입니다."
      ],
      "metadata": {
        "colab": {
          "base_uri": "https://localhost:8080/",
          "height": 35
        },
        "id": "QdYthRR2eKaz",
        "outputId": "4e495e4b-9100-462c-f197-b466d13164f5"
      },
      "execution_count": null,
      "outputs": [
        {
          "output_type": "execute_result",
          "data": {
            "text/plain": [
              "'Tesla Model X'"
            ],
            "application/vnd.google.colaboratory.intrinsic+json": {
              "type": "string"
            }
          },
          "metadata": {},
          "execution_count": 13
        }
      ]
    },
    {
      "cell_type": "markdown",
      "source": [
        "# 클래스 변수와 인스턴스 변수"
      ],
      "metadata": {
        "id": "OaM4MIClfcIG"
      }
    },
    {
      "cell_type": "markdown",
      "source": [
        "## 클래스 변수\n",
        "\n",
        "* 클래스 변수는 크래스 바로 하위에 자리하고 있는 변수들 입니다. 이클래스 변수는 아래의 예시와\n",
        "같이 클래스 이름,인스턴스 이름을 통해서 접근할 수 있습니다."
      ],
      "metadata": {
        "id": "9BWI6ChogGHO"
      }
    },
    {
      "cell_type": "code",
      "source": [
        "class Car:\n",
        "    # 클래스 변수의 위치\n",
        "    max_speed = 300\n",
        "    max_people = 5\n",
        "    car_gear = ['P', 'D', 'R', 'N']\n",
        "\n",
        "modelx = Car()\n",
        "print(Car.max_speed)\n",
        "print(modelx.max_speed)"
      ],
      "metadata": {
        "colab": {
          "base_uri": "https://localhost:8080/"
        },
        "id": "mdLekGHNgX2y",
        "outputId": "957d4728-8587-4021-8cf0-3278eeb59f7e"
      },
      "execution_count": null,
      "outputs": [
        {
          "output_type": "stream",
          "name": "stdout",
          "text": [
            "300\n",
            "300\n"
          ]
        }
      ]
    },
    {
      "cell_type": "code",
      "source": [
        "# 이 클래스 변수는 해당 클래스를 통해 만들어진 모든 인스턴스 객체들이\n",
        "# 공유하는 변수 값입니다. 각 인스턴스 객체들 각자가 관리하고 있는 변수는 인스턴스 변수라고 합니다.\n",
        "\n",
        "class Car:\n",
        "    # 클래스 변수의 위치\n",
        "    max_speed = 300\n",
        "    max_people = 5\n",
        "    car_gear = ['P', 'D', 'R', 'N']\n",
        "\n",
        "modelx = Car()\n",
        "modely = Car()\n",
        "\n",
        "modely.max_speed = 500\n",
        "\n",
        "print(Car.max_speed)\n",
        "print(modelx.max_speed)\n",
        "print(modely.max_speed)"
      ],
      "metadata": {
        "colab": {
          "base_uri": "https://localhost:8080/"
        },
        "id": "nAHWPu8ig0Z_",
        "outputId": "cb5283e5-fce7-4b9a-b261-5462ce3883b4"
      },
      "execution_count": null,
      "outputs": [
        {
          "output_type": "stream",
          "name": "stdout",
          "text": [
            "300\n",
            "300\n",
            "500\n"
          ]
        }
      ]
    },
    {
      "cell_type": "code",
      "source": [
        "# 위와 같이 작성하면 modely의 max_speed는 500이 됩니다. 모든 변수가 공유하는 변수라고 하였으니\n",
        "# modelx의 값도 바뀌어야 할 것 같지만 modely.max_speed값을 조정하는 것은 modely의 인스턴스 변수의 값을\n",
        "# 조정하는 것과 같습니다.\n",
        "\n",
        "# 실제로 변수의 값이 공유가 되고 있는지 확인하기 위해 아래와 같이 코드를 변경해보았습니다.\n",
        "\n",
        "class Car:\n",
        "    kinds = []\n",
        "    speed = 300\n",
        "\n",
        "    def add_kinds(self, name):\n",
        "        self.kinds = self.kinds.append(name)\n",
        "\n",
        "    def change_speed(self, speed):\n",
        "        self.speed = speed\n",
        "\n",
        "modelx = Car()\n",
        "modely = Car()\n",
        "\n",
        "modelx.add_kinds('x')\n",
        "modely.add_kinds('y')\n",
        "\n",
        "Car.speed = 100\n",
        "\n",
        "# modelx.change_speed(500)\n",
        "# modely.chane_speed(250)\n",
        "\n",
        "print(f'modelx.kinds: {modelx.kinds}')\n",
        "print(f'modely.kinds: {modely.kinds}')\n",
        "print(f'modelx.speed: {modelx.speed}')\n",
        "print(f'modely.speed: {modely.speed}')\n",
        "\n"
      ],
      "metadata": {
        "colab": {
          "base_uri": "https://localhost:8080/"
        },
        "id": "RDyKRwLghXrE",
        "outputId": "328e0c4d-cc61-42d4-8552-af4dd42e6607"
      },
      "execution_count": null,
      "outputs": [
        {
          "output_type": "stream",
          "name": "stdout",
          "text": [
            "modelx.kinds: None\n",
            "modely.kinds: None\n",
            "modelx.speed: 100\n",
            "modely.speed: 100\n"
          ]
        }
      ]
    },
    {
      "cell_type": "code",
      "source": [
        "# modelx 와 modely 인스턴스를 각각 생성하였습니다.\n",
        "# 여기에는 self.kinds로 접근하여 append해주는 코드가 있습니다\n",
        "# 인스턴스 영역 내 self.kinds가 없으므로 class 영역에서 해당 변수를 찾아 값을 추가 해줍니다.\n",
        "\n",
        "print(f'modelx.kinds: {modelx.kinds}')\n",
        "print(f'modely.kinds: {modely.kinds}')\n",
        "\n",
        "# 때문에 출력값을 확인해보면 modelx 와 modely도 자신의 메서드를 호출하였을 뿐인데 값이 둘다\n",
        "# 수정된 것을 확인 할  수 있습니다. 이는 실제로 두개 가 각각의 메모리 영역이 아니라 하나의 메모리\n",
        "# 영역을 공유하고 있다는 것을 말해줍니다.\n",
        "\n",
        "# 그 다음 코드로 Car의 speed에 100을 대입한 것을 살펴보도록 하겠습니다.\n",
        "\n",
        "Car.speed = 100\n",
        "\n",
        "# 이 코드는 클래스에 직접 접근하여 클래스 변수를 수정하였으므로,\n",
        "#  modelx와 modely의 값이 모두 변경 된 것을 확인 할 수 있습니다."
      ],
      "metadata": {
        "colab": {
          "base_uri": "https://localhost:8080/"
        },
        "id": "t0hXe47ljJWl",
        "outputId": "97bb6deb-3d41-47f4-bee6-6a2607bb3de2"
      },
      "execution_count": null,
      "outputs": [
        {
          "output_type": "stream",
          "name": "stdout",
          "text": [
            "modelx.kinds: ['x', 'y']\n",
            "modely.kinds: ['x', 'y']\n"
          ]
        }
      ]
    },
    {
      "cell_type": "code",
      "source": [
        "# 마지막은 조금 어렵습니다. 헷갈리지 않도록 주의해주세요.\n",
        "# 아래 코드를 주석을 풀고,Car에 speed값을 변경하는 코드는 주석처리하겠습니다.\n",
        "\n",
        "class Car:\n",
        "    kinds = []\n",
        "    speed = 300\n",
        "\n",
        "    def add_kinds(self, name):\n",
        "        self.kinds.append(name)\n",
        "\n",
        "    def change_speed(self, speed):\n",
        "        self.speed = speed\n",
        "\n",
        "modelx = Car()\n",
        "modely = Car()\n",
        "\n",
        "# Car.speed = 100\n",
        "\n",
        "modelx.change_speed(500)\n",
        "modely.change_speed(250)\n",
        "\n",
        "print(f'modelx.speed: {modelx.speed}')\n",
        "print(f'modely.speed: {modely.speed}')"
      ],
      "metadata": {
        "colab": {
          "base_uri": "https://localhost:8080/"
        },
        "id": "Umca_OFZk6JK",
        "outputId": "f60bbe6e-63cc-43cd-bb0b-270731c5bc55"
      },
      "execution_count": null,
      "outputs": [
        {
          "output_type": "stream",
          "name": "stdout",
          "text": [
            "modelx.speed: 500\n",
            "modely.speed: 250\n"
          ]
        }
      ]
    },
    {
      "cell_type": "code",
      "source": [
        "# 출력 값이 어떻게 되었을지 예상해보세요. 분명 클래스 변수를 수정한 것 같은데\n",
        "# 두 수의 스피드가 공유되고 있지 않습니다. 뒤에 수정된 변수가 반영되어서 둘 다 250을 출력하는 것이\n",
        "# 합당해보입니다.\n",
        "\n",
        "def change_speed(self, speed):\n",
        "    self.speed = speed\n",
        "\n",
        "# 여기서 self.speed는 상위에 있는 speed를 조작하지 않습니다. 이는 인스턴스 변수가 생성된 것 뿐입니다.\n",
        "# 따라서 아래처럼 출력이 됩니다.\n",
        "\n",
        "# 출력\n",
        "print(f'modelx.speed: {modelx.speed}')\n",
        "print(f'modely.speed: {modely.speed}')\n",
        "\n",
        "# 그렇다면 300은 어떻게 된 것인지 확인해 보도록 하겠습니다. 아래 코드를 실행해보세요\n",
        "\n",
        "class Car:\n",
        "    kinds = []\n",
        "    speed = 300\n",
        "\n",
        "    def add_kinds(self, name):\n",
        "        self.kinds.append(name)\n",
        "\n",
        "    def change_speed(self, speed):\n",
        "        self.speed = speed\n",
        "\n",
        "modelx = Car()\n",
        "modely = Car()\n",
        "\n",
        "# Car.speed = 100\n",
        "\n",
        "modelx.change_speed(500)\n",
        "modely.change_speed(250)\n",
        "\n",
        "print(f'modelx.speed: {modelx.speed}')\n",
        "print(f'modely.speed: {modely.speed}')\n"
      ],
      "metadata": {
        "colab": {
          "base_uri": "https://localhost:8080/"
        },
        "id": "EISzVw_nljOC",
        "outputId": "0aad8cfe-d7be-4b6b-98d8-4b6f96e61043"
      },
      "execution_count": null,
      "outputs": [
        {
          "output_type": "stream",
          "name": "stdout",
          "text": [
            "modelx.speed: 500\n",
            "modely.speed: 250\n",
            "modelx.speed: 500\n",
            "modely.speed: 250\n"
          ]
        },
        {
          "output_type": "execute_result",
          "data": {
            "text/plain": [
              "300"
            ]
          },
          "metadata": {},
          "execution_count": 25
        }
      ]
    },
    {
      "cell_type": "code",
      "source": [
        "# 300은 그대로 클래스 변수에 남겨져 있습니다. 이는 마치 아래 코드와 같습니다.\n",
        "\n",
        "speed = 300 # 전역변수 speed 300\n",
        "\n",
        "def change_speed(value):\n",
        "    speed = value # 지역변수 speed\n",
        "    return speed\n",
        "change_speed(100)\n",
        "speed # 출력: 300"
      ],
      "metadata": {
        "colab": {
          "base_uri": "https://localhost:8080/"
        },
        "id": "_iq0ZeFQnb_a",
        "outputId": "1ffb9f42-a630-435d-dcd4-5256bb63bf13"
      },
      "execution_count": null,
      "outputs": [
        {
          "output_type": "execute_result",
          "data": {
            "text/plain": [
              "300"
            ]
          },
          "metadata": {},
          "execution_count": 23
        }
      ]
    },
    {
      "cell_type": "code",
      "source": [
        "# 앞에 있는 kind 리스트는 마치 아래와 같습니다.\n",
        "\n",
        "kinds = [] # 전역변수 speed 300\n",
        "\n",
        "def add_kinds(value):\n",
        "    kinds.append(value) # 지역에 해당 변수가 없으므로 전역변수 kinds에 append\n",
        "\n",
        "add_kinds(100)\n",
        "kinds"
      ],
      "metadata": {
        "colab": {
          "base_uri": "https://localhost:8080/"
        },
        "id": "MSqfAbvFn6SE",
        "outputId": "66cfd519-800b-45d4-fe37-674bd238b3c5"
      },
      "execution_count": null,
      "outputs": [
        {
          "output_type": "execute_result",
          "data": {
            "text/plain": [
              "[100]"
            ]
          },
          "metadata": {},
          "execution_count": 24
        }
      ]
    },
    {
      "cell_type": "code",
      "source": [
        "# 이렇듯 헷갈리는 예제를 준비한 것은 각각의 메모리 영역을 명확하게 이해할 수있어야\n",
        "# 견고한 코드를 짤 수 있기 때문입니다.\n",
        "# 클래스의 메모리 영역이 어디인지, 인스턴스의 메모리 영역이 어디인지 구분할 필요가 있습니다.\n",
        "\n",
        "class Car:\n",
        "    kinds = []\n",
        "    speed = 300\n",
        "\n",
        "    def add_kinds(self, name):\n",
        "        self.kinds.append(name)\n",
        "\n",
        "    def change_speed(self, speed):\n",
        "        self.speed = self.speed\n",
        "\n",
        "# 앞 클래스에서 kinds 배열의 경우에는 add_kinds 메서드 안에서 각 인스턴스 객체가 해당 배열의 주소를\n",
        "# 참고하고 있어, 그 배열의 주소에 접근하여 조작했기 떄문에 클래스 변수를 직접 수정한 것처럼 동작하게 된 것\n",
        "# 반면에 speed의 경우에는 chane_speed메서드 안에서 인스턴스 변수를 생성하여 값을 가지게된것\n",
        "\n",
        "class Car:\n",
        "    speed = 300  # 클래스 변수\n",
        "\n",
        "    def __init__(self):\n",
        "        self.kinds = []  # 인스턴스 변수\n",
        "\n",
        "    def add_kinds(self, name):\n",
        "        self.kinds.append(name)  # 인스턴스 변수에 값 추가\n",
        "\n",
        "    def change_speed(self, speed):\n",
        "        self.speed = speed  # 인스턴스 변수 변경\n",
        "\n",
        "modelx = Car()\n",
        "modely = Car()\n",
        "\n",
        "modelx.add_kinds('x')\n",
        "modely.add_kinds('y')\n",
        "\n",
        "modelx.change_speed(500)\n",
        "modely.change_speed(250)\n",
        "\n",
        "print(f'modelx.kinds: {modelx.kinds}')  # 출력: ['x']\n",
        "print(f'modely.kinds: {modely.kinds}')  # 출력: ['y']\n",
        "print(f'modelx.speed: {modelx.speed}')  # 출력: 500\n",
        "print(f'modely.speed: {modely.speed}')  # 출력: 250\n",
        "print(f'{Car.speed}')\n"
      ],
      "metadata": {
        "colab": {
          "base_uri": "https://localhost:8080/"
        },
        "id": "YazQrDscon6h",
        "outputId": "c9e607de-06ab-478d-972d-fb49a538485a"
      },
      "execution_count": null,
      "outputs": [
        {
          "output_type": "stream",
          "name": "stdout",
          "text": [
            "modelx.kinds: ['x']\n",
            "modely.kinds: ['y']\n",
            "modelx.speed: 500\n",
            "modely.speed: 250\n",
            "300\n"
          ]
        }
      ]
    },
    {
      "cell_type": "code",
      "source": [
        "class Car:\n",
        "    default_speed = 100\n",
        "\n",
        "    def __init__(self, color):\n",
        "        self.color = color # 인스턴스 변수 -> 커스터마이즈!"
      ],
      "metadata": {
        "id": "jDv_G-B69zH_"
      },
      "execution_count": null,
      "outputs": []
    },
    {
      "cell_type": "code",
      "source": [
        "class Car:\n",
        "    kinds = [] #\n",
        "    speed = 300\n",
        "\n",
        "    def add_kinds(self, name):\n",
        "        self.kinds.append(name)\n",
        "\n",
        "\n",
        "    def change_speed(self, speed):\n",
        "        self.speed = speed # 인스턴스 변수를 생성 또는 변경 또는 덮어쓰기 되는 형태"
      ],
      "metadata": {
        "id": "je47vkEF-nKS"
      },
      "execution_count": null,
      "outputs": []
    },
    {
      "cell_type": "code",
      "source": [
        "class Car:\n",
        "    speed = 300\n",
        "\n",
        "def change_speed(cls, speed):\n",
        "    cls.speed = speed # 클래스 변수를 변경"
      ],
      "metadata": {
        "id": "qtJSIj3K_UJ4"
      },
      "execution_count": null,
      "outputs": []
    },
    {
      "cell_type": "markdown",
      "source": [
        "# 인스턴스 변수\n",
        "\n",
        "* 인스턴스 변수는 self가 위치한 어디서나 선언이 가능하지만 보통 `__init__`메서드 안에서 선언됩니다. `__init__` 메서드는 다른 프로그래밍 언어에서 생성자(`constructor`)라 불립니다. 언더바가 2개앞 뒤로 있는 메서드는 매직 메서드, 던더 함수라고 불립니다. 우리는 있는 그대로 `__init__` 매직 메서드라고 말하도록 하겠습니다.\n",
        "이 메서드는 인스턴스 객체를 생성할 때 자동으로 실행됩니다.\n",
        "인스턴스 객체가 모두 공통으로 공유하는 값이 클래스 변수라면, 인스턴스 변수는 각 인스턴스 객체가 가지고 있는 값으로 인스턴스 내부에서만 사용이 가능합니다."
      ],
      "metadata": {
        "id": "CW_nqAh0s0CB"
      }
    },
    {
      "cell_type": "code",
      "source": [
        "class Car:\n",
        "    max_speed = 300\n",
        "\n",
        "    def __init__(self, name): # self는 자신만의 영역\n",
        "        self.name = name\n",
        "\n",
        "    def start(self, speed): # self는 자신만의 영역\n",
        "        self.speed = speed\n",
        "        return f'{self.name} 차가 {self.speed}의 속력으로 움직이고 있습니다.'\n",
        "\n",
        "modelx = Car('woaks')\n",
        "print(modelx.name)\n",
        "print(modelx.start(100))"
      ],
      "metadata": {
        "colab": {
          "base_uri": "https://localhost:8080/"
        },
        "id": "OXEKYpbbt1ai",
        "outputId": "2f0a0183-49ce-484e-fc37-d1aac4e41c58"
      },
      "execution_count": null,
      "outputs": [
        {
          "output_type": "stream",
          "name": "stdout",
          "text": [
            "woaks\n",
            "woaks 차가 100의 속력으로 움직이고 있습니다.\n"
          ]
        }
      ]
    },
    {
      "cell_type": "code",
      "source": [
        "# self가 있는 곳에서 선언된 변수들은 인스턴스의 영역으로 간주되어 dot으로 호출할 수 있습니다.\n",
        "# 이 변수는 다른 인스턴스와 메모리 영역을 공유하지 않습니다. 또한 이 값은 아래와 같이 추가 또는 변경이\n",
        "# 될 수 있습니다.\n",
        "\n",
        "class Car():\n",
        "    max_speed = 300\n",
        "\n",
        "    def __init__(self, name):\n",
        "        self.name = name\n",
        "\n",
        "    def start(self, speed):\n",
        "        self.speed = speed\n",
        "        return f'{self.name} 차가 {self.speed}의 속력으로 움직이고 있습니다.'\n",
        "\n",
        "modelx = Car('Tesla Model X')\n",
        "modelx.name = 'woaks'\n",
        "modelx.welcome = 'hello world'\n",
        "print(modelx.name, modelx.welcome)\n"
      ],
      "metadata": {
        "colab": {
          "base_uri": "https://localhost:8080/"
        },
        "id": "iacy6Mdpuiqu",
        "outputId": "602d4627-1d3d-4223-8184-ec11f703f33d"
      },
      "execution_count": null,
      "outputs": [
        {
          "output_type": "stream",
          "name": "stdout",
          "text": [
            "woaks hello world\n"
          ]
        }
      ]
    },
    {
      "cell_type": "markdown",
      "source": [
        "# 다른 자료형의 인스턴스 변수 변경\n",
        "\n",
        "우리는 hello의 type을 출력해봄으로 함수도 class라는 것을 알 수 있습니다. 그렇다면 함수에 인스턴스 변수를 생성할 수 있는지 확인해보도록 하겠습니다."
      ],
      "metadata": {
        "id": "w3MtjQjpv0v0"
      }
    },
    {
      "cell_type": "code",
      "source": [
        "def hello():\n",
        "    print('hello world')\n",
        "\n",
        "print(type(hello)) # 출력 <class 'funtion'>"
      ],
      "metadata": {
        "colab": {
          "base_uri": "https://localhost:8080/"
        },
        "id": "uLFCMMKmwGOY",
        "outputId": "94c97fae-1614-4019-aa68-9f4cb0daa99c"
      },
      "execution_count": null,
      "outputs": [
        {
          "output_type": "stream",
          "name": "stdout",
          "text": [
            "<class 'function'>\n"
          ]
        }
      ]
    },
    {
      "cell_type": "code",
      "source": [
        "# 인스턴스 변수를 넣어보겠습니다.\n",
        "\n",
        "hello.hi = 'hi, world'\n",
        "hello.hi"
      ],
      "metadata": {
        "colab": {
          "base_uri": "https://localhost:8080/",
          "height": 35
        },
        "id": "VVqkQDhNwUTW",
        "outputId": "781bd069-38cf-479e-b346-3796a51e178b"
      },
      "execution_count": null,
      "outputs": [
        {
          "output_type": "execute_result",
          "data": {
            "text/plain": [
              "'hi, world'"
            ],
            "application/vnd.google.colaboratory.intrinsic+json": {
              "type": "string"
            }
          },
          "metadata": {},
          "execution_count": 46
        }
      ]
    },
    {
      "cell_type": "code",
      "source": [
        "# 다만 기본으로 내장된 자료형은\n",
        "# 대부분 이를 허락하고 있지 않습니다.\n",
        "\n",
        "s = 'hello'\n",
        "s.hi = 'hi world'\n",
        "\n",
        "s = [10, 20, 30]\n",
        "s.hi = 'hi, world'\n",
        "\n",
        "s = {'one': 1'}\n",
        "s.hi = 'hi world'\n",
        "s.hi"
      ],
      "metadata": {
        "colab": {
          "base_uri": "https://localhost:8080/",
          "height": 147
        },
        "id": "tsP_kHLgwcfA",
        "outputId": "0e4445d9-e71b-4e38-cbb7-02650efffa84"
      },
      "execution_count": null,
      "outputs": [
        {
          "output_type": "error",
          "ename": "SyntaxError",
          "evalue": "unterminated string literal (detected at line 10) (<ipython-input-47-bb269542b227>, line 10)",
          "traceback": [
            "\u001b[0;36m  File \u001b[0;32m\"<ipython-input-47-bb269542b227>\"\u001b[0;36m, line \u001b[0;32m10\u001b[0m\n\u001b[0;31m    s = {'one': 1'}\u001b[0m\n\u001b[0m                 ^\u001b[0m\n\u001b[0;31mSyntaxError\u001b[0m\u001b[0;31m:\u001b[0m unterminated string literal (detected at line 10)\n"
          ]
        }
      ]
    },
    {
      "cell_type": "markdown",
      "source": [
        "# 클래스를 왜 써야 하는가?\n",
        "\n",
        "클래스는 처음에는 다소 복잡하고 어렵게 느껴져서 잘 사용하지 않겠다 생각할 수 있지만 Python 프로그래밍에서 클래스는 중요한 역할을 담당하기 때문에 꼭 익혀야 하는 개념입니다. 다만, 꼭 공부해야 할 개념이라고 하더라도 클래스를 처음만나는 분은 필요성에 대해 공감하기가 어렵기 때문에 몇 가지 써야하는 이유에 대해 서술해보려 합니다.\n",
        "\n",
        "여기에 있는 이유 말고도 클래스를 배워야 하는 이유 중 더 중요한 것도 있으나 가장 체감이 되는 것 우선으로 선정해 보았습니다.\n",
        "\n",
        "## 속도\n",
        "\n",
        "때로는 기본적으로 제공하는 자료형으로 해결할 수 없는 많은 시간이 걸리는 문제를 만나곤 합니다. 그럴 때에는 클래스를 사용하여 구조적으로 다시 설계할 수 있습니다. 사용하는 변수외 메서드를 최소화하여 메모리 구조를 최적화하고, 구조적으로 빠른 속도를 실현하게 구현할 수 있습니다.\n",
        "\n",
        "이때문에 코딩테스트에 클래스를 구현하여 효율적으로 풀어야만 가산점을 주는 문제가 출제되곤 합니다. 정답을 맞추는 정확도 뿐만 아니라 코드를 더 효율적으로 짜는 효율성 테스트도 함께 봄으로 효율적인 자료구조를 만들 수 있는지를 테스트 해보겠다는 것입니다.\n",
        "\n",
        "아래는 기본 자료형인 리스트와 클래스로 구현한 트리 형태의 검색 예 입니다.\n",
        "\n",
        "리스트에서 index로 값을 찾는 것은 O(n)입니다. 아래 리스트에서 15를 찾는다고 가정했을 때에는 최악의 경우가 발생되게 됩니다.\n",
        "\n",
        "![Untitled](https://paullabworkspace.notion.site/image/https%3A%2F%2Fprod-files-secure.s3.us-west-2.amazonaws.com%2F579fe283-28aa-489d-ae65-d683304becfc%2F387a1995-a088-450b-b6c5-b3e2bc53b0f0%2FUntitled.png?table=block&id=c53b928d-867d-427d-b678-63049a7cdbcb&spaceId=579fe283-28aa-489d-ae65-d683304becfc&width=1150&userId=&cache=v2)\n",
        "\n",
        "아래 트리 모양을 클래스로 구현하게 되면 요소의 갯수는 위와 동일하지만 최악의 경우에도 3번 이내에 요소를 모두 찾을 수 있습니다. 왼쪽은 작은 값이며, 오른쪽은 큰 값입니다.\n",
        "\n",
        "![Untitled](https://paullabworkspace.notion.site/image/https%3A%2F%2Fprod-files-secure.s3.us-west-2.amazonaws.com%2F579fe283-28aa-489d-ae65-d683304becfc%2F221d855f-20ba-41ec-874f-91925c488d31%2FUntitled.png?table=block&id=c75aa20c-fb9e-444d-a855-8bfed2ea8c10&spaceId=579fe283-28aa-489d-ae65-d683304becfc&width=1060&userId=&cache=v2)\n",
        "\n",
        "## 재사용성\n",
        "\n",
        "한 번 클래스를 작성하면, 그 클래스를 기반으로 여러 객체를 만들 수 있습니다. 앞서 가볍게 예를 들었던 게임에서 등장인물이라던지 웹 서비스에서 게시판에 게시물, 크롤링한(웹에서 정보를 가지고 온) 책 정보 등 클래스를 사용하여 반복적으로 만들어야 하는 여러 객체를 구조적으로 만들 수 있습니다."
      ],
      "metadata": {
        "id": "Tf20s-VOw1-0"
      }
    },
    {
      "cell_type": "markdown",
      "source": [
        "# 클래스에 대안은 없는가?\n",
        "\n",
        "클래스를 처음 접한다면 ‘리스트로 구현할 수 있을 것 같은데, 딕셔너리로 구현할 수 있을 것 같은데 굳이 새로 만들어야 하는가?’에 대한 의문이 있을 수 있습니다.\n",
        "\n",
        "기본 자료형으로도 문제 없이 사용하고 있다면 굳이 클래스로 구현하지 않아도 됩니다. 딕셔너리나 클로저가 대안이 될 수 있습니다."
      ],
      "metadata": {
        "id": "wGBopHy2xO9D"
      }
    },
    {
      "cell_type": "code",
      "source": [
        "hero = {\n",
        "    'name': 'Jun',\n",
        "    'hp': 100,\n",
        "    'mp': 100,\n",
        "    'power': 30,\n",
        "    'drop_rate': 0,\n",
        "    'attack': lambda: f'{hero[\"power\"]}에 파워로 공격하였습니다.'\n",
        "}\n",
        "\n",
        "print(hero['hp'])\n",
        "print(hero['attack']())"
      ],
      "metadata": {
        "colab": {
          "base_uri": "https://localhost:8080/"
        },
        "id": "5wA_OcEbxUTU",
        "outputId": "ea573199-c1ac-43cb-ff4f-67e0561bd6e2"
      },
      "execution_count": null,
      "outputs": [
        {
          "output_type": "stream",
          "name": "stdout",
          "text": [
            "100\n",
            "30에 파워로 공격하였습니다.\n"
          ]
        }
      ]
    },
    {
      "cell_type": "code",
      "source": [
        "def create_chracter(name, hp, mp, power):\n",
        "    data = {\n",
        "        'name': name,\n",
        "        'hp': hp,\n",
        "        'mp': mp,\n",
        "        'power': power,\n",
        "    }\n",
        "\n",
        "    def get_data(key):\n",
        "        return data[key]\n",
        "\n",
        "    def attack():\n",
        "        return f'{get_data(\"power\")}에 파워로 공격하였습니다.'\n",
        "\n",
        "    return {'attack': attack}\n",
        "\n",
        "hero = create_chracter('Jun', 100, 100, 30)\n",
        "print(hero['attack']())  # 출력: 30에 파워로 공격하였습니다."
      ],
      "metadata": {
        "id": "ipq0dxIRyArl"
      },
      "execution_count": null,
      "outputs": []
    },
    {
      "cell_type": "markdown",
      "source": [
        "# 예외처리"
      ],
      "metadata": {
        "id": "h6mtyyyBErn3"
      }
    },
    {
      "cell_type": "code",
      "source": [
        "try:\n",
        "    s = 1 / 0\n",
        "    print(s)\n",
        "except:\n",
        "    print('error가 발생됨')"
      ],
      "metadata": {
        "colab": {
          "base_uri": "https://localhost:8080/"
        },
        "id": "UVyyBYAhE143",
        "outputId": "f6a122c3-8fb8-4c66-8339-414c3e2cff46"
      },
      "execution_count": null,
      "outputs": [
        {
          "output_type": "stream",
          "name": "stdout",
          "text": [
            "error가 발생됨\n"
          ]
        }
      ]
    },
    {
      "cell_type": "code",
      "source": [
        "try:\n",
        "    s = 1/1 # 0에서 1로 값을 바꾸었습니다.\n",
        "    print(s)\n",
        "    l = [1, 2, 3]\n",
        "    print(l[3])\n",
        "except ZeroDivisionError:\n",
        "    print('0으로 나누어졌습니다!')\n",
        "except:\n",
        "    print('오류가 났습니다!')"
      ],
      "metadata": {
        "colab": {
          "base_uri": "https://localhost:8080/"
        },
        "id": "1LqcM4gJEuUj",
        "outputId": "4bad391f-96a0-4b4b-dd41-bb0ab8d704c3"
      },
      "execution_count": null,
      "outputs": [
        {
          "output_type": "stream",
          "name": "stdout",
          "text": [
            "1.0\n",
            "오류가 났습니다!\n"
          ]
        }
      ]
    },
    {
      "cell_type": "code",
      "source": [
        "try:\n",
        "    i = 1\n",
        "    j = 1\n",
        "    x = i/j\n",
        "except:\n",
        "    print(\"error\")\n",
        "else:\n",
        "    print(x)"
      ],
      "metadata": {
        "colab": {
          "base_uri": "https://localhost:8080/"
        },
        "id": "l0kEQcOqE3yW",
        "outputId": "2cb5e027-7daf-49d0-ba3a-391a64bf6aef"
      },
      "execution_count": null,
      "outputs": [
        {
          "output_type": "stream",
          "name": "stdout",
          "text": [
            "1.0\n"
          ]
        }
      ]
    },
    {
      "cell_type": "markdown",
      "source": [
        "# 매직 메서드\n",
        "\n",
        "파이썬의 클래스에는 기본적으로 내장하고 있는 특별 메서드들이 있습니다. 파이썬에서는 이런 내장하고 있는 특별 메서드들을 쉽게 재정의하여 사용할 수 있게 되어있습니다.\n",
        "\n",
        "마치 마법처럼 간단하게 수정할 수 있다고 해서 매직 매서드라고 부릅니다. 혹은 더블 언더바(__)를 2개 쓰고 있는 점에서 던더(dunder) 메서드라고도 부릅니다.\n",
        "\n",
        "좌표평면에 점을 class로 구현해보았습니다."
      ],
      "metadata": {
        "id": "QfCBN-iPGl0V"
      }
    },
    {
      "cell_type": "code",
      "source": [
        "class Point:\n",
        "    def __init__(self, x, y):\n",
        "        self.x = x\n",
        "        self.y = y\n",
        "\n",
        "    def __add__(self, other):\n",
        "        if isinstance(other, Point):\n",
        "            return Point((self.x + other.y), (self.y + other.y))\n",
        "        elif isinstance(other, int) or isinstance(other, float):\n",
        "            return Point((self.x + other), (self.y + other))\n",
        "\n",
        "    def distance(self, other):\n",
        "        dx = self.x - other.x\n",
        "        dy = self.y - other.y\n",
        "        return (dx**2 + dy**2)**0.5\n",
        "\n",
        "dot1 = Point(10, 20)\n",
        "dot2 = Point(20, 30)\n",
        "\n",
        "dot3 = dot1 + 10\n",
        "print(dot1.x, dot1.y) # 출력: 10 20\n",
        "print(dot3.x, dot3.y) # 출력 20 30\n",
        "\n",
        "dot4 = dot1 + dot2\n",
        "print(dot4.x, dot4.y) # 출력: 30 50\n",
        "print(dot4.distance(dot1)) # 출력: 36.0,55\n",
        "\n"
      ],
      "metadata": {
        "colab": {
          "base_uri": "https://localhost:8080/"
        },
        "id": "V3AJNfuyifs5",
        "outputId": "4000787d-062f-4a69-de1c-3ea0d9479b01"
      },
      "execution_count": null,
      "outputs": [
        {
          "output_type": "stream",
          "name": "stdout",
          "text": [
            "10 20\n",
            "20 30\n",
            "40 50\n",
            "42.42640687119285\n"
          ]
        }
      ]
    },
    {
      "cell_type": "markdown",
      "source": [
        "매직 메서드 `__init__`은 앞에서도 살펴보았습니다. 이 매직 메서드는 인스턴스가 생성이 될 때 호출됩니다. 위 코드에서는 dot1과 dot2 인스턴스가 생성이 될 때 호출됩니다. 여기서 매개변수, 아규먼트로 들어간 10과 20, 20과 30은 각각 self.x에 등록됩니다.\n",
        "\n",
        "클래스를 정의한 블록 내에서 존재하는 클래스 속성과 메서드는 클래스 네임 스페이스에 등록이 됩니다. 인스턴스 속성은 `__init__`메서드 내에서  `self.이름`을 주고 할당이 되는 경우에만 인스턴스 네임 스페이스에 등록이 됩니다.\n",
        "\n",
        "쉽게 말해 위 코드 10과 20, 20과 30은 각각 고유의 인스턴스 네임 스페이스에 등록이 되어 있습니다. 위 예제에서 클래스 변수는 없습니다.\n",
        "\n",
        "또한, 매직 메서드 중 `__add__`메서드를 추가하였습니다. 이는 `+`부호를 사용하여 덧셈을 할 때 일어날 일을 적을 수 있습니다. 다른 Point의 인스턴스가 들어오면 x좌표는 x좌표끼리, y좌표는 y좌표끼리 더하게 해두었고, 정수나 실수가 들어오면 그 수만큼 둘 다 증가하도록 해두었습니다.\n",
        "\n",
        "마찬가지로 곱하기도 구현할 수 있습니다. 곱하기는 `__mul__`로 구현할 수 있습니다. 다만 실제 곱하기를 구현하지는 않았습니다. 이는 실제 곱하기를 구현하지 않아도 된다는 것을 보여드리기 위함입니다."
      ],
      "metadata": {
        "id": "PffDXfnukOEv"
      }
    },
    {
      "cell_type": "code",
      "source": [
        "class Point:\n",
        "\n",
        "    def __init__(self, x, y):\n",
        "        self.x = x\n",
        "        self.y = y\n",
        "\n",
        "    def __mul__(self, other):\n",
        "        return 'hello'\n",
        "\n",
        "dot1 = Point(10, 20)\n",
        "dot2 = Point(20, 30)\n",
        "\n",
        "dot1 * dot2"
      ],
      "metadata": {
        "colab": {
          "base_uri": "https://localhost:8080/",
          "height": 35
        },
        "id": "9B9jKnfvmmvQ",
        "outputId": "94fd494c-547d-4df3-ad63-6265e24f2ae1"
      },
      "execution_count": null,
      "outputs": [
        {
          "output_type": "execute_result",
          "data": {
            "text/plain": [
              "'hello'"
            ],
            "application/vnd.google.colaboratory.intrinsic+json": {
              "type": "string"
            }
          },
          "metadata": {},
          "execution_count": 4
        }
      ]
    },
    {
      "cell_type": "code",
      "source": [
        "# 이번에는 행렬의 연산을 구현한 예시로 살펴보도록 하겠습니다."
      ],
      "metadata": {
        "id": "U6QIohaKm7Tz"
      },
      "execution_count": null,
      "outputs": []
    },
    {
      "cell_type": "code",
      "source": [
        "class Matrix:\n",
        "\n",
        "    def __init__(self, value):\n",
        "        self.value = value\n",
        "\n",
        "    def __add__(self, other):\n",
        "        result = []\n",
        "        for i in range(len(self.value)):\n",
        "            result.append(self.value[i] + other.value[i])\n",
        "        return result\n",
        "\n",
        "    def __mul__(self, other):\n",
        "        if isinstance(other, int):\n",
        "            return [i*other for i in self.value]\n",
        "        raise TypeError('int형 외에 곱을 허락하지 않습니다!')\n",
        "\n",
        "\n",
        "m1 = Matrix([10, 20, 30])\n",
        "m2 = Matrix([20, 30, 40])\n",
        "\n",
        "print(m1 + m2) # 출력: [30, 50, 70]\n",
        "print(m1 * 3) # 출력: [30, 60, 90]\n",
        "# print(m1 * [1, 2, 3]) # error\n",
        "\n",
        "# 위와같은 예시를 통해 행렬의 덧셈,뺄셈,곱셈 등을 구현할 수도 있습니다.\n",
        "# 연산에 관련된 매직 메서드 공식 문서는 아래와 같습니다\n",
        "'''https://docs.python.org/3/reference/datamodel.html#emulating-numeric-types'''"
      ],
      "metadata": {
        "colab": {
          "base_uri": "https://localhost:8080/",
          "height": 72
        },
        "id": "--57V3OFnDly",
        "outputId": "f6996b7d-1bb4-41ec-e1bb-01e2b180d383"
      },
      "execution_count": null,
      "outputs": [
        {
          "output_type": "stream",
          "name": "stdout",
          "text": [
            "[30, 50, 70]\n",
            "[30, 60, 90]\n"
          ]
        },
        {
          "output_type": "execute_result",
          "data": {
            "text/plain": [
              "'https://docs.python.org/3/reference/datamodel.html#emulating-numeric-types'"
            ],
            "application/vnd.google.colaboratory.intrinsic+json": {
              "type": "string"
            }
          },
          "metadata": {},
          "execution_count": 10
        }
      ]
    },
    {
      "cell_type": "markdown",
      "source": [
        "# 주요한 매직 메서드\n",
        "\n",
        "## 생성자와 소멸자\n",
        "\n",
        "- `__init__(self, ...)`: 객체가 생성될 때 호출되는 생성자 메서드.\n",
        "- `__del__(self)`: 객체가 소멸될 때 호출되는 소멸자 메서드.\n",
        "\n",
        "## 문자열 표현\n",
        "\n",
        "- `__str__(self)`: `str()` 함수 출력 결과와 같습니다. 이는 print로 출력되는 결과와도 동일합니다. 이 출력은 \"공식적이지 않은\" 또는 \"좋게 보이는\" 문자열 표현을 반환합니다. 객체의 공식적인 표현은 repr입니다.\n",
        "\n",
        "- `__repr__(self)`: `repr()` 함수에 출력 결과와 같습니다. 객체의 \"공식적인\" 문자열 표현을 반환합니다.\n",
        "\n",
        "##  **산술 연산**\n",
        "\n",
        "- `__add__(self, other)`: 덧셈 연산\n",
        "- `__sub__(self, other)`: 뺄셈 연산\n",
        "- `__mul__(self, other)`: 곱셈 연산\n",
        "- `__truediv__(self, other)`: 나눗셈 연산(`/``)\n",
        "\n",
        "## **비교 연산**\n",
        "\n",
        "- `__eq__(self, other)`: 동등 연산 (==)\n",
        "- `__ne__(self, other)`: 부등 연산 (!=)\n",
        "- `__lt__(self, other)`: \"작다\" 연산 (<)\n",
        "- `__le__(self, other)`: \"작거나 같다\" 연산 (<=)\n",
        "- `__gt__(self, other)`: \"크다\" 연산 (>)\n",
        "- `__ge__(self, other)`: \"크거나 같다\" 연산 (>=)\n",
        "\n",
        "## **컨테이너 타입 연산**\n",
        "\n",
        "- `__len__(self)`: `len()` 함수의 출력 결과와 같습니다.\n",
        "- `__getitem__(self, key)`: 인덱싱 연산 (obj[key])의 출력 결과와 같습니다.\n",
        "- `__setitem__(self, key, value)`: 항목 할당\n",
        "- `__contains__(self, value)`: `in` 연산자\n",
        "\n",
        "## **호출 가능 객체**\n",
        "\n",
        "- `__call__(self, ...)`: 객체를 함수처럼 호출할 때 사용됩니다.\n",
        "\n",
        "이 밖에도 많은 메직 메서드들이 있습니다. 이 메서드들을 오버라이드하여 사용자 정의 클래스의 동작을 원하는 대로 정의할 수 있습니다.\n",
        "\n",
        "\n"
      ],
      "metadata": {
        "id": "cf8PIueBn7Fx"
      }
    },
    {
      "cell_type": "markdown",
      "source": [
        "# 매직 메서드 __call__과 __getitem__ 예시\n",
        "\n",
        "매직 메서드 `__call__`이나 `__getitem__`과 같은 형태는 어떻게 동작하는지 예시를 보지 않으면 그 사용법을 알기 힘듭니다. 어떻게 동작하는지 예시를 통해 보도록 하겠습니다."
      ],
      "metadata": {
        "id": "3ip_mB09ru4_"
      }
    },
    {
      "cell_type": "code",
      "source": [
        "class Counter:\n",
        "    def __init__(self):\n",
        "        self.count = 0\n",
        "\n",
        "    def __call__(self):\n",
        "        self.count += 10\n",
        "        print(f'현재 count 값: {self.count}')\n",
        "\n",
        "    def __getitem__(self, key):\n",
        "        return key*10\n",
        "\n",
        "# 객체 생성\n",
        "counter = Counter()\n",
        "\n",
        "# 객체를 직접 호출합니다. 이때 __call__ 메서드가 실행됩니다.\n",
        "counter()  # 출력: 현재 count 값: 10\n",
        "counter()  # 출력: 현재 count 값: 20\n",
        "counter()  # 출력: 현재 count 값: 30\n",
        "\n",
        "counter[5] # 출력: 4"
      ],
      "metadata": {
        "colab": {
          "base_uri": "https://localhost:8080/"
        },
        "id": "E1HuPofMryWn",
        "outputId": "f8064003-aa7d-48a6-f526-87c6ffbd578f"
      },
      "execution_count": null,
      "outputs": [
        {
          "output_type": "stream",
          "name": "stdout",
          "text": [
            "현재 count 값: 10\n",
            "현재 count 값: 20\n",
            "현재 count 값: 30\n"
          ]
        },
        {
          "output_type": "execute_result",
          "data": {
            "text/plain": [
              "50"
            ]
          },
          "metadata": {},
          "execution_count": 11
        }
      ]
    },
    {
      "cell_type": "markdown",
      "source": [
        "# 상속\n",
        "\n",
        "클래스 상속은 한 클래스의 특성(속성 및 메서들)를 다른 클래스가 가져오는 것을 의미합니다. 상속을 통해 코드의 재사용성을 높이고 모듈성을 강화할 수 있습니다.\n",
        "\n",
        "* 부모 클래스(또는 기본 클래스, 슈퍼 클래스): 특성이 상속되는 클래스\n",
        "\n",
        "* 자식 클래스(또는 파생 클래스, 서브클래스):부모 클래스의 특성을 상속받는 클래스.\n",
        "\n",
        "자식 클래슨느 부모 클래스의 모든 속성과 메서드를 상속받습니다. 또한, 자식 클래스는 부모 클래스에 없는 새로운 속성이나 메서드를 추가하거나,부모 클래스의 메서드를 오버라이드(재정의)하여 기능을 수정할 수 있습니다.\n",
        "\n",
        "클래스를 상속하는 방법은 아래 예시처럼 새로운 클래스의 ()에 상속할 클래스명을 적어주는 것입니다. class를 생성할 떄 Car(object)처럼 기존에 생략해왔던 object를 넣도록 하겠습니다. 이 object는 파이썬의 기본 객체 클래스를 의미합니다. 파이썬 2에서는 이걸 명시적으로 써주어야 기본적으로 클래스에 들어가야 하는 항목들이 들어갑니다. 파이썬 3에서는 이걸 명시적으로 쓰지 않더라도 기본적으로 들어가야 하는 여러 메서드를 함께 생성합니다.\n",
        "\n",
        "여기에서 상속을 하는 Car는 HybridCar입장에서 부모 클래스(슈퍼 클래스)가 되고 HybridCar는 Car클래스에서는 자식 클래스(서브 클래스)가 됩니다.\n",
        "\n",
        "HybridCar 클래스는 기존의 Car클래스가 사용하던 데이터와 기능들을 모두 사용할 수 있으며,추가적인 기능을 만들었습니다. 또한 maxPeople의 데이터를 새로 덮어씌워 자기 자신만의 클래스 변수를 새로 정의할 수 있습니다."
      ],
      "metadata": {
        "id": "ZCVmg6trr0To"
      }
    },
    {
      "cell_type": "code",
      "source": [
        "class Car(object):\n",
        "    maxSpeed = 300\n",
        "    maxPeople = 5\n",
        "\n",
        "    def move(self):\n",
        "        print('출발하였습니다..')\n",
        "\n",
        "    def stop(self):\n",
        "        print('멈췄습니다.')\n",
        "\n",
        "class HybridCar(Car):\n",
        "        battery = 1000\n",
        "        batterryKM = 300\n",
        "\n",
        "class ElectricCar(HybridCar):\n",
        "        battery = 2000\n",
        "        batterry = 600\n",
        "\n",
        "modelx = HybridCar()\n",
        "electricCarModely = ElectricCar()\n",
        "print(modelx.maxSpeed)\n",
        "print(electricCarModely.maxSpeed)\n",
        "print(electricCarModely.battery)\n",
        "electricCarModely.move()"
      ],
      "metadata": {
        "colab": {
          "base_uri": "https://localhost:8080/"
        },
        "id": "VKC_ntwPeIY7",
        "outputId": "d7c13af6-e69a-42df-992d-4d85a2c80b65"
      },
      "execution_count": null,
      "outputs": [
        {
          "output_type": "stream",
          "name": "stdout",
          "text": [
            "300\n",
            "300\n",
            "2000\n",
            "출발하였습니다..\n"
          ]
        }
      ]
    },
    {
      "cell_type": "markdown",
      "source": [
        "# 다중 상속\n",
        "\n",
        "## 다중상속\n",
        "\n",
        "다중상속은 한 클래스가 여러 부모 클래스로부터 상속을 받는 것을 의미합니다. 이를 통해 여러 부모 클래스의 특성과 기능을 하나의 자식 클래스에 결합할 수 있습니다. 기본 골격은 아래와 같습니다."
      ],
      "metadata": {
        "id": "z67JvaO2fJa0"
      }
    },
    {
      "cell_type": "code",
      "source": [
        "class Parent1:\n",
        "    pass\n",
        "\n",
        "class Parent2:\n",
        "    pass\n",
        "\n",
        "class Child(Parent1, Parent2):\n",
        "    pass\n",
        "\n",
        "# Child 클래스는 Parent1및 Parent2의 두 부모클래스로부터 상속을 받습니다."
      ],
      "metadata": {
        "id": "IWxkwDMeftXy"
      },
      "execution_count": null,
      "outputs": []
    },
    {
      "cell_type": "markdown",
      "source": [
        "# 다중 상속 예제\n",
        "\n",
        "다중상속을 사용할 때 가장 중요한 문제 중 하나는 메서드의 호출 순서입니다.\n",
        "만약 두 부모 클래스가 동일한 메서드 이름을 가지고 있다면, 자식 클래스 객체에서 해당 메서드를 호출할떄\n",
        "어느 부모의 메서드를 호출해야 하는지 결정해야 합니다.\n",
        "\n",
        "파이썬은 이 문제를 해결하기 위해 Method Resolution Order(MRO)를 도입하였고, mro()에 따라 호출 순서를 결정합니다."
      ],
      "metadata": {
        "id": "SbwEwvC6gE94"
      }
    },
    {
      "cell_type": "code",
      "source": [
        "class A:\n",
        "    def method(self):\n",
        "        print(\"A method\")\n",
        "\n",
        "class B(A):\n",
        "    def method(self):\n",
        "        print(\"B method\")\n",
        "\n",
        "class C(A):\n",
        "    def method(self):\n",
        "        print(\"C method\")\n",
        "\n",
        "class D(B, C):\n",
        "    pass\n",
        "\n",
        "obj = D()\n",
        "print(D.mro())\n",
        "\n",
        "# D(B, C)로 호출했을때 자신에게 가장 가까운 곳에 정의되어 있는 메서드를 가지고 오게 된다."
      ],
      "metadata": {
        "colab": {
          "base_uri": "https://localhost:8080/"
        },
        "id": "Ul6-7VKTg69O",
        "outputId": "62b5fa42-f684-4837-86e1-7b310d4c3cbd"
      },
      "execution_count": null,
      "outputs": [
        {
          "output_type": "stream",
          "name": "stdout",
          "text": [
            "[<class '__main__.D'>, <class '__main__.B'>, <class '__main__.C'>, <class '__main__.A'>, <class 'object'>]\n"
          ]
        }
      ]
    },
    {
      "cell_type": "code",
      "source": [
        "class A:\n",
        "    def method(self):\n",
        "        print(\"A method\")\n",
        "\n",
        "class B(A):\n",
        "    def method(self):\n",
        "        print(\"B method\")\n",
        "\n",
        "class C(A):\n",
        "    def method(self):\n",
        "        print(\"C method\")\n",
        "\n",
        "class D(C, B):\n",
        "    pass\n",
        "\n",
        "obj = D()\n",
        "print(D.mro())\n"
      ],
      "metadata": {
        "colab": {
          "base_uri": "https://localhost:8080/"
        },
        "id": "ri8L5Kb-hWU4",
        "outputId": "773ae897-14ff-48e6-e3d8-554d9433c07e"
      },
      "execution_count": null,
      "outputs": [
        {
          "output_type": "stream",
          "name": "stdout",
          "text": [
            "[<class '__main__.D'>, <class '__main__.C'>, <class '__main__.B'>, <class '__main__.A'>, <class 'object'>]\n"
          ]
        }
      ]
    },
    {
      "cell_type": "markdown",
      "source": [
        "위 상속 관계는 아래처럼 그림으로 표현할 수있습니다.\n",
        "\n",
        "![](https://paullabworkspace.notion.site/image/https%3A%2F%2Fprod-files-secure.s3.us-west-2.amazonaws.com%2F579fe283-28aa-489d-ae65-d683304becfc%2F4a89b828-6b91-4c3a-a0ad-894ee4a0ecc6%2FUntitled.png?table=block&id=e6d50eaa-813b-4974-b512-b0670ac31f34&spaceId=579fe283-28aa-489d-ae65-d683304becfc&width=380&userId=&cache=v2)\n",
        "\n",
        "이러한 형태는 마치 다이아몬드처럼 생겼다 하여 다이아몬드 상속이라 불립니다. 이 다이아몬드 상속에서 주의해야 할 점은 python 2.x와 3.x가 순서가 다르다는 것 입니다. 3.x 에서는\n",
        "hell C가, 2.x에서는 hello A가 출력됩니다. ekaks 2.x에서 class A:를 class A(object):로 바꾸면 실행순서는 같아집니다. 상속 파트에서 언급한 것처럼 python 2.x에서는\n",
        "object를 명시적으로 써주어야 새로운 스타일의 object를 상속하기 때문입니다."
      ],
      "metadata": {
        "id": "Vd0evhpriCSO"
      }
    },
    {
      "cell_type": "code",
      "source": [
        "class A:\n",
        "    def hello(self):\n",
        "        print('hello A')\n",
        "\n",
        "class B:\n",
        "    pass\n",
        "\n",
        "class C(A):\n",
        "    def hello(self):\n",
        "        print('hello C')\n",
        "\n",
        "class D(B, C):\n",
        "    pass\n",
        "\n",
        "d = D()\n",
        "d.hello()"
      ],
      "metadata": {
        "colab": {
          "base_uri": "https://localhost:8080/"
        },
        "id": "WlZe8etsi4Bp",
        "outputId": "865882f2-34f1-4b0f-91da-2f53acfa4089"
      },
      "execution_count": null,
      "outputs": [
        {
          "output_type": "stream",
          "name": "stdout",
          "text": [
            "hello C\n"
          ]
        }
      ]
    },
    {
      "cell_type": "markdown",
      "source": [
        " 조금 어려운 문제를 살펴보도록 하겠습니다. 앞서 다뤘던 Car class를 이용해 아래 그림과 같은 다중 상속을\n",
        " 구현해보도록 하겠습니다.\n",
        "\n",
        " ![](https://paullabworkspace.notion.site/image/https%3A%2F%2Fprod-files-secure.s3.us-west-2.amazonaws.com%2F579fe283-28aa-489d-ae65-d683304becfc%2F8bcf8060-c507-46bc-88f1-ce562a1020f1%2FUntitled.png?table=block&id=dd51fcfa-1c20-4c01-aced-2015715972e0&spaceId=579fe283-28aa-489d-ae65-d683304becfc&width=170&userId=&cache=v2)\n",
        "\n",
        "이 순서를 잘 보시면 HybridCar는 상속을 받을 이유가 없습니다. ElectricCar에서 이미 HybridCar를 상속받고 있기 떄문입니다. 그럼에도 불구하고 상속을 받아보도록 하겠습니다."
      ],
      "metadata": {
        "id": "gCJqYIwlpaBD"
      }
    },
    {
      "cell_type": "code",
      "source": [
        "class Car(object):\n",
        "    pass\n",
        "\n",
        "class HybridCar(Car):\n",
        "    pass\n",
        "\n",
        "class ElectricCar(HybridCar):\n",
        "    pass\n",
        "\n",
        "class HybridElectricCar(ElectricCar, HybridCar):\n",
        "    pass\n",
        "\n",
        "modelz = HybridElectricCar()"
      ],
      "metadata": {
        "id": "H1rcP7C5oOzz"
      },
      "execution_count": null,
      "outputs": []
    },
    {
      "cell_type": "code",
      "source": [
        "# 위처럼 작성했을 때에는 문제가 생기지 않습니다. 이는 MRO에 문제가 생기지않기 때문입니다.\n",
        "# 다만 아래와 같이 순서를 바꾸면 에러가 발생됩니다. ElecticCAr의 부모인 hybridCar를 먼저 참조했기 때문입니다.\n",
        "# 부모와 조부모(부모의 부모)가 함꼐 상속되었는데\n",
        "# 조부모(부모의 부모)를 먼저 참조하는 것은 MRO순서에 어긋나게 됩니다.\n",
        "\n",
        "class Car(object):\n",
        "    pass\n",
        "\n",
        "class HybridCar(Car):\n",
        "    pass\n",
        "\n",
        "class ElectricCar(HybridCar):\n",
        "    pass\n",
        "\n",
        "class HybridElectricCar(HybridCar, ElectricCar):\n",
        "    pass\n",
        "\n"
      ],
      "metadata": {
        "colab": {
          "base_uri": "https://localhost:8080/",
          "height": 276
        },
        "id": "kQkSRAObqYET",
        "outputId": "fceedb24-0fca-40c8-c783-fbe7a840577d"
      },
      "execution_count": null,
      "outputs": [
        {
          "output_type": "error",
          "ename": "TypeError",
          "evalue": "Cannot create a consistent method resolution\norder (MRO) for bases HybridCar, ElectricCar",
          "traceback": [
            "\u001b[0;31m---------------------------------------------------------------------------\u001b[0m",
            "\u001b[0;31mTypeError\u001b[0m                                 Traceback (most recent call last)",
            "\u001b[0;32m<ipython-input-17-2104fd40713a>\u001b[0m in \u001b[0;36m<cell line: 15>\u001b[0;34m()\u001b[0m\n\u001b[1;32m     13\u001b[0m     \u001b[0;32mpass\u001b[0m\u001b[0;34m\u001b[0m\u001b[0;34m\u001b[0m\u001b[0m\n\u001b[1;32m     14\u001b[0m \u001b[0;34m\u001b[0m\u001b[0m\n\u001b[0;32m---> 15\u001b[0;31m \u001b[0;32mclass\u001b[0m \u001b[0mHybridElectricCar\u001b[0m\u001b[0;34m(\u001b[0m\u001b[0mHybridCar\u001b[0m\u001b[0;34m,\u001b[0m \u001b[0mElectricCar\u001b[0m\u001b[0;34m)\u001b[0m\u001b[0;34m:\u001b[0m\u001b[0;34m\u001b[0m\u001b[0;34m\u001b[0m\u001b[0m\n\u001b[0m\u001b[1;32m     16\u001b[0m     \u001b[0;32mpass\u001b[0m\u001b[0;34m\u001b[0m\u001b[0;34m\u001b[0m\u001b[0m\n\u001b[1;32m     17\u001b[0m \u001b[0;34m\u001b[0m\u001b[0m\n",
            "\u001b[0;31mTypeError\u001b[0m: Cannot create a consistent method resolution\norder (MRO) for bases HybridCar, ElectricCar"
          ]
        }
      ]
    },
    {
      "cell_type": "code",
      "source": [],
      "metadata": {
        "id": "5FNtNeO2sKRq"
      },
      "execution_count": null,
      "outputs": []
    }
  ]
}